{
 "cells": [
  {
   "cell_type": "markdown",
   "id": "a5445ba6-ed10-4afc-bcd6-25476415761f",
   "metadata": {},
   "source": [
    "<div style=\"padding:10px;background-color: #FF4D4D; color:white;font-size:28px;\"><strong>Conceptos Orientados a Objetos</strong></div>"
   ]
  },
  {
   "cell_type": "markdown",
   "id": "6d02b1d1-b4e4-4253-8a55-0e7d57f073b1",
   "metadata": {},
   "source": [
    "## <a style=\"padding:3px;color: #FF4D4D; \"><strong>Herencia</strong></a>"
   ]
  },
  {
   "cell_type": "markdown",
   "id": "dccde392-eeea-4e05-9776-eb4845c6de97",
   "metadata": {},
   "source": [
    "La herencia es una forma de organizar clases que están relacionadas en términos de los datos que contienen o de su funcionalidad. \n",
    "\n",
    "Las clases hijas heredan atributos de sus clases madre, por lo que no tenemos que recrear la misma funcionalidad en diferentes lugares. Si necesitamos actualizar un atributo en particular, normalmente sólo tenemos que hacerlo en un único lugar. La herencia también nos ayuda a pensar en cómo se relacionan las clases, ya que una clase hija generalmente extiende o especializa la funcionalidad de una clase madre.\n",
    "\n",
    "Por ejemplo, podemos crear una clase base para cuentas bancarias."
   ]
  },
  {
   "cell_type": "code",
   "execution_count": 4,
   "id": "72135435-fc42-4812-9cdc-2fa07f411a2e",
   "metadata": {},
   "outputs": [],
   "source": [
    "class CuentaBancaria:\n",
    "    def __init__(self, titular, saldo=0):\n",
    "        self.titular = titular\n",
    "        self.saldo = saldo\n",
    "\n",
    "    def depositar(self, monto):\n",
    "        self.saldo += monto\n",
    "        print(f\"Depósito de ${monto}. Nuevo saldo: ${self.saldo}\")\n",
    "\n",
    "    def retirar(self, monto):\n",
    "        if monto <= self.saldo:\n",
    "            self.saldo -= monto\n",
    "            print(f\"Retiro de ${monto}. Nuevo saldo: ${self.saldo}\")\n",
    "        else:\n",
    "            print(\"Fondos insuficientes.\")\n",
    "\n",
    "    def mostrarSaldo(self):\n",
    "        print(f\"{self.titular}, tu saldo actual es ${self.saldo}\")"
   ]
  },
  {
   "cell_type": "markdown",
   "id": "e9d4b0e2-0a30-46f9-bc6c-166e5bcb172e",
   "metadata": {},
   "source": [
    "A partir de la clase madre podemos derivar una clase hija, basta con llamar a la clase madre desde la definición de esta nueva clase."
   ]
  },
  {
   "cell_type": "code",
   "execution_count": 6,
   "id": "0c95ba62-8f7f-4bbf-8821-d7e9a4bff088",
   "metadata": {},
   "outputs": [],
   "source": [
    "class CuentaAhorro(CuentaBancaria):\n",
    "\n",
    "    def aplicarInteres(self):\n",
    "        interes = self.saldo * 0.02\n",
    "        self.saldo += interes\n",
    "        print(f\"Interés aplicado: ${interes:.2f}. Nuevo saldo: ${self.saldo:.2f}\")"
   ]
  },
  {
   "cell_type": "markdown",
   "id": "41a8347b-b370-4862-b5f1-af6004cca840",
   "metadata": {},
   "source": [
    "Esta nueva sub-clase puede ocupar los métodos y atributos definidos para la clase madre, además del método único definido dentro de esta nueva clase."
   ]
  },
  {
   "cell_type": "code",
   "execution_count": 8,
   "id": "dabc5f02-ba3f-4cc1-8d2f-5017344836b3",
   "metadata": {},
   "outputs": [],
   "source": [
    "ahorro = CuentaAhorro(\"Lucía\", 1000)"
   ]
  },
  {
   "cell_type": "code",
   "execution_count": 9,
   "id": "debd15f7-e6e2-41c7-98bb-8a2528347776",
   "metadata": {},
   "outputs": [
    {
     "name": "stdout",
     "output_type": "stream",
     "text": [
      "Lucía, tu saldo actual es $1000\n"
     ]
    }
   ],
   "source": [
    "ahorro.mostrarSaldo()       # Lucía, tu saldo actual es $1000"
   ]
  },
  {
   "cell_type": "code",
   "execution_count": 10,
   "id": "9a504567-3323-45af-a852-dba501d2e30e",
   "metadata": {},
   "outputs": [
    {
     "name": "stdout",
     "output_type": "stream",
     "text": [
      "Interés aplicado: $20.00. Nuevo saldo: $1020.00\n"
     ]
    }
   ],
   "source": [
    "ahorro.aplicarInteres()     # Interés aplicado: $20.00..."
   ]
  },
  {
   "cell_type": "code",
   "execution_count": 11,
   "id": "34c9c07c-80a9-469d-9144-5af2ae8942e3",
   "metadata": {},
   "outputs": [
    {
     "name": "stdout",
     "output_type": "stream",
     "text": [
      "Retiro de $200. Nuevo saldo: $820.0\n"
     ]
    }
   ],
   "source": [
    "ahorro.retirar(200)  "
   ]
  },
  {
   "cell_type": "markdown",
   "id": "ff6d996e-11bb-4609-bdf9-a79f1fe55e55",
   "metadata": {},
   "source": [
    "Las clases hija también pueden tener sus propios atributos de datos dentro del inicializados, sin embargo en ese caso deben ser al menos referenciados los de la clase madre también, mediante un constructor `super()`.\n",
    "\n",
    "Cada vez que una clase hija necesite inicializar algo además de lo que hace la clase madre, debe usarse `super().__init__()` para asegurar que la parte heredada también se configure correctamente."
   ]
  },
  {
   "cell_type": "code",
   "execution_count": 13,
   "id": "ce21b963-745e-4264-a8fe-ae3b80b7945b",
   "metadata": {},
   "outputs": [],
   "source": [
    "class CuentaAhorro(CuentaBancaria):\n",
    "    def __init__(self, titular, saldo=0, tasa_interes=0.02):\n",
    "        super().__init__(titular, saldo)\n",
    "        self.tasa_interes = tasaInteres\n",
    "\n",
    "    def aplicarInteres(self):\n",
    "        interes = self.saldo * self.tasaInteres\n",
    "        self.saldo += interes\n",
    "        print(f\"Interés aplicado: ${interes:.2f}. Nuevo saldo: ${self.saldo:.2f}\")"
   ]
  },
  {
   "cell_type": "code",
   "execution_count": 14,
   "id": "c10b8d59-5265-4ae2-9bdb-88803f5232ab",
   "metadata": {},
   "outputs": [
    {
     "name": "stdout",
     "output_type": "stream",
     "text": [
      "Interés aplicado: $50.00. Nuevo saldo: $1050.00\n"
     ]
    }
   ],
   "source": [
    "ahorro = CuentaAhorro(\"Lucía\", 1000, 0.05)\n",
    "ahorro.aplicarInteres() "
   ]
  },
  {
   "cell_type": "markdown",
   "id": "236eea63-38a0-437a-92da-11cb21048085",
   "metadata": {},
   "source": [
    "Una misma clase madre puede tener varias clases hijas referenciadas, por ejemplo:"
   ]
  },
  {
   "cell_type": "code",
   "execution_count": 16,
   "id": "f96e5459-21e2-4eef-bbde-640c4386e1a2",
   "metadata": {},
   "outputs": [],
   "source": [
    "import random\n",
    "\n",
    "class CuentaInversion(CuentaBancaria):\n",
    "    def __init__(self, titular, saldo=0, riesgo=0.1):\n",
    "        super().__init__(titular, saldo)\n",
    "        self.riesgo = riesgo\n",
    "        self.bloqueada = True\n",
    "\n",
    "    def liberarFondos(self):\n",
    "        self.bloqueada = False\n",
    "        print(\"Fondos desbloqueados. Ahora puedes retirar dinero.\")\n",
    "\n",
    "    def invertir(self):\n",
    "        variacion = random.uniform(-self.riesgo, self.riesgo)\n",
    "        cambio = self.saldo * variacion\n",
    "        self.saldo += cambio\n",
    "        print(f\"La inversión ha {'ganado' if cambio > 0 else 'perdido'} ${abs(cambio):.2f}. Saldo actual: ${self.saldo:.2f}\")\n",
    "\n",
    "    def retirar(self, monto):\n",
    "        if self.bloqueada:\n",
    "            print(\"No puedes retirar: fondos bloqueados.\")\n",
    "        elif monto <= self.saldo:\n",
    "            self.saldo -= monto\n",
    "            print(f\"Retiro de ${monto}. Nuevo saldo: ${self.saldo:.2f}\")\n",
    "        else:\n",
    "            print(\"Fondos insuficientes.\")"
   ]
  },
  {
   "cell_type": "markdown",
   "id": "5a9c9675-adbe-491b-9946-0c7b010f3df8",
   "metadata": {},
   "source": [
    "Notemos que esta clase hija además de tener sus propios atributos y métodos, también sobrescribe el método `retirar` que venía originalmente de la clase madre."
   ]
  },
  {
   "cell_type": "code",
   "execution_count": 18,
   "id": "64afa365-6bed-4363-bd1b-2a598c7201a3",
   "metadata": {},
   "outputs": [],
   "source": [
    "inversion = CuentaInversion(\"Mariana\", saldo=1000, riesgo=0.15)"
   ]
  },
  {
   "cell_type": "code",
   "execution_count": 19,
   "id": "b864db04-27eb-4192-92da-b4fe966e1930",
   "metadata": {},
   "outputs": [
    {
     "name": "stdout",
     "output_type": "stream",
     "text": [
      "Mariana, tu saldo actual es $1000\n"
     ]
    }
   ],
   "source": [
    "inversion.mostrarSaldo()"
   ]
  },
  {
   "cell_type": "code",
   "execution_count": 20,
   "id": "043b36d2-094b-443a-8ad7-343673e53597",
   "metadata": {},
   "outputs": [
    {
     "name": "stdout",
     "output_type": "stream",
     "text": [
      "La inversión ha perdido $22.48. Saldo actual: $977.52\n",
      "No puedes retirar: fondos bloqueados.\n",
      "Fondos desbloqueados. Ahora puedes retirar dinero.\n",
      "Retiro de $100. Nuevo saldo: $877.52\n"
     ]
    }
   ],
   "source": [
    "inversion.invertir()         # Simula ganancia o pérdida\n",
    "inversion.retirar(100)       # Falla: fondos bloqueados\n",
    "inversion.liberarFondos()   # Ahora se puede retirar\n",
    "inversion.retirar(100)       # Retiro exitoso (si hay saldo)"
   ]
  },
  {
   "cell_type": "markdown",
   "id": "041acf42-59b5-42b4-9b49-7ede7e4240b5",
   "metadata": {},
   "source": [
    "## <a style=\"padding:3px;color: #FF4D4D; \"><strong>Polimorfismo</strong></a>"
   ]
  },
  {
   "cell_type": "markdown",
   "id": "f6e488de-ccf4-401e-bad4-2d94e2132639",
   "metadata": {},
   "source": [
    "El polimorfismo es uno de los pilares de la programación orientada a objetos. Permite que distintos objetos respondan de manera diferente al mismo método.\n",
    "\n",
    "En los ejemplos anteriores, distintas clases implementan el mismo método `retirar()`, pero cada una lo hace a su manera.\n",
    "\n",
    "El polimorfismo permite que una misma interfaz o método se comporte de manera diferente según el objeto que lo implemente. Por ejemplo, si tenemos varias clases que implementan un método `area()`, cada clase puede calcular el área a su manera, pero todas responden al mismo mensaje `area()`.\n",
    "\n",
    "Esto permite escribir código más flexible, reutilizable y limpio, ya que podemos trabajar con objetos de distintas clases sin preocuparnos por sus detalles internos."
   ]
  },
  {
   "cell_type": "code",
   "execution_count": 23,
   "id": "2f001c15-6db1-483f-a88f-b1a365196adf",
   "metadata": {},
   "outputs": [],
   "source": [
    "import math\n",
    "\n",
    "# Clase base\n",
    "class Figura:\n",
    "    def __init__(self, base, altura):\n",
    "        self.base = base\n",
    "        self.altura = altura\n",
    "    \n",
    "    def area(self):\n",
    "        raise NotImplementedError(\"Debes implementar el método area\")\n",
    "\n",
    "# Subclase: Rectángulo\n",
    "class Rectangulo(Figura):\n",
    "    def __init__(self, base, altura):\n",
    "        super().__init__(base, altura)\n",
    "\n",
    "    def area(self):\n",
    "        return self.base * self.altura\n",
    "\n",
    "# Subclase: Triángulo\n",
    "class Triangulo(Figura):\n",
    "    def __init__(self, base, altura):\n",
    "        super().__init__(base, altura)\n",
    "\n",
    "    def area(self):\n",
    "        return self.base * self.altura / 2\n",
    "\n",
    "# Subclase: Trapecio\n",
    "class Trapecio(Figura):\n",
    "    def __init__(self, base, altura, baseMenor):\n",
    "        super().__init__(base, altura)\n",
    "        self.baseMenor = baseMenor\n",
    "\n",
    "    def area(self):\n",
    "        return (self.base + self.baseMenor) * self.altura / 2\n",
    "        \n",
    "# Subclase: Círculo\n",
    "class Circulo(Figura):\n",
    "    def __init__(self, radio):\n",
    "        self.radio = radio\n",
    "\n",
    "    def area(self):\n",
    "        return math.pi * self.radio ** 2"
   ]
  },
  {
   "cell_type": "code",
   "execution_count": 24,
   "id": "ef3bd500-de5d-4d4b-abb6-e964eee40f14",
   "metadata": {},
   "outputs": [],
   "source": [
    "rect = Rectangulo(4,5)"
   ]
  },
  {
   "cell_type": "code",
   "execution_count": 25,
   "id": "60454894-2396-4263-9aa5-ba02ca975ce5",
   "metadata": {},
   "outputs": [
    {
     "data": {
      "text/plain": [
       "4"
      ]
     },
     "execution_count": 25,
     "metadata": {},
     "output_type": "execute_result"
    }
   ],
   "source": [
    "rect.base"
   ]
  },
  {
   "cell_type": "code",
   "execution_count": 26,
   "id": "5cba1d5b-f9ce-4e3f-bce6-59f4bf806967",
   "metadata": {},
   "outputs": [
    {
     "data": {
      "text/plain": [
       "5"
      ]
     },
     "execution_count": 26,
     "metadata": {},
     "output_type": "execute_result"
    }
   ],
   "source": [
    "rect.altura"
   ]
  },
  {
   "cell_type": "code",
   "execution_count": 27,
   "id": "d76d19dd-e9c7-479f-831b-9afc0643025e",
   "metadata": {},
   "outputs": [
    {
     "data": {
      "text/plain": [
       "20"
      ]
     },
     "execution_count": 27,
     "metadata": {},
     "output_type": "execute_result"
    }
   ],
   "source": [
    "rect.area()"
   ]
  },
  {
   "cell_type": "code",
   "execution_count": 28,
   "id": "5e282fb6-2304-448d-aab6-28a176654c0a",
   "metadata": {},
   "outputs": [
    {
     "data": {
      "text/plain": [
       "28.274333882308138"
      ]
     },
     "execution_count": 28,
     "metadata": {},
     "output_type": "execute_result"
    }
   ],
   "source": [
    "circ = Circulo(3)\n",
    "circ.area()"
   ]
  },
  {
   "cell_type": "markdown",
   "id": "325c8668-bada-4425-9eac-9d382e9e2633",
   "metadata": {},
   "source": [
    "El polimorfismo permite tratar a distintos tipos de objetos de manera uniforme, siempre y cuando compartan una interfaz común. Esto mejora la legibilidad, la escalabilidad y la organización del código, siendo una herramienta poderosa para el diseño de software orientado a objetos."
   ]
  },
  {
   "cell_type": "markdown",
   "id": "b861006f-11b0-4fe1-8038-e1ab69b50878",
   "metadata": {},
   "source": [
    "## <a style=\"padding:3px;color: #FF4D4D; \"><strong>Duck Typing</strong></a>"
   ]
  },
  {
   "attachments": {},
   "cell_type": "markdown",
   "id": "a6baf9d6-33cd-4339-bf9e-8291c8dcc3af",
   "metadata": {},
   "source": [
    "Muchos lenguajes (como Java y C) usan tipado estático, y el compilador verifica si los objetos son del tipo correcto antes de ejecutar el programa.\n",
    "\n",
    "Python usa tipado dinámico, y el chequeo ocurre en tiempo de ejecución. Eso hace que el desarrollo sea más ágil, pero también puede producir errores si los objetos no tienen los métodos esperados.\n",
    "\n",
    "Esto nos lleva a un concepto propio de Python (y algunos otros lenguajes dinámicos). Se basa en la idea de:\n",
    "\n",
    "*“Si camina como un pato y grazna como un pato, probablemente sea un pato.”*\n",
    "\n",
    "En Python, esto significa que no importa el tipo real de un objeto, sino si tiene los métodos o atributos esperados.\n",
    "\n",
    "Por ejemplo, si una función necesita algo que tenga un método `.quack()` y `.caminar()`, entonces cualquier objeto que tenga esos métodos servirá, sin importar su si es un pato o no."
   ]
  },
  {
   "cell_type": "code",
   "execution_count": 32,
   "id": "04de31b0-22d8-41a1-aa70-db6b3decbbf0",
   "metadata": {},
   "outputs": [],
   "source": [
    "class Pato:\n",
    "    def camina(self):\n",
    "        print(\"Pato caminando\")\n",
    "\n",
    "    def quack(self):\n",
    "        print(\"Pato graznando\")\n",
    "\n",
    "class Persona:\n",
    "    def camina(self):\n",
    "        print(\"Persona caminando\")\n",
    "\n",
    "    def quack(self):\n",
    "        print(\"Persona pretendiendo ser un pato\")\n",
    "\n",
    "pat = Pato()\n",
    "per = Persona()"
   ]
  },
  {
   "cell_type": "code",
   "execution_count": 33,
   "id": "d0cd7dd4-a1c6-48ab-afbb-54fc6eb83086",
   "metadata": {},
   "outputs": [
    {
     "name": "stdout",
     "output_type": "stream",
     "text": [
      "Pato caminando\n",
      "Pato graznando\n",
      "Persona caminando\n",
      "Persona pretendiendo ser un pato\n"
     ]
    }
   ],
   "source": [
    "def hazloGraznar(cosa):\n",
    "    cosa.camina()\n",
    "    cosa.quack()\n",
    "\n",
    "hazloGraznar(pat)\n",
    "hazloGraznar(per)"
   ]
  },
  {
   "cell_type": "markdown",
   "id": "7f9ac2ec-558f-453d-9153-08a080b63828",
   "metadata": {},
   "source": [
    "En el ejemplo de las figuras geométricas cada una tiene un método `area()` (sin que todas tengan que heredar de una misma clase)."
   ]
  },
  {
   "cell_type": "code",
   "execution_count": 35,
   "id": "c6ac2d44-69a9-4419-abc3-e57245b0f565",
   "metadata": {},
   "outputs": [
    {
     "name": "stdout",
     "output_type": "stream",
     "text": [
      "Rectangulo - Área: 20.00\n",
      "Triangulo - Área: 6.00\n",
      "Trapecio - Área: 17.50\n",
      "Circulo - Área: 28.27\n"
     ]
    }
   ],
   "source": [
    "fig = [\n",
    "    Rectangulo(4, 5),\n",
    "    Triangulo(6, 2),\n",
    "    Trapecio(4, 5, 3),\n",
    "    Circulo(3)\n",
    "]\n",
    "\n",
    "# Recorremos y calculamos el área de cada figura\n",
    "for f in fig:\n",
    "    print(f\"{f.__class__.__name__} - Área: {f.area():.2f}\")"
   ]
  },
  {
   "cell_type": "markdown",
   "id": "147892ee-4fb5-45fb-a48e-3d9f1b944445",
   "metadata": {},
   "source": [
    "En este caso:\n",
    "- No importa de qué clase es cada objeto.\n",
    "- No se comprueba si hereda de una clase base Figura.\n",
    "- Python confía únicamente en que cada objeto tiene un método `.area()`.\n",
    "\n",
    "Esto es **duck typing**: confiar en el comportamiento en vez de la jerarquía de clases."
   ]
  },
  {
   "cell_type": "markdown",
   "id": "d6ad8bd8-07a9-452c-a137-c1bd23ae0bd5",
   "metadata": {},
   "source": [
    "## <a style=\"padding:3px;color: #FF4D4D; \"><strong>Métodos Mágicos</strong></a>"
   ]
  },
  {
   "cell_type": "markdown",
   "id": "bcfe9b90-af44-44c2-9217-4d7cf4723e9f",
   "metadata": {},
   "source": [
    "En Python, los métodos mágicos (también llamados métodos especiales) son funciones especiales que comienzan y terminan con dos guiones bajos (`__nombre__`). Estos métodos permiten personalizar el comportamiento de los objetos ante operaciones básicas del lenguaje, como la suma, la comparación, la representación en texto, entre otros.\n",
    "\n",
    "Por ejemplo, imaginemos la clase para una carta de un mazo de baraja inglesa:"
   ]
  },
  {
   "cell_type": "code",
   "execution_count": 38,
   "id": "b53c253d-bb28-4463-8def-cd756b3b8499",
   "metadata": {},
   "outputs": [],
   "source": [
    "class Carta:\n",
    "    def __init__(self, valor, palo):\n",
    "        self.valor = valor\n",
    "        self.palo = palo\n",
    "        \n",
    "    def __eq__(self, other):\n",
    "        return self.valor == other.valor\n",
    "        \n",
    "    def __lt__(self, other):\n",
    "        return self.valor < other.valor\n",
    "        \n",
    "    def __gt__(self, other):\n",
    "        return self.valor > other.valor"
   ]
  },
  {
   "cell_type": "markdown",
   "id": "958eeb51-c563-49b0-adb2-106da4f650f1",
   "metadata": {},
   "source": [
    "Podemos notar que se definieron otros métodos además del ya conocido **inicializador**.\n",
    "\n",
    "Y puede notarse que lo que están realizando cada uno es una comparación. Básicamente, estamos comparando si una carta es mayor **>** (`__gt__`), menor **<** (`__lt__`) o igual **==** (`__eq__`) que otra y estos métodos mágicos, nos permiten personalizar el comportamiento de estos caracteres."
   ]
  },
  {
   "cell_type": "code",
   "execution_count": 39,
   "id": "d6495aef-f412-4f82-9c35-e2c1ac08f350",
   "metadata": {},
   "outputs": [
    {
     "name": "stdout",
     "output_type": "stream",
     "text": [
      "False\n",
      "False\n",
      "True\n",
      "True\n"
     ]
    }
   ],
   "source": [
    "print(Carta(10, \"Corazones\") < Carta(6, \"Diamantes\"))\n",
    "print(Carta(10, \"Corazones\") == Carta(6, \"Diamantes\"))\n",
    "print(Carta(10, \"Corazones\") > Carta(6, \"Diamantes\"))\n",
    "print(Carta(10, \"Corazones\") == Carta(10, \"Tréboles\"))"
   ]
  },
  {
   "cell_type": "markdown",
   "id": "dcbffaed-ebf0-4915-84a9-50f147016590",
   "metadata": {},
   "source": [
    "Y de esta forma pueden hacerse comparaciones entre las cartas. \n",
    "\n",
    "Ahora intentemos crear todo un mazo."
   ]
  },
  {
   "cell_type": "code",
   "execution_count": 41,
   "id": "8a1eb77c-18dd-4a1d-8174-0251b277c842",
   "metadata": {},
   "outputs": [],
   "source": [
    "mazo = []\n",
    "for palo in ['Corazones', 'Espadas', 'Diamantes', 'Tréboles']:\n",
    "    for valor in range(1,14):\n",
    "        mazo.append(Carta(valor, palo))"
   ]
  },
  {
   "cell_type": "markdown",
   "id": "14dcd211-f4d7-4c64-8282-d7d184463797",
   "metadata": {},
   "source": [
    "Desafortunadamente cuando intentamos imprimirlo obtenemos lo siguiente."
   ]
  },
  {
   "cell_type": "code",
   "execution_count": 43,
   "id": "d6b305ae-0d88-45b9-aff3-5b5f13b73f0a",
   "metadata": {},
   "outputs": [
    {
     "name": "stdout",
     "output_type": "stream",
     "text": [
      "[<__main__.Carta object at 0x000001F8BFBFF590>, <__main__.Carta object at 0x000001F8BFBFD6D0>, <__main__.Carta object at 0x000001F8BFBFD990>, <__main__.Carta object at 0x000001F8BFBFF610>, <__main__.Carta object at 0x000001F8BFBFD7D0>, <__main__.Carta object at 0x000001F8BFBFC750>, <__main__.Carta object at 0x000001F8BFBFD550>, <__main__.Carta object at 0x000001F8BFBFDB50>, <__main__.Carta object at 0x000001F8BFBFEC50>, <__main__.Carta object at 0x000001F8BFBFF350>, <__main__.Carta object at 0x000001F8BFBFF310>, <__main__.Carta object at 0x000001F8BFBFE250>, <__main__.Carta object at 0x000001F8BFBFF110>, <__main__.Carta object at 0x000001F8BFBFF0D0>, <__main__.Carta object at 0x000001F8BFBFF2D0>, <__main__.Carta object at 0x000001F8BFBFD290>, <__main__.Carta object at 0x000001F8BFBFF250>, <__main__.Carta object at 0x000001F8BFBFEE50>, <__main__.Carta object at 0x000001F8BFBFF510>, <__main__.Carta object at 0x000001F8BFBFF150>, <__main__.Carta object at 0x000001F8BFBFEF10>, <__main__.Carta object at 0x000001F8BFBFEA10>, <__main__.Carta object at 0x000001F8BFBFED50>, <__main__.Carta object at 0x000001F8BFBFF210>, <__main__.Carta object at 0x000001F8BFBFF550>, <__main__.Carta object at 0x000001F8BFBFCE10>, <__main__.Carta object at 0x000001F8BFBFD010>, <__main__.Carta object at 0x000001F8BFBFCD90>, <__main__.Carta object at 0x000001F8BFBFDB90>, <__main__.Carta object at 0x000001F8BFBFDC90>, <__main__.Carta object at 0x000001F8BFBFC050>, <__main__.Carta object at 0x000001F8BFBFD250>, <__main__.Carta object at 0x000001F8BFBFEE10>, <__main__.Carta object at 0x000001F8BFBFECD0>, <__main__.Carta object at 0x000001F8BFBFED90>, <__main__.Carta object at 0x000001F8BFBFD810>, <__main__.Carta object at 0x000001F8BFBFC8D0>, <__main__.Carta object at 0x000001F8BFBFE550>, <__main__.Carta object at 0x000001F8BFBFCE90>, <__main__.Carta object at 0x000001F8BFBFE650>, <__main__.Carta object at 0x000001F8BFBFE490>, <__main__.Carta object at 0x000001F8BFBFC910>, <__main__.Carta object at 0x000001F8BFBFC950>, <__main__.Carta object at 0x000001F8BFBFD750>, <__main__.Carta object at 0x000001F8BFBFCFD0>, <__main__.Carta object at 0x000001F8BFBFEFD0>, <__main__.Carta object at 0x000001F8BFBFF090>, <__main__.Carta object at 0x000001F8BFBFF910>, <__main__.Carta object at 0x000001F8BFBFEC90>, <__main__.Carta object at 0x000001F8BFBFF810>, <__main__.Carta object at 0x000001F8BFBFEBD0>, <__main__.Carta object at 0x000001F8BFBFCA50>]\n"
     ]
    }
   ],
   "source": [
    "print(mazo)"
   ]
  },
  {
   "cell_type": "markdown",
   "id": "bc2c6a68-e136-4479-978c-a04de9cad2f5",
   "metadata": {},
   "source": [
    "La impresión de los objetos `Carta` señala las direcciones en la memoria para cada uno de ellos por default. ¿Pero cómo podría interpretarse esto humanamente?\n",
    "\n",
    "No es posible, pero afortunadamente, también puede modificarse la forma en la que imprimen los objetos de una clase, mediante el método `__repr__` o `__str__`."
   ]
  },
  {
   "cell_type": "code",
   "execution_count": 219,
   "id": "70826303-2e38-435a-91f9-6b1a9e704504",
   "metadata": {},
   "outputs": [],
   "source": [
    "class Carta:\n",
    "    def __init__(self, valor, palo):\n",
    "        self.valor = valor\n",
    "        self.palo = palo\n",
    "        \n",
    "    def __eq__(self, other):\n",
    "        return self.valor == other.valor\n",
    "        \n",
    "    def __lt__(self, other):\n",
    "        if self.valor < other.valor:\n",
    "            return True\n",
    "        else:\n",
    "            return False\n",
    "        \n",
    "    def __gt__(self, other):\n",
    "        if self.valor > other.valor:\n",
    "            return True\n",
    "        else:\n",
    "            return False\n",
    "\n",
    "    def __repr__(self):\n",
    "        return str(self.valor) + \" de \" + str(self.palo) \n",
    "        # Otra manera más corta\n",
    "        # return \"%i de %s\" % (self.valor, self.palo)"
   ]
  },
  {
   "cell_type": "markdown",
   "id": "01c083bc-7024-49af-99e2-eebd77d8e4cd",
   "metadata": {},
   "source": [
    "De esta manera al crear nuevamente el mazo e imprimirlo, podemos obtener un resultado humanamente legible"
   ]
  },
  {
   "cell_type": "code",
   "execution_count": 221,
   "id": "294db60c-53d8-4010-8106-785267e79531",
   "metadata": {},
   "outputs": [],
   "source": [
    "mazo = []\n",
    "for palo in ['Corazones', 'Espadas', 'Diamantes', 'Tréboles']:\n",
    "    for valor in range(1,14):\n",
    "        mazo.append(Carta(valor, palo))"
   ]
  },
  {
   "cell_type": "code",
   "execution_count": 225,
   "id": "fb8be189-ff6f-4b2b-a1cc-66cac07b9e85",
   "metadata": {},
   "outputs": [
    {
     "name": "stdout",
     "output_type": "stream",
     "text": [
      "[1 de Corazones, 2 de Corazones, 3 de Corazones, 4 de Corazones, 5 de Corazones, 6 de Corazones, 7 de Corazones, 8 de Corazones, 9 de Corazones, 10 de Corazones, 11 de Corazones, 12 de Corazones, 13 de Corazones, 1 de Espadas, 2 de Espadas, 3 de Espadas, 4 de Espadas, 5 de Espadas, 6 de Espadas, 7 de Espadas, 8 de Espadas, 9 de Espadas, 10 de Espadas, 11 de Espadas, 12 de Espadas, 13 de Espadas, 1 de Diamantes, 2 de Diamantes, 3 de Diamantes, 4 de Diamantes, 5 de Diamantes, 6 de Diamantes, 7 de Diamantes, 8 de Diamantes, 9 de Diamantes, 10 de Diamantes, 11 de Diamantes, 12 de Diamantes, 13 de Diamantes, 1 de Tréboles, 2 de Tréboles, 3 de Tréboles, 4 de Tréboles, 5 de Tréboles, 6 de Tréboles, 7 de Tréboles, 8 de Tréboles, 9 de Tréboles, 10 de Tréboles, 11 de Tréboles, 12 de Tréboles, 13 de Tréboles]\n"
     ]
    }
   ],
   "source": [
    "print(mazo)"
   ]
  },
  {
   "cell_type": "markdown",
   "id": "ee394e49-7d24-4c5d-9bfb-64da5e480668",
   "metadata": {},
   "source": [
    "Otros métodos que ocupen a su vez los que han sido modificados, también se verán afectados. Por ejemplo el método `sorted` ordena la lista verificando si un elemento es mayor o menor que otro; hace estas comparaciones automáticamente, lo que significa que cuando definimos estos métodos dentro de nuestra clase, Python los aprovechará."
   ]
  },
  {
   "cell_type": "code",
   "execution_count": 49,
   "id": "a1d58263-a62f-457d-9a09-dca71637bf52",
   "metadata": {},
   "outputs": [
    {
     "name": "stdout",
     "output_type": "stream",
     "text": [
      "[1 de Corazones, 1 de Espadas, 1 de Diamantes, 1 de Tréboles, 2 de Corazones, 2 de Espadas, 2 de Diamantes, 2 de Tréboles, 3 de Corazones, 3 de Espadas, 3 de Diamantes, 3 de Tréboles, 4 de Corazones, 4 de Espadas, 4 de Diamantes, 4 de Tréboles, 5 de Corazones, 5 de Espadas, 5 de Diamantes, 5 de Tréboles, 6 de Corazones, 6 de Espadas, 6 de Diamantes, 6 de Tréboles, 7 de Corazones, 7 de Espadas, 7 de Diamantes, 7 de Tréboles, 8 de Corazones, 8 de Espadas, 8 de Diamantes, 8 de Tréboles, 9 de Corazones, 9 de Espadas, 9 de Diamantes, 9 de Tréboles, 10 de Corazones, 10 de Espadas, 10 de Diamantes, 10 de Tréboles, 11 de Corazones, 11 de Espadas, 11 de Diamantes, 11 de Tréboles, 12 de Corazones, 12 de Espadas, 12 de Diamantes, 12 de Tréboles, 13 de Corazones, 13 de Espadas, 13 de Diamantes, 13 de Tréboles]\n"
     ]
    }
   ],
   "source": [
    "print(sorted(mazo))"
   ]
  },
  {
   "cell_type": "markdown",
   "id": "13a9f3af-b78a-4991-9190-b8ce481b7804",
   "metadata": {},
   "source": [
    "Este es el poder de los métodos mágicos: nos permiten determinar exactamente qué significa que `a == b` o `a != b`. Nosotros decidimos lo que significan los operadores básicos. \n",
    "\n",
    "Pero con gran poder viene una gran responsabilidad. Por ejemplo, si tomamos nuestra clase Carta y cambiamos los signos (digamos, por un pequeño error humano al programar), obtendríamos lo siguiente."
   ]
  },
  {
   "cell_type": "code",
   "execution_count": 238,
   "id": "f7f3aaa5-fc83-418f-8987-b71ae29a16b0",
   "metadata": {},
   "outputs": [],
   "source": [
    "class Carta:\n",
    "    def __init__(self, valor, palo):\n",
    "        self.valor = valor\n",
    "        self.palo = palo\n",
    "        \n",
    "    def __eq__(self, other):\n",
    "        return self.valor != other.valor\n",
    "        \n",
    "    def __lt__(self, other):\n",
    "        return self.valor > other.valor\n",
    "        \n",
    "    def __gt__(self, other):\n",
    "        return self.valor < other.valor\n",
    "\n",
    "    def __repr__(self):\n",
    "        return str(self.valor) + \" de \" + str(self.palo)"
   ]
  },
  {
   "cell_type": "code",
   "execution_count": 240,
   "id": "83ec6252-dc81-4dde-b185-0741878bfff1",
   "metadata": {},
   "outputs": [
    {
     "name": "stdout",
     "output_type": "stream",
     "text": [
      "True\n",
      "True\n",
      "False\n",
      "False\n"
     ]
    }
   ],
   "source": [
    "print(Carta(10, \"Corazones\") < Carta(6, \"Diamantes\"))\n",
    "print(Carta(10, \"Corazones\") == Carta(6, \"Diamantes\"))\n",
    "print(Carta(10, \"Corazones\") > Carta(6, \"Diamantes\"))\n",
    "print(Carta(10, \"Corazones\") == Carta(10, \"Tréboles\"))"
   ]
  },
  {
   "cell_type": "markdown",
   "id": "a8199c9c-aa61-4445-aeb3-2acc45dcff4f",
   "metadata": {},
   "source": [
    "Si recordamos muchos de estos métodos están listados dentro de los atributos de nuestros objetos"
   ]
  },
  {
   "cell_type": "code",
   "execution_count": 242,
   "id": "7f854e64-9844-47db-8487-aaed6f2296d3",
   "metadata": {},
   "outputs": [
    {
     "data": {
      "text/plain": [
       "['__class__',\n",
       " '__delattr__',\n",
       " '__dict__',\n",
       " '__dir__',\n",
       " '__doc__',\n",
       " '__eq__',\n",
       " '__format__',\n",
       " '__ge__',\n",
       " '__getattribute__',\n",
       " '__getstate__',\n",
       " '__gt__',\n",
       " '__hash__',\n",
       " '__init__',\n",
       " '__init_subclass__',\n",
       " '__le__',\n",
       " '__lt__',\n",
       " '__module__',\n",
       " '__ne__',\n",
       " '__new__',\n",
       " '__reduce__',\n",
       " '__reduce_ex__',\n",
       " '__repr__',\n",
       " '__setattr__',\n",
       " '__sizeof__',\n",
       " '__str__',\n",
       " '__subclasshook__',\n",
       " '__weakref__',\n",
       " 'palo',\n",
       " 'valor']"
      ]
     },
     "execution_count": 242,
     "metadata": {},
     "output_type": "execute_result"
    }
   ],
   "source": [
    "dir(Carta(10, \"Espadas\"))"
   ]
  },
  {
   "cell_type": "markdown",
   "id": "f4473dac-b739-41f9-a639-2241a7076de4",
   "metadata": {},
   "source": [
    "Sin embargo, existen muchos otros que nos permiten personalizar los comportamientos de nuestras clases y sus objetos.\n",
    "\n",
    "Puedes encontrar más información de todos los métodos mágicos en libros de Python o [en línea](https://realpython.com/python-magic-methods/); esto es solo una muestra.\n",
    "\n",
    "A continuación, agregaremos una clase Mazo (Deck) y usaremos algunos métodos mágicos adicionales para que sea más natural interactuar con ella, como juntar dos mazos (+), sacar cartas (pop()), obtener la cantidad remanente de cartas (len()) o incluso barajearlas utilizando una función del módulo `random`."
   ]
  },
  {
   "cell_type": "code",
   "execution_count": 149,
   "id": "735256d4-c522-45a0-aaaf-5ef113e88350",
   "metadata": {},
   "outputs": [],
   "source": [
    "import random\n",
    "\n",
    "class Mazo:\n",
    "    def __init__(self):\n",
    "        valores = ['2', '3', '4', '5', '6', '7', '8', '9', '10', 'J', 'Q', 'K', 'A']\n",
    "        palos = ['Corazones', 'Diamantes', 'Espadas', 'Tréboles']\n",
    "        self.cartas = [Carta(v, p) for p in palos for v in valores]\n",
    "\n",
    "    def __len__(self):\n",
    "        return len(self.cartas)\n",
    "\n",
    "    def __getitem__(self, posicion):\n",
    "        return self.cartas[posicion]\n",
    "\n",
    "    def __add__(self, other):\n",
    "        nuevo = Mazo()\n",
    "        nuevo.cartas = self.cartas + other.cartas\n",
    "        return nuevo\n",
    "\n",
    "    def barajar(self):\n",
    "        random.shuffle(self.cartas)\n",
    "\n",
    "    def sacarCarta(self):\n",
    "        return self.cartas.pop()"
   ]
  },
  {
   "cell_type": "markdown",
   "id": "f7a2458d-b182-4dd9-bf04-4c2d8eafb16e",
   "metadata": {},
   "source": [
    "Y también actualizaremos la clase `Carta` para que sean aún más parecidas a lo que deberían ser."
   ]
  },
  {
   "cell_type": "code",
   "execution_count": 151,
   "id": "cf3b36e6-34db-421b-83d9-c9c4bff45c68",
   "metadata": {},
   "outputs": [],
   "source": [
    "class Carta:\n",
    "    orden = ['2', '3', '4', '5', '6', '7', '8', '9', '10', 'J', 'Q', 'K', 'A']\n",
    "    \n",
    "    def __init__(self, valor, palo):\n",
    "        self.valor = valor\n",
    "        self.palo = palo\n",
    "        \n",
    "    def __eq__(self, other):\n",
    "        return self.valor == other.valor\n",
    "        \n",
    "    def __lt__(self, other):\n",
    "        return Carta.orden.index(self.valor) < Carta.orden.index(other.valor)\n",
    "        \n",
    "    def __gt__(self, other):\n",
    "        return Carta.orden.index(self.valor) > Carta.orden.index(other.valor)\n",
    "\n",
    "    def __repr__(self):\n",
    "        return str(self.valor) + \" de \" + str(self.palo)"
   ]
  },
  {
   "cell_type": "markdown",
   "id": "6124ca79-6ca8-413f-8811-4101e341cbf2",
   "metadata": {},
   "source": [
    "De esta manera al crear un mazo, se está utilizando la clase `Mazo` pero en su definición, tras bambalinas, se está usando también la clase `Carta`. Podemos usar los métodos de la clase `Mazo`"
   ]
  },
  {
   "cell_type": "code",
   "execution_count": 249,
   "id": "039073e3-7d96-4f85-994d-30ba870645b2",
   "metadata": {},
   "outputs": [
    {
     "name": "stdout",
     "output_type": "stream",
     "text": [
      "El mazo tiene actualmente 52 cartas\n"
     ]
    }
   ],
   "source": [
    "mazo1 = Mazo()\n",
    "print(\"El mazo tiene actualmente\",len(mazo1), \"cartas\")"
   ]
  },
  {
   "cell_type": "markdown",
   "id": "0579b998-4941-424c-bbf9-cf74c1f6c957",
   "metadata": {},
   "source": [
    "O podemos también utilizar los de la clase `Carta` como su representación."
   ]
  },
  {
   "cell_type": "code",
   "execution_count": 253,
   "id": "c2da59e6-6e50-43c0-8ce5-140ff97ceaf9",
   "metadata": {},
   "outputs": [
    {
     "name": "stdout",
     "output_type": "stream",
     "text": [
      "[6 de Diamantes, 7 de Diamantes, 5 de Diamantes, 4 de Diamantes, 7 de Espadas, 9 de Espadas, 2 de Corazones, 10 de Tréboles, Q de Corazones, 8 de Espadas, 2 de Espadas, 5 de Tréboles, J de Corazones, K de Espadas, 2 de Diamantes, K de Corazones, 3 de Tréboles, 6 de Espadas, 5 de Corazones, 4 de Espadas, A de Tréboles, 4 de Tréboles, A de Espadas, A de Corazones, 2 de Tréboles, 9 de Corazones, 6 de Tréboles, 10 de Diamantes, 3 de Diamantes, 3 de Corazones, 8 de Corazones, 10 de Espadas, 3 de Espadas, 5 de Espadas, 4 de Corazones, 8 de Diamantes, K de Tréboles, K de Diamantes, A de Diamantes, Q de Diamantes, 7 de Tréboles, 6 de Corazones, Q de Espadas, Q de Tréboles, J de Diamantes, 8 de Tréboles, J de Tréboles, 7 de Corazones, 10 de Corazones, J de Espadas, 9 de Diamantes, 9 de Tréboles]\n"
     ]
    }
   ],
   "source": [
    "print(mazo1.cartas)"
   ]
  },
  {
   "cell_type": "code",
   "execution_count": 255,
   "id": "5c50dfb2-c2fd-4ffe-9332-8bae5fbc6fdf",
   "metadata": {},
   "outputs": [
    {
     "name": "stdout",
     "output_type": "stream",
     "text": [
      "[4 de Espadas, J de Corazones, 4 de Corazones, Q de Corazones, 9 de Tréboles, 3 de Diamantes, 8 de Corazones, 2 de Diamantes, J de Espadas, 7 de Diamantes, 3 de Tréboles, 6 de Tréboles, 8 de Espadas, 6 de Corazones, 7 de Corazones, A de Tréboles, 9 de Diamantes, 9 de Corazones, K de Espadas, 6 de Espadas, 8 de Tréboles, J de Tréboles, 7 de Tréboles, 4 de Tréboles, 2 de Tréboles, A de Corazones, A de Espadas, 5 de Diamantes, Q de Diamantes, 2 de Corazones, Q de Tréboles, 5 de Tréboles, K de Corazones, 2 de Espadas, 5 de Espadas, 4 de Diamantes, 10 de Espadas, 10 de Corazones, 9 de Espadas, J de Diamantes, 3 de Espadas, 3 de Corazones, 7 de Espadas, 5 de Corazones, A de Diamantes, Q de Espadas, K de Diamantes, 6 de Diamantes, 8 de Diamantes, 10 de Diamantes, 10 de Tréboles, K de Tréboles]\n"
     ]
    }
   ],
   "source": [
    "mazo1.barajar()\n",
    "print(mazo1.cartas)"
   ]
  },
  {
   "cell_type": "markdown",
   "id": "2d0920c5-55ea-4724-a654-78e9205a6be6",
   "metadata": {},
   "source": [
    "A continuación utilizaremos un método de la clase `Mazo` para obtener dos cartas."
   ]
  },
  {
   "cell_type": "code",
   "execution_count": 259,
   "id": "d9d8e27a-70cc-4f19-848c-ef6579e57de4",
   "metadata": {},
   "outputs": [
    {
     "name": "stdout",
     "output_type": "stream",
     "text": [
      "Primera Carta: K de Tréboles\n",
      "Segunda Carta: 10 de Tréboles\n"
     ]
    }
   ],
   "source": [
    "carta1 = mazo1.sacarCarta()\n",
    "print(\"Primera Carta:\", carta1)\n",
    "\n",
    "carta2 = mazo1.sacarCarta()\n",
    "print(\"Segunda Carta:\", carta2)"
   ]
  },
  {
   "cell_type": "markdown",
   "id": "9d2ec1d7-74bf-4355-9d09-47cf89cc8173",
   "metadata": {},
   "source": [
    "Nótese que, aunque se obtuvieron desde la clase `Mazo`, los objetos son de tipo `Carta` y puede usarse la comparación definida en esta última clase."
   ]
  },
  {
   "cell_type": "code",
   "execution_count": 261,
   "id": "25917c78-6de5-4df1-9e36-139c51868449",
   "metadata": {},
   "outputs": [
    {
     "name": "stdout",
     "output_type": "stream",
     "text": [
      "True\n",
      "False\n",
      "True\n"
     ]
    }
   ],
   "source": [
    "print(carta1 < carta2)\n",
    "print(carta1 > carta2)\n",
    "print(carta1 == carta2)"
   ]
  },
  {
   "cell_type": "code",
   "execution_count": 263,
   "id": "8265cd65-7d74-4faa-879b-1741049932de",
   "metadata": {},
   "outputs": [
    {
     "name": "stdout",
     "output_type": "stream",
     "text": [
      "El mazo tiene actualmente 50 cartas\n"
     ]
    }
   ],
   "source": [
    "print(\"El mazo tiene actualmente\",len(mazo1), \"cartas\")"
   ]
  },
  {
   "cell_type": "markdown",
   "id": "2becc56d-c81f-41b0-9dbc-3d5511f0ba1b",
   "metadata": {},
   "source": [
    "Utilizando un método de la clase `Mazo`, pueden combinarse dos objetos de esta misma clase y adicionalmente el objeto resultante también es de esta misma clase y pueden usarse estos mismos métodos con este."
   ]
  },
  {
   "cell_type": "code",
   "execution_count": 265,
   "id": "1e9eae3d-233b-4303-a1fd-50b2dc118380",
   "metadata": {},
   "outputs": [
    {
     "name": "stdout",
     "output_type": "stream",
     "text": [
      "Total de cartas combinadas: 102\n"
     ]
    }
   ],
   "source": [
    "mazo2 = Mazo()\n",
    "mazoCombinado = mazo1 + mazo2\n",
    "print(\"Total de cartas combinadas:\", len(mazoCombinado))"
   ]
  },
  {
   "cell_type": "code",
   "execution_count": 267,
   "id": "98ade9f0-380d-4c24-bbc2-bbf0fe97e5a0",
   "metadata": {},
   "outputs": [
    {
     "name": "stdout",
     "output_type": "stream",
     "text": [
      "[4 de Espadas, J de Corazones, 4 de Corazones, Q de Corazones, 9 de Tréboles, 3 de Diamantes, 8 de Corazones, 2 de Diamantes, J de Espadas, 7 de Diamantes, 3 de Tréboles, 6 de Tréboles, 8 de Espadas, 6 de Corazones, 7 de Corazones, A de Tréboles, 9 de Diamantes, 9 de Corazones, K de Espadas, 6 de Espadas, 8 de Tréboles, J de Tréboles, 7 de Tréboles, 4 de Tréboles, 2 de Tréboles, A de Corazones, A de Espadas, 5 de Diamantes, Q de Diamantes, 2 de Corazones, Q de Tréboles, 5 de Tréboles, K de Corazones, 2 de Espadas, 5 de Espadas, 4 de Diamantes, 10 de Espadas, 10 de Corazones, 9 de Espadas, J de Diamantes, 3 de Espadas, 3 de Corazones, 7 de Espadas, 5 de Corazones, A de Diamantes, Q de Espadas, K de Diamantes, 6 de Diamantes, 8 de Diamantes, 10 de Diamantes, 2 de Corazones, 3 de Corazones, 4 de Corazones, 5 de Corazones, 6 de Corazones, 7 de Corazones, 8 de Corazones, 9 de Corazones, 10 de Corazones, J de Corazones, Q de Corazones, K de Corazones, A de Corazones, 2 de Diamantes, 3 de Diamantes, 4 de Diamantes, 5 de Diamantes, 6 de Diamantes, 7 de Diamantes, 8 de Diamantes, 9 de Diamantes, 10 de Diamantes, J de Diamantes, Q de Diamantes, K de Diamantes, A de Diamantes, 2 de Espadas, 3 de Espadas, 4 de Espadas, 5 de Espadas, 6 de Espadas, 7 de Espadas, 8 de Espadas, 9 de Espadas, 10 de Espadas, J de Espadas, Q de Espadas, K de Espadas, A de Espadas, 2 de Tréboles, 3 de Tréboles, 4 de Tréboles, 5 de Tréboles, 6 de Tréboles, 7 de Tréboles, 8 de Tréboles, 9 de Tréboles, 10 de Tréboles, J de Tréboles, Q de Tréboles, K de Tréboles, A de Tréboles]\n"
     ]
    }
   ],
   "source": [
    "print(mazoCombinado.cartas)"
   ]
  },
  {
   "cell_type": "code",
   "execution_count": 177,
   "id": "ebd7ed76-9d00-4c68-bb03-71e1ed5b96b5",
   "metadata": {},
   "outputs": [
    {
     "name": "stdout",
     "output_type": "stream",
     "text": [
      "[J de Corazones, A de Espadas, Q de Espadas, K de Corazones, 9 de Corazones, 5 de Espadas, Q de Espadas, 2 de Espadas, 3 de Diamantes, 3 de Espadas, 8 de Corazones, 3 de Espadas, 5 de Corazones, Q de Diamantes, 8 de Tréboles, 9 de Tréboles, K de Diamantes, K de Diamantes, Q de Diamantes, J de Tréboles, 6 de Tréboles, 2 de Tréboles, K de Espadas, K de Espadas, 4 de Tréboles, J de Tréboles, A de Tréboles, 10 de Tréboles, 9 de Diamantes, Q de Tréboles, 7 de Espadas, 6 de Espadas, 3 de Tréboles, 2 de Corazones, 5 de Diamantes, A de Corazones, 5 de Corazones, 3 de Diamantes, 6 de Tréboles, J de Corazones, 10 de Espadas, 6 de Corazones, 7 de Corazones, 7 de Diamantes, 8 de Diamantes, Q de Corazones, 8 de Espadas, 6 de Diamantes, 9 de Diamantes, 2 de Tréboles, A de Espadas, Q de Corazones, 4 de Corazones, J de Diamantes, 9 de Espadas, 8 de Diamantes, 4 de Espadas, 9 de Espadas, 7 de Tréboles, 8 de Espadas, 10 de Diamantes, 3 de Corazones, 2 de Espadas, 5 de Diamantes, 4 de Diamantes, 7 de Espadas, A de Diamantes, 8 de Corazones, 2 de Diamantes, 7 de Tréboles, 10 de Diamantes, A de Tréboles, 10 de Tréboles, K de Tréboles, 8 de Tréboles, 6 de Diamantes, A de Diamantes, 10 de Corazones, 4 de Diamantes, J de Diamantes, 5 de Espadas, 7 de Diamantes, J de Espadas, 10 de Espadas, 3 de Corazones, 6 de Corazones, 5 de Tréboles, 4 de Tréboles, 4 de Espadas, J de Espadas, 6 de Espadas, K de Corazones, 2 de Corazones, 9 de Corazones, 3 de Tréboles, 9 de Tréboles, K de Tréboles, 5 de Tréboles, 2 de Diamantes, 7 de Corazones, 4 de Corazones, A de Corazones]\n"
     ]
    }
   ],
   "source": [
    "mazoCombinado.barajar()\n",
    "print(mazoCombinado.cartas)"
   ]
  },
  {
   "cell_type": "markdown",
   "id": "a5f5601e-1fc4-4a70-92f3-4a0aaeedbf59",
   "metadata": {},
   "source": [
    "El poder de los métodos mágicos no debe subestimarse. Observa cómo podemos crear una nueva clase `Vector`, para detallar cómo nos gustaría multiplicar dos vectores. \n",
    "\n",
    "Una de estas propiedades es el producto punto o producto interno. Este producto es la suma de todos los valores correspondientes en cada vector. Aquí está la fórmula matemática:\n",
    "\n",
    "Dados `A` y `B` de longitud `n`\n",
    "\n",
    "$$A\\cdot B = \\sum_{i=1}^n A_iB_i = A_1B_1 + A_2B_2 + \\cdots + A_nB_n$$"
   ]
  },
  {
   "cell_type": "code",
   "execution_count": 209,
   "id": "d1549e04-9521-4140-8007-3496af0225a1",
   "metadata": {},
   "outputs": [],
   "source": [
    "class Vector:\n",
    "    def __init__(self, numeros):\n",
    "        self.__numeros = numeros\n",
    "\n",
    "    # Esta propiedad nos permite utilizar .numeros o .__numeros indistintamente\n",
    "    @property\n",
    "    def numeros(self):\n",
    "        return self.__numeros\n",
    "        \n",
    "    def dot(self, other):\n",
    "        valores = []\n",
    "        if len(self.__numeros) != len(other.numeros):\n",
    "            return \"No pueden multiplicarse vectores de longitudes distintas.\"\n",
    "        for x in range(len(self.__numeros)):\n",
    "            valores.append(self.__numeros[x] * other.numeros[x])\n",
    "        return sum(valores)\n",
    "    \n",
    "    def __mul__(self, other):\n",
    "        return self.dot(other)"
   ]
  },
  {
   "cell_type": "code",
   "execution_count": 211,
   "id": "c323499f-351d-4664-bd51-175bfbdc0ba4",
   "metadata": {},
   "outputs": [
    {
     "name": "stdout",
     "output_type": "stream",
     "text": [
      "12\n",
      "12\n"
     ]
    }
   ],
   "source": [
    "a = Vector([1,10,4])\n",
    "b = Vector([2,-1,5])\n",
    "print(a*b)\n",
    "print(a.dot(b))"
   ]
  },
  {
   "cell_type": "markdown",
   "id": "5809a807-ebf3-4bdc-8020-4940740a6597",
   "metadata": {},
   "source": [
    "Como nota final, aunque no lo hemos tratado aquí, siempre puedes crear subclases a partir de bibliotecas y módulos existentes. Si hay una biblioteca de animales que quieres usar, puedes crear una subclase sin problema.\n",
    "\n",
    "Esta es una abstracción realmente poderosa, pero requiere que pienses detenidamente en tu caso de uso y en tus usuarios. ¿Tiene sentido sumar dos animales? Probablemente no, así que no deberías implementar ese método.\n",
    "\n",
    "En este punto, se ha usado bastante programación orientada a objetos, sin embargo, estos conceptos pueden ser bastante complicados y llevar tiempo en asimilarse. \n",
    "\n",
    "Con un poco de práctica, mejora la capacidad de pensar en términos de esta abstracción."
   ]
  }
 ],
 "metadata": {
  "kernelspec": {
   "display_name": "Python [conda env:base] *",
   "language": "python",
   "name": "conda-base-py"
  },
  "language_info": {
   "codemirror_mode": {
    "name": "ipython",
    "version": 3
   },
   "file_extension": ".py",
   "mimetype": "text/x-python",
   "name": "python",
   "nbconvert_exporter": "python",
   "pygments_lexer": "ipython3",
   "version": "3.11.5"
  }
 },
 "nbformat": 4,
 "nbformat_minor": 5
}
