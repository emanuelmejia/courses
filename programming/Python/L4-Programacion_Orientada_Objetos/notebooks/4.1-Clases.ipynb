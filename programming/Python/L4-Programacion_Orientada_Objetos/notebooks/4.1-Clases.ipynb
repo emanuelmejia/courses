{
 "cells": [
  {
   "cell_type": "markdown",
   "id": "d305b56f-f3d0-4e3c-bac7-64b4df720688",
   "metadata": {},
   "source": [
    "<div style=\"padding:10px;background-color: #FF4D4D; color:white;font-size:28px;\"><strong>Clases</strong></div>"
   ]
  },
  {
   "attachments": {},
   "cell_type": "markdown",
   "id": "ad5493c6-6ea9-4fd5-ae4b-5a46cb833435",
   "metadata": {},
   "source": [
    "Las clases son una de las ideas más importantes del desarrollo de software moderno. Cuando aprendimos sobre funciones, vimos cómo pueden ayudar a modularizar nuestro código. Las clases son una herramienta aún más poderosa, que nos ayuda a descomponer programas complejos en partes manejables con comportamientos comprensibles. \n",
    "\n",
    "- **Una clase / tipo** es una plantilla para crear objetos. Define métodos y otros atributos que son compartidos por todos los objetos que crea.\n",
    "- **Un objeto** es una instancia de una clase. Una sola clase puede tener muchas instancias y cada una comparte muchos de los mismos comportamientos, pero está llena de sus propios datos, los que en algunos casos son únicos.\n",
    "\n",
    "Muchas veces es necesario crear una clase personalizada debido a que:\n",
    "\n",
    "- Puede ser más complicada que los tipos integrados.\n",
    "- Se puede adaptar a tareas específicas.\n",
    "- No solo almacenan datos: las clases pueden interactuar entre sí y realizar cálculos extensos.\n",
    "- El desarrollo de software a gran escala es Orientado a Objetos, lo que significa que gran parte de lo que los desarrolladores hacen es diseñar nuevos tipos y operar con instancias de ellos.\n",
    "\n",
    "Al igual que las funciones, las clases deben ser definidas antes de que podamos usarlas. Las clases se construyen con la palabra clave `class`.\n",
    "\n",
    "*NOTA: El estándar para nombrar clases es utilizar UpperCamelCase, donde la primera letra de cada palabra se escribe en mayúscula.*"
   ]
  },
  {
   "cell_type": "code",
   "execution_count": 4,
   "id": "3b662f09-e283-431a-b4ff-13eb87d4dd67",
   "metadata": {},
   "outputs": [],
   "source": [
    "class Dron:\n",
    "    \"\"\"Clase base para una aeronave tipo dron\"\"\""
   ]
  },
  {
   "cell_type": "markdown",
   "id": "2a84d813-e6a1-4a97-8c59-acf5d2934c79",
   "metadata": {},
   "source": [
    "La cadena de texto multilínea que aparece justo debajo de la definición de la clase, es llamada `docstring` en este contexto, y es una descripción de la clase.\n",
    "\n",
    "El `docstring` sirve como documentación interna: explica qué hace la clase, cómo se usa o cualquier otra nota importante. Es especialmente útil cuando colaboras con otros o cuando tú mismo necesitas recordar más adelante para qué servía cierta parte del código."
   ]
  },
  {
   "cell_type": "code",
   "execution_count": 6,
   "id": "b9487773-53d5-4169-92c4-48a0f24d9846",
   "metadata": {},
   "outputs": [
    {
     "data": {
      "text/plain": [
       "\u001b[1;31mInit signature:\u001b[0m \u001b[0mDron\u001b[0m\u001b[1;33m(\u001b[0m\u001b[1;33m)\u001b[0m\u001b[1;33m\u001b[0m\u001b[1;33m\u001b[0m\u001b[0m\n",
       "\u001b[1;31mDocstring:\u001b[0m      Clase base para una aeronave tipo dron\n",
       "\u001b[1;31mType:\u001b[0m           type\n",
       "\u001b[1;31mSubclasses:\u001b[0m     "
      ]
     },
     "metadata": {},
     "output_type": "display_data"
    }
   ],
   "source": [
    "?Dron"
   ]
  },
  {
   "cell_type": "markdown",
   "id": "1d368523-9de1-4c2d-82fe-6cd0dc026009",
   "metadata": {},
   "source": [
    "Es necesario enfatizar la importancia de una buena documentación, y esto es especialmente importante cuando se crean nuevas clases. Comprender clases que escribió otra persona (o que tú escribiste hace tiempo) puede ser muy difícil sin documentación clara. Si adoptas el hábito de documentar todo bien desde el principio, estarás ahorrando horas de trabajo a otros programadores y facilitando la reutilización de tu código.\n",
    "\n",
    "Una vez que tenemos definida una clase, como en este caso la clase `Dron`, podemos usarla como plantilla para crear tantas **instancias** como queramos. Cada instancia representa un **objeto** específico de esa clase, y Python las identifica con el tipo de la clase."
   ]
  },
  {
   "cell_type": "code",
   "execution_count": 8,
   "id": "85be29e2-34bc-4807-b302-1f698c273d0e",
   "metadata": {},
   "outputs": [
    {
     "name": "stdout",
     "output_type": "stream",
     "text": [
      "d1 es un objeto de clase <class '__main__.Dron'>\n",
      "d2 es un objeto de clase <class '__main__.Dron'>\n"
     ]
    }
   ],
   "source": [
    "d1 = Dron()\n",
    "d2 = Dron()\n",
    "\n",
    "print(\"d1 es un objeto de clase\", type(d1))\n",
    "print(\"d2 es un objeto de clase\", type(d2))"
   ]
  },
  {
   "cell_type": "markdown",
   "id": "d27e2f94-211b-443c-8a25-e2e148906276",
   "metadata": {},
   "source": [
    "Ahora que tenemos una clase `Dron` con dos instancias (d1 y d2), es momento de hacerlas útiles añadiendo atributos.\n",
    "\n",
    "En Python, los atributos son lo que define el \"estado\" de un objeto. \n",
    "\n",
    "Estos se dividen en dos tipos:\n",
    "\n",
    "- **Atributos de datos:** Son variables que almacenan información sobre la instancia (como el nivel de batería, el modelo, la posición, etc.).\n",
    "\n",
    "- **Métodos:** Son funciones definidas dentro de la clase que permiten interactuar o modificar sus atributos."
   ]
  },
  {
   "cell_type": "markdown",
   "id": "df2f4484-9dd8-4c96-aefd-0d2c0fbb6386",
   "metadata": {},
   "source": [
    "## <a style=\"padding:3px;color: #FF4D4D; \"><strong>Atributos de Datos</strong></a>"
   ]
  },
  {
   "cell_type": "markdown",
   "id": "2cbee589-4e36-4376-bc5f-718a937e0357",
   "metadata": {},
   "source": [
    "Para agregar atributos de datos a los drones la práctica recomendada es hacerlo desde su creación, al definir la clase. Sin embargo, en este momento lo haremos manualmente para hacer claro el proceso.\n",
    "\n",
    "Para crear un nuevo atributo de datos, simplemente ponemos el nombre del atributo que queremos después de un punto `.` y la sintaxis es muy similar a la creación de variables."
   ]
  },
  {
   "cell_type": "code",
   "execution_count": 12,
   "id": "db64373b-e089-4f38-b5f2-818ace539d92",
   "metadata": {},
   "outputs": [],
   "source": [
    "Dron.fuenteEnergia = \"solar\""
   ]
  },
  {
   "cell_type": "markdown",
   "id": "bdbb7a7e-f52a-41b4-8071-bf39338a9c9b",
   "metadata": {},
   "source": [
    "De esta manera se crea un **atributo de clase**. Eso significa que `fuenteEnergia` es algo que se aplica a todos los objetos de clase `Dron`, no solo a una instancia. Esto quiere decir que es posible acceder al atributo desde la clase, pero también desde cada una de las instancias de esta clase."
   ]
  },
  {
   "cell_type": "code",
   "execution_count": 14,
   "id": "c10ad664-2c3f-4546-86f6-f313b6c7d5a4",
   "metadata": {},
   "outputs": [
    {
     "name": "stdout",
     "output_type": "stream",
     "text": [
      "Fuente de energía de la clase:\t\t solar\n",
      "Fuente de energía del objeto d1:\t solar\n",
      "Fuente de energía del objeto d2:\t solar\n"
     ]
    }
   ],
   "source": [
    "print(\"Fuente de energía de la clase:\\t\\t\", Dron.fuenteEnergia)\n",
    "print(\"Fuente de energía del objeto d1:\\t\", d1.fuenteEnergia)\n",
    "print(\"Fuente de energía del objeto d2:\\t\", d2.fuenteEnergia)"
   ]
  },
  {
   "cell_type": "markdown",
   "id": "856bd597-2d8a-4a94-b586-007a048f9403",
   "metadata": {},
   "source": [
    "Gracias a la definición de clase, podemos crear tantas instancias como queramos. Sin embargo, podemos personalizar cada una. Supongamos que `d1` es un `Dron` que se energiza por medio de una batería. Podemos cambiar la `fuenteEnergia` únicamente para `d1`"
   ]
  },
  {
   "cell_type": "code",
   "execution_count": 16,
   "id": "5781d4bb-5841-41ca-b3e7-3ee4d904a50f",
   "metadata": {},
   "outputs": [],
   "source": [
    "d1.fuenteEnergia = \"batería\""
   ]
  },
  {
   "cell_type": "markdown",
   "id": "ebe31a0a-435d-4fce-9a11-99d891f7f048",
   "metadata": {},
   "source": [
    "Acabamos de crear lo que llamamos un **atributo de instancia**. Este es un atributo que está asociado a un objeto (instancia) específico. \n",
    "\n",
    "Esto no modifica el atributo de la clase `Dron`, pero al acceder a `d1.fuenteEnergia`, el atributo de instancia anula (sobreescribe) al atributo de clase y personaliza el de la instancia `d1`."
   ]
  },
  {
   "cell_type": "code",
   "execution_count": 18,
   "id": "0af67984-e909-4416-8d0b-28413174a66a",
   "metadata": {},
   "outputs": [
    {
     "name": "stdout",
     "output_type": "stream",
     "text": [
      "Fuente de energía de la clase:\t\t solar\n",
      "Fuente de energía del objeto d1:\t batería\n",
      "Fuente de energía del objeto d2:\t solar\n"
     ]
    }
   ],
   "source": [
    "print(\"Fuente de energía de la clase:\\t\\t\", Dron.fuenteEnergia)\n",
    "print(\"Fuente de energía del objeto d1:\\t\", d1.fuenteEnergia)\n",
    "print(\"Fuente de energía del objeto d2:\\t\", d2.fuenteEnergia)"
   ]
  },
  {
   "cell_type": "markdown",
   "id": "5e134fd8-f2dd-4c7c-a867-e764a3f3f4e4",
   "metadata": {},
   "source": [
    "Agreguemos también un atributo para representar la `altura` a la que se encuentra el dron. Este debería ser claramente un **atributo de instancia**, ya que es una propiedad de cada dron individual, no de todos los drones en general."
   ]
  },
  {
   "cell_type": "code",
   "execution_count": 20,
   "id": "b3b01de6-a061-499f-aa92-f0efc45210f6",
   "metadata": {},
   "outputs": [],
   "source": [
    "d1.altura = 30\n",
    "d2.altura = 65"
   ]
  },
  {
   "cell_type": "markdown",
   "id": "31184eff-285c-45bd-b17f-ff9755ba5169",
   "metadata": {},
   "source": [
    "**IMPORTANTE:** los **atributos de clase** son útiles para describir cosas que son comunes a todas las instancias de una clase (aunque pueden sobrescribirse para instancias específicas); los **atributos de instancia** son útiles para describir características que hacen que cada objeto sea único."
   ]
  },
  {
   "cell_type": "markdown",
   "id": "59497e2f-4c51-4517-822e-a9aa113cbb12",
   "metadata": {},
   "source": [
    "## <a style=\"padding:3px;color: #FF4D4D; \"><strong>Lista de Atributos</strong></a>"
   ]
  },
  {
   "cell_type": "markdown",
   "id": "49d62b53-7515-427c-96d2-87b93b67ff72",
   "metadata": {},
   "source": [
    "Si queremos investigar los atributos que tienen nuestros objetos, podemos utilizar una función especial de Python `dir`."
   ]
  },
  {
   "cell_type": "code",
   "execution_count": 24,
   "id": "623fdc32-7edd-4776-abb0-0b65aad35964",
   "metadata": {},
   "outputs": [
    {
     "data": {
      "text/plain": [
       "['__class__',\n",
       " '__delattr__',\n",
       " '__dict__',\n",
       " '__dir__',\n",
       " '__doc__',\n",
       " '__eq__',\n",
       " '__format__',\n",
       " '__ge__',\n",
       " '__getattribute__',\n",
       " '__getstate__',\n",
       " '__gt__',\n",
       " '__hash__',\n",
       " '__init__',\n",
       " '__init_subclass__',\n",
       " '__le__',\n",
       " '__lt__',\n",
       " '__module__',\n",
       " '__ne__',\n",
       " '__new__',\n",
       " '__reduce__',\n",
       " '__reduce_ex__',\n",
       " '__repr__',\n",
       " '__setattr__',\n",
       " '__sizeof__',\n",
       " '__str__',\n",
       " '__subclasshook__',\n",
       " '__weakref__',\n",
       " 'altura',\n",
       " 'fuenteEnergia']"
      ]
     },
     "execution_count": 24,
     "metadata": {},
     "output_type": "execute_result"
    }
   ],
   "source": [
    "dir(d1)"
   ]
  },
  {
   "cell_type": "markdown",
   "id": "382030e8-017c-44b6-ac66-3d7d73b5043f",
   "metadata": {},
   "source": [
    "Un objeto en realidad tiene muchos atributos. En la parte inferior de la lista, se encuentran los dos atributos añadidos manualmente: `altura` y `fuenteEnergia`\n",
    "\n",
    "Los otros atributos en esta lista son atributos que Python agrega automáticamente a cada objeto creado. Comienzan y terminan con dos guiones bajos `__`, lo que indica que tienen un significado especial incorporado. Muchos de ellos son atributos internos que no serán utilizados en un programa; algunos son métodos, pero también hay algunos atributos de datos.\n",
    "\n",
    "Por ejemplo, __class__ es un atributo de datos que almacena el tipo de cada objeto."
   ]
  },
  {
   "cell_type": "code",
   "execution_count": 26,
   "id": "b3012bd4-1e57-4d3d-ba3a-4b2ff843056a",
   "metadata": {},
   "outputs": [
    {
     "data": {
      "text/plain": [
       "__main__.Dron"
      ]
     },
     "execution_count": 26,
     "metadata": {},
     "output_type": "execute_result"
    }
   ],
   "source": [
    "d1.__class__"
   ]
  },
  {
   "cell_type": "markdown",
   "id": "8570e129-122b-4861-9e9b-90b28bb96f03",
   "metadata": {},
   "source": [
    "Que es el mismo tipo que resulta de aplicarle la función `type`"
   ]
  },
  {
   "cell_type": "code",
   "execution_count": 28,
   "id": "98a51c11-0a0f-4711-9fb2-2d8fcbe933b2",
   "metadata": {},
   "outputs": [
    {
     "data": {
      "text/plain": [
       "__main__.Dron"
      ]
     },
     "execution_count": 28,
     "metadata": {},
     "output_type": "execute_result"
    }
   ],
   "source": [
    "type(d1)"
   ]
  },
  {
   "cell_type": "markdown",
   "id": "f2a42288-5e1f-4a7e-940c-6b300c434d4b",
   "metadata": {},
   "source": [
    "Otro atributo de datos importante es el atributo __dict__. Este es un diccionario que almacena todos los atributos que son específicos de un objeto.\n",
    "\n",
    "Este diccionario está relacionado con la manera en que Python encuentra un atributo cuando ponemos el nombre del atributo después de un punto."
   ]
  },
  {
   "cell_type": "code",
   "execution_count": 30,
   "id": "54d8d7aa-c220-4cfe-8866-e65aa4d2e790",
   "metadata": {},
   "outputs": [
    {
     "data": {
      "text/plain": [
       "{'fuenteEnergia': 'batería', 'altura': 30}"
      ]
     },
     "execution_count": 30,
     "metadata": {},
     "output_type": "execute_result"
    }
   ],
   "source": [
    "d1.__dict__"
   ]
  },
  {
   "cell_type": "markdown",
   "id": "c78c15e5-8221-48f1-b9a1-4a5eaab068bf",
   "metadata": {},
   "source": [
    "## <a style=\"padding:3px;color: #FF4D4D; \"><strong>Métodos</strong></a>"
   ]
  },
  {
   "cell_type": "markdown",
   "id": "185395e7-f694-4b03-8a12-52cf377c9e6a",
   "metadata": {},
   "source": [
    "Hemos visto cómo agregar atributos a clases e instancias manualmente, después de que hayan sido creadas. Esto es totalmente válido en Python porque las instancias son muy flexibles y en ocasiones puede ser muy útil, pero no es la práctica recomendada. \n",
    "\n",
    "En realidad, los atributos suelen crearse dentro de la definición de una clase. Esto hace que el código sea más organizado y asegura que todas las instancias compartan los atributos que requieren.\n",
    "\n",
    "Ahora, definiremos nuestra clase `Dron` nuevamente, incluyendo un atributo de datos, pero en esta ocasión también agregaremos un **método** dentro de la definición."
   ]
  },
  {
   "cell_type": "code",
   "execution_count": 33,
   "id": "94a5bee5-0172-4e96-b5ca-ea0e373f2442",
   "metadata": {},
   "outputs": [],
   "source": [
    "class Dron:\n",
    "    \"\"\"Clase base para una aeronave tipo dron\"\"\" \n",
    "    \n",
    "    fuenteEnergia = \"batería\"\n",
    "    \n",
    "    def vuela(self):\n",
    "        return \"El dron se encuentra en el aire\""
   ]
  },
  {
   "cell_type": "markdown",
   "id": "841fb7be-57e5-4dac-8aea-afc624101b6e",
   "metadata": {},
   "source": [
    "En la primera línea de la definición de la clase, creamos un **atributo de datos de clase** llamado `fuenteEnergia`. \n",
    "\n",
    "Observemos que aquí no es necesario llamar a la clase antes del nombre del atributo, parecido a una asignación de variable normal.\n",
    "\n",
    "A continuación, tenemos una definición de método que es muy parecida a la definición de una función, sin embargo, en esta ocasión hay un argumento muy inusual en el encabezado del método: `self`.\n",
    "\n",
    "Ahora que hemos definido el método fly, podemos llamarlo sobre una instancia particular de la clase."
   ]
  },
  {
   "cell_type": "code",
   "execution_count": 35,
   "id": "35bb47ba-d794-4455-aac8-d127129476de",
   "metadata": {},
   "outputs": [
    {
     "name": "stdout",
     "output_type": "stream",
     "text": [
      "El dron se encuentra en el aire\n"
     ]
    }
   ],
   "source": [
    "d = Dron()\n",
    "print(d.vuela())"
   ]
  },
  {
   "cell_type": "markdown",
   "id": "8be7a396-0b5c-47f2-8da2-26bdb1e89b82",
   "metadata": {},
   "source": [
    "En la primera línea, creamos una nueva instancia de la clase `Dron` y la asignamos a la variable `d`. Luego, llamamos al método `vuela` de `d` e imprimimos el resultado.\n",
    "\n",
    "Volviendo al misterioso argumento `self` que pusimos en el encabezado del método. Se trata en realidad una forma de acceder a los atributos de la instancia específica con la que estemos trabajando. Por ejemplo, al llamar al método `vuela` desde la instancia `d`, `self` es un nombre que apunta al objeto `d`.\n",
    "\n",
    "Para ver cómo esto es útil, vamos a revisar nuestro método `vuela` para que acceda al atributo `fuenteEnergia`."
   ]
  },
  {
   "cell_type": "code",
   "execution_count": 37,
   "id": "5a5ef0d2-1702-45c8-8f21-b98871d86f81",
   "metadata": {},
   "outputs": [],
   "source": [
    "class Dron:\n",
    "    \"\"\"Clase base para una aeronave tipo dron\"\"\" \n",
    "    \n",
    "    fuenteEnergia = \"batería\"\n",
    "    \n",
    "    def vuela(self):\n",
    "        return \"El dron energizado mediante \" + self.fuenteEnergia + \" se encuentra en el aire\""
   ]
  },
  {
   "cell_type": "markdown",
   "id": "313b9aa2-88a2-4c16-8147-0ea8f71074f0",
   "metadata": {},
   "source": [
    "Aquí, `self.fuenteEnergia` significa que queremos el atributo `fuenteEnergia` para la instancia específica en la que estemos. Puedes pensarse en `self` como sinónimo de **\"esta instancia\"**."
   ]
  },
  {
   "cell_type": "code",
   "execution_count": 39,
   "id": "16dcec03-012b-4628-bf5f-fecfe24c325b",
   "metadata": {},
   "outputs": [
    {
     "name": "stdout",
     "output_type": "stream",
     "text": [
      "El dron energizado mediante imaginación se encuentra en el aire\n",
      "El dron energizado mediante batería se encuentra en el aire\n"
     ]
    }
   ],
   "source": [
    "d1 = Dron()\n",
    "d2 = Dron()\n",
    "\n",
    "d1.fuenteEnergia = \"imaginación\"\n",
    "print(d1.vuela())\n",
    "print(d2.vuela())"
   ]
  },
  {
   "cell_type": "markdown",
   "id": "a992ba11-77a8-4496-9ba7-877416a18a82",
   "metadata": {},
   "source": [
    "Al darle a `d1` un **atributo de instancia** `fuente_energía` personalizado y diferente al **atributo de clase**, se sobrescribe. Por lo tanto, al llamar a `self.fuenteEnergia` mediante el método `vuela`, obtenemos ese **atributo de instancia**. \n",
    "\n",
    "Por otro lado, d2 no tiene un **atributo de instancia** en `fuenteEnergia`, por lo que self.power_system utiliza el **atributo de clase** por defecto.\n",
    "\n",
    "Al igual que con las funciones, podemos añadir parámetros a los métodos, además de `self`."
   ]
  },
  {
   "cell_type": "code",
   "execution_count": 41,
   "id": "c9090f5c-20a7-4ccd-b4ca-cb39cd3c7439",
   "metadata": {},
   "outputs": [
    {
     "data": {
      "text/plain": [
       "'El dron se encuentra a una altura de 0 metros'"
      ]
     },
     "execution_count": 41,
     "metadata": {},
     "output_type": "execute_result"
    }
   ],
   "source": [
    "class Dron:\n",
    "    \"\"\"Clase base para una aeronave tipo dron\"\"\" \n",
    "\n",
    "    fuenteEnergia = \"batería\"\n",
    "    \n",
    "    def vuela(self):\n",
    "        return \"El dron se encuentra a una altura de \" + str(self.altura) + \" metros\"\n",
    "        \n",
    "    def ascender(self, cambio = 10):\n",
    "        self.altura += cambio\n",
    "    \n",
    "d = Dron()\n",
    "d.altura = 0\n",
    "d.vuela()"
   ]
  },
  {
   "cell_type": "markdown",
   "id": "f8618741-40b2-4291-85a2-fbc72a1afd9d",
   "metadata": {},
   "source": [
    "Puede verse que creamos una instancia de `Dron` llamada `d`, y le dimos un atributo de datos llamado `altura`, que es utilizado dentro del método `vuela`."
   ]
  },
  {
   "cell_type": "code",
   "execution_count": 43,
   "id": "b592016a-089b-4177-a8b5-dbabc09c2fc7",
   "metadata": {},
   "outputs": [
    {
     "data": {
      "text/plain": [
       "'El dron se encuentra a una altura de 10 metros'"
      ]
     },
     "execution_count": 43,
     "metadata": {},
     "output_type": "execute_result"
    }
   ],
   "source": [
    "d.ascender()\n",
    "d.vuela()"
   ]
  },
  {
   "cell_type": "markdown",
   "id": "9a853133-6cfd-4054-bf4a-062ed046a0b0",
   "metadata": {},
   "source": [
    "Al llamar al método `ascender` sin ningún argumento, incrementamos el atributo `altura` en 1, lo que puede comprobarse al usar el método `vuela` nuevamente.\n",
    "\n",
    "Podemos también ingresar un argumento específico en el método `ascender`."
   ]
  },
  {
   "cell_type": "code",
   "execution_count": 45,
   "id": "4de73cb1-3b77-4f2c-b837-fc187f279f9e",
   "metadata": {},
   "outputs": [
    {
     "data": {
      "text/plain": [
       "'El dron se encuentra a una altura de 75 metros'"
      ]
     },
     "execution_count": 45,
     "metadata": {},
     "output_type": "execute_result"
    }
   ],
   "source": [
    "d.ascender(65)\n",
    "d.vuela()"
   ]
  },
  {
   "cell_type": "markdown",
   "id": "9be63db7-d951-4d45-a974-c9cafdf12fef",
   "metadata": {},
   "source": [
    "Nótese que a pesar de que el encabezado del método `ascender` tiene dos parámetros, la llamada al método se realizó con un solo argumento, 65. \n",
    "\n",
    "Cuando el método `ascender` está vinculado a una instancia particular, `d`, la instancia se **inserta automáticamente** como el primer parámetro. Los otros argumentos que incluimos se desplazan, así que el 100 se asigna al segundo parámetro, `cambio`.\n",
    "\n",
    "*NOTA: No hay nada especial en la palabra `self` en Python. Podríamos nombrar al primer parámetro como `yoMero` si quisieras, y luego referirte a los atributos de instancia con expresiones como `yoMero.altura`. Sin embargo, la convención habitual es nombrar este parámetro como `self`, lo que garantiza su rápida comprensión para cualquiera que lo lea.*"
   ]
  },
  {
   "cell_type": "code",
   "execution_count": 47,
   "id": "ebc821c0-ff15-4288-99e3-3fd50e138ca5",
   "metadata": {},
   "outputs": [
    {
     "data": {
      "text/plain": [
       "'El dron se encuentra a una altura de 80 metros'"
      ]
     },
     "execution_count": 47,
     "metadata": {},
     "output_type": "execute_result"
    }
   ],
   "source": [
    "class DronMero:\n",
    "    \"\"\"Clase base para una aeronave tipo dron\"\"\" \n",
    "\n",
    "    fuenteEnergia = \"batería\"\n",
    "    \n",
    "    def vuela(yoMero):\n",
    "        return \"El dron se encuentra a una altura de \" + str(yoMero.altura) + \" metros\"\n",
    "        \n",
    "    def ascender(yoMero, cambio = 10):\n",
    "        yoMero.altura += cambio\n",
    "    \n",
    "dMero = DronMero()\n",
    "dMero.altura = 0\n",
    "dMero.ascender(80)\n",
    "dMero.vuela()"
   ]
  }
 ],
 "metadata": {
  "kernelspec": {
   "display_name": "Python [conda env:base] *",
   "language": "python",
   "name": "conda-base-py"
  },
  "language_info": {
   "codemirror_mode": {
    "name": "ipython",
    "version": 3
   },
   "file_extension": ".py",
   "mimetype": "text/x-python",
   "name": "python",
   "nbconvert_exporter": "python",
   "pygments_lexer": "ipython3",
   "version": "3.11.5"
  }
 },
 "nbformat": 4,
 "nbformat_minor": 5
}
