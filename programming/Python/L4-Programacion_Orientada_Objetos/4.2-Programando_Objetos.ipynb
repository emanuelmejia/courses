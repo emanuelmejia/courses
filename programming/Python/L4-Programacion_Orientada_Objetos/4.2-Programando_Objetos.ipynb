{
 "cells": [
  {
   "cell_type": "markdown",
   "id": "02ab3bd1-a517-46a7-8646-b4c4ef5ceceb",
   "metadata": {},
   "source": [
    "<div style=\"padding:10px;background-color: #FF4D4D; color:white;font-size:28px;\"><strong>Programando Objetos</strong></div>"
   ]
  },
  {
   "cell_type": "markdown",
   "id": "c67b9297-2ad1-40c9-8cc8-e114977aa6b0",
   "metadata": {},
   "source": [
    "## <a style=\"padding:3px;color: #FF4D4D; \"><strong>Inicializador</strong></a>"
   ]
  },
  {
   "cell_type": "markdown",
   "id": "1b25cfa5-ecb8-4614-bd7b-aa5dadf8d521",
   "metadata": {},
   "source": [
    "Podría pensarse que cada `Dron` debería tener una altura. Sin embargo, en el ejemplo anterior, la instancia de `Dron` se creó sin ningún **atributo de datos** y posteriormente fue necesario agregar manualmente el atributo `altura` antes de llamar al método `ascender()`.\n",
    "\n",
    "Si nos olvidábamos de crear el atributo de instancia, nuestra llamada a `ascender` generaría una excepción. Esta forma de crear clases es propensa a errores y, además, es un mal estilo de programación. Intuitivamente, **un objeto debería poder funcionar desde el momento en que es creado**.\n",
    "\n",
    "Una solución podría ser hacer que `altura` sea un atributo de clase, pero eso distorsiona el significado de un atributo de clase. Realmente no tiene sentido decir que la altitud es una propiedad de todos los drones en conjunto.\n",
    "\n",
    "Una mejor solución es **crear un atributo de instancia en el momento en que cada dron es construido**. \n",
    "\n",
    "Podemos hacer eso usando un método especial, `__init__`. Este método **se llama automáticamente cuando se construye un objeto**. Es un excelente lugar para configurar correctamente un objeto de modo que esté listo para funcionar. En este caso, podemos usar `__init__`para establecer un atributo de instancia `altura` para cada dron."
   ]
  },
  {
   "cell_type": "code",
   "execution_count": 4,
   "id": "db441d70-634b-43fa-8e25-6e75e8521ef4",
   "metadata": {},
   "outputs": [],
   "source": [
    "class Dron:\n",
    "    \"\"\"Clase base para una aeronave tipo dron\"\"\" \n",
    "    \n",
    "    fuenteEnergia = \"batería\" # Atributo de clase\n",
    "    \n",
    "    def __init__(self, altura = 0):\n",
    "        self.altura = altura  # Atributo de instancia\n",
    "    \n",
    "    def vuela(self):\n",
    "        print(\"El dron se encuentra a una altura de \" + str(self.altura) + \" metros\")\n",
    "        \n",
    "    def ascender(self, cambio = 10):\n",
    "        self.altura += cambio"
   ]
  },
  {
   "cell_type": "markdown",
   "id": "fb15961b-359e-46b6-be2d-231dceac9166",
   "metadata": {},
   "source": [
    "De este modo ya no es necesario establecer manualmente el atributo `altura` para cada objeto creado. En el momento en que se crea el dron, se llama al método `__init__` que incluye un parámetro `self`, como fue explicado con otros métodos. Podemos usar este parámetro para establecer el **atributo de instancia** utilizando `self.altura`.\n",
    "\n",
    "Además puede incluirse un valor por defecto para `altura`. Esto significa que podemos llamar al constructor sin pasar un parámetro, y en ese caso se usará una `altura` por defecto de `0`."
   ]
  },
  {
   "cell_type": "code",
   "execution_count": 6,
   "id": "b4186457-ca9c-479e-b8fc-612b0725d957",
   "metadata": {},
   "outputs": [
    {
     "name": "stdout",
     "output_type": "stream",
     "text": [
      "El dron se encuentra a una altura de 0 metros\n"
     ]
    }
   ],
   "source": [
    "d1 = Dron()\n",
    "d1.vuela()"
   ]
  },
  {
   "cell_type": "code",
   "execution_count": 7,
   "id": "4970f050-cb46-449c-a5f9-98dcbd696e70",
   "metadata": {},
   "outputs": [
    {
     "name": "stdout",
     "output_type": "stream",
     "text": [
      "El dron se encuentra a una altura de 0 metros\n"
     ]
    }
   ],
   "source": [
    "d2 = Dron()\n",
    "d2.vuela()"
   ]
  },
  {
   "cell_type": "markdown",
   "id": "38bd0bda-e0ab-449b-8e6a-7d4aaf86397f",
   "metadata": {},
   "source": [
    "A menudo se refieren a **__init__** como el *constructor de la clase*. Esto no es 100% exacto: el nombre correcto de este método es **inicializador**. \n",
    "\n",
    "Para cuando este método se ejecuta, el **objeto ya ha sido creado** y, por ejemplo, ya tiene un espacio de nombres y métodos. La diferencia es sutil, pero el inicializador es, esencialmente, el último paso del proceso de construcción."
   ]
  },
  {
   "cell_type": "markdown",
   "id": "279812fd-d67a-4f05-b778-ca8efe58ce65",
   "metadata": {},
   "source": [
    "## <a style=\"padding:3px;color: #FF4D4D; \"><strong>Eliminando Atributos</strong></a>"
   ]
  },
  {
   "cell_type": "markdown",
   "id": "8a40aa7b-7f42-4822-b66a-41559c913e73",
   "metadata": {},
   "source": [
    "En Python, es posible eliminar un atributo de una clase o instancia de clase utilizando la función integrada `delattr()`. Esta función toma dos argumentos: el objeto y el nombre del atributo a eliminar.\n",
    "\n",
    "Por ejemplo, para eliminar un atributo de una instancia:"
   ]
  },
  {
   "cell_type": "code",
   "execution_count": 11,
   "id": "488ed3df-92ba-4168-aec7-6dd4712f99e6",
   "metadata": {},
   "outputs": [],
   "source": [
    "delattr(d1, \"altura\")\n",
    "# dir(d1) # Observemos que altura ya no aparece para d1"
   ]
  },
  {
   "cell_type": "code",
   "execution_count": 12,
   "id": "c8a77dcf-2e1b-43cf-b285-93ead4c8e4c0",
   "metadata": {},
   "outputs": [
    {
     "ename": "AttributeError",
     "evalue": "'Dron' object has no attribute 'altura'",
     "output_type": "error",
     "traceback": [
      "\u001b[1;31m---------------------------------------------------------------------------\u001b[0m",
      "\u001b[1;31mAttributeError\u001b[0m                            Traceback (most recent call last)",
      "Cell \u001b[1;32mIn[12], line 1\u001b[0m\n\u001b[1;32m----> 1\u001b[0m \u001b[38;5;28mprint\u001b[39m(d1\u001b[38;5;241m.\u001b[39maltura)\n",
      "\u001b[1;31mAttributeError\u001b[0m: 'Dron' object has no attribute 'altura'"
     ]
    }
   ],
   "source": [
    "print(d1.altura)"
   ]
  },
  {
   "cell_type": "code",
   "execution_count": 41,
   "id": "d2bcfc95-0e52-42f0-bbd1-037313b07209",
   "metadata": {},
   "outputs": [
    {
     "name": "stdout",
     "output_type": "stream",
     "text": [
      "0\n"
     ]
    }
   ],
   "source": [
    "print(d2.altura)"
   ]
  },
  {
   "cell_type": "markdown",
   "id": "46646fbc-8137-4cd5-a77c-15687fbe04f3",
   "metadata": {},
   "source": [
    "Es necesario mencionar que cualquier atributo o método dentro de la clase que haga uso del atributo eliminado, puede presentar un error como consecuencia de haberlo eliminado."
   ]
  },
  {
   "cell_type": "code",
   "execution_count": 43,
   "id": "e55f22a2-c438-4d0f-a827-f334d60fcd96",
   "metadata": {},
   "outputs": [
    {
     "name": "stdout",
     "output_type": "stream",
     "text": [
      "El dron se encuentra a una altura de 0 metros\n"
     ]
    },
    {
     "ename": "AttributeError",
     "evalue": "'Dron' object has no attribute 'altura'",
     "output_type": "error",
     "traceback": [
      "\u001b[1;31m---------------------------------------------------------------------------\u001b[0m",
      "\u001b[1;31mAttributeError\u001b[0m                            Traceback (most recent call last)",
      "Cell \u001b[1;32mIn[43], line 2\u001b[0m\n\u001b[0;32m      1\u001b[0m d2\u001b[38;5;241m.\u001b[39mvuela()\n\u001b[1;32m----> 2\u001b[0m d1\u001b[38;5;241m.\u001b[39mvuela()\n",
      "Cell \u001b[1;32mIn[4], line 10\u001b[0m, in \u001b[0;36mDron.vuela\u001b[1;34m(self)\u001b[0m\n\u001b[0;32m      9\u001b[0m \u001b[38;5;28;01mdef\u001b[39;00m\u001b[38;5;250m \u001b[39m\u001b[38;5;21mvuela\u001b[39m(\u001b[38;5;28mself\u001b[39m):\n\u001b[1;32m---> 10\u001b[0m     \u001b[38;5;28mprint\u001b[39m(\u001b[38;5;124m\"\u001b[39m\u001b[38;5;124mEl dron se encuentra a una altura de \u001b[39m\u001b[38;5;124m\"\u001b[39m \u001b[38;5;241m+\u001b[39m \u001b[38;5;28mstr\u001b[39m(\u001b[38;5;28mself\u001b[39m\u001b[38;5;241m.\u001b[39maltura) \u001b[38;5;241m+\u001b[39m \u001b[38;5;124m\"\u001b[39m\u001b[38;5;124m metros\u001b[39m\u001b[38;5;124m\"\u001b[39m)\n",
      "\u001b[1;31mAttributeError\u001b[0m: 'Dron' object has no attribute 'altura'"
     ]
    }
   ],
   "source": [
    "d2.vuela()\n",
    "d1.vuela()"
   ]
  },
  {
   "cell_type": "markdown",
   "id": "8aaf43de-c6ff-41cc-82ca-61a780ac47f9",
   "metadata": {},
   "source": [
    "Como fue mencionado, también pueden borrarse atributos de clase utilizando la misma sintaxis sobre un atributo de clase, en nuestro ejemplo `fuenteEnergia`, pero antes de eliminar el atributo, asignemos un valor específico a la fuente de energía de d1, es decir estableceremos un **atributo de instancia** que sobrescriba el **atributo de clase**"
   ]
  },
  {
   "cell_type": "code",
   "execution_count": 45,
   "id": "e800722f-04e2-40d8-afa1-70305e1ba637",
   "metadata": {},
   "outputs": [
    {
     "name": "stdout",
     "output_type": "stream",
     "text": [
      "batería\n",
      "imaginación\n",
      "batería\n"
     ]
    }
   ],
   "source": [
    "d1.fuenteEnergia = \"imaginación\"\n",
    "print(Dron.fuenteEnergia)\n",
    "print(d1.fuenteEnergia)\n",
    "print(d2.fuenteEnergia)"
   ]
  },
  {
   "cell_type": "code",
   "execution_count": 47,
   "id": "4481a6dd-3c71-415a-9910-4c84fdf03f4e",
   "metadata": {},
   "outputs": [],
   "source": [
    "delattr(Dron, \"fuenteEnergia\")"
   ]
  },
  {
   "cell_type": "markdown",
   "id": "4328d910-d6f6-41e2-a5ba-dd2de214d332",
   "metadata": {},
   "source": [
    "Podemos notar que al eliminar el **atributo de clase**, tanto la clase, como cualquier instancia que siguiera haciendo uso de este atributo se verán afectados. Sin embargo, en la instancia en la que fue creado un **atributo de instancia** en su lugar, continuará con su valor."
   ]
  },
  {
   "cell_type": "code",
   "execution_count": 49,
   "id": "cf3e80a3-e8e4-4dad-931c-43fdebe8aa7a",
   "metadata": {},
   "outputs": [
    {
     "ename": "AttributeError",
     "evalue": "type object 'Dron' has no attribute 'fuenteEnergia'",
     "output_type": "error",
     "traceback": [
      "\u001b[1;31m---------------------------------------------------------------------------\u001b[0m",
      "\u001b[1;31mAttributeError\u001b[0m                            Traceback (most recent call last)",
      "Cell \u001b[1;32mIn[49], line 1\u001b[0m\n\u001b[1;32m----> 1\u001b[0m \u001b[38;5;28mprint\u001b[39m(Dron\u001b[38;5;241m.\u001b[39mfuenteEnergia)\n",
      "\u001b[1;31mAttributeError\u001b[0m: type object 'Dron' has no attribute 'fuenteEnergia'"
     ]
    }
   ],
   "source": [
    "print(Dron.fuenteEnergia)"
   ]
  },
  {
   "cell_type": "code",
   "execution_count": 51,
   "id": "8319547f-1ca7-4bea-94e3-497abe4b445f",
   "metadata": {},
   "outputs": [
    {
     "name": "stdout",
     "output_type": "stream",
     "text": [
      "imaginación\n"
     ]
    }
   ],
   "source": [
    "print(d1.fuenteEnergia)"
   ]
  },
  {
   "cell_type": "code",
   "execution_count": 53,
   "id": "c0f27d5c-59b4-44c0-8d5f-38e87d0a8299",
   "metadata": {},
   "outputs": [
    {
     "ename": "AttributeError",
     "evalue": "'Dron' object has no attribute 'fuenteEnergia'",
     "output_type": "error",
     "traceback": [
      "\u001b[1;31m---------------------------------------------------------------------------\u001b[0m",
      "\u001b[1;31mAttributeError\u001b[0m                            Traceback (most recent call last)",
      "Cell \u001b[1;32mIn[53], line 1\u001b[0m\n\u001b[1;32m----> 1\u001b[0m \u001b[38;5;28mprint\u001b[39m(d2\u001b[38;5;241m.\u001b[39mfuenteEnergia)\n",
      "\u001b[1;31mAttributeError\u001b[0m: 'Dron' object has no attribute 'fuenteEnergia'"
     ]
    }
   ],
   "source": [
    "print(d2.fuenteEnergia)"
   ]
  },
  {
   "cell_type": "markdown",
   "id": "f5a9af0e-c02a-4243-a7ce-fc6f36195686",
   "metadata": {},
   "source": [
    "## <a style=\"padding:3px;color: #FF4D4D; \"><strong>Conteo con Atributos</strong></a>"
   ]
  },
  {
   "cell_type": "markdown",
   "id": "ca3e7c32-1151-4044-b3ab-91ab32025b54",
   "metadata": {},
   "source": [
    "Un uso común de los atributos de datos es llevar un registro de cuántas veces se ha realizado una acción. \n",
    "\n",
    "Típicamente, una variable de este tipo se **inicializa en cero**, y luego se incrementa cada vez que se llama a un método específico. Por ejemplo, supongamos que queremos llevar la cuenta de cuántas veces un `Dron` en particular ha ascendido en `altura`. \n",
    "\n",
    "De hecho, cada dron podría haber ascendido un número diferente de veces; esto sugiere que necesitamos un **atributo de instancia**. En el código de abajo, agregamos un atributo llamado `cuentaAscensos`, creándolo en el constructor."
   ]
  },
  {
   "cell_type": "code",
   "execution_count": 55,
   "id": "fa32ae7b-5a5c-4880-a663-333be2ab3e01",
   "metadata": {},
   "outputs": [],
   "source": [
    "class Dron:\n",
    "    \"\"\"Clase base para una aeronave tipo dron\"\"\" \n",
    "\n",
    "    def __init__(self, altura = 0):\n",
    "        self.altura = altura\n",
    "        self.cuentaAscensos = 0\n",
    "    \n",
    "    def vuela(self):\n",
    "        print(\"El dron se encuentra a una altura de \" + str(self.altura) + \" metros\")\n",
    "        \n",
    "    def ascender(self, cambio = 10):\n",
    "        self.altura += cambio\n",
    "        self.cuentaAscensos += 1"
   ]
  },
  {
   "cell_type": "code",
   "execution_count": 57,
   "id": "ec39ea87-d0e4-4a0e-a8a9-e185a49e137b",
   "metadata": {},
   "outputs": [
    {
     "name": "stdout",
     "output_type": "stream",
     "text": [
      "0\n"
     ]
    }
   ],
   "source": [
    "d1 = Dron(50)\n",
    "print(d1.cuentaAscensos)"
   ]
  },
  {
   "cell_type": "code",
   "execution_count": 59,
   "id": "1b60e470-b2aa-4af5-ba80-c7920f456cf1",
   "metadata": {},
   "outputs": [
    {
     "name": "stdout",
     "output_type": "stream",
     "text": [
      "2\n",
      "El dron se encuentra a una altura de 90 metros\n"
     ]
    }
   ],
   "source": [
    "d1.ascender(20)\n",
    "d1.ascender(20)\n",
    "print(d1.cuentaAscensos)\n",
    "d1.vuela()"
   ]
  },
  {
   "cell_type": "markdown",
   "id": "b341f1fa-1023-4577-af81-8e43fe1b293b",
   "metadata": {},
   "source": [
    "Ahora supongamos que se desea llevar un registro de cuántos Drones han sido creados. A diferencia de `cuentaAscensos`, esto no es una propiedad de los Drones individuales. En su lugar, podríamos usar un **atributo de clase**:"
   ]
  },
  {
   "cell_type": "code",
   "execution_count": 61,
   "id": "7a742190-7c2a-4dc2-a77a-07815a729f62",
   "metadata": {},
   "outputs": [],
   "source": [
    "class Dron:\n",
    "    \"\"\"Clase base para una aeronave tipo dron\"\"\" \n",
    "\n",
    "    numDrones = 0\n",
    "    \n",
    "    def __init__(self, altura = 0):\n",
    "        self.altura = altura\n",
    "        self.cuentaAscensos = 0\n",
    "        Dron.numDrones += 1\n",
    "    \n",
    "    def vuela(self):\n",
    "        print(\"El dron se encuentra a una altura de \" + str(self.altura) + \" metros\")\n",
    "        \n",
    "    def ascender(self, cambio = 10):\n",
    "        self.altura += cambio\n",
    "        self.cuentaAscensos += 1"
   ]
  },
  {
   "cell_type": "code",
   "execution_count": 63,
   "id": "0fbf84f7-cc27-4940-99b6-4e37b5d417b2",
   "metadata": {},
   "outputs": [
    {
     "name": "stdout",
     "output_type": "stream",
     "text": [
      "El dron se encuentra a una altura de 30 metros\n",
      "Número de drones creados: 1\n"
     ]
    }
   ],
   "source": [
    "d1 = Dron()\n",
    "d1.ascender(20)\n",
    "d1.ascender(10)\n",
    "d1.vuela()\n",
    "print(\"Número de drones creados:\", Dron.numDrones)"
   ]
  },
  {
   "cell_type": "code",
   "execution_count": 65,
   "id": "ba7d1f48-6531-4c72-a090-0b820407d2cd",
   "metadata": {},
   "outputs": [],
   "source": [
    "d2 = Dron(43)\n",
    "d3 = Dron(17)"
   ]
  },
  {
   "cell_type": "code",
   "execution_count": 67,
   "id": "6b7254cb-bbc8-4eeb-8832-746da648a031",
   "metadata": {},
   "outputs": [
    {
     "name": "stdout",
     "output_type": "stream",
     "text": [
      "Altura dron 1: 30\n",
      "Altura dron 2: 43\n",
      "Altura dron 3: 17\n"
     ]
    }
   ],
   "source": [
    "print(\"Altura dron 1:\", d1.altura)\n",
    "print(\"Altura dron 2:\", d2.altura)\n",
    "print(\"Altura dron 3:\", d3.altura)"
   ]
  },
  {
   "cell_type": "markdown",
   "id": "b802eb7f-7572-4e46-94cc-014ee096b223",
   "metadata": {},
   "source": [
    "Al ser un atributo de clase podemos acceder a través de la clase o de cualquier objeto de la misma."
   ]
  },
  {
   "cell_type": "code",
   "execution_count": 69,
   "id": "f39c9696-6085-46b3-8b32-6f0550edb5b3",
   "metadata": {},
   "outputs": [
    {
     "name": "stdout",
     "output_type": "stream",
     "text": [
      "Número de drones creados: 3\n",
      "Número de drones creados: 3\n"
     ]
    }
   ],
   "source": [
    "print(\"Número de drones creados:\", Dron.numDrones)\n",
    "print(\"Número de drones creados:\", d3.numDrones)"
   ]
  },
  {
   "cell_type": "markdown",
   "id": "95c43e44-0aed-431f-adad-9e05d2ba0689",
   "metadata": {},
   "source": [
    "Para incrementar este nuevo atributo, es necesario referirse a él como `Dron.numDrones` desde dentro del inicializados.\n",
    "\n",
    "***IMPORTANTE: Siempre identificar si un dato tiene más sentido como un atributo de instancia o como un atributo de clase. Este es un concepto clave en la programación orientada a objetos.***"
   ]
  },
  {
   "cell_type": "markdown",
   "id": "88aafbdb-e637-4874-87f0-65f04fba6fe3",
   "metadata": {},
   "source": [
    "## <a style=\"padding:3px;color: #FF4D4D; \"><strong>Set y Get</strong></a>"
   ]
  },
  {
   "cell_type": "markdown",
   "id": "909e1474-afa2-4862-83fc-a1ea31646178",
   "metadata": {},
   "source": [
    "Una consideración importante al escribir una clase es la forma en que se accede a los atributos de datos desde fuera de una instancia. Normalmente, obtendríamos y estableceríamos el valor del atributo altura escribiendo `.altura` después del nombre de la instancia.\n",
    "\n",
    "Aunque eso parece natural, no es el único estilo para acceder a los atributos de datos. Algunos programadores, especialmente aquellos acostumbrados a programar en otros lenguajes (como Java), considerarían más natural escribir un método para devolver el valor del atributo y otro método para establecer su valor. \n",
    "\n",
    "Estos se conocen como métodos **getter** y **setter**."
   ]
  },
  {
   "cell_type": "code",
   "execution_count": 71,
   "id": "a9f9e229-3d9f-42b3-9e19-d04be960d254",
   "metadata": {},
   "outputs": [],
   "source": [
    "class Dron:\n",
    "    \"\"\"Clase base para una aeronave tipo dron\"\"\" \n",
    "\n",
    "    numDrones = 0\n",
    "    \n",
    "    def __init__(self, altura = 0):\n",
    "        self.altura = altura\n",
    "        self.cuentaAscensos = 0\n",
    "        Dron.numDrones += 1\n",
    "    \n",
    "    def vuela(self):\n",
    "        print(\"El dron se encuentra a una altura de \" + str(self.altura) + \" metros\")\n",
    "        \n",
    "    def ascender(self, cambio = 10):\n",
    "        self.altura += cambio\n",
    "        self.cuentaAscensos += 1\n",
    "      \n",
    "    def getAltura(self):\n",
    "        return self.altura\n",
    "    \n",
    "    def setAltura(self, nuevaAltura):\n",
    "        self.altura = nuevaAltura"
   ]
  },
  {
   "cell_type": "code",
   "execution_count": 73,
   "id": "3d08a74c-67ca-4e38-8f93-c047ba45a763",
   "metadata": {},
   "outputs": [
    {
     "name": "stdout",
     "output_type": "stream",
     "text": [
      "La altura del Dron es 50\n",
      "La altura del Dron es 80\n"
     ]
    }
   ],
   "source": [
    "d1 = Dron(50)\n",
    "print(\"La altura del Dron es\", d1.getAltura())\n",
    "\n",
    "d1.setAltura(80)\n",
    "print(\"La altura del Dron es\", d1.getAltura())"
   ]
  },
  {
   "cell_type": "markdown",
   "id": "1ca6ae76-1d96-40c1-a794-2c226016958a",
   "metadata": {},
   "source": [
    "En este ejemplo específico, probablemente usar métodos getter y setter no es necesario ni la mejor alternativa. Añaden una capa extra de complejidad a la clase, sin cambiar realmente su comportamiento. \n",
    "\n",
    "Como cuestión de encapsulación, usamos métodos para describir las acciones que se pueden realizar sobre nuestro objeto, pero tener un atributo de datos ya sugiere que su valor puede ser obtenido y modificado. Acceder directamente al atributo de datos es más transparente y aclara que se trata de una operación simple que solo cambia un valor. En resumen, acceder directamente a los atributos de datos es más “Pythonic”."
   ]
  },
  {
   "cell_type": "markdown",
   "id": "c0a7e1ab-57f1-412a-9dd0-06572a61d7b9",
   "metadata": {},
   "source": [
    "## <a style=\"padding:3px;color: #FF4D4D; \"><strong>Excepciones</strong></a>"
   ]
  },
  {
   "cell_type": "markdown",
   "id": "76f2bca3-215d-4959-b6c9-c702a1a142ae",
   "metadata": {},
   "source": [
    "Sin embargo, hay algunas situaciones en las que los **getter** y **setter** tienen sentido. Supongamos que queremos asegurarnos de que la `altura` ingresada no sea negativa. Podríamos levantar una **Excepción** dentro del método `setAltura` si al realizar esta verificación se encuentra un valor no permitido."
   ]
  },
  {
   "cell_type": "code",
   "execution_count": 75,
   "id": "b0f22daa-3010-4ade-a22f-8c70d56f1a89",
   "metadata": {},
   "outputs": [],
   "source": [
    "class Dron:\n",
    "    \"\"\"Clase base para una aeronave tipo dron\"\"\" \n",
    "\n",
    "    numDrones = 0\n",
    "    \n",
    "    def __init__(self, altura = 0):\n",
    "        self.altura = altura\n",
    "        self.cuentaAscensos = 0\n",
    "        Dron.numDrones += 1\n",
    "    \n",
    "    def vuela(self):\n",
    "        print(\"El dron se encuentra a una altura de \" + str(self.altura) + \" metros\")\n",
    "        \n",
    "    def ascender(self, cambio = 10):\n",
    "        self.altura += cambio\n",
    "        self.cuentaAscensos += 1\n",
    "      \n",
    "    def getAltura(self):\n",
    "        return self.altura\n",
    "    \n",
    "    def setAltura(self, nuevaAltura):\n",
    "        if nuevaAltura < 0:\n",
    "            raise Exception(\"La altura final del dron no puede ser negativa\")\n",
    "        self.altura = nuevaAltura"
   ]
  },
  {
   "cell_type": "code",
   "execution_count": 77,
   "id": "8bc66ce3-60d3-4e48-95b3-dfc6eb7a82e8",
   "metadata": {},
   "outputs": [
    {
     "name": "stdout",
     "output_type": "stream",
     "text": [
      "La altura del Dron es 50\n"
     ]
    },
    {
     "ename": "Exception",
     "evalue": "La altura final del dron no puede ser negativa",
     "output_type": "error",
     "traceback": [
      "\u001b[1;31m---------------------------------------------------------------------------\u001b[0m",
      "\u001b[1;31mException\u001b[0m                                 Traceback (most recent call last)",
      "Cell \u001b[1;32mIn[77], line 4\u001b[0m\n\u001b[0;32m      1\u001b[0m d1 \u001b[38;5;241m=\u001b[39m Dron(\u001b[38;5;241m50\u001b[39m)\n\u001b[0;32m      2\u001b[0m \u001b[38;5;28mprint\u001b[39m(\u001b[38;5;124m\"\u001b[39m\u001b[38;5;124mLa altura del Dron es\u001b[39m\u001b[38;5;124m\"\u001b[39m, d1\u001b[38;5;241m.\u001b[39mgetAltura())\n\u001b[1;32m----> 4\u001b[0m d1\u001b[38;5;241m.\u001b[39msetAltura(\u001b[38;5;241m-\u001b[39m\u001b[38;5;241m10\u001b[39m)\n",
      "Cell \u001b[1;32mIn[75], line 23\u001b[0m, in \u001b[0;36mDron.setAltura\u001b[1;34m(self, nuevaAltura)\u001b[0m\n\u001b[0;32m     21\u001b[0m \u001b[38;5;28;01mdef\u001b[39;00m\u001b[38;5;250m \u001b[39m\u001b[38;5;21msetAltura\u001b[39m(\u001b[38;5;28mself\u001b[39m, nuevaAltura):\n\u001b[0;32m     22\u001b[0m     \u001b[38;5;28;01mif\u001b[39;00m nuevaAltura \u001b[38;5;241m<\u001b[39m \u001b[38;5;241m0\u001b[39m:\n\u001b[1;32m---> 23\u001b[0m         \u001b[38;5;28;01mraise\u001b[39;00m \u001b[38;5;167;01mException\u001b[39;00m(\u001b[38;5;124m\"\u001b[39m\u001b[38;5;124mLa altura final del dron no puede ser negativa\u001b[39m\u001b[38;5;124m\"\u001b[39m)\n\u001b[0;32m     24\u001b[0m     \u001b[38;5;28mself\u001b[39m\u001b[38;5;241m.\u001b[39maltura \u001b[38;5;241m=\u001b[39m nuevaAltura\n",
      "\u001b[1;31mException\u001b[0m: La altura final del dron no puede ser negativa"
     ]
    }
   ],
   "source": [
    "d1 = Dron(50)\n",
    "print(\"La altura del Dron es\", d1.getAltura())\n",
    "\n",
    "d1.setAltura(-10)"
   ]
  },
  {
   "cell_type": "markdown",
   "id": "1503323a-2544-47ea-aaef-145ee7eee86f",
   "metadata": {},
   "source": [
    "Aunque esa excepción no inhibe que la altura pueda ser negativa por otros medios, por ejemplo con el método `ascender`"
   ]
  },
  {
   "cell_type": "code",
   "execution_count": 79,
   "id": "aec9c019-5a75-421b-a5e8-136288e69da9",
   "metadata": {},
   "outputs": [
    {
     "name": "stdout",
     "output_type": "stream",
     "text": [
      "La altura del Dron es 50\n",
      "La altura del Dron es -30\n"
     ]
    }
   ],
   "source": [
    "print(\"La altura del Dron es\", d1.getAltura())\n",
    "d1.ascender(-80)\n",
    "print(\"La altura del Dron es\", d1.getAltura())"
   ]
  },
  {
   "cell_type": "markdown",
   "id": "2f0897a4-4bab-4c97-98f4-e11367e6b915",
   "metadata": {},
   "source": [
    "Sin embargo una vez creado el método `setAltura` junto con su excepción, puede usarse dentro del inicializador de clase o dentro de otros métodos de la misma clase."
   ]
  },
  {
   "cell_type": "code",
   "execution_count": 81,
   "id": "09a641ce-104f-4713-b20a-10a05726918f",
   "metadata": {},
   "outputs": [],
   "source": [
    "class Dron:\n",
    "    \"\"\"Clase base para una aeronave tipo dron\"\"\" \n",
    "\n",
    "    numDrones = 0\n",
    "    \n",
    "    def __init__(self, altura = 0):\n",
    "        # self.altura = altura\n",
    "        self.cuentaAscensos = 0\n",
    "        Dron.numDrones += 1 \n",
    "        self.setAltura(altura) # Se puede agregar incluso en el iniciador\n",
    "    \n",
    "    def vuela(self):\n",
    "        print(\"El dron se encuentra a una altura de \" + str(self.altura) + \" metros\")\n",
    "        \n",
    "    def ascender(self, cambio = 10):\n",
    "        self.setAltura(self.altura + cambio)\n",
    "        self.cuentaAscensos += 1\n",
    "      \n",
    "    def getAltura(self):\n",
    "        return self.altura\n",
    "    \n",
    "    def setAltura(self, nuevaAltura):\n",
    "        if nuevaAltura < 0:\n",
    "            raise Exception(\"La altura final del dron no puede ser negativa\")\n",
    "        self.altura = nuevaAltura"
   ]
  },
  {
   "cell_type": "code",
   "execution_count": 83,
   "id": "63fb2ac9-1e55-4e62-be6c-ebf2a222aeee",
   "metadata": {},
   "outputs": [
    {
     "name": "stdout",
     "output_type": "stream",
     "text": [
      "La altura del Dron es 50\n"
     ]
    },
    {
     "ename": "Exception",
     "evalue": "La altura final del dron no puede ser negativa",
     "output_type": "error",
     "traceback": [
      "\u001b[1;31m---------------------------------------------------------------------------\u001b[0m",
      "\u001b[1;31mException\u001b[0m                                 Traceback (most recent call last)",
      "Cell \u001b[1;32mIn[83], line 3\u001b[0m\n\u001b[0;32m      1\u001b[0m d1 \u001b[38;5;241m=\u001b[39m Dron(\u001b[38;5;241m50\u001b[39m)\n\u001b[0;32m      2\u001b[0m \u001b[38;5;28mprint\u001b[39m(\u001b[38;5;124m\"\u001b[39m\u001b[38;5;124mLa altura del Dron es\u001b[39m\u001b[38;5;124m\"\u001b[39m, d1\u001b[38;5;241m.\u001b[39mgetAltura())\n\u001b[1;32m----> 3\u001b[0m d1\u001b[38;5;241m.\u001b[39mascender(\u001b[38;5;241m-\u001b[39m\u001b[38;5;241m80\u001b[39m)\n",
      "Cell \u001b[1;32mIn[81], line 16\u001b[0m, in \u001b[0;36mDron.ascender\u001b[1;34m(self, cambio)\u001b[0m\n\u001b[0;32m     15\u001b[0m \u001b[38;5;28;01mdef\u001b[39;00m\u001b[38;5;250m \u001b[39m\u001b[38;5;21mascender\u001b[39m(\u001b[38;5;28mself\u001b[39m, cambio \u001b[38;5;241m=\u001b[39m \u001b[38;5;241m10\u001b[39m):\n\u001b[1;32m---> 16\u001b[0m     \u001b[38;5;28mself\u001b[39m\u001b[38;5;241m.\u001b[39msetAltura(\u001b[38;5;28mself\u001b[39m\u001b[38;5;241m.\u001b[39maltura \u001b[38;5;241m+\u001b[39m cambio)\n\u001b[0;32m     17\u001b[0m     \u001b[38;5;28mself\u001b[39m\u001b[38;5;241m.\u001b[39mcuentaAscensos \u001b[38;5;241m+\u001b[39m\u001b[38;5;241m=\u001b[39m \u001b[38;5;241m1\u001b[39m\n",
      "Cell \u001b[1;32mIn[81], line 24\u001b[0m, in \u001b[0;36mDron.setAltura\u001b[1;34m(self, nuevaAltura)\u001b[0m\n\u001b[0;32m     22\u001b[0m \u001b[38;5;28;01mdef\u001b[39;00m\u001b[38;5;250m \u001b[39m\u001b[38;5;21msetAltura\u001b[39m(\u001b[38;5;28mself\u001b[39m, nuevaAltura):\n\u001b[0;32m     23\u001b[0m     \u001b[38;5;28;01mif\u001b[39;00m nuevaAltura \u001b[38;5;241m<\u001b[39m \u001b[38;5;241m0\u001b[39m:\n\u001b[1;32m---> 24\u001b[0m         \u001b[38;5;28;01mraise\u001b[39;00m \u001b[38;5;167;01mException\u001b[39;00m(\u001b[38;5;124m\"\u001b[39m\u001b[38;5;124mLa altura final del dron no puede ser negativa\u001b[39m\u001b[38;5;124m\"\u001b[39m)\n\u001b[0;32m     25\u001b[0m     \u001b[38;5;28mself\u001b[39m\u001b[38;5;241m.\u001b[39maltura \u001b[38;5;241m=\u001b[39m nuevaAltura\n",
      "\u001b[1;31mException\u001b[0m: La altura final del dron no puede ser negativa"
     ]
    }
   ],
   "source": [
    "d1 = Dron(50)\n",
    "print(\"La altura del Dron es\", d1.getAltura())\n",
    "d1.ascender(-80)"
   ]
  },
  {
   "cell_type": "markdown",
   "id": "405b4bfb-7238-4bfd-bebf-5b81a3a83b32",
   "metadata": {},
   "source": [
    "De este modo, el método setter se vuelve flexible, y nos permite realizar procesamiento adicional al establecer un atributo. \n",
    "\n",
    "También podría usarse el método setter para incrementar ascend_count cada vez que la altitud se establece a un valor mayor.\n",
    "\n",
    "Como ejemplo adicional, podríamos querer tener un método get_altitude, pero no un método set_altitude. Tal vez consideramos que la altitud solo debe cambiarse mediante una llamada a `ascend()`. "
   ]
  },
  {
   "cell_type": "markdown",
   "id": "70522446-2e90-4fc1-8107-a6fb1727b28e",
   "metadata": {},
   "source": [
    "## <a style=\"padding:3px;color: #FF4D4D; \"><strong>Atributos Ocultos</strong></a>"
   ]
  },
  {
   "cell_type": "markdown",
   "id": "83578b11-eb5c-46b3-9dbf-46d8ba485721",
   "metadata": {},
   "source": [
    "Hemos argumentado que hay situaciones en las que queremos usar métodos getter y setter, porque necesitamos la flexibilidad para hacer procesamiento adicional cuando se accede a un atributo, por ejemplo excepciones personalizadas. \n",
    "\n",
    "Desafortunadamente, incluso si escribimos un método setter perfecto, un programador siempre podría pasar por alto nuestras intenciones accediendo directamente al atributo de datos. \n",
    "\n",
    "Por ejemplo, alguien podría darle intencionalmente a nuestro `Dron` una `altura` negativa de la siguiente manera:"
   ]
  },
  {
   "cell_type": "code",
   "execution_count": 85,
   "id": "9cc505d4-624f-43f1-aa07-93ba57d31e6b",
   "metadata": {},
   "outputs": [
    {
     "name": "stdout",
     "output_type": "stream",
     "text": [
      "La altura del Dron es -10\n"
     ]
    }
   ],
   "source": [
    "d1.altura = -10\n",
    "print(\"La altura del Dron es\", d1.getAltura())"
   ]
  },
  {
   "cell_type": "markdown",
   "id": "597eed86-ca95-4d7e-8a26-4b6f062b6e2f",
   "metadata": {},
   "source": [
    "Esto va en contra del espíritu del código que escribimos y podría resultar en errores inesperados más adelante. \n",
    "\n",
    "En otros lenguajes (como Java y C++), la solución es declarar altitude como una variable privada. Esto evita que cualquiera pueda acceder a ella desde fuera de la clase. Sin embargo, la filosofía de diseño de Python dicta que se debe advertir a los programadores que no deben acceder a altitude, pero aún así permitirles hacerlo si realmente lo necesitan.\n",
    "\n",
    "La solución de Python es hacer que `altura` sea un atributo oculto. Para lograr esto, se añaden dos guiones bajos al inicio del nombre del atributo (no al final). El nuevo nombre será `__altura`. Observa que ya no se puede acceder directamente al atributo y de hecho al enlistar los atributos."
   ]
  },
  {
   "cell_type": "code",
   "execution_count": 87,
   "id": "81ba20b0-0195-46f8-989c-212afbb9e050",
   "metadata": {},
   "outputs": [],
   "source": [
    "class Dron:\n",
    "    \"\"\"Clase base para una aeronave tipo dron\"\"\" \n",
    "\n",
    "    numDrones = 0\n",
    "    \n",
    "    def __init__(self, altura = 0):\n",
    "        # self.__altura = altura\n",
    "        self.cuentaAscensos = 0\n",
    "        Dron.numDrones += 1\n",
    "        self.setAltura(altura)\n",
    "    \n",
    "    def vuela(self):\n",
    "        print(\"El dron se encuentra a una altura de \" + str(self.altura) + \" metros\")\n",
    "        \n",
    "    def ascender(self, cambio = 10):\n",
    "        self.setAltura(self.__altura + cambio)\n",
    "        self.cuentaAscensos += 1\n",
    "      \n",
    "    def getAltura(self):\n",
    "        return self.__altura\n",
    "    \n",
    "    def setAltura(self, nuevaAltura):\n",
    "        if nuevaAltura < 0:\n",
    "            raise Exception(\"La altura final del dron no puede ser negativa\")\n",
    "        self.__altura = nuevaAltura"
   ]
  },
  {
   "cell_type": "code",
   "execution_count": 89,
   "id": "e8eea88a-0240-475c-b5f9-4f7e0d38025c",
   "metadata": {},
   "outputs": [
    {
     "ename": "AttributeError",
     "evalue": "'Dron' object has no attribute '__altura'",
     "output_type": "error",
     "traceback": [
      "\u001b[1;31m---------------------------------------------------------------------------\u001b[0m",
      "\u001b[1;31mAttributeError\u001b[0m                            Traceback (most recent call last)",
      "Cell \u001b[1;32mIn[89], line 2\u001b[0m\n\u001b[0;32m      1\u001b[0m d1 \u001b[38;5;241m=\u001b[39m Dron(\u001b[38;5;241m70\u001b[39m)\n\u001b[1;32m----> 2\u001b[0m \u001b[38;5;28mprint\u001b[39m(\u001b[38;5;124m\"\u001b[39m\u001b[38;5;124mLa altura del Dron es\u001b[39m\u001b[38;5;124m\"\u001b[39m, d1\u001b[38;5;241m.\u001b[39m__altura)\n",
      "\u001b[1;31mAttributeError\u001b[0m: 'Dron' object has no attribute '__altura'"
     ]
    }
   ],
   "source": [
    "d1 = Dron(70)\n",
    "print(\"La altura del Dron es\", d1.__altura)"
   ]
  },
  {
   "cell_type": "code",
   "execution_count": 91,
   "id": "1bd4bf11-31a5-4bb9-b22e-3a9ed75132da",
   "metadata": {},
   "outputs": [
    {
     "name": "stdout",
     "output_type": "stream",
     "text": [
      "La altura del Dron es 70\n"
     ]
    }
   ],
   "source": [
    "print(\"La altura del Dron es\", d1.getAltura())"
   ]
  },
  {
   "cell_type": "markdown",
   "id": "ebbfb0d5-2856-4e83-ad72-174b0dae6151",
   "metadata": {},
   "source": [
    "La idea aquí es programar de forma defensiva. En la medida de lo posible, se busca controlar las formas en que se accede a las instancias para que sus comportamientos sean predecibles.\n",
    "\n",
    "Cuando un atributo se hace oculto, se comunica un deseo de controlar cuidadosamente las formas en que se accede a él. Se encapsula la complejidad interna de cómo funciona la clase y se presenta una interfaz limpia para otros programadores."
   ]
  },
  {
   "cell_type": "markdown",
   "id": "cdbfd253-723f-4875-b8ed-b07d796f41c8",
   "metadata": {},
   "source": [
    "## <a style=\"padding:3px;color: #FF4D4D; \"><strong>Sobrescribir Atributos Ocultos</strong></a>"
   ]
  },
  {
   "cell_type": "markdown",
   "id": "ee80ab0c-6db7-43e3-a0b0-e8755c97ce36",
   "metadata": {},
   "source": [
    "Cuando un atributo se oculta en Python, es decir básicamente: “no se recomienda modificar esto”. Pero no hay una garantía de que nadie acceda directamente al atributo. \n",
    "\n",
    "De hecho, Python proporciona una forma de acceder a los atributos ocultos desde fuera de una clase, solo requiere un poco de trabajo adicional.\n",
    "\n",
    "La filosofía de Python es que si un programador realmente quiere acceder a un atributo, hay que confiar en que sabe lo que está haciendo y no romperá nada. Según un dicho popular: \"todos aquí somos adultos responsables.\"\n",
    "\n",
    "La mayoría del tiempo, hacer que un atributo sea oculto es suficiente pues las situaciones en las es necesario acceder a un atributo oculto desde fuera de una clase son muy raras. Aun así, vale la pena saber cómo funciona.\n",
    "\n",
    "Para acceder a un atributo oculto, se hace por medio de un nombre especial cuya sintaxis es similar a la que sigue `_NombreClase__nombreAtributo`. En este caso, `altura` se convertiría en `_Dron__altura`. \n",
    "\n",
    "Esto se conoce como name mangling (ofuscación de nombre)."
   ]
  },
  {
   "cell_type": "code",
   "execution_count": 93,
   "id": "0b12e9ed-7db9-4d54-9b5e-3aa96796ce29",
   "metadata": {},
   "outputs": [
    {
     "name": "stdout",
     "output_type": "stream",
     "text": [
      "La altura del Dron es 50\n",
      "La altura del Dron es 300\n"
     ]
    }
   ],
   "source": [
    "d2 = Dron(50)\n",
    "print(\"La altura del Dron es\", d2._Dron__altura)\n",
    "d2._Dron__altura = 300\n",
    "print(\"La altura del Dron es\", d2._Dron__altura)"
   ]
  },
  {
   "cell_type": "markdown",
   "id": "4ec85d4d-cc38-433a-b9a6-ad67a4abda0a",
   "metadata": {},
   "source": [
    "Python simplemente hace que sea un poco más difícil acceder a los atributos ocultos. Es un paso adicional para asegurarse de que nadie lo haga sin cuidado, sin hacerlo prohibitivo."
   ]
  }
 ],
 "metadata": {
  "kernelspec": {
   "display_name": "Python [conda env:base] *",
   "language": "python",
   "name": "conda-base-py"
  },
  "language_info": {
   "codemirror_mode": {
    "name": "ipython",
    "version": 3
   },
   "file_extension": ".py",
   "mimetype": "text/x-python",
   "name": "python",
   "nbconvert_exporter": "python",
   "pygments_lexer": "ipython3",
   "version": "3.11.5"
  }
 },
 "nbformat": 4,
 "nbformat_minor": 5
}
