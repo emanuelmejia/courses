{
 "cells": [
  {
   "cell_type": "markdown",
   "id": "9de79f80-c35d-42ec-b89f-36742dc34f3d",
   "metadata": {},
   "source": [
    "<div style=\"padding:10px;background-color: #FF4D4D; color:white;font-size:28px;\"><strong>Archivos</strong></div>"
   ]
  },
  {
   "cell_type": "markdown",
   "id": "bff600a0-5c17-4699-8b43-cf44425a238d",
   "metadata": {},
   "source": [
    "## <a style=\"padding:3px;color: #FF4D4D; \"><strong>Comandos open y close</strong></a>"
   ]
  },
  {
   "cell_type": "markdown",
   "id": "a90ef09a-e0ad-4a61-98c6-d0c125364667",
   "metadata": {},
   "source": [
    "El sistema operativo almacena datos en archivos. En muchas aplicaciones el primer paso será leer datos desde un archivo. Del mismo modo, a menudo habrá que escribir datos o resultados en un archivo de salida.\n",
    "\n",
    "Primero, veamos el comando fundamental que permite acceder a un archivo: `open`. La sintaxis es la siguiente:\n",
    "\n",
    "`f = open(ruta, mod)`\n",
    "\n",
    "La función `open` devuelve un objeto de tipo archivo en Python; en este caso, asignamos ese archivo a la variable `f`. Esta es la variable que usaremos para leer o manipular el contenido del archivo.\n",
    "\n",
    "El parámetro `ruta` especifica dónde se encuentra el archivo. Es una ruta completa con el nombre del archivo que le indica a Python dónde buscarlo en la computadora.\n",
    "\n",
    "El parámetro `modo` especifica qué tipo de operaciones queremos realizar en el archivo y qué tipo de archivo es. Consta de dos letras:\n",
    "\n",
    "- La primera letra indica la operación:\n",
    "    - `r` significa leer\n",
    "    - `w` significa escribir (y sobrescribir el archivo si ya existe)\n",
    "    - `x` significa escribir, pero solo si el archivo no existe aún\n",
    "    - `a` significa escribir (agregar al final del archivo si existe)\n",
    "\n",
    "\n",
    "- La segunda letra indica el tipo de archivo:\n",
    "    - `t` (o nada) significa texto\n",
    "    - `b` significa binario\n",
    "\n",
    "Después de abrir y manipular un archivo, también debes recordar cerrarlo con el comando `close`. Cerrar el archivo asegura que Python no mantenga recursos abiertos innecesariamente, lo que ayuda a mantener un uso de memoria eficiente."
   ]
  },
  {
   "cell_type": "markdown",
   "id": "eda63015-4bdf-45ed-9fad-d0b141bc1288",
   "metadata": {},
   "source": [
    "## <a style=\"padding:3px;color: #FF4D4D; \"><strong>Escribir un Archivo usando write( )</strong></a>"
   ]
  },
  {
   "cell_type": "markdown",
   "id": "5cbe92de-e3c6-458b-8517-a0a03c94fd8d",
   "metadata": {},
   "source": [
    "Utilicemos Python para escribir un archivo. Primero escribamos un contenido muestra."
   ]
  },
  {
   "cell_type": "code",
   "execution_count": 2,
   "id": "b52f74a8-c500-4b80-8b3b-8d6e3819ce36",
   "metadata": {},
   "outputs": [
    {
     "data": {
      "text/plain": [
       "'\"Vive como si fueras a morir mañana\\nAprende como si fueras a vivir para siempre\"'"
      ]
     },
     "execution_count": 2,
     "metadata": {},
     "output_type": "execute_result"
    }
   ],
   "source": [
    "contenido = '''\"Vive como si fueras a morir mañana\n",
    "Aprende como si fueras a vivir para siempre\"'''\n",
    "\n",
    "contenido"
   ]
  },
  {
   "cell_type": "markdown",
   "id": "30b4303c-65dc-4663-b05f-3af5324724b8",
   "metadata": {},
   "source": [
    "Queremos crear un nuevo archivo utilizando el contenido de nuestra cadena anterior. Para hacerlo debemos seguir tres pasos:\n",
    "\n",
    "- Abrir el archivo.\n",
    "- Escribir en él.\n",
    "- Cerrar el archivo."
   ]
  },
  {
   "cell_type": "code",
   "execution_count": 4,
   "id": "3cb4f3bc-65a8-478b-84de-522e60a686e6",
   "metadata": {},
   "outputs": [],
   "source": [
    "citaText = open('gandhi.txt', 'wt')\n",
    "citaText.write(contenido)\n",
    "citaText.close()"
   ]
  },
  {
   "cell_type": "markdown",
   "id": "2803d48b-c430-411a-bd01-fcd4e73ebfae",
   "metadata": {},
   "source": [
    "Después de ejecutar el código anterior, debemos ver un archivo llamado `gandhi.txt` en la carpeta que contiene este cuaderno. Echemos un vistazo."
   ]
  },
  {
   "cell_type": "code",
   "execution_count": 11,
   "id": "c27b92c9-6393-46fb-ab51-ea0c06df2e7f",
   "metadata": {},
   "outputs": [
    {
     "name": "stdout",
     "output_type": "stream",
     "text": [
      " El volumen de la unidad C es Local Disk\n",
      " El nÃºmero de serie del volumen es: 460F-5C18\n",
      "\n",
      " Directorio de C:\\Users\\emanu\\Documents\\Python\\L3-Control y Funciones\n",
      "\n",
      "02/05/2025  09:48 a. m.    <DIR>          .\n",
      "29/04/2025  01:07 p. m.    <DIR>          ..\n",
      "01/05/2025  12:42 a. m.    <DIR>          .ipynb_checkpoints\n",
      "01/05/2025  12:48 a. m.            30,474 3.1-Control_de_Flujo.ipynb\n",
      "30/04/2025  10:28 p. m.            33,698 3.2-Funciones.ipynb\n",
      "02/05/2025  01:53 a. m.            63,975 3.3-LibrerÃ­as.ipynb\n",
      "02/05/2025  09:48 a. m.            28,164 3.4-Archivos.ipynb\n",
      "02/05/2025  09:49 a. m.                81 gandhi.txt\n",
      "30/04/2025  01:01 a. m.    <DIR>          paquete\n",
      "02/05/2025  01:48 a. m.               163 text.py\n",
      "02/05/2025  01:51 a. m.    <DIR>          __pycache__\n",
      "               6 archivos        156,555 bytes\n",
      "               5 dirs  652,124,041,216 bytes libres\n"
     ]
    }
   ],
   "source": [
    "!dir"
   ]
  },
  {
   "cell_type": "code",
   "execution_count": 12,
   "id": "38de477f-f773-4e79-b697-782de9006ac4",
   "metadata": {},
   "outputs": [
    {
     "name": "stdout",
     "output_type": "stream",
     "text": [
      "3.1-Control_de_Flujo.ipynb\n",
      "3.2-Funciones.ipynb\n",
      "3.3-LibrerÃ­as.ipynb\n",
      "3.4-Archivos.ipynb\n",
      "__pycache__\n",
      "gandhi.txt\n",
      "paquete\n",
      "text.py\n"
     ]
    }
   ],
   "source": [
    "!ls"
   ]
  },
  {
   "cell_type": "markdown",
   "id": "4f78e049-3a64-4d6a-86e2-03277d57bce1",
   "metadata": {},
   "source": [
    "Podemos inspeccionar el contenido usando el comando `cat` (para Linux/Unix) o `type` (para Windows)"
   ]
  },
  {
   "cell_type": "code",
   "execution_count": 14,
   "id": "9dd8a1c6-408f-4891-af88-6e5cc049837d",
   "metadata": {},
   "outputs": [
    {
     "name": "stdout",
     "output_type": "stream",
     "text": [
      "\"Vive como si fueras a morir mañana\n",
      "Aprende como si fueras a vivir para siempre\"\n"
     ]
    }
   ],
   "source": [
    "# Terminal Unix\n",
    "!cat gandhi.txt"
   ]
  },
  {
   "cell_type": "code",
   "execution_count": 15,
   "id": "1cbe57f6-6847-40dc-b4c7-048fb123c48d",
   "metadata": {},
   "outputs": [
    {
     "name": "stdout",
     "output_type": "stream",
     "text": [
      "\"Vive como si fueras a morir mañana\n",
      "Aprende como si fueras a vivir para siempre\"\n"
     ]
    }
   ],
   "source": [
    "!type gandhi.txt"
   ]
  },
  {
   "cell_type": "markdown",
   "id": "7b692f08-4b93-4281-bbb1-507530c20960",
   "metadata": {},
   "source": [
    "Podemos observar que creamos un nuevo archivo llamado `gandhi.txt` con el contenido declarado. En caso de que el archivo ya existiera, lo sobreescribimos con nuestra información y esto tiene que ver con el **modo** `wt` con el que abrimos nuestro archivo.\n",
    "\n",
    "Si deseamos agregarle más texto sin sobreescribirlo, debemos abrirlo en el modo `a`."
   ]
  },
  {
   "cell_type": "code",
   "execution_count": 17,
   "id": "d26add34-ce99-4f77-bf84-4e8634e050b9",
   "metadata": {},
   "outputs": [],
   "source": [
    "citaText = open('gandhi.txt', 'at')\n",
    "citaText.write(\"\\n--Mahatma Gandhi\")\n",
    "citaText.close()"
   ]
  },
  {
   "cell_type": "markdown",
   "id": "927a8030-bd54-4c6d-8d02-7d81358fca9e",
   "metadata": {},
   "source": [
    "Veamos cómo se ve ahora el archivo."
   ]
  },
  {
   "cell_type": "code",
   "execution_count": 19,
   "id": "5423aa50-b527-40ac-9a53-6fcdc52a81cd",
   "metadata": {},
   "outputs": [
    {
     "name": "stdout",
     "output_type": "stream",
     "text": [
      "\"Vive como si fueras a morir mañana\n",
      "Aprende como si fueras a vivir para siempre\"\n",
      "--Mahatma Gandhi\n"
     ]
    }
   ],
   "source": [
    "!type gandhi.txt"
   ]
  },
  {
   "cell_type": "markdown",
   "id": "51c4560d-41f3-4de4-b115-17d419133d1c",
   "metadata": {},
   "source": [
    "## <a style=\"padding:3px;color: #FF4D4D; \"><strong>Leer un Archivo usando read( ), readline( ), or readlines( )</strong></a>"
   ]
  },
  {
   "cell_type": "markdown",
   "id": "a7c28828-94d6-4a4c-ba89-932a62798bff",
   "metadata": {},
   "source": [
    "Leer archivos en Python es sencillo, pero hay algunos puntos importantes que debes tener en cuenta.\n",
    "\n",
    "Primero, la función `read()` sin argumentos cargará todo el contenido del archivo en la memoria. Esto está bien si el archivo es pequeño, pero si es muy grande, puede consumir demasiada memoria y hacer que tu aplicación se vuelva lenta o incluso se bloquee.\n",
    "\n",
    "Aun así, si sabes que estás trabajando con un archivo pequeño, `read()` es una forma rápida y directa de leer su contenido."
   ]
  },
  {
   "cell_type": "code",
   "execution_count": 22,
   "id": "461a08c6-3279-4a26-a11c-5fd0f25c9ef5",
   "metadata": {},
   "outputs": [
    {
     "name": "stdout",
     "output_type": "stream",
     "text": [
      "\"Vive como si fueras a morir mañana\n",
      "Aprende como si fueras a vivir para siempre\"\n",
      "--Mahatma Gandhi\n"
     ]
    }
   ],
   "source": [
    "citaTextLect = open('gandhi.txt', 'rt')\n",
    "citaLect = citaTextLect.read()\n",
    "citaTextLect.close()\n",
    "print(citaLect)"
   ]
  },
  {
   "cell_type": "markdown",
   "id": "96cbff66-474f-4e9d-aea2-001022debe0a",
   "metadata": {},
   "source": [
    "También puedes usar la función `readlines()`, que carga todo el archivo en memoria, al igual que `read()`, pero con la ventaja de que devuelve una lista donde cada elemento es una línea del archivo."
   ]
  },
  {
   "cell_type": "code",
   "execution_count": 24,
   "id": "45f99ada-18c9-493c-b796-2115d770af79",
   "metadata": {},
   "outputs": [
    {
     "name": "stdout",
     "output_type": "stream",
     "text": [
      "['\"Vive como si fueras a morir mañana\\n', 'Aprende como si fueras a vivir para siempre\"\\n', '--Mahatma Gandhi']\n"
     ]
    }
   ],
   "source": [
    "citaTextLect = open('gandhi.txt', 'rt')\n",
    "citaLectList = citaTextLect.readlines()\n",
    "citaTextLect.close()\n",
    "print(citaLectList)"
   ]
  },
  {
   "cell_type": "code",
   "execution_count": 25,
   "id": "f49930f1-f3f4-4c01-ad4a-50a2d01cca5c",
   "metadata": {},
   "outputs": [
    {
     "name": "stdout",
     "output_type": "stream",
     "text": [
      "Aprende como si fueras a vivir para siempre\"\n",
      "\n"
     ]
    }
   ],
   "source": [
    "print(citaLectList[1])"
   ]
  },
  {
   "cell_type": "markdown",
   "id": "0e1e41db-ff4b-4c5b-9e90-fb68bdb6ece4",
   "metadata": {},
   "source": [
    "Y ahora que los contenidos están en una lista, podríamos imprimirlos como sigue:"
   ]
  },
  {
   "cell_type": "code",
   "execution_count": 27,
   "id": "d11d1422-8d51-4fd9-821b-ed3f032c60f0",
   "metadata": {},
   "outputs": [
    {
     "name": "stdout",
     "output_type": "stream",
     "text": [
      "\"Vive como si fueras a morir mañana\n",
      "\n",
      "Aprende como si fueras a vivir para siempre\"\n",
      "\n",
      "--Mahatma Gandhi\n"
     ]
    }
   ],
   "source": [
    "for linea in citaLectList:\n",
    "    print(linea)"
   ]
  },
  {
   "cell_type": "markdown",
   "id": "83fbc8d3-e3e8-40b1-b831-3fc7a1ff078a",
   "metadata": {},
   "source": [
    "Tenemos un for que nos permite acceder a cada línea del archivo una por una y procesarla. Este es un procedimiento muy común al trabajar con texto. Sin embargo, aunque el archivo esté dividido por líneas, al usar `readlines()` se carga todo el archivo en memoria de una sola vez.\n",
    "\n",
    "Para evitar esto, podemos usar `readline()`, que nos lee una sola línea del archivo por cada llamada que hagamos. Si llamamos la función de nuevo, retoma desde donde quedó, leyendo la siguiente línea."
   ]
  },
  {
   "cell_type": "code",
   "execution_count": 29,
   "id": "258f7b6d-f103-4356-915d-35b9f07d86bd",
   "metadata": {},
   "outputs": [
    {
     "name": "stdout",
     "output_type": "stream",
     "text": [
      "\"Vive como si fueras a morir mañana\n",
      "\n",
      "Aprende como si fueras a vivir para siempre\"\n",
      "\n"
     ]
    }
   ],
   "source": [
    "citaTextLect = open('gandhi.txt', 'rt')\n",
    "\n",
    "l1 = citaTextLect.readline()\n",
    "l2 = citaTextLect.readline()\n",
    "print(l1)\n",
    "print(l2)\n",
    "\n",
    "citaTextLect.close()"
   ]
  },
  {
   "cell_type": "markdown",
   "id": "b3c078ab-3d0e-4b82-b643-64de0a64e060",
   "metadata": {},
   "source": [
    "Hay una forma aún más sencilla de leer archivos en Python: el propio **file handle** (el objeto que representa el archivo abierto) es un iterador. Esto significa que puedes usarlo directamente en un bucle for para recorrer línea por línea sin necesidad de usar `readline()` ni `readlines()`."
   ]
  },
  {
   "cell_type": "code",
   "execution_count": 31,
   "id": "785c919f-9ebb-4559-ba4c-4f1fe9fa8878",
   "metadata": {},
   "outputs": [
    {
     "name": "stdout",
     "output_type": "stream",
     "text": [
      "\"Vive como si fueras a morir mañana\n",
      "\n",
      "Aprende como si fueras a vivir para siempre\"\n",
      "\n",
      "--Mahatma Gandhi\n"
     ]
    }
   ],
   "source": [
    "citaTextLect = open('gandhi.txt', 'rt')\n",
    "\n",
    "for linea in citaTextLect:\n",
    "    print(linea)\n",
    "    \n",
    "citaTextLect.close()"
   ]
  },
  {
   "cell_type": "markdown",
   "id": "ca2c7b10-8516-471d-b044-98920530cd42",
   "metadata": {},
   "source": [
    "## <a style=\"padding:3px;color: #FF4D4D; \"><strong>CSV</strong></a>"
   ]
  },
  {
   "cell_type": "markdown",
   "id": "33c58a6d-9256-4b9c-bc95-a9140aca7716",
   "metadata": {},
   "source": [
    "Los archivos CSV son archivos en los que los elementos están divididos en diferentes líneas y columnas, como en una tabla. En cada línea, los elementos están separados por una coma. Para visualizarlo mejor, piensa en una aplicación de hoja de cálculo: un programa típico de hoja de cálculo puede abrir archivos CSV y mostrártelos como una tabla.\n",
    "\n",
    "La \"C\" en CSV significa coma, que se llama un **delimitador**, pero existen otras variaciones posibles. Otros delimitadores comunes incluyen `' '` (espacio), `'|'`, `'\\t'` (tabulación), entre otros. Además, la primera fila de un archivo CSV suele ser una fila especial de encabezado y no representa datos.\n",
    "\n",
    "Si quisieras, podrías leer un archivo CSV usando read() o readlines(), pero requeriría algo de trabajo adicional para manejar las comas y dividir cada línea correctamente. En su lugar, Python tiene un paquete que hace que leer y escribir archivos CSV sea fácil:"
   ]
  },
  {
   "cell_type": "code",
   "execution_count": 3,
   "id": "9d596e1b-cc30-4d70-a35e-792e8170f84e",
   "metadata": {},
   "outputs": [],
   "source": [
    "import csv\n",
    "\n",
    "personas = [\n",
    "    ['Nombre', 'Edad', 'Ciudad'],\n",
    "    ['Ana', '30', 'Guadalajara'],\n",
    "    ['José', '25', 'Monterrey'],\n",
    "    ['Hilda', '47', 'CDMX'],\n",
    "    ['Ernesto', '54', 'Aguascalientes']\n",
    "]\n",
    "\n",
    "personasWrite = open('personas.csv', 'wt', newline='')\n",
    "csvout = csv.writer(personasWrite)\n",
    "csvout.writerows(personas)\n",
    "\n",
    "personasWrite.close()"
   ]
  },
  {
   "cell_type": "markdown",
   "id": "0dda3663-3534-4851-a1fe-40ae63b01111",
   "metadata": {},
   "source": [
    "Ahora veamos qué incluye nuestro archivo:"
   ]
  },
  {
   "cell_type": "code",
   "execution_count": 36,
   "id": "6d5eef7d-c9a8-45ab-9012-8d0a9a046659",
   "metadata": {},
   "outputs": [
    {
     "name": "stdout",
     "output_type": "stream",
     "text": [
      "Nombre,Edad,Ciudad\n",
      "Ana,30,Guadalajara\n",
      "José,25,Monterrey\n",
      "Hilda,47,CDMX\n",
      "Ernesto,54,Aguascalientes\n"
     ]
    }
   ],
   "source": [
    "!type personas.csv"
   ]
  },
  {
   "cell_type": "markdown",
   "id": "99b33eca-c3a2-4257-9eab-f3920cf435db",
   "metadata": {},
   "source": [
    "Acabamos de crear un archivo separado por comas (CSV) con una tabla de 4 filas por 3 columnas (más un encabezado). Podrías abrir este archivo en un programa de hoja de cálculo y ver los datos en formato tabular, pero los datos en sí son simplemente un archivo de texto plano.\n",
    "\n",
    "Observa que construimos un objeto csv.writer, pasando nuestro archivo al constructor, y lo usamos para escribir nuestros datos en el archivo. Así es como Python hace que escribir (y leer) archivos CSV sea muy sencillo.\n",
    "\n",
    "Podemos leer nuestro archivo CSV de una manera similar:"
   ]
  },
  {
   "cell_type": "code",
   "execution_count": 38,
   "id": "a4578fc5-d375-4e8b-8066-0283bde096b0",
   "metadata": {},
   "outputs": [
    {
     "name": "stdout",
     "output_type": "stream",
     "text": [
      "['Nombre', 'Edad', 'Ciudad']\n",
      "['Ana', '30', 'Guadalajara']\n",
      "['José', '25', 'Monterrey']\n",
      "['Hilda', '47', 'CDMX']\n",
      "['Ernesto', '54', 'Aguascalientes']\n"
     ]
    }
   ],
   "source": [
    "import csv\n",
    "\n",
    "personasRead = open('personas.csv', 'rt', newline = '')\n",
    "csvin = csv.reader(personasRead)\n",
    "\n",
    "for row in csvin:\n",
    "    print(row)\n",
    "\n",
    "personasRead.close()"
   ]
  },
  {
   "cell_type": "markdown",
   "id": "1305f045-b866-4e4e-bcc3-0b4e2ffa3892",
   "metadata": {},
   "source": [
    "Una vez que creas un objeto `csv.reader`, puedes iterar fila por fila. Cada fila en el archivo CSV se proporciona cómodamente como una lista. No es necesario escribir un analizador especial para dividir y manipular el archivo de texto original; todo esto lo hace automáticamente el módulo `csv`."
   ]
  },
  {
   "cell_type": "markdown",
   "id": "818ad750-a5cd-40e4-9011-8601650a1a22",
   "metadata": {},
   "source": [
    "## <a style=\"padding:3px;color: #FF4D4D; \"><strong>eXtensible Markup Language (XML)</strong></a>"
   ]
  },
  {
   "cell_type": "code",
   "execution_count": 41,
   "id": "6340dcc3-c3ae-430e-b210-3a107ba248de",
   "metadata": {},
   "outputs": [],
   "source": [
    "xmlData = '''<?xml version=\"1.0\"?>\n",
    "<personas>\n",
    "\t<persona nombre=\"Ana\">\n",
    "\t\t<edad valor=\"30\" />\n",
    "        <ciudad nombre=\"Guadalajara\" />\n",
    "\t</persona>\n",
    "\t<persona nombre=\"Jose\">\n",
    "\t\t<edad valor=\"25\" />\n",
    "        <ciudad nombre=\"Monterrey\" />\n",
    "\t</persona>\n",
    "\t<persona nombre=\"Hilda\">\n",
    "\t\t<edad valor=\"47\" />\n",
    "        <ciudad nombre=\"CDMX\" />\n",
    "\t</persona>\n",
    "\t<persona nombre=\"Ernesto\">\n",
    "\t\t<edad valor=\"54\" />\n",
    "        <ciudad nombre=\"Aguascalientes\" />\n",
    "\t</persona>\n",
    "</personas>'''\n",
    "\n",
    "xmlArchivo = open('personas.xml', 'wt')\n",
    "xmlArchivo.write(xmlData)\n",
    "xmlArchivo.close()"
   ]
  },
  {
   "cell_type": "code",
   "execution_count": 42,
   "id": "69b2fed7-805b-427f-b014-f2d07b3287ae",
   "metadata": {},
   "outputs": [
    {
     "name": "stdout",
     "output_type": "stream",
     "text": [
      "<?xml version=\"1.0\"?>\n",
      "<personas>\n",
      "\t<persona nombre=\"Ana\">\n",
      "\t\t<edad valor=\"30\" />\n",
      "        <ciudad nombre=\"Guadalajara\" />\n",
      "\t</persona>\n",
      "\t<persona nombre=\"Jose\">\n",
      "\t\t<edad valor=\"25\" />\n",
      "        <ciudad nombre=\"Monterrey\" />\n",
      "\t</persona>\n",
      "\t<persona nombre=\"Hilda\">\n",
      "\t\t<edad valor=\"47\" />\n",
      "        <ciudad nombre=\"CDMX\" />\n",
      "\t</persona>\n",
      "\t<persona nombre=\"Ernesto\">\n",
      "\t\t<edad valor=\"54\" />\n",
      "        <ciudad nombre=\"Aguascalientes\" />\n",
      "\t</persona>\n",
      "</personas>\n"
     ]
    }
   ],
   "source": [
    "!type personas.xml"
   ]
  },
  {
   "cell_type": "markdown",
   "id": "23a8569e-c333-48b0-bcae-d5396aca9f11",
   "metadata": {},
   "source": [
    "Este es simplemente un archivo de texto común que está formateado como `XML`. Veamos cómo leer este archivo de texto como un archivo `XML`."
   ]
  },
  {
   "cell_type": "code",
   "execution_count": 44,
   "id": "eb89e97d-a36f-4d5d-9bd9-94cd50e12371",
   "metadata": {},
   "outputs": [
    {
     "name": "stdout",
     "output_type": "stream",
     "text": [
      "personas\n"
     ]
    }
   ],
   "source": [
    "from xml.etree import ElementTree  \n",
    "arbol = ElementTree.ElementTree(file='personas.xml')\n",
    "raiz = arbol.getroot()\n",
    "print(raiz.tag)"
   ]
  },
  {
   "cell_type": "markdown",
   "id": "cc2cf1b4-925b-42ee-bfce-c2750879268e",
   "metadata": {},
   "source": [
    "Importamos el módulo `ElementTree` del paquete `xml.etree`. El objeto `ElementTree` nos da la capacidad de recorrer un árbol `XML` de manera programática. Después de crear el árbol, obtenemos la raíz. Podemos obtener el nombre de la etiqueta raíz accediendo a la propiedad `tag`.\n",
    "\n",
    "Una vez que tenemos la raíz, podemos continuar recorriendo el árbol `XML`. Esto se hace desplazándonos de un elemento a sus elementos hijos."
   ]
  },
  {
   "cell_type": "code",
   "execution_count": 46,
   "id": "23994888-4e85-4cd0-a729-1b1d2ffa905b",
   "metadata": {},
   "outputs": [
    {
     "name": "stdout",
     "output_type": "stream",
     "text": [
      " etiqueta: persona atributos: {'nombre': 'Ana'}\n",
      "\tetiqueta: edad atributos: {'valor': '30'}\n",
      "\tetiqueta: ciudad atributos: {'nombre': 'Guadalajara'}\n",
      " etiqueta: persona atributos: {'nombre': 'Jose'}\n",
      "\tetiqueta: edad atributos: {'valor': '25'}\n",
      "\tetiqueta: ciudad atributos: {'nombre': 'Monterrey'}\n",
      " etiqueta: persona atributos: {'nombre': 'Hilda'}\n",
      "\tetiqueta: edad atributos: {'valor': '47'}\n",
      "\tetiqueta: ciudad atributos: {'nombre': 'CDMX'}\n",
      " etiqueta: persona atributos: {'nombre': 'Ernesto'}\n",
      "\tetiqueta: edad atributos: {'valor': '54'}\n",
      "\tetiqueta: ciudad atributos: {'nombre': 'Aguascalientes'}\n"
     ]
    }
   ],
   "source": [
    "for hija in raiz:\n",
    "    print(' etiqueta:', hija.tag, 'atributos:', hija.attrib)\n",
    "\n",
    "    for nieto in hija:\n",
    "        print('\\tetiqueta:', nieto.tag, 'atributos:', nieto.attrib)"
   ]
  },
  {
   "cell_type": "markdown",
   "id": "a439272c-d7eb-4a79-9d90-82735dc5b90e",
   "metadata": {},
   "source": [
    "Observa que cada objeto `Element` tiene una propiedad `tag` y una propiedad `attrib`. Estas propiedades provienen directamente de las etiquetas del archivo `XML`. Además, los elementos (`Element`) son iterables, lo que significa que puedes colocarlos en un bucle for para acceder a cada uno de sus elementos hijos.\n",
    "\n",
    "Además de `xml.etree.ElementTree`, Python ofrece otras bibliotecas para el procesamiento de `XML`. Hay una extensa [documentación](https://docs.python.org/3.3/library/xml.etree.elementtree.html) a la que podemos referirnos.\n",
    "\n",
    "También los siguientes enlaces [xml.dom](https://docs.python.org/3/library/xml.dom.html) and [xml.sax](https://docs.python.org/3/library/xml.sax.html) contienen información de procesamiento de `XML`."
   ]
  },
  {
   "cell_type": "markdown",
   "id": "3ba3d1e7-e761-4ffc-8d2c-33237b011212",
   "metadata": {},
   "source": [
    "## <a style=\"padding:3px;color: #FF4D4D; \"><strong>Javascript Object Notation (JSON)</strong></a>"
   ]
  },
  {
   "cell_type": "markdown",
   "id": "09544301-3ff9-46e3-945e-fbbc96048738",
   "metadata": {},
   "source": [
    "JSON es un formato de texto estructurado que se usa comúnmente en el desarrollo web, pero que también ha ganado popularidad en muchas otras aplicaciones. Una de sus ventajas es que su sintaxis es muy parecida a la de Python, lo que lo hace fácil de leer y entender para quienes ya usan este lenguaje.\n",
    "\n",
    "Python tiene soporte nativo para trabajar con JSON a través de una biblioteca incorporada llamada `json`."
   ]
  },
  {
   "cell_type": "code",
   "execution_count": 50,
   "id": "c14769c0-3776-44a5-b628-c5bc040fccd8",
   "metadata": {},
   "outputs": [],
   "source": [
    "jsonData = '''{\n",
    "\t\"personas\": {\n",
    "\t\t\n",
    "\t\t\"Ana\": {\n",
    "\t\t\t\"edad\": 30,\n",
    "            \"ciudad\": \"Guadalajara\"\n",
    "\t\t},\n",
    "\n",
    "\t\t\"Jose\": {\n",
    "\t\t\t\"edad\": 25,\n",
    "            \"ciudad\": \"Monterrey\"\n",
    "\t\t},\n",
    "\n",
    "\t\t\"Hilda\": {\n",
    "\t\t\t\"edad\": 47,\n",
    "            \"ciudad\": \"CDMX\"\n",
    "\t\t},\n",
    "\n",
    "\t\t\"Ernesto\": {\n",
    "\t\t\t\"edad\": 54,\n",
    "            \"ciudad\": \"Aguascalientes\"\n",
    "\t\t}\n",
    "\t}\n",
    "}'''\n",
    "\n",
    "jsonArchivo = open('personas.json', 'wt')\n",
    "jsonArchivo.write(jsonData)\n",
    "jsonArchivo.close()"
   ]
  },
  {
   "cell_type": "code",
   "execution_count": 51,
   "id": "3990e9f6-a7ec-44a3-b5cc-77ae1602af4d",
   "metadata": {},
   "outputs": [
    {
     "name": "stdout",
     "output_type": "stream",
     "text": [
      "{\n",
      "\t\"personas\": {\n",
      "\t\t\n",
      "\t\t\"Ana\": {\n",
      "\t\t\t\"edad\": 30,\n",
      "            \"ciudad\": \"Guadalajara\"\n",
      "\t\t},\n",
      "\n",
      "\t\t\"Jose\": {\n",
      "\t\t\t\"edad\": 25,\n",
      "            \"ciudad\": \"Monterrey\"\n",
      "\t\t},\n",
      "\n",
      "\t\t\"Hilda\": {\n",
      "\t\t\t\"edad\": 47,\n",
      "            \"ciudad\": \"CDMX\"\n",
      "\t\t},\n",
      "\n",
      "\t\t\"Ernesto\": {\n",
      "\t\t\t\"edad\": 54,\n",
      "            \"ciudad\": \"Aguascalientes\"\n",
      "\t\t}\n",
      "\t}\n",
      "}\n"
     ]
    }
   ],
   "source": [
    "!cat personas.json"
   ]
  },
  {
   "cell_type": "code",
   "execution_count": 52,
   "id": "3e908ed6-0677-40cc-9637-1ee0bced0513",
   "metadata": {},
   "outputs": [
    {
     "name": "stdout",
     "output_type": "stream",
     "text": [
      "raiz: {'personas': {'Ana': {'edad': 30, 'ciudad': 'Guadalajara'}, 'Jose': {'edad': 25, 'ciudad': 'Monterrey'}, 'Hilda': {'edad': 47, 'ciudad': 'CDMX'}, 'Ernesto': {'edad': 54, 'ciudad': 'Aguascalientes'}}}\n",
      "\n",
      "personas: {'Ana': {'edad': 30, 'ciudad': 'Guadalajara'}, 'Jose': {'edad': 25, 'ciudad': 'Monterrey'}, 'Hilda': {'edad': 47, 'ciudad': 'CDMX'}, 'Ernesto': {'edad': 54, 'ciudad': 'Aguascalientes'}}\n"
     ]
    }
   ],
   "source": [
    "import json\n",
    "jsonArchivo = open(\"personas.json\", \"rt\")\n",
    "jsonData = json.loads(jsonArchivo.read())\n",
    "jsonArchivo.close()\n",
    "\n",
    "print(\"raiz:\", jsonData)\n",
    "print()\n",
    "print(\"personas:\", jsonData[\"personas\"])"
   ]
  }
 ],
 "metadata": {
  "kernelspec": {
   "display_name": "Python [conda env:base] *",
   "language": "python",
   "name": "conda-base-py"
  },
  "language_info": {
   "codemirror_mode": {
    "name": "ipython",
    "version": 3
   },
   "file_extension": ".py",
   "mimetype": "text/x-python",
   "name": "python",
   "nbconvert_exporter": "python",
   "pygments_lexer": "ipython3",
   "version": "3.11.5"
  }
 },
 "nbformat": 4,
 "nbformat_minor": 5
}
