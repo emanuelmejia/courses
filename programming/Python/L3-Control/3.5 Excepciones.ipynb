{
 "cells": [
  {
   "cell_type": "markdown",
   "id": "f3392ee5-cb97-43b4-9e72-8ed103911be0",
   "metadata": {},
   "source": [
    "<div style=\"padding:10px;background-color: #FF4D4D; color:white;font-size:28px;\"><strong>Excepciones</strong></div>"
   ]
  },
  {
   "cell_type": "markdown",
   "id": "b0452b8d-b282-41e3-a6c9-c57be460ccde",
   "metadata": {},
   "source": [
    "Los errores en Python son útiles para depurar, pero no es algo deseable que los usuarios vean los mismos mensajes de error que el programador.\n",
    "\n",
    "Al avanzar hacia un código de calidad de producción, es necesario que prestar atención a los errores y pensar activamente en formas responsables de reaccionar ante ellos.\n",
    "\n",
    "Un ejemplo común es cuando le pedimos al usuario que ingrese un número en nuestros scripts."
   ]
  },
  {
   "cell_type": "code",
   "execution_count": 4,
   "id": "c458c1f1-4f1e-4d17-94fa-69dec6f4e4d5",
   "metadata": {},
   "outputs": [
    {
     "name": "stdin",
     "output_type": "stream",
     "text": [
      "Ingresa un número:  0\n"
     ]
    },
    {
     "ename": "ZeroDivisionError",
     "evalue": "division by zero",
     "output_type": "error",
     "traceback": [
      "\u001b[1;31m---------------------------------------------------------------------------\u001b[0m",
      "\u001b[1;31mZeroDivisionError\u001b[0m                         Traceback (most recent call last)",
      "Cell \u001b[1;32mIn[4], line 2\u001b[0m\n\u001b[0;32m      1\u001b[0m x \u001b[38;5;241m=\u001b[39m \u001b[38;5;28mint\u001b[39m(\u001b[38;5;28minput\u001b[39m(\u001b[38;5;124m\"\u001b[39m\u001b[38;5;124mIngresa un número: \u001b[39m\u001b[38;5;124m\"\u001b[39m))\n\u001b[1;32m----> 2\u001b[0m \u001b[38;5;28mprint\u001b[39m(\u001b[38;5;124m\"\u001b[39m\u001b[38;5;124mEl recíproco del número ingresado es: \u001b[39m\u001b[38;5;124m\"\u001b[39m, \u001b[38;5;241m1\u001b[39m\u001b[38;5;241m/\u001b[39mx)\n",
      "\u001b[1;31mZeroDivisionError\u001b[0m: division by zero"
     ]
    }
   ],
   "source": [
    "x = int(input(\"Ingresa un número: \"))\n",
    "print(\"El recíproco del número ingresado es: \", 1/x)"
   ]
  },
  {
   "cell_type": "markdown",
   "id": "d888c89e-974e-4f78-8691-9da9654782c8",
   "metadata": {},
   "source": [
    "Dependiendo del valor ingresado, el código podría correr sin ningún problema. Pero al ingresar una letra el script se detiene y se genera un `ValueError`, o al ingresar un cero se genera un `ZeroDivisionError`. \n",
    "\n",
    "Esto está bien para un script corto que usas tú mismo, pero el mensaje de error probablemente confundirá a otras personas que usen tu programa.\n",
    "\n",
    "A este tipo de eventos que ocurren durante la ejecución del programa que interrumpen su flujo normal y que pueden ser manejados y recuperados, se les conoce como excepciones. En resumen, un error puede ser cualquier problema, mientras que una excepción es un tipo específico de error que se puede controlar."
   ]
  },
  {
   "cell_type": "markdown",
   "id": "94c21d1a-7bbd-4cc7-8699-ae9f163eae65",
   "metadata": {},
   "source": [
    "La siguiente es una lista de excepciones por defecto de Python con sus descripciones:\n",
    "\n",
    "- `AssertionError:` Fallo de la sentencia assert.\n",
    "- `AttributeError:` Fallo en asignación o referencia de atributos.\n",
    "- `EOFError:` Cuando la función input() cumple la condición de fin de archivo.\n",
    "- `ImportError:` Fallo en la importación de módulos.\n",
    "- `IndentationError:` se produce cuando hay una sangría incorrecta.\n",
    "- `IndexError:` se produce cuando el índice de una secuencia está fuera de rango.\n",
    "- `KeyboardInterrupt:` El usuario introduce teclas de interrupción (Ctrl + C o Supr).\n",
    "- `MemoryError:` Cuando los programas se quedan sin memoria. \n",
    "- `NameError:` No se encuentra una variable en el ámbito local o global. \n",
    "- `RuntimeError:` Cuando un error no entra en ninguna otra categoría.\n",
    "- `SyntaxError:` Sintaxis incorrecta de Python.\n",
    "- `SystemError:` El intérprete detecta un error interno.\n",
    "- `TabError:` Cuando la indentación consiste en tabulaciones y espacios incoherentes. \n",
    "- `ValueError:` Se detecta un argumento con el valor incorrecto. \n",
    "- `ZeroDivisionError:` Aparece cuando se intenta una división entre cero."
   ]
  },
  {
   "cell_type": "markdown",
   "id": "13b1c5b2-23c7-4674-8065-0f2885c77e13",
   "metadata": {},
   "source": [
    "## <a style=\"padding:3px;color: #FF4D4D; \"><strong>try-except</strong></a>"
   ]
  },
  {
   "cell_type": "markdown",
   "id": "53d83bb3-ff26-49d2-a30c-1bd76ba86325",
   "metadata": {},
   "source": [
    "Cuando sabemos que una parte específica del código es propensa a lanzar una excepción, podemos encerrarla en una declaración `try-except`. La cual \n",
    "\n",
    "1. Ejecuta el código dentro de la instrucción `try`.\n",
    "2. En caso de que ocurra una excepción:\n",
    "    - La instrucción `try` la \"captura\".\n",
    "    - Se ejecuta el código dentro del bloque `except`."
   ]
  },
  {
   "cell_type": "code",
   "execution_count": 17,
   "id": "94996107-1d4a-4648-b95e-702f91fd9018",
   "metadata": {},
   "outputs": [
    {
     "name": "stdout",
     "output_type": "stream",
     "text": [
      "['Nombre', 'Edad', 'Ciudad']\n",
      "['Ana', '30', 'Guadalajara']\n",
      "['José', '25', 'Monterrey']\n",
      "['Hilda', '47', 'CDMX']\n",
      "['Ernesto', '54', 'Aguascalientes']\n"
     ]
    }
   ],
   "source": [
    "import csv\n",
    "try:\n",
    "    with open('personas.csv') as arch:\n",
    "        csvin = csv.reader(arch)\n",
    "        for row in csvin:\n",
    "            print(row)\n",
    "except:\n",
    "    print(\"Sucedió un error\")"
   ]
  },
  {
   "cell_type": "markdown",
   "id": "c0020395-4f65-4383-9f02-123d2b7b974f",
   "metadata": {},
   "source": [
    "Ahora el programa se recupera de manera elegante de este error.\n",
    "\n",
    "Como mencionamos, el mismo código podría lanzar diferentes tipos de excepciones, y podemos usar cláusulas `except` separadas para responder de manera distinta a cada una."
   ]
  },
  {
   "cell_type": "code",
   "execution_count": 19,
   "id": "b872bd1e-b2cf-48d2-8721-88e18b30031a",
   "metadata": {},
   "outputs": [
    {
     "name": "stdout",
     "output_type": "stream",
     "text": [
      "Sucedió un error\n"
     ]
    }
   ],
   "source": [
    "try:\n",
    "    with open('personas.csv') as arch:\n",
    "        csvin = csv.reader(arch)\n",
    "        for row in csvin:\n",
    "            print(row/3)\n",
    "except FileNotFoundError:\n",
    "    print(\"Archivo no encontrado\")\n",
    "except:\n",
    "    print(\"Sucedió un error\")"
   ]
  },
  {
   "cell_type": "markdown",
   "id": "54105305-4011-4976-859d-73f7e8717eeb",
   "metadata": {},
   "source": [
    "Pueden ponerse varias cláusulas `except` y además pueden renombrarse y reutilizarse dentro de la misma instrucción."
   ]
  },
  {
   "cell_type": "code",
   "execution_count": 21,
   "id": "6623a444-a3c9-4731-91f8-4914e18d91b6",
   "metadata": {},
   "outputs": [
    {
     "name": "stdout",
     "output_type": "stream",
     "text": [
      "Error: [Errno 2] No such file or directory: 'persona.csv'\n",
      "Explicación: Archivo no encontrado\n"
     ]
    }
   ],
   "source": [
    "try:\n",
    "    with open('persona.csv') as arch:\n",
    "        csvin = csv.reader(arch)\n",
    "        for row in csvin:\n",
    "            print(row)\n",
    "except FileNotFoundError as filerror:\n",
    "    print(\"Error:\", filerror)\n",
    "    print(\"Explicación: Archivo no encontrado\")\n",
    "except:\n",
    "    print(\"Sucedió un error\")"
   ]
  },
  {
   "cell_type": "markdown",
   "id": "bc62d392-bee9-4e41-a4e5-ff144ffd5a2a",
   "metadata": {},
   "source": [
    "## <a style=\"padding:3px;color: #FF4D4D; \"><strong>else</strong></a>"
   ]
  },
  {
   "cell_type": "markdown",
   "id": "2159756d-b992-42db-a9ee-c00be1ef6186",
   "metadata": {},
   "source": [
    "La estructura `try-except` puede complementarse con un bloque `else`, que se ejecuta siempre y cuando la sentencia `try` no lance una excepción. Es el remedio o una opción alternativa cuando esperas que una parte de tu script produzca una excepción. Generalmente se utiliza en una breve sección de configuración o verificación en la que no quieres que se oculten ciertos errores. "
   ]
  },
  {
   "cell_type": "code",
   "execution_count": 23,
   "id": "2307465c-a320-4b14-bbac-3aa26c089476",
   "metadata": {},
   "outputs": [
    {
     "name": "stdin",
     "output_type": "stream",
     "text": [
      "Ingresa un número:  k\n"
     ]
    },
    {
     "name": "stdout",
     "output_type": "stream",
     "text": [
      "Error:  invalid literal for int() with base 10: 'k'\n",
      "Explicación: No se ingresó un número válido.\n"
     ]
    }
   ],
   "source": [
    "try:\n",
    "    x = int(input(\"Ingresa un número: \"))\n",
    "    y = 1/x\n",
    "except ValueError as valerror:\n",
    "    print(\"Error: \", valerror)\n",
    "    print(\"Explicación: No se ingresó un número válido.\")\n",
    "except ZeroDivisionError as zerror:\n",
    "    print(\"Error: \", zerror)\n",
    "    print(\"Explicación: Se está intentando realizar una división entre cero.\")\n",
    "except:\n",
    "    print(\"Sucedió un error diferente a los previstos.\")\n",
    "else:\n",
    "    print(\"El recíproco del número ingresado es: \", y)"
   ]
  },
  {
   "cell_type": "markdown",
   "id": "26a980d0-7ba4-4bc6-8558-75e0da15dd52",
   "metadata": {},
   "source": [
    "En este ejemplo, se intentará calcular el recíproco de un número ingresado y podemos observar el manejo de las excepciones específicas `ValueError` y `ZeroDivisionError`, así como uno para cualquier otra excepción.\n",
    "\n",
    "Adicionalmente, en caso de no ocurrir ningún error, el bloque `else` imprimirá el valor calculado."
   ]
  },
  {
   "cell_type": "markdown",
   "id": "045f9ccd-428c-42c7-849c-bd2b7bacef1b",
   "metadata": {},
   "source": [
    "## <a style=\"padding:3px;color: #FF4D4D; \"><strong>finally</strong></a>"
   ]
  },
  {
   "cell_type": "markdown",
   "id": "b41d90a8-8561-487a-82be-6f87b0396379",
   "metadata": {},
   "source": [
    "La palabra clave `finally` indica una porción de código que se ejecutará siempre, independientemente de si hay una excepción o no. \n",
    "\n",
    "Es decir, una vez ejecutados los bloques `try`, `except` y `else`, se ejecutará el bloque `finally`. Es muy útil para limpiar recursos y cerrar objetos, por ejemplo archivos abiertos previamente."
   ]
  },
  {
   "cell_type": "code",
   "execution_count": 25,
   "id": "314a182b-5b16-43b9-8dec-2bbbd0efd75f",
   "metadata": {},
   "outputs": [
    {
     "name": "stdin",
     "output_type": "stream",
     "text": [
      "Ingresa un número:  6\n"
     ]
    },
    {
     "name": "stdout",
     "output_type": "stream",
     "text": [
      "El recíproco del número ingresado es:  0.16666666666666666\n",
      "Gracias por usar nuestra calculadora de recíprocos\n"
     ]
    }
   ],
   "source": [
    "try:\n",
    "    x = int(input(\"Ingresa un número: \"))\n",
    "    y = 1/x\n",
    "except ValueError as valerror:\n",
    "    print(\"Error: \", valerror)\n",
    "    print(\"Explicación: No se ingresó un número válido.\")\n",
    "except ZeroDivisionError as zerror:\n",
    "    print(\"Error: \", zerror)\n",
    "    print(\"Explicación: Se está intentando realizar una división entre cero.\")\n",
    "except:\n",
    "    print(\"Sucedió un error diferente a los previstos.\")\n",
    "else:\n",
    "    print(\"El recíproco del número ingresado es: \", y)\n",
    "finally:\n",
    "    print(\"Gracias por usar nuestra calculadora de recíprocos\")"
   ]
  },
  {
   "cell_type": "markdown",
   "id": "97f589df-b056-4d8d-a9c9-984c7b62fdd8",
   "metadata": {},
   "source": [
    "## <a style=\"padding:3px;color: #FF4D4D; \"><strong>Creando excepciones en Python</strong></a>"
   ]
  },
  {
   "cell_type": "markdown",
   "id": "13d27185-a962-4a51-9d97-05be9d74491d",
   "metadata": {},
   "source": [
    "Las excepciones son una forma útil para que los componentes de un programa comuniquen que algo ha salido mal y Python nos proporciona la posibilidad de crear excepciones personalizada. \n",
    "\n",
    "Para crear una excepción, utiliza una sentencia `raise`.\n",
    "\n",
    "En el siguiente código, usaremos un diccionario para almacenar el inventario de artículos de una frutería. La función `vender` tomará el nombre de un artículo y la cantidad vendida, y actualizará nuestro diccionario.\n",
    "\n",
    "Cuando un artículo no esté en el inventario inventario, lanzaremos una excepción para alertar a otros componentes del programa que esto ha sucedido. Cuando no exista suficiente cantidad de un artículo lanzaremos una excepción de tipo `ValueError`."
   ]
  },
  {
   "cell_type": "code",
   "execution_count": 27,
   "id": "7140e206-6b3e-4786-8fff-dff104706cc7",
   "metadata": {},
   "outputs": [],
   "source": [
    "def vender(item, cantidad, inventario):\n",
    "    if item not in inventario:\n",
    "        raise Exception(str(item) + \" no aparece en el inventario.\")\n",
    "    q = inventario[item]\n",
    "    if q < cantidad:\n",
    "        raise ValueError(\"El inventario de \" + str(item) + \"s no es suficiente.\")\n",
    "    inventario[item] = q - cantidad"
   ]
  },
  {
   "cell_type": "code",
   "execution_count": 29,
   "id": "152b4a87-8909-4f40-8195-78bc79d7118d",
   "metadata": {},
   "outputs": [],
   "source": [
    "inventario = {\"manzana\":10, \"sandia\": 5, \"naranja\":17, \"piña\":3}"
   ]
  },
  {
   "cell_type": "code",
   "execution_count": 31,
   "id": "6b267ed9-20d5-4bc2-9ea2-a2cc0f39c89b",
   "metadata": {},
   "outputs": [
    {
     "data": {
      "text/plain": [
       "{'manzana': 7, 'sandia': 5, 'naranja': 17, 'piña': 3}"
      ]
     },
     "execution_count": 31,
     "metadata": {},
     "output_type": "execute_result"
    }
   ],
   "source": [
    "vender(\"manzana\", 3, inventario)\n",
    "inventario"
   ]
  },
  {
   "cell_type": "markdown",
   "id": "e56b92c6-29fc-44a3-bf8d-cd0dbaf7d0d7",
   "metadata": {},
   "source": [
    "Si intentamos correr los siguientes códigos, podemos notar que Python despliega las excepciones que creamos."
   ]
  },
  {
   "cell_type": "code",
   "execution_count": 33,
   "id": "02aec360-be2b-4087-93a9-f2abb9f91b10",
   "metadata": {},
   "outputs": [
    {
     "ename": "Exception",
     "evalue": "platano no aparece en el inventario.",
     "output_type": "error",
     "traceback": [
      "\u001b[1;31m---------------------------------------------------------------------------\u001b[0m",
      "\u001b[1;31mException\u001b[0m                                 Traceback (most recent call last)",
      "Cell \u001b[1;32mIn[33], line 1\u001b[0m\n\u001b[1;32m----> 1\u001b[0m vender(\u001b[38;5;124m\"\u001b[39m\u001b[38;5;124mplatano\u001b[39m\u001b[38;5;124m\"\u001b[39m, \u001b[38;5;241m2\u001b[39m, inventario)\n",
      "Cell \u001b[1;32mIn[27], line 3\u001b[0m, in \u001b[0;36mvender\u001b[1;34m(item, cantidad, inventario)\u001b[0m\n\u001b[0;32m      1\u001b[0m \u001b[38;5;28;01mdef\u001b[39;00m\u001b[38;5;250m \u001b[39m\u001b[38;5;21mvender\u001b[39m(item, cantidad, inventario):\n\u001b[0;32m      2\u001b[0m     \u001b[38;5;28;01mif\u001b[39;00m item \u001b[38;5;129;01mnot\u001b[39;00m \u001b[38;5;129;01min\u001b[39;00m inventario:\n\u001b[1;32m----> 3\u001b[0m         \u001b[38;5;28;01mraise\u001b[39;00m \u001b[38;5;167;01mException\u001b[39;00m(\u001b[38;5;28mstr\u001b[39m(item) \u001b[38;5;241m+\u001b[39m \u001b[38;5;124m\"\u001b[39m\u001b[38;5;124m no aparece en el inventario.\u001b[39m\u001b[38;5;124m\"\u001b[39m)\n\u001b[0;32m      4\u001b[0m     q \u001b[38;5;241m=\u001b[39m inventario[item]\n\u001b[0;32m      5\u001b[0m     \u001b[38;5;28;01mif\u001b[39;00m q \u001b[38;5;241m<\u001b[39m cantidad:\n",
      "\u001b[1;31mException\u001b[0m: platano no aparece en el inventario."
     ]
    }
   ],
   "source": [
    "vender(\"platano\", 2, inventario)"
   ]
  },
  {
   "cell_type": "code",
   "execution_count": 35,
   "id": "9f879801-9cc5-4c48-b963-9e0dfa6f17f9",
   "metadata": {},
   "outputs": [
    {
     "ename": "ValueError",
     "evalue": "El inventario de manzanas no es suficiente.",
     "output_type": "error",
     "traceback": [
      "\u001b[1;31m---------------------------------------------------------------------------\u001b[0m",
      "\u001b[1;31mValueError\u001b[0m                                Traceback (most recent call last)",
      "Cell \u001b[1;32mIn[35], line 1\u001b[0m\n\u001b[1;32m----> 1\u001b[0m vender(\u001b[38;5;124m\"\u001b[39m\u001b[38;5;124mmanzana\u001b[39m\u001b[38;5;124m\"\u001b[39m, \u001b[38;5;241m15\u001b[39m, inventario)\n",
      "Cell \u001b[1;32mIn[27], line 6\u001b[0m, in \u001b[0;36mvender\u001b[1;34m(item, cantidad, inventario)\u001b[0m\n\u001b[0;32m      4\u001b[0m q \u001b[38;5;241m=\u001b[39m inventario[item]\n\u001b[0;32m      5\u001b[0m \u001b[38;5;28;01mif\u001b[39;00m q \u001b[38;5;241m<\u001b[39m cantidad:\n\u001b[1;32m----> 6\u001b[0m     \u001b[38;5;28;01mraise\u001b[39;00m \u001b[38;5;167;01mValueError\u001b[39;00m(\u001b[38;5;124m\"\u001b[39m\u001b[38;5;124mEl inventario de \u001b[39m\u001b[38;5;124m\"\u001b[39m \u001b[38;5;241m+\u001b[39m \u001b[38;5;28mstr\u001b[39m(item) \u001b[38;5;241m+\u001b[39m \u001b[38;5;124m\"\u001b[39m\u001b[38;5;124ms no es suficiente.\u001b[39m\u001b[38;5;124m\"\u001b[39m)\n\u001b[0;32m      7\u001b[0m inventario[item] \u001b[38;5;241m=\u001b[39m q \u001b[38;5;241m-\u001b[39m cantidad\n",
      "\u001b[1;31mValueError\u001b[0m: El inventario de manzanas no es suficiente."
     ]
    }
   ],
   "source": [
    "vender(\"manzana\", 15, inventario)"
   ]
  },
  {
   "cell_type": "markdown",
   "id": "7ea0d5e7-4ee7-4335-b130-b8a7ae710de6",
   "metadata": {},
   "source": [
    "Además podemos utilizar las excepciones creadas en nuestro programa principal para lanzar mensajes útiles al usuario."
   ]
  },
  {
   "cell_type": "code",
   "execution_count": 39,
   "id": "d9880f75-9658-4ea5-8186-892bb77ef294",
   "metadata": {},
   "outputs": [
    {
     "name": "stdout",
     "output_type": "stream",
     "text": [
      "El valor ingresado no puede procesarse: El inventario de manzanas no es suficiente.\n",
      "Gracias por su preferencia\n"
     ]
    }
   ],
   "source": [
    "try:\n",
    "    vender(\"manzana\", 15, inventario)\n",
    "except ValueError as v:\n",
    "    print(\"El valor ingresado no puede procesarse: \" + str(v))\n",
    "except Exception as e:\n",
    "    print(\"No pudo completarse la venta: \" + str(e))\n",
    "else:\n",
    "    print(\"Inventario tras venta: \" + str(inventario))\n",
    "finally:\n",
    "    print(\"Gracias por su preferencia\")"
   ]
  }
 ],
 "metadata": {
  "kernelspec": {
   "display_name": "Python [conda env:base] *",
   "language": "python",
   "name": "conda-base-py"
  },
  "language_info": {
   "codemirror_mode": {
    "name": "ipython",
    "version": 3
   },
   "file_extension": ".py",
   "mimetype": "text/x-python",
   "name": "python",
   "nbconvert_exporter": "python",
   "pygments_lexer": "ipython3",
   "version": "3.11.5"
  }
 },
 "nbformat": 4,
 "nbformat_minor": 5
}
