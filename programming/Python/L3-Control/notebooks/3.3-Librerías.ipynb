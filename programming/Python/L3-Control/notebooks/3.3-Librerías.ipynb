{
 "cells": [
  {
   "cell_type": "markdown",
   "id": "53d349d8-3f04-415e-b7c3-204407dad75b",
   "metadata": {},
   "source": [
    "<div style=\"padding:10px;background-color: #FF4D4D; color:white;font-size:28px;\"><strong>Librerías</strong></div>"
   ]
  },
  {
   "cell_type": "markdown",
   "id": "f66c9954-10f9-4dd2-8903-f122dc66c67a",
   "metadata": {},
   "source": [
    "Hasta ahora, nos hemos enfocado en ejecutar scripts cortos que caben en un solo cuaderno (notebook). A medida que los programas se vuelven más complicados, mantener todo en un solo archivo se vuelve poco práctico. \n",
    "\n",
    "Los equipos grandes de programación necesitan estar organizados, con diferentes personas a cargo de distintos archivos. \n",
    "\n",
    "Incluso si estás trabajando solo, podrías querer dividir tu código en archivos separados de manera inteligente, para que diferentes funcionalidades estén en distintos lugares.\n",
    "\n",
    "La principal forma que Python ofrece para reutilizar código en diferentes lugares es mediante la instrucción `import`. Al hacer esto, estás trayendo código que ya fue escrito anteriormente a tu propio programa. \n",
    "\n",
    "Ahora veremos cómo modularizar tu propio código para que puedas usarlo en otros scripts o para que otros programadores puedan utilizarlo."
   ]
  },
  {
   "cell_type": "markdown",
   "id": "82f57e85-735d-42bf-8e49-9184ce72f4b1",
   "metadata": {},
   "source": [
    "## <a style=\"padding:3px;color: #FF4D4D; \"><strong>Módulos</strong></a>"
   ]
  },
  {
   "cell_type": "markdown",
   "id": "4451c120-9877-4fe7-ad3b-5626a6da2e6f",
   "metadata": {},
   "source": [
    "Primero, revisemos los programas independientes. \n",
    "\n",
    "Podemos crear un archivo `.py` usando cualquier editor de texto.\n",
    "\n",
    "En el mismo directorio donde está guardado este cuaderno de Jupyter, crearemos un archivo llamado `text.py`\n",
    "\n",
    "Este archivo incluirá lo siguiente:"
   ]
  },
  {
   "cell_type": "code",
   "execution_count": 5,
   "id": "cd8a8f1f-64c7-492b-b29f-e9df8df85fec",
   "metadata": {},
   "outputs": [
    {
     "name": "stdout",
     "output_type": "stream",
     "text": [
      "# text.py\n",
      "#\n",
      "# Este es nuestro primer script de python\n",
      "# para utilizar como aplicacion independiente\n",
      "\n",
      "def contarPalabras(texto):\n",
      "    return len(texto.split())\n"
     ]
    }
   ],
   "source": [
    "# Linux / Unix\n",
    "!cat text.py"
   ]
  },
  {
   "cell_type": "code",
   "execution_count": 6,
   "id": "c332bbca-71bf-4369-8819-9c0017817d29",
   "metadata": {},
   "outputs": [
    {
     "name": "stdout",
     "output_type": "stream",
     "text": [
      "# text.py\n",
      "#\n",
      "# Este es nuestro primer script de python\n",
      "# para utilizar como aplicacion independiente\n",
      "\n",
      "def contarPalabras(texto):\n",
      "    return len(texto.split())\n"
     ]
    }
   ],
   "source": [
    "# Windows\n",
    "!type text.py"
   ]
  },
  {
   "cell_type": "markdown",
   "id": "25384962-c510-4e1e-bcff-34ec1c01d987",
   "metadata": {},
   "source": [
    "Este archivo `.py`, es un script de python. Denominamos **módulo** a los archivos `.py` que importamos dentro de otro script o cuaderno.\n",
    "\n",
    "Esto lo lograremos utilizando la palabra clave `import`."
   ]
  },
  {
   "cell_type": "code",
   "execution_count": 8,
   "id": "1b467b2e-3962-4724-87c8-2014d14a6109",
   "metadata": {},
   "outputs": [],
   "source": [
    "import text"
   ]
  },
  {
   "cell_type": "markdown",
   "id": "4de0b41e-3d45-4898-9bf4-c4d7ae0a15f7",
   "metadata": {},
   "source": [
    "Una vez llamado el módulo a nuestro notebook. Podemos hacer uso de las funciones que tiene dentro haciendo las llamadas como sigue:"
   ]
  },
  {
   "cell_type": "code",
   "execution_count": 10,
   "id": "3406b5af-2054-4506-bb7e-b2858d340b48",
   "metadata": {},
   "outputs": [
    {
     "data": {
      "text/plain": [
       "5"
      ]
     },
     "execution_count": 10,
     "metadata": {},
     "output_type": "execute_result"
    }
   ],
   "source": [
    "text.contarPalabras(\"una enfermera en la pulcata\")"
   ]
  },
  {
   "cell_type": "markdown",
   "id": "df875871-383d-46c7-a9bb-a4f189c3adbf",
   "metadata": {},
   "source": [
    "Python nos da también la opción de renombrar lo que estemos importando y utilizar en nombre que nosotros le hayamos otorgado en lugar del nombre original del módulo.\n",
    "\n",
    "Tomemos en cuenta que esto podría facilitar o dificultar la lectura del código"
   ]
  },
  {
   "cell_type": "code",
   "execution_count": 12,
   "id": "9e0c1e16-ddb5-4157-9574-f2715a2ac46b",
   "metadata": {},
   "outputs": [
    {
     "data": {
      "text/plain": [
       "5"
      ]
     },
     "execution_count": 12,
     "metadata": {},
     "output_type": "execute_result"
    }
   ],
   "source": [
    "import text as funtx\n",
    "\n",
    "funtx.contarPalabras(\"una enfermera en la pulcata\")"
   ]
  },
  {
   "cell_type": "markdown",
   "id": "cc1c729c-2291-4ba8-b8f9-24cc8e8009ad",
   "metadata": {},
   "source": [
    "Podemos también importar únicamente la función que nos interesa y llamarla ya sin necesidad de referirnos al módulo"
   ]
  },
  {
   "cell_type": "code",
   "execution_count": 14,
   "id": "8edb72ac-7145-40ce-8779-09535f5afb83",
   "metadata": {},
   "outputs": [
    {
     "data": {
      "text/plain": [
       "3"
      ]
     },
     "execution_count": 14,
     "metadata": {},
     "output_type": "execute_result"
    }
   ],
   "source": [
    "from text import contarPalabras\n",
    "\n",
    "contarPalabras(\"había una vez\")"
   ]
  },
  {
   "cell_type": "markdown",
   "id": "0e41b856-0384-4ef3-b0f3-b17a0ebe6746",
   "metadata": {},
   "source": [
    "Y al igual que los módulos, las funciones también pueden ser renombradas"
   ]
  },
  {
   "cell_type": "code",
   "execution_count": 16,
   "id": "929dfe56-6d16-4255-8653-6f8d901cc3cc",
   "metadata": {},
   "outputs": [
    {
     "data": {
      "text/plain": [
       "5"
      ]
     },
     "execution_count": 16,
     "metadata": {},
     "output_type": "execute_result"
    }
   ],
   "source": [
    "from text import contarPalabras as palcont\n",
    "\n",
    "palcont(\"Una enfermera en la pulcata\")"
   ]
  },
  {
   "cell_type": "markdown",
   "id": "5807dc74-0fd8-4fa3-a564-afc3ee891782",
   "metadata": {},
   "source": [
    "Cuando se usa una instrucción `import`, Python tiene una lista de lugares en los que busca para encontrar el módulo que deseas. \n",
    "\n",
    "Primero, Python buscará en tu **directorio actual** para ver si hay módulos o paquetes con el nombre correcto (más sobre paquetes en la próxima sección). Después de eso, Python buscará en un **conjunto de directorios** que están definidos en un módulo especial: `sys.path`.\n",
    "\n",
    "Podemos ver qué contiene el `sys.path` de mi computadora con el siguiente código:"
   ]
  },
  {
   "cell_type": "code",
   "execution_count": 18,
   "id": "fafe4132-0d87-4d74-82e0-5b31166df9b9",
   "metadata": {},
   "outputs": [
    {
     "name": "stdout",
     "output_type": "stream",
     "text": [
      "C:\\Users\\emanu\\anaconda3\\python311.zip\n",
      "C:\\Users\\emanu\\anaconda3\\DLLs\n",
      "C:\\Users\\emanu\\anaconda3\\Lib\n",
      "C:\\Users\\emanu\\anaconda3\n",
      "\n",
      "C:\\Users\\emanu\\anaconda3\\Lib\\site-packages\n",
      "C:\\Users\\emanu\\anaconda3\\Lib\\site-packages\\win32\n",
      "C:\\Users\\emanu\\anaconda3\\Lib\\site-packages\\win32\\lib\n",
      "C:\\Users\\emanu\\anaconda3\\Lib\\site-packages\\Pythonwin\n"
     ]
    }
   ],
   "source": [
    "import sys\n",
    "for ubicacion in sys.path:\n",
    "    print(ubicacion)"
   ]
  },
  {
   "cell_type": "markdown",
   "id": "05d55847-0271-4eaf-8fd1-25b675df4df2",
   "metadata": {},
   "source": [
    "## <a style=\"padding:3px;color: #FF4D4D; \"><strong>Paquetes</strong></a>"
   ]
  },
  {
   "cell_type": "markdown",
   "id": "14088933-d445-4626-9f2e-35c42b986568",
   "metadata": {},
   "source": [
    "Hay ocasiones en las que buscamos agrupar varios módulos y Python nos provee esta capacidad por medio de los **paquetes**.\n",
    "\n",
    "Pensemos en un paquete como si fuese una carpeta en la que podemos \"empaquetar\" cualquier cantidad de módulos."
   ]
  },
  {
   "cell_type": "markdown",
   "id": "94be30bf-e6fa-4439-8df9-b9dd56ae5dec",
   "metadata": {},
   "source": [
    "Por ejemplo, hemos escrito dos módulos `textos` y `numeros` y los hemos colocado en una carpeta llamada `paquete` que se encuentra en el mismo directorio que este cuaderno."
   ]
  },
  {
   "cell_type": "code",
   "execution_count": 22,
   "id": "55a08d04-2985-42a4-8fcb-70ea580ddd6e",
   "metadata": {},
   "outputs": [
    {
     "name": "stdout",
     "output_type": "stream",
     "text": [
      "# numeros.py\n",
      "#\n",
      "# Funciones a ejecutar con numeros\n",
      "\n",
      "# Teorema de pitagoras\n",
      "def pitagoras(a,b):\n",
      "    return (a ** 2 + b ** 2) ** (1/2)\n",
      "\n",
      "# Devuelve velocidad en km por hora\n",
      "def velocidad(km, seg):\n",
      "    return km/seg * 60\n"
     ]
    }
   ],
   "source": [
    "!type paquete\\numeros.py"
   ]
  },
  {
   "cell_type": "code",
   "execution_count": 23,
   "id": "6fdfddea-f975-4106-b8bf-bab305e4008c",
   "metadata": {},
   "outputs": [
    {
     "name": "stdout",
     "output_type": "stream",
     "text": [
      "# textos.py\n",
      "#\n",
      "# Este es nuestro primer script de python\n",
      "# para utilizar como aplicacion independiente\n",
      "\n",
      "def eliminarVocales(texto):\n",
      "    return ''.join([c for c in texto if c.lower() not in 'aeiou'])\n",
      "\n",
      "def contarPalabras(texto):\n",
      "    return len(texto.split())\n"
     ]
    }
   ],
   "source": [
    "!cat paquete\\textos.py"
   ]
  },
  {
   "cell_type": "markdown",
   "id": "98d703e2-b83e-401d-89bd-b2ef58429432",
   "metadata": {},
   "source": [
    "Por último debemos de crear un nuevo módulo, que será un archivo vacío llamado `__init__.py` dentro del folder `paquete`.  Podemos hacer esto con el siguiente comando de terminal:"
   ]
  },
  {
   "cell_type": "code",
   "execution_count": 25,
   "id": "56aca181-8492-42e3-9c8d-f6599ab918ed",
   "metadata": {},
   "outputs": [],
   "source": [
    "!touch paquete/__init__.py"
   ]
  },
  {
   "cell_type": "markdown",
   "id": "8643325a-ac4a-444e-9b02-79ee5eb883aa",
   "metadata": {},
   "source": [
    "Al hacer esto, convertimos la carpeta en un paquete de Python: un contenedor que puede incluir módulos o incluso otros paquetes. Y ahora podremos importarlo a nuestro cuaderno como sigue:"
   ]
  },
  {
   "cell_type": "code",
   "execution_count": 27,
   "id": "2a852f24-4e28-4c6e-af33-922254124467",
   "metadata": {},
   "outputs": [],
   "source": [
    "from paquete import textos, numeros"
   ]
  },
  {
   "cell_type": "code",
   "execution_count": 28,
   "id": "26bed6c2-e323-4c79-9052-496412622ed8",
   "metadata": {},
   "outputs": [
    {
     "data": {
      "text/plain": [
       "5.0"
      ]
     },
     "execution_count": 28,
     "metadata": {},
     "output_type": "execute_result"
    }
   ],
   "source": [
    "numeros.pitagoras(4,3)"
   ]
  },
  {
   "cell_type": "code",
   "execution_count": 29,
   "id": "650701df-9a29-419f-8ab2-e40f709fa3cc",
   "metadata": {},
   "outputs": [
    {
     "data": {
      "text/plain": [
       "120.0"
      ]
     },
     "execution_count": 29,
     "metadata": {},
     "output_type": "execute_result"
    }
   ],
   "source": [
    "numeros.velocidad(2,1)"
   ]
  },
  {
   "cell_type": "code",
   "execution_count": 30,
   "id": "ac2be50b-8875-4e81-826f-bbcb2155436d",
   "metadata": {},
   "outputs": [
    {
     "data": {
      "text/plain": [
       "'n nfrmr b  bbr'"
      ]
     },
     "execution_count": 30,
     "metadata": {},
     "output_type": "execute_result"
    }
   ],
   "source": [
    "textos.eliminarVocales(\"Una Enfermera iba a beber\")"
   ]
  },
  {
   "cell_type": "markdown",
   "id": "bcf29d72-ba8f-4711-b9e8-d2809d57996e",
   "metadata": {},
   "source": [
    "El uso de paquetes nos permite organizar un proyecto de Python de forma modular. Esta estructura es útil para proyectos pequeños y medianos, e incluso como base para paquetes instalables o autoejecutables.\n",
    "\n",
    "Una **librería** es un ejemplo específico de paquete, que está planeada para agrupar funciones relacionadas y útiles para alguna tarea en particular. Estas no son pensadas como código autoejecutable (carecen de main), sino que deben de ser importadas y llamadas dentro de un programa."
   ]
  },
  {
   "cell_type": "markdown",
   "id": "4a0b279b-085d-4043-8a05-5a5118c67e09",
   "metadata": {},
   "source": [
    "## <a style=\"padding:3px;color: #FF4D4D; \"><strong>La librería estándar de Python</strong></a>"
   ]
  },
  {
   "cell_type": "markdown",
   "id": "7102d9e0-6fba-46e2-b168-c96702e3254c",
   "metadata": {},
   "source": [
    "La librería estándar de Python ofrece una gran cantidad de paquetes y módulos incorporados que pueden hacerte la vida más fácil. Es una buena práctica verificar si la funcionalidad que necesitas en tus scripts y programas ya ha sido implementada en la biblioteca estándar de Python.\n",
    "\n",
    "Hemos utilizado ya varias funciones incluidas en la librería estándar. Pero aquí se incluyen una lista de ejemplos adicionales."
   ]
  },
  {
   "cell_type": "markdown",
   "id": "90818829-5104-4dc5-a032-320eace4d1c1",
   "metadata": {},
   "source": [
    "#### <a style=\"padding:3px;color: #FF4D4D; \"><strong>Tipos de datos</strong></a>\n",
    "Todos los tipos de objetos básicos vistos en la lección 2 (`int`, `list`, etc...) forman parte de la librería estándar de Python."
   ]
  },
  {
   "cell_type": "markdown",
   "id": "0c935a29-a459-4378-bb68-8737ab834e5b",
   "metadata": {},
   "source": [
    "#### <a style=\"padding:3px;color: #FF4D4D; \"><strong>Utilidades Generales</strong></a>\n",
    "Las `built-in functions` o funciones incorporadas son funciones predefinidas que están disponibles para usar en cualquier script Python sin necesidad de importar ningún módulo. Hemos visto algunas como `print`, `input`, `len`, `type`, pero existen muchas más.|"
   ]
  },
  {
   "cell_type": "markdown",
   "id": "16e94639-efda-444e-bca1-ec0cc9d9ed0e",
   "metadata": {},
   "source": [
    "#### <a style=\"padding:3px;color: #FF4D4D; \"><strong>Matemáticas</strong></a>\n",
    "Paquetes como `math`, `random`, `statistics` permiten realizar funciones matemáticas y estadísticas básicas, así como la generación de números aleatorios mientras que otros como `decimal` y `fractions` permiten hacer cálculos con alta precisión"
   ]
  },
  {
   "cell_type": "code",
   "execution_count": 37,
   "id": "33583dd3-210a-4e3b-b0e0-e4bb69a974ef",
   "metadata": {},
   "outputs": [
    {
     "name": "stdout",
     "output_type": "stream",
     "text": [
      "Media: 40\n",
      "Mediana: 40\n",
      "Desviación estándar: 21.602468994692867\n"
     ]
    }
   ],
   "source": [
    "import statistics\n",
    "\n",
    "# Lista de datos\n",
    "datos = [10, 20, 30, 40, 50, 60, 70]\n",
    "\n",
    "# Cálculos estadísticos\n",
    "media = statistics.mean(datos)\n",
    "mediana = statistics.median(datos)\n",
    "desviacion = statistics.stdev(datos)\n",
    "\n",
    "# Mostrar resultados\n",
    "print(\"Media:\", media)\n",
    "print(\"Mediana:\", mediana)\n",
    "print(\"Desviación estándar:\", desviacion)"
   ]
  },
  {
   "cell_type": "code",
   "execution_count": 38,
   "id": "371d1631-97a3-423e-ab53-b2f2e4af4651",
   "metadata": {},
   "outputs": [
    {
     "name": "stdout",
     "output_type": "stream",
     "text": [
      "Has sacado un 6\n",
      "Cartas barajadas: ['J', '5', 'K', '3', '4', 'A', '2', 'Q']\n"
     ]
    }
   ],
   "source": [
    "import random\n",
    "\n",
    "# Simular el lanzamiento de un dado de 6 caras\n",
    "dado = random.randint(1, 6)\n",
    "print(f\"Has sacado un {dado}\")\n",
    "\n",
    "# Simular barajeo de cartas\n",
    "cartas = ['A', '2', '3', '4', '5', 'J', 'Q', 'K']\n",
    "random.shuffle(cartas)\n",
    "print(\"Cartas barajadas:\", cartas)"
   ]
  },
  {
   "cell_type": "markdown",
   "id": "d21e0fb1-6059-435c-83bd-28a7ee83a873",
   "metadata": {},
   "source": [
    "#### <a style=\"padding:3px;color: #FF4D4D; \"><strong>Procesamiento de Datos y Texto</strong></a>\n",
    "`json`, `csv`, `xml` permiten trabajar con diferentes formatos de archivos mientras que `string` y `re` permiten realizar operaciones de manipulación y procesamiento de texto."
   ]
  },
  {
   "cell_type": "code",
   "execution_count": 40,
   "id": "7fb26f33-ef2b-4f16-ac36-18ed37cd4aec",
   "metadata": {},
   "outputs": [
    {
     "name": "stdout",
     "output_type": "stream",
     "text": [
      "['como si', 'como si']\n",
      "['Vive ', ' fueras a morir mañana, aprende ', ' fueras a vivir para siempre']\n",
      "Vive creyendo que fueras a morir mañana, aprende creyendo que fueras a vivir para siempre\n"
     ]
    }
   ],
   "source": [
    "import re\n",
    "contenido = \"Vive como si fueras a morir mañana, aprende como si fueras a vivir para siempre\"\n",
    "\n",
    "# Creamos un patrón compilado que podemos utilizar en muchas búsquedas\n",
    "patron = re.compile(\"como si\")\n",
    "\n",
    "# Encontrarlos\n",
    "encontrados = patron.findall(contenido)\n",
    "print(encontrados)\n",
    "\n",
    "# dividir cada que encontremos uno\n",
    "div = patron.split(contenido)\n",
    "print(div)\n",
    "\n",
    "# reemplazarlos\n",
    "nuevo = patron.sub('creyendo que', contenido)\n",
    "print(nuevo)"
   ]
  },
  {
   "cell_type": "code",
   "execution_count": 41,
   "id": "6a8cbe8b-46f5-4cd7-bc2e-d022f4f262b4",
   "metadata": {},
   "outputs": [
    {
     "name": "stdout",
     "output_type": "stream",
     "text": [
      "None\n",
      "<re.Match object; span=(0, 34), match='Vive como si fueras a morir mañana'>\n"
     ]
    }
   ],
   "source": [
    "# Queremos detectar presencia de una palabra por medio de la función match\n",
    "# Pero esta se encuentra en medio y match encuentra al inicio de la cadena\n",
    "medio = re.compile(\"mañana\")\n",
    "m = medio.match(contenido)\n",
    "print(m)\n",
    "\n",
    "# Usemos un wildcard para el inicio.\n",
    "medioWildcard = re.compile(\".*mañana\")\n",
    "mw = medioWildcard.match(contenido)\n",
    "print(mw)"
   ]
  },
  {
   "cell_type": "markdown",
   "id": "1045ce7a-49a9-429b-96e6-2754b5e22db6",
   "metadata": {},
   "source": [
    "#### <a style=\"padding:3px;color: #FF4D4D; \"><strong>Redes</strong></a>\n",
    "Los paquetes `socket`, `http`, `email` y `urllib` para realizar conexiones de red, manejar protocolos HTTP, procesar correos electrónicos y operar con URLs."
   ]
  },
  {
   "cell_type": "code",
   "execution_count": 43,
   "id": "ff7c5e16-3edb-4945-9907-3fada372e069",
   "metadata": {},
   "outputs": [
    {
     "name": "stdout",
     "output_type": "stream",
     "text": [
      "UNAM 15\n",
      "Plaza y Valdes 4\n",
      "UNAM, Coordinación de Desarrollo Educativo e Innovación Curricular 1\n",
      "UNAM, Secretaría de Desarrollo Institucional 2\n",
      "None 15\n",
      "Instituto Nacional de Ecología 1\n",
      "Imagia Comunicación 1\n",
      "Octagon Press, Limited 1\n"
     ]
    }
   ],
   "source": [
    "from collections import defaultdict\n",
    "from urllib.request import urlopen\n",
    "import json\n",
    "\n",
    "respuesta = urlopen('https://www.googleapis.com/books/v1/volumes?q=unam&maxResults=40')\n",
    "datos = respuesta.read().decode(\"utf-8\")\n",
    "libros = json.loads(datos)\n",
    "\n",
    "# Creamos un diccionario con valor default 0 para cada llave que no aparezca (int)\n",
    "cuentaEditorial = defaultdict(int)\n",
    "\n",
    "# Revisamos los libros del link (relacionados con UNAM) y contaremos\n",
    "# cuántos libros tiene cada editorial\n",
    "for item in libros[\"items\"]:\n",
    "    \n",
    "    # Usamos set default para establecer la editorial con un valor None\n",
    "    # En caso de que no se encuentre el valor de \"publisher\" en un libro\n",
    "    editorial = item[\"volumeInfo\"].setdefault(\"publisher\", \"None\")\n",
    "    \n",
    "    # El defaultdict nos permite hacer lo siguiente sin levantar errores para\n",
    "    # editoriales que no han aparecido antes\n",
    "    cuentaEditorial[editorial] += 1\n",
    "    \n",
    "for editorial, cuenta in cuentaEditorial.items():\n",
    "    print(editorial, cuenta)"
   ]
  },
  {
   "cell_type": "markdown",
   "id": "d78b3baf-44e5-46f1-8026-e6ccc2c170c3",
   "metadata": {},
   "source": [
    "#### <a style=\"padding:3px;color: #FF4D4D; \"><strong>Tiempo</strong></a>\n",
    "Los paquetes `datetime ` y  `time` son muy útiles para la manipulación de datos temporales como fechas y horas.\n",
    "El siguiente link contiene los diferentes códigos utilizados para formato de fechas\n",
    "https://docs.python.org/3/library/datetime.html#strftime-and-strptime-behavior"
   ]
  },
  {
   "cell_type": "code",
   "execution_count": 45,
   "id": "98a7f4fa-831b-4941-bb34-5aef6eb164a2",
   "metadata": {},
   "outputs": [
    {
     "name": "stdout",
     "output_type": "stream",
     "text": [
      "2025-05-02 01:51:36.625909\n"
     ]
    }
   ],
   "source": [
    "import datetime\n",
    "\n",
    "hoy = datetime.datetime.now()\n",
    "print(hoy)"
   ]
  },
  {
   "cell_type": "code",
   "execution_count": 46,
   "id": "ab924691-79cb-4af4-a131-e23ce78168ed",
   "metadata": {},
   "outputs": [
    {
     "name": "stdout",
     "output_type": "stream",
     "text": [
      "Friday, 02-May-2025  01:51\n"
     ]
    }
   ],
   "source": [
    "import datetime\n",
    "t = datetime.datetime.now()\n",
    "\n",
    "# Intentar correr el siguiente código intercambiando\n",
    "# %B por %A, %Y, %Z, %c, y %x\n",
    "# O poner \"%A, %d-%B-%Y %Z %H:%M\"\n",
    "print(t.strftime(\"%A, %d-%B-%Y %Z %H:%M\"))"
   ]
  },
  {
   "cell_type": "markdown",
   "id": "a367bb0d-304a-4408-9c8b-cf050b435f52",
   "metadata": {},
   "source": [
    "#### <a style=\"padding:3px;color: #FF4D4D; \"><strong>Manejo de Excepciones</strong></a>\n",
    "`try`, `except` y `raise` son palabras clave incluidas en la librería estándar que nos permiten gestionar errores y excepciones durante la ejecución de código."
   ]
  },
  {
   "cell_type": "markdown",
   "id": "680e9026-6fcc-4fbf-9e02-ffb092afbfd0",
   "metadata": {},
   "source": [
    "### <a style=\"padding:3px;color: #FF4D4D; \"><strong>Instalación de paquetes con Anaconda</strong></a>"
   ]
  },
  {
   "cell_type": "markdown",
   "id": "8f4833da-339e-444a-a92e-12ea5cbb88c7",
   "metadata": {},
   "source": [
    "Para instalar paquetes en Anaconda, se usa el comando `conda install <nombre del paquete>` desde la línea de comandos o desde cuadernos de Jupyter como se muestra a continuación. \n",
    "\n",
    "En este ejemplo, instalaremos el paquete seaborn, que es una herramienta de visualización de gráficos y diagramas."
   ]
  },
  {
   "cell_type": "code",
   "execution_count": 50,
   "id": "61c86ee6-be36-442e-bb70-f0f07443cf6d",
   "metadata": {},
   "outputs": [],
   "source": [
    "# Quitar comentarios para correr este código\n",
    "# Instalar algún paquete\n",
    "\n",
    "# import sys\n",
    "\n",
    "# !conda install --yes --prefix {sys.prefix} seaborn"
   ]
  },
  {
   "cell_type": "markdown",
   "id": "1b63db16-9015-4402-9831-d67535925668",
   "metadata": {},
   "source": [
    "La opción `--yes` sirve para responder automáticamente **sí** a los avisos de instalación, mientras que `--prefix` le indica a conda que instale el paquete en el kernel actual)."
   ]
  },
  {
   "cell_type": "markdown",
   "id": "0471246a-8968-411a-9ed3-f8e9b02f31b0",
   "metadata": {},
   "source": [
    "Para mostrar una lista de los paquetes Anaconda actualmente instalados, el comando utilizado es `conda list`.  Debemos de tener ahora en esta lista la librería `seaborn`. Es importante asegurarnos de tener también `numpy`, `pandas` y `matplotlib`, pues los usaremos más adelante."
   ]
  },
  {
   "cell_type": "code",
   "execution_count": 53,
   "id": "c5d5e29c-8fdf-4a67-a6b2-a3e1385efc38",
   "metadata": {
    "scrolled": true
   },
   "outputs": [
    {
     "name": "stdout",
     "output_type": "stream",
     "text": [
      "# packages in environment at C:\\Users\\emanu\\anaconda3:\n",
      "#\n",
      "# Name                    Version                   Build  Channel\n",
      "_anaconda_depends         2023.09             py311_mkl_1  \n",
      "aext-assistant            4.1.0           py311haa95532_jl4_0  \n",
      "aext-assistant-server     4.1.0           py311haa95532_0  \n",
      "aext-core                 4.1.0           py311haa95532_jl4_0  \n",
      "aext-core-server          4.1.0           py311haa95532_0  \n",
      "aext-panels               4.1.0           py311haa95532_0  \n",
      "aext-panels-server        4.1.0           py311haa95532_0  \n",
      "aext-project-filebrowser-server 4.1.0           py311haa95532_0  \n",
      "aext-share-notebook       4.1.0           py311haa95532_0  \n",
      "aext-share-notebook-server 4.1.0           py311haa95532_0  \n",
      "aext-shared               4.1.0           py311haa95532_0  \n",
      "aiobotocore               2.19.0          py311haa95532_0  \n",
      "aiohappyeyeballs          2.4.4           py311haa95532_0  \n",
      "aiohttp                   3.11.10         py311h827c3e9_0  \n",
      "aioitertools              0.7.1              pyhd3eb1b0_0  \n",
      "aiosignal                 1.2.0              pyhd3eb1b0_0  \n",
      "alabaster                 0.7.16          py311haa95532_0  \n",
      "alembic                   1.13.3          py311haa95532_0  \n",
      "anaconda-anon-usage       0.4.2           py311hfc23b7f_0  \n",
      "anaconda-auth             0.8.4           py311haa95532_0  \n",
      "anaconda-catalogs         0.2.0           py311haa95532_0  \n",
      "anaconda-cli-base         0.5.2           py311haa95532_0  \n",
      "anaconda-client           1.13.0          py311haa95532_1  \n",
      "anaconda-cloud-auth       0.8.4           py311haa95532_0  \n",
      "anaconda-navigator        2.6.5           py311haa95532_0  \n",
      "anaconda-project          0.11.1          py311haa95532_0  \n",
      "anaconda-toolbox          4.1.0           py311haa95532_0  \n",
      "annotated-types           0.6.0           py311haa95532_0  \n",
      "anyio                     4.7.0           py311haa95532_0  \n",
      "appdirs                   1.4.4              pyhd3eb1b0_0  \n",
      "argon2-cffi               21.3.0             pyhd3eb1b0_0  \n",
      "argon2-cffi-bindings      21.2.0          py311h827c3e9_1  \n",
      "arrow                     1.3.0           py311haa95532_0  \n",
      "arrow-cpp                 19.0.0               h33d5241_2  \n",
      "astroid                   2.14.2          py311haa95532_0  \n",
      "astropy                   7.0.0           py311h827c3e9_0  \n",
      "astropy-iers-data         0.2025.1.13.0.34.51 py311haa95532_0  \n",
      "asttokens                 3.0.0           py311haa95532_0  \n",
      "async-lru                 2.0.4           py311haa95532_0  \n",
      "atomicwrites              1.4.0                      py_0  \n",
      "attrs                     24.3.0          py311haa95532_0  \n",
      "automat                   24.8.1          py311haa95532_0  \n",
      "autopep8                  2.0.4              pyhd3eb1b0_0  \n",
      "aws-c-auth                0.6.19               h2bbff1b_0  \n",
      "aws-c-cal                 0.5.20               h2bbff1b_0  \n",
      "aws-c-common              0.8.5                h2bbff1b_0  \n",
      "aws-c-compression         0.2.16               h2bbff1b_0  \n",
      "aws-c-event-stream        0.2.15               hd77b12b_0  \n",
      "aws-c-http                0.6.25               h2bbff1b_0  \n",
      "aws-c-io                  0.13.10              h2bbff1b_0  \n",
      "aws-c-mqtt                0.7.13               h2bbff1b_0  \n",
      "aws-c-s3                  0.1.51               h2bbff1b_0  \n",
      "aws-c-sdkutils            0.1.6                h2bbff1b_0  \n",
      "aws-checksums             0.1.13               h2bbff1b_0  \n",
      "aws-crt-cpp               0.18.16              hd77b12b_0  \n",
      "aws-sdk-cpp               1.11.212             h6a15179_0  \n",
      "babel                     2.16.0          py311haa95532_0  \n",
      "backports                 1.1                pyhd3eb1b0_1  \n",
      "backports.functools_lru_cache 1.6.4              pyhd3eb1b0_0  \n",
      "backports.tarfile         1.2.0           py311haa95532_0  \n",
      "backports.tempfile        1.0                pyhd3eb1b0_1  \n",
      "backports.weakref         1.0.post1                  py_1  \n",
      "bcrypt                    3.2.0           py311h827c3e9_2  \n",
      "beautifulsoup4            4.12.3          py311haa95532_0  \n",
      "binaryornot               0.4.4              pyhd3eb1b0_1  \n",
      "black                     24.10.0         py311haa95532_0  \n",
      "blas                      1.0                         mkl  \n",
      "bleach                    6.2.0           py311haa95532_0  \n",
      "blinker                   1.9.0           py311haa95532_0  \n",
      "blosc                     1.21.3               h6c2663c_0  \n",
      "bokeh                     3.6.2           py311haa95532_0  \n",
      "boltons                   24.1.0          py311haa95532_0  \n",
      "boost-cpp                 1.82.0               h59b6b97_2  \n",
      "botocore                  1.36.3          py311haa95532_0  \n",
      "bottleneck                1.4.2           py311h57dcf0c_0  \n",
      "brotli-python             1.0.9           py311h5da7b33_9  \n",
      "bzip2                     1.0.8                h2bbff1b_6  \n",
      "c-ares                    1.19.1               h2bbff1b_0  \n",
      "c-blosc2                  2.12.0               h2f4ed9d_0  \n",
      "ca-certificates           2025.2.25            haa95532_0  \n",
      "certifi                   2025.4.26       py311haa95532_0  \n",
      "cffi                      1.17.1          py311h827c3e9_1  \n",
      "chardet                   4.0.0           py311haa95532_1003  \n",
      "charset-normalizer        3.3.2              pyhd3eb1b0_0  \n",
      "click                     8.1.8           py311haa95532_0  \n",
      "cloudpickle               3.0.0           py311haa95532_0  \n",
      "colorama                  0.4.6           py311haa95532_0  \n",
      "colorcet                  3.1.0           py311haa95532_0  \n",
      "comm                      0.2.1           py311haa95532_0  \n",
      "conda                     23.9.0          py311haa95532_0  \n",
      "conda-build               3.27.0          py311haa95532_0  \n",
      "conda-content-trust       0.2.0           py311haa95532_0  \n",
      "conda-index               0.6.0           py311haa95532_1  \n",
      "conda-libmamba-solver     23.7.0          py311haa95532_0  \n",
      "conda-pack                0.6.0              pyhd3eb1b0_0  \n",
      "conda-package-handling    2.2.0           py311haa95532_0  \n",
      "conda-package-streaming   0.9.0           py311haa95532_0  \n",
      "conda-repo-cli            1.0.165         py311haa95532_0  \n",
      "conda-token               0.6.0              pyhd3eb1b0_0  \n",
      "conda-verify              3.4.2                      py_1  \n",
      "console_shortcut          0.1.1                         4  \n",
      "constantly                23.10.4         py311haa95532_0  \n",
      "contourpy                 1.3.1           py311h214f63a_0  \n",
      "cookiecutter              2.6.0           py311haa95532_0  \n",
      "cpp-expected              1.1.0                h214f63a_0  \n",
      "cryptography              44.0.1          py311hbd6ee87_0  \n",
      "cssselect                 1.2.0           py311haa95532_0  \n",
      "curl                      8.12.1               h51539b2_0  \n",
      "cycler                    0.11.0             pyhd3eb1b0_0  \n",
      "cytoolz                   1.0.1           py311h827c3e9_0  \n",
      "daal4py                   2023.1.1        py311h30df693_0  \n",
      "dal                       2023.1.1         h59b6b97_48682  \n",
      "dask                      2025.2.0        py311haa95532_0  \n",
      "dask-core                 2025.2.0        py311haa95532_0  \n",
      "dask-expr                 2.0.0           py311haa95532_0  \n",
      "datasets                  3.3.2           py311haa95532_0  \n",
      "datashader                0.18.0          py311haa95532_0  \n",
      "debugpy                   1.8.11          py311h5da7b33_0  \n",
      "decorator                 5.1.1              pyhd3eb1b0_0  \n",
      "defusedxml                0.7.1              pyhd3eb1b0_0  \n",
      "diff-match-patch          20200713           pyhd3eb1b0_0  \n",
      "dill                      0.3.8           py311haa95532_0  \n",
      "distributed               2025.2.0        py311haa95532_0  \n",
      "docstring-to-markdown     0.11            py311haa95532_0  \n",
      "docutils                  0.21.2          py311haa95532_0  \n",
      "et_xmlfile                1.1.0           py311haa95532_0  \n",
      "executing                 0.8.3              pyhd3eb1b0_0  \n",
      "filelock                  3.17.0          py311haa95532_0  \n",
      "flake8                    6.0.0           py311haa95532_0  \n",
      "flask                     3.1.0           py311haa95532_0  \n",
      "fmt                       9.1.0                h6d14046_1  \n",
      "fonttools                 4.55.3          py311h827c3e9_0  \n",
      "freeglut                  3.4.0                hd77b12b_0  \n",
      "freetype                  2.13.3               h0620614_0  \n",
      "frozenlist                1.5.0           py311h827c3e9_0  \n",
      "fsspec                    2024.12.0       py311haa95532_0  \n",
      "future                    1.0.0           py311haa95532_0  \n",
      "gensim                    4.3.3           py311hea22821_0  \n",
      "gflags                    2.2.2                hd77b12b_1  \n",
      "glog                      0.5.0                hd77b12b_1  \n",
      "gmp                       6.3.0                h537511b_0  \n",
      "gmpy2                     2.2.1           py311h827c3e9_0  \n",
      "greenlet                  3.1.1           py311h5da7b33_0  \n",
      "h11                       0.14.0          py311haa95532_0  \n",
      "h5py                      3.12.1          py311h535c9fb_1  \n",
      "hdf5                      1.14.5               ha36df97_2  \n",
      "heapdict                  1.0.1              pyhd3eb1b0_0  \n",
      "holoviews                 1.20.2          py311haa95532_0  \n",
      "httpcore                  1.0.2           py311haa95532_0  \n",
      "httpx                     0.27.0          py311haa95532_0  \n",
      "huggingface_hub           0.29.2          py311haa95532_0  \n",
      "hvplot                    0.11.2          py311haa95532_0  \n",
      "hyperlink                 21.0.0             pyhd3eb1b0_0  \n",
      "icc_rt                    2022.1.0             h6049295_2  \n",
      "icu                       73.1                 h6c2663c_0  \n",
      "idna                      3.7             py311haa95532_0  \n",
      "imageio                   2.37.0          py311haa95532_0  \n",
      "imagesize                 1.4.1           py311haa95532_0  \n",
      "imbalanced-learn          0.13.0          py311haa95532_0  \n",
      "importlib-metadata        8.5.0           py311haa95532_0  \n",
      "incremental               24.7.2             pyhd3eb1b0_0  \n",
      "inflection                0.5.1           py311haa95532_0  \n",
      "iniconfig                 1.1.1              pyhd3eb1b0_0  \n",
      "intake                    2.0.7           py311haa95532_0  \n",
      "intel-openmp              2023.1.0         h59b6b97_46320  \n",
      "intervaltree              3.1.0              pyhd3eb1b0_0  \n",
      "ipykernel                 6.29.5          py311haa95532_1  \n",
      "ipython                   8.30.0          py311haa95532_0  \n",
      "ipython_genutils          0.2.0              pyhd3eb1b0_1  \n",
      "ipywidgets                8.1.5           py311haa95532_0  \n",
      "isort                     5.9.3              pyhd3eb1b0_0  \n",
      "itemadapter               0.3.0              pyhd3eb1b0_0  \n",
      "itemloaders               1.3.2           py311haa95532_0  \n",
      "itsdangerous              2.2.0           py311haa95532_0  \n",
      "jaraco.classes            3.2.1              pyhd3eb1b0_0  \n",
      "jaraco.context            6.0.0           py311haa95532_0  \n",
      "jaraco.functools          4.1.0           py311haa95532_0  \n",
      "jedi                      0.18.1          py311haa95532_1  \n",
      "jellyfish                 1.1.3           py311h8ecf97c_0  \n",
      "jinja2                    3.1.6           py311haa95532_0  \n",
      "jmespath                  1.0.1           py311haa95532_0  \n",
      "joblib                    1.4.2           py311haa95532_0  \n",
      "jpeg                      9e                   h827c3e9_3  \n",
      "jq                        1.6                  haa95532_1  \n",
      "json5                     0.9.25          py311haa95532_0  \n",
      "jsonpatch                 1.33            py311haa95532_1  \n",
      "jsonpointer               2.1                pyhd3eb1b0_0  \n",
      "jsonschema                4.23.0          py311haa95532_0  \n",
      "jsonschema-specifications 2023.7.1        py311haa95532_0  \n",
      "jupyter                   1.1.1           py311haa95532_0  \n",
      "jupyter-lsp               2.2.5           py311haa95532_0  \n",
      "jupyter_client            8.6.3           py311haa95532_0  \n",
      "jupyter_console           6.6.3           py311haa95532_0  \n",
      "jupyter_core              5.7.2           py311haa95532_0  \n",
      "jupyter_events            0.12.0          py311haa95532_0  \n",
      "jupyter_server            2.15.0          py311haa95532_0  \n",
      "jupyter_server_terminals  0.5.3           py311haa95532_0  \n",
      "jupyterlab                4.3.4           py311haa95532_0  \n",
      "jupyterlab_pygments       0.3.0           py311haa95532_0  \n",
      "jupyterlab_server         2.27.3          py311haa95532_0  \n",
      "jupyterlab_widgets        3.0.13          py311haa95532_0  \n",
      "kaleido-core              0.2.1                h2bbff1b_0  \n",
      "keyring                   25.6.0          py311haa95532_0  \n",
      "kiwisolver                1.4.8           py311h5da7b33_0  \n",
      "krb5                      1.20.1               h5b6d351_0  \n",
      "lazy-object-proxy         1.10.0          py311h827c3e9_1  \n",
      "lazy_loader               0.4             py311haa95532_0  \n",
      "lcms2                     2.16                 h62be587_1  \n",
      "lerc                      4.0.0                h5da7b33_0  \n",
      "libabseil                 20250127.0      cxx17_h52369b4_0  \n",
      "libarchive                3.7.7                h9243413_0  \n",
      "libboost                  1.82.0               h3399ecb_2  \n",
      "libbrotlicommon           1.0.9                h827c3e9_9  \n",
      "libbrotlidec              1.0.9                h827c3e9_9  \n",
      "libbrotlienc              1.0.9                h827c3e9_9  \n",
      "libclang                  14.0.6          default_hb5a9fac_2  \n",
      "libclang13                14.0.6          default_h8e68704_2  \n",
      "libcurl                   8.12.1               h9da9810_0  \n",
      "libdeflate                1.22                 h5bf469e_0  \n",
      "libevent                  2.1.12               h56d1f94_1  \n",
      "libffi                    3.4.4                hd77b12b_1  \n",
      "libgrpc                   1.71.0               hf4237ab_0  \n",
      "libiconv                  1.16                 h2bbff1b_3  \n",
      "liblief                   0.12.3               hd77b12b_0  \n",
      "libmamba                  2.0.5                hcd6fe79_1  \n",
      "libmambapy                2.0.5           py311h214f63a_1  \n",
      "libpng                    1.6.39               h8cc25b3_0  \n",
      "libpq                     17.4                 h70ee33d_0  \n",
      "libprotobuf               5.29.3               hac4c8cb_0  \n",
      "libre2-11                 2024.07.02           h5da7b33_0  \n",
      "libsodium                 1.0.18               h62dcd97_0  \n",
      "libsolv                   0.7.30               hf2fb9eb_1  \n",
      "libspatialindex           1.9.3                h6c2663c_0  \n",
      "libssh2                   1.11.1               h2addb87_0  \n",
      "libthrift                 0.15.0               h4364b78_2  \n",
      "libtiff                   4.7.0                h404307b_0  \n",
      "libwebp-base              1.3.2                h3d04722_1  \n",
      "libxml2                   2.13.8               h866ff63_0  \n",
      "libxslt                   1.1.41               h0739af5_0  \n",
      "linkify-it-py             2.0.0           py311haa95532_0  \n",
      "llvmlite                  0.44.0          py311h8b1c7eb_1  \n",
      "locket                    1.0.0           py311haa95532_0  \n",
      "lxml                      5.3.0           py311h395c83e_1  \n",
      "lz4                       4.3.2           py311h827c3e9_1  \n",
      "lz4-c                     1.9.4                h2bbff1b_1  \n",
      "lzo                       2.10                 he774522_2  \n",
      "m2-msys2-runtime          2.5.0.17080.65c939c               3  \n",
      "m2-patch                  2.7.5                         2  \n",
      "m2w64-libwinpthread-git   5.0.0.4634.697f757               2  \n",
      "mako                      1.2.3           py311haa95532_0  \n",
      "markdown                  3.4.1           py311haa95532_0  \n",
      "markdown-it-py            2.2.0           py311haa95532_1  \n",
      "markupsafe                3.0.2           py311h827c3e9_0  \n",
      "mathjax                   2.7.5                haa95532_0  \n",
      "matplotlib                3.10.0          py311haa95532_0  \n",
      "matplotlib-base           3.10.0          py311he19b0ae_0  \n",
      "matplotlib-inline         0.1.6           py311haa95532_0  \n",
      "mccabe                    0.7.0              pyhd3eb1b0_0  \n",
      "mdit-py-plugins           0.3.0           py311haa95532_0  \n",
      "mdurl                     0.1.0           py311haa95532_0  \n",
      "menuinst                  1.4.19          py311h59b6b97_1  \n",
      "mistune                   3.1.2           py311haa95532_0  \n",
      "mkl                       2023.1.0         h6b88ed4_46358  \n",
      "mkl-service               2.4.0           py311h827c3e9_2  \n",
      "mkl_fft                   1.3.11          py311h827c3e9_0  \n",
      "mkl_random                1.2.8           py311hea22821_0  \n",
      "more-itertools            10.3.0          py311haa95532_0  \n",
      "mpc                       1.3.1                h827c3e9_0  \n",
      "mpfr                      4.2.1                h56c3642_0  \n",
      "mpmath                    1.3.0           py311haa95532_0  \n",
      "msgpack-python            1.0.3           py311h59b6b97_0  \n",
      "msys2-conda-epoch         20160418                      1  \n",
      "multidict                 6.1.0           py311h827c3e9_0  \n",
      "multipledispatch          0.6.0           py311haa95532_0  \n",
      "multiprocess              0.70.15         py311haa95532_0  \n",
      "mypy_extensions           1.0.0           py311haa95532_0  \n",
      "narwhals                  1.31.0          py311haa95532_1  \n",
      "navigator-updater         0.5.1           py311haa95532_0  \n",
      "nb_conda_kernels          2.5.2           py311haa95532_1  \n",
      "nbclient                  0.10.2          py311haa95532_0  \n",
      "nbconvert                 7.16.6          py311haa95532_0  \n",
      "nbconvert-core            7.16.6          py311haa95532_0  \n",
      "nbconvert-pandoc          7.16.6          py311haa95532_0  \n",
      "nbformat                  5.10.4          py311haa95532_0  \n",
      "nest-asyncio              1.6.0           py311haa95532_0  \n",
      "networkx                  3.4.2           py311haa95532_0  \n",
      "nlohmann_json             3.11.2               h6c2663c_0  \n",
      "nltk                      3.9.1           py311haa95532_0  \n",
      "notebook                  7.3.2           py311haa95532_0  \n",
      "notebook-shim             0.2.4           py311haa95532_0  \n",
      "numba                     0.61.0          py311h5da7b33_1  \n",
      "numexpr                   2.10.1          py311h4cd664f_0  \n",
      "numpy                     1.26.4          py311hdab7c0b_0  \n",
      "numpy-base                1.26.4          py311hd01c5d8_0  \n",
      "numpydoc                  1.7.0           py311haa95532_0  \n",
      "openjpeg                  2.5.2                h9b5d1b5_1  \n",
      "openpyxl                  3.1.5           py311h827c3e9_1  \n",
      "openssl                   3.0.16               h3f729d1_0  \n",
      "orc                       2.1.1                hd1c1d5c_0  \n",
      "overrides                 7.4.0           py311haa95532_0  \n",
      "packaging                 24.2            py311haa95532_0  \n",
      "pandas                    2.2.3           py311h5da7b33_0  \n",
      "pandoc                    2.12                 haa95532_3  \n",
      "pandocfilters             1.5.0              pyhd3eb1b0_0  \n",
      "panel                     1.6.0           py311haa95532_0  \n",
      "param                     2.2.0           py311haa95532_0  \n",
      "paramiko                  3.5.0           py311haa95532_0  \n",
      "parsel                    1.8.1           py311haa95532_0  \n",
      "parso                     0.8.4           py311haa95532_0  \n",
      "partd                     1.4.2           py311haa95532_0  \n",
      "pathspec                  0.10.3          py311haa95532_0  \n",
      "patsy                     1.0.1           py311haa95532_0  \n",
      "pcre2                     10.42                h0ff8eda_1  \n",
      "pep8                      1.7.1           py311haa95532_1  \n",
      "pexpect                   4.8.0              pyhd3eb1b0_3  \n",
      "pickleshare               0.7.5           pyhd3eb1b0_1003  \n",
      "pillow                    11.1.0          py311hea0d53e_1  \n",
      "pip                       23.2.1          py311haa95532_0  \n",
      "pkce                      1.0.3           py311haa95532_0  \n",
      "pkginfo                   1.12.0          py311haa95532_0  \n",
      "platformdirs              4.3.7           py311haa95532_0  \n",
      "plotly                    6.0.1           py311hbc747e5_0  \n",
      "pluggy                    1.5.0           py311haa95532_0  \n",
      "ply                       3.11            py311haa95532_0  \n",
      "powershell_shortcut       0.0.1                         3  \n",
      "prometheus_client         0.21.1          py311haa95532_0  \n",
      "prompt-toolkit            3.0.43          py311haa95532_0  \n",
      "prompt_toolkit            3.0.43               hd3eb1b0_0  \n",
      "propcache                 0.3.1           py311h827c3e9_0  \n",
      "protego                   0.1.16                     py_0  \n",
      "protobuf                  5.29.3          py311h5da7b33_0  \n",
      "psutil                    5.9.0           py311h827c3e9_1  \n",
      "ptyprocess                0.7.0              pyhd3eb1b0_2  \n",
      "pure_eval                 0.2.2              pyhd3eb1b0_0  \n",
      "py-cpuinfo                9.0.0           py311haa95532_0  \n",
      "py-lief                   0.12.3          py311hd77b12b_0  \n",
      "pyarrow                   19.0.0          py311h5da7b33_1  \n",
      "pyasn1                    0.4.8              pyhd3eb1b0_0  \n",
      "pyasn1-modules            0.2.8                      py_0  \n",
      "pybind11-abi              5                    hd3eb1b0_0  \n",
      "pycodestyle               2.10.0          py311haa95532_0  \n",
      "pycosat                   0.6.6           py311h827c3e9_2  \n",
      "pycparser                 2.21               pyhd3eb1b0_0  \n",
      "pyct                      0.5.0           py311haa95532_0  \n",
      "pycurl                    7.45.6          py311h51539b2_0  \n",
      "pydantic                  2.10.3          py311haa95532_0  \n",
      "pydantic-core             2.27.1          py311h636fa0f_0  \n",
      "pydantic-settings         2.6.1           py311haa95532_0  \n",
      "pydispatcher              2.0.5           py311haa95532_2  \n",
      "pydocstyle                6.3.0           py311haa95532_0  \n",
      "pyerfa                    2.0.1.5         py311h827c3e9_0  \n",
      "pyflakes                  3.0.1           py311haa95532_0  \n",
      "pygments                  2.19.1          py311haa95532_0  \n",
      "pyjwt                     2.10.1          py311haa95532_0  \n",
      "pylint                    2.16.2          py311haa95532_0  \n",
      "pylint-venv               3.0.3           py311haa95532_0  \n",
      "pyls-spyder               0.4.0              pyhd3eb1b0_0  \n",
      "pynacl                    1.5.0           py311h7edc060_1  \n",
      "pyodbc                    5.2.0           py311h5da7b33_0  \n",
      "pyopenssl                 25.0.0          py311hb6ff9d5_0  \n",
      "pyparsing                 3.2.0           py311haa95532_0  \n",
      "pyqt                      5.15.10         py311h5da7b33_1  \n",
      "pyqt5-sip                 12.13.0         py311h827c3e9_1  \n",
      "pyqtwebengine             5.15.10         py311h5da7b33_1  \n",
      "pysocks                   1.7.1           py311haa95532_0  \n",
      "pytables                  3.10.2          py311he42c613_1  \n",
      "pytest                    8.3.4           py311haa95532_0  \n",
      "python                    3.11.5               he1021f5_0  \n",
      "python-dateutil           2.9.0post0      py311haa95532_2  \n",
      "python-dotenv             1.1.0           py311haa95532_0  \n",
      "python-fastjsonschema     2.20.0          py311haa95532_0  \n",
      "python-json-logger        3.2.1           py311haa95532_0  \n",
      "python-kaleido            0.2.1           py311haa95532_0  \n",
      "python-libarchive-c       5.1                pyhd3eb1b0_0  \n",
      "python-lmdb               1.6.2           py311h5da7b33_0  \n",
      "python-lsp-black          2.0.0           py311haa95532_1  \n",
      "python-lsp-jsonrpc        1.1.2              pyhd3eb1b0_0  \n",
      "python-lsp-server         1.7.2           py311haa95532_0  \n",
      "python-slugify            5.0.2              pyhd3eb1b0_0  \n",
      "python-tzdata             2023.3             pyhd3eb1b0_0  \n",
      "python-xxhash             3.5.0           py311h827c3e9_0  \n",
      "pytoolconfig              1.2.6           py311haa95532_0  \n",
      "pytz                      2024.1          py311haa95532_0  \n",
      "pyviz_comms               3.0.2           py311haa95532_0  \n",
      "pywavelets                1.8.0           py311h827c3e9_0  \n",
      "pywin32                   308             py311h5da7b33_0  \n",
      "pywin32-ctypes            0.2.2           py311haa95532_0  \n",
      "pywinpty                  2.0.15          py311h72d21ff_0  \n",
      "pyyaml                    6.0.2           py311h827c3e9_0  \n",
      "pyzmq                     26.2.0          py311h5da7b33_0  \n",
      "qdarkstyle                3.0.2              pyhd3eb1b0_0  \n",
      "qstylizer                 0.2.2           py311haa95532_0  \n",
      "qt-main                   5.15.2              h19c9488_12  \n",
      "qt-webengine              5.15.9               h5bd16bc_7  \n",
      "qtawesome                 1.4.0           py311haa95532_0  \n",
      "qtconsole                 5.4.2           py311haa95532_0  \n",
      "qtpy                      2.4.1           py311haa95532_0  \n",
      "queuelib                  1.6.2           py311haa95532_0  \n",
      "re2                       2024.07.02           h214f63a_0  \n",
      "readchar                  4.0.5           py311haa95532_0  \n",
      "referencing               0.30.2          py311haa95532_0  \n",
      "regex                     2024.11.6       py311h827c3e9_0  \n",
      "reproc                    14.2.4               hd77b12b_2  \n",
      "reproc-cpp                14.2.4               hd77b12b_2  \n",
      "requests                  2.32.3          py311haa95532_1  \n",
      "requests-file             1.5.1              pyhd3eb1b0_0  \n",
      "requests-toolbelt         1.0.0           py311haa95532_0  \n",
      "rfc3339-validator         0.1.4           py311haa95532_0  \n",
      "rfc3986-validator         0.1.1           py311haa95532_0  \n",
      "rich                      13.9.4          py311haa95532_0  \n",
      "roman-numerals-py         3.1.0           py311haa95532_0  \n",
      "rope                      1.13.0          py311haa95532_0  \n",
      "rpds-py                   0.22.3          py311h636fa0f_0  \n",
      "rtree                     1.0.1           py311h2eaa2aa_0  \n",
      "ruamel.yaml               0.17.21         py311h2bbff1b_0  \n",
      "ruamel_yaml               0.17.21         py311h2bbff1b_0  \n",
      "s3fs                      2024.12.0       py311haa95532_0  \n",
      "safetensors               0.5.3           py311h8eb67e2_0  \n",
      "scikit-image              0.25.0          py311h5da7b33_0  \n",
      "scikit-learn              1.6.1           py311h585ebfc_0  \n",
      "scikit-learn-intelex      2023.1.1        py311haa95532_0  \n",
      "scipy                     1.13.1          py311h9f229c6_1  \n",
      "scrapy                    2.12.0          py311haa95532_1  \n",
      "seaborn                   0.13.2          py311haa95532_2  \n",
      "semver                    3.0.2           py311haa95532_1  \n",
      "send2trash                1.8.2           py311haa95532_1  \n",
      "sentry-sdk                2.18.0          py311haa95532_0  \n",
      "service_identity          18.1.0             pyhd3eb1b0_1  \n",
      "setuptools                68.0.0          py311haa95532_0  \n",
      "shellingham               1.5.0           py311haa95532_0  \n",
      "simdjson                  3.10.1               h214f63a_0  \n",
      "sip                       6.7.12          py311h5da7b33_1  \n",
      "six                       1.17.0          py311haa95532_0  \n",
      "sklearn-compat            0.1.3           py311haa95532_0  \n",
      "smart_open                5.2.1           py311haa95532_0  \n",
      "snappy                    1.2.1                hcdb6601_0  \n",
      "sniffio                   1.3.0           py311haa95532_0  \n",
      "snowballstemmer           2.2.0              pyhd3eb1b0_0  \n",
      "sortedcontainers          2.4.0              pyhd3eb1b0_0  \n",
      "soupsieve                 2.5             py311haa95532_0  \n",
      "spdlog                    1.11.0               h59b6b97_0  \n",
      "sphinx                    8.2.3           py311h827c3e9_0  \n",
      "sphinxcontrib-applehelp   2.0.0              pyhd3eb1b0_1  \n",
      "sphinxcontrib-devhelp     2.0.0              pyhd3eb1b0_0  \n",
      "sphinxcontrib-htmlhelp    2.1.0              pyhd3eb1b0_0  \n",
      "sphinxcontrib-jsmath      1.0.1              pyhd3eb1b0_0  \n",
      "sphinxcontrib-qthelp      2.0.0              pyhd3eb1b0_1  \n",
      "sphinxcontrib-serializinghtml 2.0.0              pyhd3eb1b0_0  \n",
      "spyder                    5.4.3           py311haa95532_1  \n",
      "spyder-kernels            2.4.4           py311haa95532_0  \n",
      "sqlalchemy                2.0.39          py311h54f65d0_0  \n",
      "sqlite                    3.45.3               h2bbff1b_0  \n",
      "stack_data                0.2.0              pyhd3eb1b0_0  \n",
      "statsmodels               0.14.4          py311h827c3e9_0  \n",
      "sympy                     1.13.3          py311haa95532_1  \n",
      "tabulate                  0.9.0           py311haa95532_0  \n",
      "tbb                       2021.8.0             h59b6b97_0  \n",
      "tbb4py                    2021.8.0        py311h59b6b97_0  \n",
      "tblib                     1.7.0              pyhd3eb1b0_0  \n",
      "terminado                 0.17.1          py311haa95532_0  \n",
      "text-unidecode            1.3                pyhd3eb1b0_0  \n",
      "textdistance              4.6.3           py311h746a85d_0  \n",
      "threadpoolctl             3.5.0           py311h746a85d_0  \n",
      "three-merge               0.1.1              pyhd3eb1b0_0  \n",
      "tifffile                  2025.2.18       py311haa95532_0  \n",
      "tinycss2                  1.4.0           py311haa95532_0  \n",
      "tk                        8.6.14               h0416ee5_0  \n",
      "tldextract                5.1.2           py311haa95532_0  \n",
      "tokenizers                0.21.0          py311hbb1481a_0  \n",
      "toml                      0.10.2             pyhd3eb1b0_0  \n",
      "tomli                     2.0.1           py311haa95532_0  \n",
      "tomlkit                   0.13.2          py311haa95532_0  \n",
      "toolz                     1.0.0           py311haa95532_0  \n",
      "tornado                   6.4.2           py311h827c3e9_0  \n",
      "tqdm                      4.67.1          py311h746a85d_0  \n",
      "traitlets                 5.14.3          py311haa95532_0  \n",
      "transformers              4.49.0          py311haa95532_0  \n",
      "truststore                0.10.0          py311haa95532_0  \n",
      "twisted                   24.11.0         py311haa95532_0  \n",
      "twisted-iocpsupport       1.0.2           py311h827c3e9_1  \n",
      "typer                     0.9.0           py311haa95532_0  \n",
      "typing-extensions         4.12.2          py311haa95532_0  \n",
      "typing_extensions         4.12.2          py311haa95532_0  \n",
      "tzdata                    2025a                h04d1e81_0  \n",
      "uc-micro-py               1.0.1           py311haa95532_0  \n",
      "ujson                     5.10.0          py311h5da7b33_1  \n",
      "unicodedata2              15.1.0          py311h827c3e9_1  \n",
      "unidecode                 1.3.8           py311haa95532_0  \n",
      "urllib3                   2.3.0           py311haa95532_0  \n",
      "utf8proc                  2.6.1                h2bbff1b_1  \n",
      "vc                        14.42                haa95532_5  \n",
      "vs2015_runtime            14.42.34433          hbfb602d_5  \n",
      "w3lib                     2.1.2           py311haa95532_0  \n",
      "watchdog                  4.0.2           py311haa95532_0  \n",
      "wcwidth                   0.2.5              pyhd3eb1b0_0  \n",
      "webencodings              0.5.1           py311haa95532_1  \n",
      "websocket-client          1.8.0           py311haa95532_0  \n",
      "werkzeug                  3.1.3           py311haa95532_0  \n",
      "whatthepatch              1.0.2           py311haa95532_0  \n",
      "wheel                     0.38.4          py311haa95532_0  \n",
      "widgetsnbextension        4.0.13          py311haa95532_0  \n",
      "win_inet_pton             1.1.0           py311haa95532_0  \n",
      "winpty                    0.4.3                         4  \n",
      "wrapt                     1.17.0          py311h827c3e9_0  \n",
      "xarray                    2024.11.0       py311haa95532_0  \n",
      "xlwings                   0.32.1          py311haa95532_1  \n",
      "xxhash                    0.8.0                h2bbff1b_3  \n",
      "xyzservices               2022.9.0        py311haa95532_1  \n",
      "xz                        5.6.4                h4754444_1  \n",
      "yaml                      0.2.5                he774522_0  \n",
      "yaml-cpp                  0.8.0                hd77b12b_1  \n",
      "yapf                      0.31.0             pyhd3eb1b0_0  \n",
      "yarl                      1.18.0          py311h827c3e9_0  \n",
      "zeromq                    4.3.5                hd77b12b_0  \n",
      "zict                      3.0.0           py311haa95532_0  \n",
      "zipp                      3.21.0          py311haa95532_0  \n",
      "zlib                      1.2.13               h8cc25b3_1  \n",
      "zlib-ng                   2.0.7                h2bbff1b_0  \n",
      "zope                      1.0             py311haa95532_1  \n",
      "zope.interface            7.1.1           py311h827c3e9_0  \n",
      "zstandard                 0.23.0          py311h4fc1ca9_1  \n",
      "zstd                      1.5.6                h8880b57_0  \n"
     ]
    }
   ],
   "source": [
    "!conda list"
   ]
  },
  {
   "cell_type": "markdown",
   "id": "2c02dbc7-c594-4a8f-8d3b-35fb943cea71",
   "metadata": {},
   "source": [
    "Ahora, podemos actualizar los paquetes de Anaconda que tenemos instalados. Para hacer eso, el comando es ```conda update <nombre del paquete>```.  \n",
    "\n",
    "Nuevamente usamos la opción `--yes` para llenar automáticamente las confirmaciones con \"sí\"."
   ]
  },
  {
   "cell_type": "code",
   "execution_count": 55,
   "id": "13cbc30b-bfc0-471e-87b6-f6c333e225a6",
   "metadata": {},
   "outputs": [],
   "source": [
    "# Actualizar únicamente una librería\n",
    "# Quitar comentario para correr este código\n",
    "\n",
    "# conda update pandas --yes"
   ]
  },
  {
   "cell_type": "markdown",
   "id": "8040d210-5c9c-403b-bda5-b9b34849955a",
   "metadata": {},
   "source": [
    "También podemos actualizar todos los paquetes que tiene Anaconda instalados actualmente con el comando ```conda update --all```\n",
    "\n",
    "**Cuidado!** Esto puede tomar un tiempo dependiendo de cuántos paquetes necesitan ser actualizados!!!"
   ]
  },
  {
   "cell_type": "code",
   "execution_count": 57,
   "id": "0b0c13d7-58f8-4347-8d32-62e4663309c3",
   "metadata": {},
   "outputs": [],
   "source": [
    "# Quita los comentarios si deseas actualizar todos los paquetes de anaconda\n",
    "# Cuidado, esto podría llevar MUCHO tiempo\n",
    "\n",
    "# conda update --all --yes"
   ]
  }
 ],
 "metadata": {
  "kernelspec": {
   "display_name": "Python [conda env:base] *",
   "language": "python",
   "name": "conda-base-py"
  },
  "language_info": {
   "codemirror_mode": {
    "name": "ipython",
    "version": 3
   },
   "file_extension": ".py",
   "mimetype": "text/x-python",
   "name": "python",
   "nbconvert_exporter": "python",
   "pygments_lexer": "ipython3",
   "version": "3.11.5"
  }
 },
 "nbformat": 4,
 "nbformat_minor": 5
}
