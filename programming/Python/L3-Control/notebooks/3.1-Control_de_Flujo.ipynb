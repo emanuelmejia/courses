{
 "cells": [
  {
   "cell_type": "markdown",
   "id": "d453d994-f763-4cd7-8960-87f7375ca536",
   "metadata": {},
   "source": [
    "<div style=\"padding:10px;background-color: #FF4D4D; color:white;font-size:28px;\"><strong>Control - Condicionales y Bucles</strong></div>"
   ]
  },
  {
   "cell_type": "markdown",
   "id": "76a7cfbe-e11f-449b-b08a-8149ac91e794",
   "metadata": {},
   "source": [
    "Hasta ahora, hemos escrito programas lineales, lo que significa que cada instrucción se ejecuta exactamente una vez en orden. \n",
    "\n",
    "A esto podríamos llamarlo programación en **estilo script**. Muchas veces, cuando cargamos y analizamos un conjunto de datos, utilizamos un programa lineal.\n",
    "\n",
    "Por otro lado, hay muchas aplicaciones de programación que requieren estructuras de código más avanzadas. Para implementar la mayoría de los algoritmos avanzados, debemos hacer cosas como ejecutar instrucciones más de una vez y tomar decisiones sobre qué instrucciones ejecutar. Este es un tema que llamamos control de flujo."
   ]
  },
  {
   "cell_type": "markdown",
   "id": "3c89485e-c0c6-4c17-a976-ee5b0b2e81d0",
   "metadata": {},
   "source": [
    "## <a style=\"padding:3px;color: #FF4D4D; \"><strong>Condicionales</strong></a>"
   ]
  },
  {
   "cell_type": "markdown",
   "id": "df3dbec7-356f-4ff7-b898-7eec34a0595e",
   "metadata": {},
   "source": [
    "La primera estructura de control que examinaremos es la instrucción `if`. La instrucción `if` nos permite tomar decisiones sobre qué instrucciones queremos ejecutar. Aquí tienes un ejemplo sencillo."
   ]
  },
  {
   "cell_type": "code",
   "execution_count": 5,
   "id": "739b004d-d9ae-4523-b96e-bce8410309bc",
   "metadata": {},
   "outputs": [
    {
     "name": "stdin",
     "output_type": "stream",
     "text": [
      "Ingresa un número entero:  16\n"
     ]
    },
    {
     "name": "stdout",
     "output_type": "stream",
     "text": [
      "Par\n"
     ]
    }
   ],
   "source": [
    "x = int(input(\"Ingresa un número entero: \"))\n",
    "\n",
    "# Estructura if\n",
    "if x%2 == 0:\n",
    "    print(\"Par\")"
   ]
  },
  {
   "cell_type": "markdown",
   "id": "d167e109-db07-48d6-8df9-80d66ecb44aa",
   "metadata": {},
   "source": [
    "Revisando la estructura, notamos que:\n",
    "\n",
    "- La palabra clave `if` está seguida por una **expresión condicional** que se evalúa como True o False, y luego vienen **dos puntos**. \n",
    "\n",
    "- El cuerpo dentro de la instrucción `if`, en este caso la función `print`, está indentado. Eso nos indica que solo se ejecutará si la condición del if es verdadera. \n",
    "\n",
    "Intenta ingresar diferentes valores y observa que la instrucción print solo se ejecuta si el número que escribes es par.\n",
    "\n",
    "¿Pero y si deseamos poner un número non?\n",
    "\n",
    "La instrucción `if` se puede extender usando la palabra clave `else`. Esta combinación nos permite elegir entre un conjunto de instrucciones y otro."
   ]
  },
  {
   "cell_type": "code",
   "execution_count": 7,
   "id": "ec74c1ba-17cf-4d55-a735-f0c92ff3d482",
   "metadata": {},
   "outputs": [
    {
     "name": "stdin",
     "output_type": "stream",
     "text": [
      "Ingresa un número entero:  -5\n"
     ]
    },
    {
     "name": "stdout",
     "output_type": "stream",
     "text": [
      "Non\n"
     ]
    }
   ],
   "source": [
    "x = int(input(\"Ingresa un número entero: \"))\n",
    "\n",
    "# Estructura if-else\n",
    "if x%2 == 0:\n",
    "    print(\"Par\")\n",
    "else:\n",
    "    print(\"Non\")"
   ]
  },
  {
   "cell_type": "markdown",
   "id": "d44d3bbd-1784-40a0-8eb7-e6e040a1f021",
   "metadata": {},
   "source": [
    "Escribe algunos valores y observa cómo se comporta este programa. \n",
    "\n",
    "Para elecciones más elaboradas, puede que queramos anidar instrucciones if dentro de otras."
   ]
  },
  {
   "cell_type": "code",
   "execution_count": 9,
   "id": "4a7dd247-f08d-490a-896f-f293973048e9",
   "metadata": {},
   "outputs": [
    {
     "name": "stdin",
     "output_type": "stream",
     "text": [
      "Ingresa un número entero:  -4\n"
     ]
    },
    {
     "name": "stdout",
     "output_type": "stream",
     "text": [
      "Par\n",
      "Y Negativo\n"
     ]
    }
   ],
   "source": [
    "x = int(input(\"Ingresa un número entero: \"))\n",
    "\n",
    "# Estructura if anidada\n",
    "if x%2 == 0:\n",
    "    print(\"Par\")\n",
    "    if x<0:\n",
    "        print(\"Y Negativo\")\n",
    "    else:\n",
    "        print(\"Y Positivo\")"
   ]
  },
  {
   "cell_type": "markdown",
   "id": "daa145fa-03b9-4025-a550-1b2395eac339",
   "metadata": {},
   "source": [
    "En el siguiente ejemplo utilizaremos una estructura if-else anidada para seleccionar una calificación con letra."
   ]
  },
  {
   "cell_type": "code",
   "execution_count": 11,
   "id": "f2ee193a-8af3-4975-b838-45287173a132",
   "metadata": {},
   "outputs": [
    {
     "name": "stdin",
     "output_type": "stream",
     "text": [
      "Ingresa tu calificación:  76\n"
     ]
    },
    {
     "name": "stdout",
     "output_type": "stream",
     "text": [
      "Panzaste\n",
      "Dale gracias a Dios\n"
     ]
    }
   ],
   "source": [
    "x = int(input(\"Ingresa tu calificación: \"))\n",
    "\n",
    "if x >= 90:\n",
    "    print(\"Obtuviste una A\")\n",
    "    print(\"¡Felicidades!\")\n",
    "else:\n",
    "    if x>=80:\n",
    "        print(\"Obtuviste una B\")\n",
    "    else:\n",
    "        if x>=70:\n",
    "            print(\"Panzaste\")\n",
    "            print(\"Dale gracias a Dios\")\n",
    "        else: \n",
    "            print(\"Reprobaste\")\n",
    "            print(\"Suerte para la próxima\")"
   ]
  },
  {
   "cell_type": "markdown",
   "id": "4d74f00c-9e08-47e1-ab61-d9c9d668743a",
   "metadata": {},
   "source": [
    "En algunas condiciones, se ejecutan dos instrucciones como resultado. \n",
    "\n",
    "Esto se conoce como un **bloque de código** o una **suite**.\n",
    "\n",
    "Python sabe que las instrucciones pertenecen a la misma **suite** cuando están **indentadas** de la misma manera. \n",
    "\n",
    "Intenta quitar la indentación antes de la última instrucción print y observa si puedes predecir cómo cambiará el comportamiento del programa.\n",
    "\n",
    "Este *uso de la indentación para significar bloques de código* es una característica atractiva de Python. Muchos otros lenguajes usan llaves `{}` para rodear los bloques de código, pero los buenos programadores generalmente indentan los bloques de todos modos para hacer que el código sea más legible.\n",
    "\n",
    "Python toma algo que los programadores ya hacen para el control de flujo."
   ]
  },
  {
   "cell_type": "markdown",
   "id": "3de7f0d8-8013-4195-92aa-64c07a55de41",
   "metadata": {},
   "source": [
    "En este caso podemos simplificar las sentencias `if` utilizando la palabra clave `elif`, que en el fondo es únicamente un `else if`."
   ]
  },
  {
   "cell_type": "code",
   "execution_count": 14,
   "id": "5ed03b7e-42b2-46fa-9ce0-206e45666f7f",
   "metadata": {},
   "outputs": [
    {
     "name": "stdin",
     "output_type": "stream",
     "text": [
      "Ingresa tu calificación:  98\n"
     ]
    },
    {
     "name": "stdout",
     "output_type": "stream",
     "text": [
      "Obtuviste una A\n",
      "¡Felicidades!\n"
     ]
    }
   ],
   "source": [
    "x = int(input(\"Ingresa tu calificación: \"))\n",
    "\n",
    "if x >= 90:\n",
    "    print(\"Obtuviste una A\")\n",
    "    print(\"¡Felicidades!\")\n",
    "elif x>=80:\n",
    "    print(\"Obtuviste una B\")\n",
    "elif x>=70:\n",
    "    print(\"Panzaste\")\n",
    "    print(\"Dale gracias a Dios\")\n",
    "else: \n",
    "    print(\"Reprobaste\")\n",
    "    print(\"Suerte para la próxima\")"
   ]
  },
  {
   "cell_type": "markdown",
   "id": "39ac54c4-475a-4d7b-9d51-8b30a6bce8e5",
   "metadata": {},
   "source": [
    "Una cláusula `if` puede ir seguida de cualquier número de `elif` y puede tener hasta una cláusula `else` al final. \n",
    "\n",
    "No se ejecuta más de una de las suites de código (podría no ejecutarse ninguna como en el primer ejemplo)."
   ]
  },
  {
   "cell_type": "markdown",
   "id": "b8c5b052-d29a-4e0c-ab0b-b7d27f66269a",
   "metadata": {},
   "source": [
    "## <a style=\"padding:3px;color: #FF4D4D; \"><strong>Bucles</strong></a>"
   ]
  },
  {
   "cell_type": "markdown",
   "id": "db109c1a-c29d-46f9-ae81-7affb9610061",
   "metadata": {},
   "source": [
    "Un bucle es una estructura de control que permite que las instrucciones se ejecuten varias veces. Los usos de los bucles son infinitos.\n",
    "\n",
    "Python proporciona dos formas principales de crear bucles: la instrucción `while` y la instrucción `for`."
   ]
  },
  {
   "cell_type": "markdown",
   "id": "e31260fe-7ebd-4818-ad8d-f85580b27988",
   "metadata": {},
   "source": [
    "### <a style=\"padding:3px;color: #FF4D4D; \"><strong>While</strong></a>"
   ]
  },
  {
   "cell_type": "code",
   "execution_count": 19,
   "id": "91e0ef97-89b4-40c1-b2e7-a52d158c76c5",
   "metadata": {},
   "outputs": [
    {
     "name": "stdout",
     "output_type": "stream",
     "text": [
      "10\n",
      "9\n",
      "8\n",
      "7\n",
      "6\n",
      "5\n",
      "4\n",
      "3\n",
      "2\n",
      "1\n",
      "¡Feliz Año Nuevo!\n"
     ]
    }
   ],
   "source": [
    "cuentareg = 10\n",
    "while cuentareg > 0:\n",
    "    print(cuentareg)\n",
    "    cuentareg -= 1\n",
    "print(\"¡Feliz Año Nuevo!\")"
   ]
  },
  {
   "cell_type": "markdown",
   "id": "fce4d562-f10b-4a13-88b8-cb3ab99d28ff",
   "metadata": {},
   "source": [
    "Cuando el control llega a la instrucción `while`:\n",
    "\n",
    "- Evalúa la expresión después de la palabra clave `while`. Esto se llama la condición de bucle. \n",
    "- Si se evalúa como `True`, el control entra en la suite de código indentado del `while` y lo ejecuta.\n",
    "- El control regresa a la instrucción `while` y vuelve a evaluar la condición de bucle.\n",
    "- Mientras la condición se evalúe como `True`, el proceso se repite.\n",
    "- Sin embargo, si la condición se evalúa como `False`, el control omite la suite de código del `while` y continúa con el resto del programa.\n",
    "\n",
    "Evaluemos el siguiente ejemplo en el que extraemos todos los factores 2 de un número entero."
   ]
  },
  {
   "cell_type": "code",
   "execution_count": 21,
   "id": "349240ce-e8d3-49eb-858b-36d8677418d9",
   "metadata": {},
   "outputs": [
    {
     "name": "stdin",
     "output_type": "stream",
     "text": [
      "Ingresa un entero:  178\n"
     ]
    },
    {
     "name": "stdout",
     "output_type": "stream",
     "text": [
      "Tu número quitando todos los factores 2 es 89.0\n"
     ]
    }
   ],
   "source": [
    "# OPCIONAL\n",
    "x = int(input(\"Ingresa un entero: \"))\n",
    "\n",
    "while x % 2 == 0 and x > 0: # Intenta descubrir para qué funciona x > 0\n",
    "    x = x / 2\n",
    "    \n",
    "print(\"Tu número quitando todos los factores 2 es\", x)"
   ]
  },
  {
   "cell_type": "markdown",
   "id": "c48af1a9-ad70-447d-98cc-df38648740d6",
   "metadata": {},
   "source": [
    "Los bucles `while` también pueden anidarse dentro de otros bucles. \n",
    "\n",
    "El siguiente ejemplo es clásico oara entender el uso de bucles anidados.\n",
    "\n",
    "Primero notemos que hay un bucle exterior que cuenta hacia atrás hasta 0 utilizando la variable `fila`. \n",
    "\n",
    "Mientras el bucle interior cuenta hacia adelante mientras la variable `col` sigue siendo menor que `fila`."
   ]
  },
  {
   "cell_type": "code",
   "execution_count": 23,
   "id": "cc1963bb-666c-43ec-bcdf-18e226aeb4df",
   "metadata": {},
   "outputs": [
    {
     "name": "stdin",
     "output_type": "stream",
     "text": [
      "Ingresa un entero:  7\n"
     ]
    },
    {
     "name": "stdout",
     "output_type": "stream",
     "text": [
      "0 1 2 3 4 5 6 7 \n",
      "0 1 2 3 4 5 6 \n",
      "0 1 2 3 4 5 \n",
      "0 1 2 3 4 \n",
      "0 1 2 3 \n",
      "0 1 2 \n",
      "0 1 \n",
      "0 \n"
     ]
    }
   ],
   "source": [
    "fila = int(input(\"Ingresa un entero: \"))\n",
    "\n",
    "while fila >= 0:\n",
    "    # bucle interno\n",
    "    col = 0\n",
    "    while col <= fila:\n",
    "        print(col, end=\" \")\n",
    "        col += 1\n",
    "        \n",
    "    print(\"\")\n",
    "    fila -= 1"
   ]
  },
  {
   "cell_type": "markdown",
   "id": "fef7d90e-8ea9-4106-a153-ef9a47aac448",
   "metadata": {},
   "source": [
    "Con la condición de bucle adecuada, los bucles `while` pueden hacer cosas útiles. \n",
    "\n",
    "Supongamos que queremos escribir un programa para ver si un número entero es el cubo de otro y mostrar su raíz cúbica si lo es. \n",
    "\n",
    "Nuestra estrategia será comenzar con una suposición de cero y probar si al elevarla al cubo obtenemos la respuesta correcta. \n",
    "\n",
    "Si no es así, agregaremos uno a nuestra suposición y probaremos elevarlo al cubo nuevamente. \n",
    "\n",
    "Podemos detener el bucle cuando el cubo de nuestra suposición supere el número al que estamos apuntando."
   ]
  },
  {
   "cell_type": "code",
   "execution_count": 25,
   "id": "621f2de0-7e2a-4e3d-8ee7-348bbc93d536",
   "metadata": {},
   "outputs": [
    {
     "name": "stdin",
     "output_type": "stream",
     "text": [
      "Ingresa un entero:  125\n"
     ]
    },
    {
     "name": "stdout",
     "output_type": "stream",
     "text": [
      "0 al cubo es 0 que es menor al número ingresado.\n",
      "1 al cubo es 1 que es menor al número ingresado.\n",
      "2 al cubo es 8 que es menor al número ingresado.\n",
      "3 al cubo es 27 que es menor al número ingresado.\n",
      "4 al cubo es 64 que es menor al número ingresado.\n",
      "La raíz cúbica de  125  es  5\n"
     ]
    }
   ],
   "source": [
    "x = int(input('Ingresa un entero: '))\n",
    "\n",
    "res = 0\n",
    "while res * res * res < x:\n",
    "    print(res, \"al cubo es\", res * res * res, \"que es menor al número ingresado.\")\n",
    "    res += 1\n",
    "    \n",
    "if res * res * res == x:\n",
    "    print(\"La raíz cúbica de \",x,\" es \", res)\n",
    "else:\n",
    "    print(x, \" no es un cubo perfecto.\")"
   ]
  },
  {
   "cell_type": "markdown",
   "id": "73f377b4-229e-4435-8283-34c5d45d3866",
   "metadata": {},
   "source": [
    "### <a style=\"padding:3px;color: #FF4D4D; \"><strong>For</strong></a>"
   ]
  },
  {
   "cell_type": "markdown",
   "id": "0e5d1a1e-dc8e-4cc6-9bf7-b185d69cf2f7",
   "metadata": {},
   "source": [
    "Los bucles `while` amplían enormemente la variedad de algoritmos que podemos escribir, pero a veces son difíciles de leer. \n",
    "\n",
    "Afortunadamente, existe otra manera de crear un bucle en Python: usando una sentencia `for`. Un bucle `for` no es tan flexible como un while, pero tiene una sintaxis intuitiva y fácil de leer. Además, un bucle `for` es más seguro de usar porque prácticamente garantiza que se completará. \n",
    "\n",
    "Por ejemplo, si quisiéramos replicar el bucle de cuenta regresiva con una sentencia `for`, quedaría como sigue."
   ]
  },
  {
   "cell_type": "code",
   "execution_count": 28,
   "id": "621372fa-4471-46c4-b5ce-c81e440334e0",
   "metadata": {},
   "outputs": [
    {
     "name": "stdout",
     "output_type": "stream",
     "text": [
      "10\n",
      "9\n",
      "8\n",
      "7\n",
      "6\n",
      "5\n",
      "4\n",
      "3\n",
      "2\n",
      "1\n",
      "¡Feliz Año Nuevo!\n"
     ]
    }
   ],
   "source": [
    "cuentareg = 10\n",
    "for x in range(cuentareg, 0, -1):\n",
    "    print(x)\n",
    "print(\"¡Feliz Año Nuevo!\")"
   ]
  },
  {
   "cell_type": "markdown",
   "id": "494eb2ca-f2a6-4082-9cf8-16be2367b8fb",
   "metadata": {},
   "source": [
    "Observa que no hay ninguna instrucción que disminuya explícitamente el valor de `x`. En su lugar, cada vez que el control llega a la sentencia `for`, se asigna a `x` el siguiente elemento del objeto `range`.\n",
    "\n",
    "Siguiendo con la idea del triángulo de números usando bucles `for`, podemos construirlo así:"
   ]
  },
  {
   "cell_type": "code",
   "execution_count": 30,
   "id": "49e10c6e-d742-4b5e-9056-28254db4f5ab",
   "metadata": {},
   "outputs": [
    {
     "name": "stdin",
     "output_type": "stream",
     "text": [
      "Ingresa un entero:  7\n"
     ]
    },
    {
     "name": "stdout",
     "output_type": "stream",
     "text": [
      "0 1 2 3 4 5 6 7 \n",
      "0 1 2 3 4 5 6 \n",
      "0 1 2 3 4 5 \n",
      "0 1 2 3 4 \n",
      "0 1 2 3 \n",
      "0 1 2 \n",
      "0 1 \n",
      "0 \n"
     ]
    }
   ],
   "source": [
    "x = int(input(\"Ingresa un entero: \"))\n",
    "\n",
    "for fila in range(x + 1, 0, -1):\n",
    "    for col in range(fila):\n",
    "        print(col, end=\" \")\n",
    "    print()"
   ]
  },
  {
   "cell_type": "markdown",
   "id": "9d2cb801-acda-47ee-b036-f429382282ce",
   "metadata": {},
   "source": [
    "¿Qué está pasando aquí?\n",
    "\n",
    "- El bucle exterior `for fila in range(x + 1, 0, -1):` cuenta desde el valor ingresado más uno (`x + 1`) hasta `1` (no incluye el `0` porque el final en `range` es exclusivo).\n",
    "\n",
    "- El bucle interior `for col in range(fila)`: imprime los números del `0` hasta `fila - 1` (`end=\" \"` evita que se haga un salto de línea después de cada número).\n",
    "\n",
    "- `print()` vacío después del bucle interior mueve a la siguiente línea al terminar de imprimir una fila."
   ]
  },
  {
   "cell_type": "markdown",
   "id": "bd2b2df3-d3cd-4358-842b-0e846bd760db",
   "metadata": {},
   "source": [
    "El objeto que recorremos en un bucle `for` no tiene que ser necesariamente un `range`. \n",
    "\n",
    "De hecho, puede ser una gran variedad de tipos de Python, incluyendo cualquier tipo de secuencia (El requisito técnico es que el objeto sea un iterable).\n",
    "\n",
    "En el siguiente ejemplo, utilizamos un bucle `for` para eliminar todas las vocales de un nombre:"
   ]
  },
  {
   "cell_type": "code",
   "execution_count": 33,
   "id": "faafc78b-2d3d-45de-a928-dbedb2f9dba6",
   "metadata": {},
   "outputs": [
    {
     "name": "stdin",
     "output_type": "stream",
     "text": [
      "Ingresa tu nombre:  Emanuel\n"
     ]
    },
    {
     "name": "stdout",
     "output_type": "stream",
     "text": [
      "mnl"
     ]
    }
   ],
   "source": [
    "nombre = input(\"Ingresa tu nombre: \")\n",
    "for letra in nombre:\n",
    "    if letra not in \"aeiouAEIOU\":\n",
    "        print(letra, end=\"\")"
   ]
  },
  {
   "cell_type": "markdown",
   "id": "2b51df93-10f5-4817-b701-54cfce424bc4",
   "metadata": {},
   "source": [
    "Podemos iterar en los items de una lista"
   ]
  },
  {
   "cell_type": "code",
   "execution_count": 35,
   "id": "68e90f0a-a1f3-4f01-b848-0fbdbee6c72d",
   "metadata": {},
   "outputs": [
    {
     "name": "stdout",
     "output_type": "stream",
     "text": [
      "La manzana es una fruta\n",
      "La sandía es una fruta\n",
      "La guayaba es una fruta\n"
     ]
    }
   ],
   "source": [
    "frutas = [\"manzana\", \"sandía\", \"guayaba\"]\n",
    "\n",
    "for f in frutas:\n",
    "    print(\"La\", f, \"es una fruta\")"
   ]
  },
  {
   "cell_type": "markdown",
   "id": "1119890a-43e3-46e3-a96c-ded17f8e7da6",
   "metadata": {},
   "source": [
    "O incluso en los de un diccionario."
   ]
  },
  {
   "cell_type": "code",
   "execution_count": 37,
   "id": "d30ae409-8661-4c98-80c6-4644764dcbe5",
   "metadata": {},
   "outputs": [
    {
     "name": "stdout",
     "output_type": "stream",
     "text": [
      "nombre : Emanuel\n",
      "edad : 34\n",
      "país : México\n"
     ]
    }
   ],
   "source": [
    "persona = {\n",
    "    \"nombre\": \"Emanuel\",\n",
    "    \"edad\": 34,\n",
    "    \"país\": \"México\"\n",
    "}\n",
    "\n",
    "for dato in persona:\n",
    "    print(dato, \":\", persona[dato])"
   ]
  },
  {
   "cell_type": "markdown",
   "id": "57256cb6-25c2-4a60-8329-0b2e2c3debe6",
   "metadata": {},
   "source": [
    "Y puede iterarse también sobre las llaves, valores e ítems de un diccionario"
   ]
  },
  {
   "cell_type": "code",
   "execution_count": 39,
   "id": "3bd6d885-c772-46c9-9818-6301d250bd5b",
   "metadata": {},
   "outputs": [
    {
     "name": "stdout",
     "output_type": "stream",
     "text": [
      "nombre : Emanuel\n",
      "edad : 34\n",
      "país : México\n"
     ]
    }
   ],
   "source": [
    "for llave, valor in persona.items():\n",
    "    print(llave, \":\", valor)"
   ]
  },
  {
   "cell_type": "markdown",
   "id": "32e08935-fdcf-4e5f-9447-f4ef8ecf2cf8",
   "metadata": {},
   "source": [
    "Puede ingresarse también a los valores de los diccionarios dentro de diccionarios mediante la sentencia adecuada."
   ]
  },
  {
   "cell_type": "code",
   "execution_count": 41,
   "id": "d265ed0e-613a-4058-ad12-252fba2d0b2f",
   "metadata": {},
   "outputs": [
    {
     "name": "stdout",
     "output_type": "stream",
     "text": [
      "CDMX, México se encuentra en las coordenadas (19.4326, -99.1332).\n",
      "Nueva York, Estados Unidos se encuentra en las coordenadas (40.7128, -74.006).\n",
      "Casablanca, Marruecos se encuentra en las coordenadas (33.5731, -7.5898).\n",
      "Sidney, Australia se encuentra en las coordenadas (-33.8688, 151.2093).\n"
     ]
    }
   ],
   "source": [
    "lugares = {\n",
    "    \"CDMX\": {\"coordenada\": (19.4326, -99.1332), \"pais\": \"México\"},\n",
    "    'Nueva York': {'coordenada': (40.7128, -74.006), 'pais': 'Estados Unidos'},\n",
    "    \"Casablanca\": {\"coordenada\": (33.5731, -7.5898), \"pais\": \"Marruecos\"},\n",
    "    \"Sidney\": {\"coordenada\": (-33.8688, 151.2093), \"pais\": \"Australia\"}\n",
    "}\n",
    "\n",
    "for ciudad in lugares:\n",
    "    print(f\"{ciudad}, {lugares[ciudad]['pais']} se encuentra en las coordenadas {lugares[ciudad]['coordenada']}.\")"
   ]
  },
  {
   "cell_type": "markdown",
   "id": "36bfb177-0ffe-4530-be4a-2adb4ffca6b1",
   "metadata": {},
   "source": [
    "### <a style=\"padding:3px;color: #FF4D4D; \"><strong>break & continue</strong></a>"
   ]
  },
  {
   "cell_type": "markdown",
   "id": "59313a22-ae84-44bb-b8e4-0cee228adde7",
   "metadata": {},
   "source": [
    "Hay ocasiones en las que queremos salir de un bucle antes de lo previsto. \n",
    "\n",
    "Por ejemplo, veamos el siguiente código para comprobar si un número `n` es primo o no"
   ]
  },
  {
   "cell_type": "code",
   "execution_count": 22,
   "id": "bb2b2ee1-e5aa-463f-8ab5-94259382694d",
   "metadata": {},
   "outputs": [
    {
     "name": "stdin",
     "output_type": "stream",
     "text": [
      "Introduce un número:  32134502\n"
     ]
    },
    {
     "name": "stdout",
     "output_type": "stream",
     "text": [
      "32134502 no es un número primo.\n"
     ]
    }
   ],
   "source": [
    "n = int(input(\"Introduce un número: \"))\n",
    "es_primo = True  # asumimos que es primo hasta demostrar lo contrario\n",
    "\n",
    "for i in range(2, n):\n",
    "    if n % i == 0:\n",
    "        es_primo = False  # encontramos un factor, no es primo\n",
    "        \n",
    "if es_primo:\n",
    "    print(f\"{n} es un número primo.\")\n",
    "else:\n",
    "    print(f\"{n} no es un número primo.\")"
   ]
  },
  {
   "cell_type": "markdown",
   "id": "c55bb388-8c9e-40b9-a66d-da4ea46e1fce",
   "metadata": {},
   "source": [
    "Notemos que una vez que encontremos un factor, no habría necesidad de seguir con el bucle, pues ya sabemos que `n` no es primo. Por esa razón podríamos querer terminar el bucle inmediatamente.\n",
    "\n",
    "Una manera limpia que nos entrega Python es a través de la palabra clave `break`."
   ]
  },
  {
   "cell_type": "code",
   "execution_count": 24,
   "id": "87d7dfb2-91dd-44a7-a0ab-533756b1c4d0",
   "metadata": {},
   "outputs": [
    {
     "name": "stdin",
     "output_type": "stream",
     "text": [
      "Introduce un número:  32134502\n"
     ]
    },
    {
     "name": "stdout",
     "output_type": "stream",
     "text": [
      "32134502 no es un número primo.\n"
     ]
    }
   ],
   "source": [
    "n = int(input(\"Introduce un número: \"))\n",
    "es_primo = True\n",
    "\n",
    "for i in range(2, n):\n",
    "    if n % i == 0:\n",
    "        es_primo = False\n",
    "        break  # salimos del bucle tan pronto como encontremos un factor\n",
    "\n",
    "if es_primo:\n",
    "    print(f\"{n} es un número primo.\")\n",
    "else:\n",
    "    print(f\"{n} no es un número primo.\")"
   ]
  },
  {
   "cell_type": "markdown",
   "id": "5cfb5d1e-2a20-47df-8f4d-47389aa94f48",
   "metadata": {},
   "source": [
    "Una sentencia `break` funciona tanto con bucles `for` como `while`. Muchas veces es posible realizar un bucle sin `break`, o a veces con demasiados de ellos, haciendo difícil el entendimiento del código o predecir su comportamiento.\n",
    "\n",
    "Por ejemplo el código optimizado para encontrar un número primo podría hacerse sin necesidad de un `break` con un bucle `while` como sigue, sin embargo, es más comprensible hacerlo con la sentencia `break`."
   ]
  },
  {
   "cell_type": "code",
   "execution_count": 32,
   "id": "f70d9d3d-2dc6-4b69-9ba3-98587ad3de82",
   "metadata": {},
   "outputs": [
    {
     "name": "stdin",
     "output_type": "stream",
     "text": [
      "Introduce un número:  32134502\n"
     ]
    },
    {
     "name": "stdout",
     "output_type": "stream",
     "text": [
      "32134502 no es un número primo.\n"
     ]
    }
   ],
   "source": [
    "n = int(input(\"Introduce un número: \"))\n",
    "es_primo = True\n",
    "i = 2\n",
    "\n",
    "while i < n and es_primo:\n",
    "    if n % i == 0:\n",
    "        es_primo = False  # encontramos un factor, no es primo\n",
    "    i += 1\n",
    "\n",
    "if es_primo:\n",
    "    print(f\"{n} es un número primo.\")\n",
    "else:\n",
    "    print(f\"{n} no es un número primo.\")"
   ]
  },
  {
   "cell_type": "markdown",
   "id": "15e1f8b0-1724-4a37-a10d-56a8c4e605a4",
   "metadata": {},
   "source": [
    "También puede haber casos en los que deseemos omitir una iteración de un bucle, pero no terminar el bucle por completo, sino continuar con la siguiente. Esto puede realizarse usando la palabra clave `continue`.\n",
    "\n",
    "El siguiente ejemplo imprime solo los números impares de una lista. Cada vez que encuentra un número par, omite el resto del cuerpo del bucle usando `continue`."
   ]
  },
  {
   "cell_type": "code",
   "execution_count": 42,
   "id": "b2a9de9b-d8fb-48ef-a302-4f963258b7c4",
   "metadata": {},
   "outputs": [
    {
     "name": "stdout",
     "output_type": "stream",
     "text": [
      "1 es impar\n",
      "3 es impar\n",
      "5 es impar\n",
      "7 es impar\n"
     ]
    }
   ],
   "source": [
    "numeros = [1, 2, 3, 4, 5, 6, 7]\n",
    "\n",
    "for n in numeros:\n",
    "    if n % 2 == 0:\n",
    "        continue  # saltamos esta iteración si es par\n",
    "    print(f\"{n} es impar\")"
   ]
  },
  {
   "cell_type": "markdown",
   "id": "6f6fa482-8a83-411d-94ee-a71023087f0d",
   "metadata": {},
   "source": [
    "Cuando el control llega a un `continue`, omitirá el resto de sentencias dentro del bucle y se moverá inmediatamente a la siguiente iteración.\n",
    "\n",
    "Al igual que la sentencia `break`, la sentencia `continue` funciona con bucles `while` y `for`. Y también de la misma manera, es posible completar las tareas sin necesidad de colocar un `continue`, pero muchas veces esto puede hacer más claro y eficiente el código. En especial cuando necesitan realizarse varios chequeos antes de ingresar a la parte relevante de un bucle.\n",
    "\n",
    "Y es posible además combinar las sentencias `continue` y `break` dentro del mismo bucle. Por ejemplo el siguiente código imprime los números impares de la lista, pero se detiene en el primer número impar mayor que 10."
   ]
  },
  {
   "cell_type": "code",
   "execution_count": 45,
   "id": "883718da-1e7a-4783-be25-368e477e6986",
   "metadata": {},
   "outputs": [
    {
     "name": "stdout",
     "output_type": "stream",
     "text": [
      "1 es impar\n",
      "3 es impar\n",
      "5 es impar\n",
      "11 es impar\n",
      "Primer impar mayor que 10: 11\n"
     ]
    }
   ],
   "source": [
    "numeros = [1, 2, 3, 4, 5, 8, 10, 11, 14, 15]\n",
    "\n",
    "for n in numeros:\n",
    "    if n % 2 == 0:\n",
    "        continue  # omitimos los pares\n",
    "    print(f\"{n} es impar\")\n",
    "    if n > 10:\n",
    "        print(f\"Primer impar mayor que 10: {n}\")\n",
    "        break"
   ]
  }
 ],
 "metadata": {
  "kernelspec": {
   "display_name": "Python [conda env:base] *",
   "language": "python",
   "name": "conda-base-py"
  },
  "language_info": {
   "codemirror_mode": {
    "name": "ipython",
    "version": 3
   },
   "file_extension": ".py",
   "mimetype": "text/x-python",
   "name": "python",
   "nbconvert_exporter": "python",
   "pygments_lexer": "ipython3",
   "version": "3.11.5"
  }
 },
 "nbformat": 4,
 "nbformat_minor": 5
}
