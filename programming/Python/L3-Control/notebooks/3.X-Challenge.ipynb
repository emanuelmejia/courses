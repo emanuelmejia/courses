{
 "cells": [
  {
   "cell_type": "markdown",
   "id": "74f73905-3fa7-450a-8b28-f8c387000178",
   "metadata": {},
   "source": [
    "### Reto 1"
   ]
  },
  {
   "cell_type": "markdown",
   "id": "e8ea7f90-e9e8-4cfe-af7b-36139b81b7b1",
   "metadata": {},
   "source": [
    "Crea un bucle `for` que quite todos los espacios de la siguiente cadena:"
   ]
  },
  {
   "cell_type": "code",
   "execution_count": null,
   "id": "14cd7b55-80e3-4ce4-b38b-81b68e8b112a",
   "metadata": {},
   "outputs": [],
   "source": [
    "cadena = \"¡E x  ce l  ente !\"\n",
    "# Tu código aquí"
   ]
  },
  {
   "cell_type": "markdown",
   "id": "e7bba07e-4214-400d-ad19-b1025b390d4d",
   "metadata": {},
   "source": [
    "### Reto 2"
   ]
  },
  {
   "cell_type": "markdown",
   "id": "6b04fc87-204f-4852-9392-4d60d57ff261",
   "metadata": {},
   "source": [
    "Crea una función llamada `hola` que tenga un único parámetro llamado `nombre` (que será el nombre de una persona), y después imprima:\n",
    "\n",
    "`Hola [nombre], ten un buen día` cada vez que corra."
   ]
  },
  {
   "cell_type": "code",
   "execution_count": null,
   "id": "955134e1-13df-48c4-8a01-4c118666e7e4",
   "metadata": {},
   "outputs": [],
   "source": [
    "# Tu código aquí"
   ]
  },
  {
   "cell_type": "markdown",
   "id": "46cdc8b8-7654-43ea-bf47-8bde9c083e2a",
   "metadata": {},
   "source": [
    "En la siguiente celda ejecuta un llamado a tu función. Esto debe de resultar en una impresión que diga:\n",
    "\n",
    "`'Hola Charly, ten un buen día'`"
   ]
  },
  {
   "cell_type": "code",
   "execution_count": null,
   "id": "705b2b11-3d8a-4d20-bd41-5eea641a0714",
   "metadata": {},
   "outputs": [],
   "source": [
    "hola(\"Charly\")"
   ]
  },
  {
   "cell_type": "markdown",
   "id": "01639faa-c1c8-4692-ac63-d7507d86de67",
   "metadata": {},
   "source": [
    "Ahora escribe una función llamada `saludos`. Esta debe de tener únicamente dos parámetros, llamados `persona1` y `persona2`.\n",
    "\n",
    "Dentro de la definición de la función `saludos` ejecuta la función `hola` sobre cada una de las dos personas que el usuario ingrese como argumentos.\n",
    "\n",
    "***IMPORTANTE:*** *El ejercicio es anidar a la función `hola`, dentro de la función `saludar`*"
   ]
  },
  {
   "cell_type": "code",
   "execution_count": null,
   "id": "8d669911-9aba-4640-a558-3000b37fe3a4",
   "metadata": {},
   "outputs": [],
   "source": [
    "## Tu código aquí"
   ]
  },
  {
   "cell_type": "markdown",
   "id": "b9e184f2-78d5-439c-bc4c-c4f75251d958",
   "metadata": {},
   "source": [
    "En la siguiente celda ejecuta un llamado a tu función. Esto debe de resultar en dos impresiones que digan:\n",
    "\n",
    "`'Hola Laura, ten un buen día'`\n",
    "\n",
    "`'Hola Diana, ten un buen día'`"
   ]
  },
  {
   "cell_type": "code",
   "execution_count": null,
   "id": "7af2a1dc-bb8d-41ba-bd4f-fc00716529f6",
   "metadata": {},
   "outputs": [],
   "source": [
    "saludar(\"Laura\", \"Diana\")"
   ]
  },
  {
   "cell_type": "markdown",
   "id": "7ca4b10a-1679-4a84-a69f-893b0dc60497",
   "metadata": {},
   "source": [
    "### Reto 3"
   ]
  },
  {
   "cell_type": "markdown",
   "id": "6d264898-7ba9-4def-96ad-636287d82620",
   "metadata": {},
   "source": [
    "Utiliza un bloque `try-except` para que el siguiente código no deje de funcionar.\n",
    "\n",
    "El bloque debe **omitir** los objetos sobre los cuales NO pueda ejecutar la función.\n",
    "\n",
    "***IMPORTANTE:*** *No modifiques la lista `miLista`*"
   ]
  },
  {
   "cell_type": "code",
   "execution_count": null,
   "id": "0971c926-b0fb-488c-b1f6-50c3469cb116",
   "metadata": {},
   "outputs": [],
   "source": [
    "miLista = [1, 2, 3, 4, \"apple\", ['sub','list'], {'tipo':'diccionario', 'funciona':'no'}, 3, 4]\n",
    "\n",
    "# Intenta correr el siguiente bucle\n",
    "# Una vez descifrado el error modifícalo\n",
    "# con un bloque try-except\n",
    "for item in miLista:\n",
    "    item = item * 3\n",
    "    print(item)"
   ]
  },
  {
   "cell_type": "markdown",
   "id": "04309bbc-9951-4660-af7a-15686f75277c",
   "metadata": {},
   "source": [
    "Actualiza la solución anterior, para que mande un mensaje indicando una descripción del error que sucedió para que el usuario pueda comprender mejor lo que sucedió."
   ]
  },
  {
   "cell_type": "code",
   "execution_count": null,
   "id": "392fd56f-b596-4cbd-bdc6-7be49441f224",
   "metadata": {},
   "outputs": [],
   "source": [
    "# Tu código aquí"
   ]
  },
  {
   "cell_type": "markdown",
   "id": "9d5b455a-06fa-41f3-8737-cb32cebd41e5",
   "metadata": {},
   "source": [
    "### Reto 4"
   ]
  },
  {
   "cell_type": "markdown",
   "id": "ded646c0-8019-49fa-b41f-3c977b21b405",
   "metadata": {},
   "source": [
    "Importa el módulo `datetime` de la librería estándar de python y asigna en una variable llamada `ahora` la fecha y hora actuales (es una función del módulo recién importado, vista en clase).\n",
    "\n",
    "Una vez asignada imprime lo que contiene esta variable."
   ]
  },
  {
   "cell_type": "code",
   "execution_count": null,
   "id": "d8c92dff-db3d-4970-bb3d-1b5b46634566",
   "metadata": {},
   "outputs": [],
   "source": [
    "# Tu código aquí"
   ]
  },
  {
   "cell_type": "markdown",
   "id": "c78f1074-1f49-4222-a7a6-2804b55d623a",
   "metadata": {},
   "source": [
    "A continuación, utiliza el método `strftime` en la variable `ahora` del paso anterior, de tal manera que la fecha se muestre con una sintaxis similar a la siguiente: `'Hoy es 06-May-2025, han transcurrido 126 días del año'` (PERO CON LA FECHA Y CONTEO DE DÍAS ACTUAL).\n",
    "\n",
    "***IMPORTANTE:*** Ninguno de los datos de la fecha debe colocarse manualmente como cadena, deben de utilizarse los formatos del método `strftime` (Por ejemplo sabemos que `%d` corresponde al día del mes de la fecha ingresada, ver el ejemplo de clase).\n",
    "\n",
    "*NOTA: En el siguiente link se encuentra una lista de los formatos que pueden utilizarse con este método: https://docs.python.org/3/library/datetime.html#strftime-and-strptime-behavior*"
   ]
  },
  {
   "cell_type": "code",
   "execution_count": null,
   "id": "3a2f0279-f128-440e-8fd4-2898673babb7",
   "metadata": {},
   "outputs": [],
   "source": [
    "# Tu código aquí"
   ]
  }
 ],
 "metadata": {
  "kernelspec": {
   "display_name": "Python [conda env:base] *",
   "language": "python",
   "name": "conda-base-py"
  },
  "language_info": {
   "codemirror_mode": {
    "name": "ipython",
    "version": 3
   },
   "file_extension": ".py",
   "mimetype": "text/x-python",
   "name": "python",
   "nbconvert_exporter": "python",
   "pygments_lexer": "ipython3",
   "version": "3.11.5"
  }
 },
 "nbformat": 4,
 "nbformat_minor": 5
}
