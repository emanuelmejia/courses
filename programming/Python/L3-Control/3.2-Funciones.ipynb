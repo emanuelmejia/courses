{
 "cells": [
  {
   "cell_type": "markdown",
   "id": "f6a87a0c-dcb9-4ee0-981d-92ca8162055d",
   "metadata": {},
   "source": [
    "<div style=\"padding:10px;background-color: #FF4D4D; color:white;font-size:28px;\"><strong>Funciones</strong></div>"
   ]
  },
  {
   "cell_type": "markdown",
   "id": "b0281336-322c-43f8-8420-a8e806d101c4",
   "metadata": {},
   "source": [
    "Con las herramientas que tenemos hasta este momento, podemos empezar a resolver algoritmos más complejos y eso provocará que los programas se vuelvan más largos. \n",
    "\n",
    "A medida que tomes proyectos aún más ambiciosos, será necesario organizar tu código en piezas más manejables. Una de las formas más básicas que tienen los programadores para lograrlo es mediante funciones.\n",
    "\n",
    "**¿Qué es una función?**\n",
    "\n",
    "Una función es un bloque de código reutilizable que ejecutarse en diferentes partes del programa. Para usar una función, se siguen dos pasos principales:\n",
    "\n",
    "1. ***Definir la función:*** en este paso se describe qué código se debe ejecutar cuando se llame a la función.\n",
    "\n",
    "1. ***Llamar a la función:*** aquí es cuando realmente se ejecuta el código contenido en la función."
   ]
  },
  {
   "cell_type": "markdown",
   "id": "907b6ac2-9e90-4c08-82b2-a3fe0f0f8d18",
   "metadata": {},
   "source": [
    "## <a style=\"padding:3px;color: #FF4D4D; \"><strong>Funciones previamente definidas</strong></a>"
   ]
  },
  {
   "cell_type": "markdown",
   "id": "ec864fb2-91a8-41ac-83c6-3ac1d9953a3b",
   "metadata": {},
   "source": [
    "Dentro de la biblioteca estándar de Python tenemos algunas funciones ya definidas. Por ejemplo, hemos utilizado la función `print()` en más de una ocasión.\n",
    "\n",
    "Para las funciones ya definidas, sea en la biblioteca estándar o en bibliotecas externas, no existe necesidad del paso 1 (alguien ya lo hizo previamente), pero si queremos revisar sus características, podemos utilizar el caracter `?` para acceder a su definición."
   ]
  },
  {
   "cell_type": "code",
   "execution_count": 5,
   "id": "f4067112-e9cc-479d-8422-9a128b486a32",
   "metadata": {},
   "outputs": [
    {
     "data": {
      "text/plain": [
       "\u001b[1;31mSignature:\u001b[0m \u001b[0mprint\u001b[0m\u001b[1;33m(\u001b[0m\u001b[1;33m*\u001b[0m\u001b[0margs\u001b[0m\u001b[1;33m,\u001b[0m \u001b[0msep\u001b[0m\u001b[1;33m=\u001b[0m\u001b[1;34m' '\u001b[0m\u001b[1;33m,\u001b[0m \u001b[0mend\u001b[0m\u001b[1;33m=\u001b[0m\u001b[1;34m'\\n'\u001b[0m\u001b[1;33m,\u001b[0m \u001b[0mfile\u001b[0m\u001b[1;33m=\u001b[0m\u001b[1;32mNone\u001b[0m\u001b[1;33m,\u001b[0m \u001b[0mflush\u001b[0m\u001b[1;33m=\u001b[0m\u001b[1;32mFalse\u001b[0m\u001b[1;33m)\u001b[0m\u001b[1;33m\u001b[0m\u001b[1;33m\u001b[0m\u001b[0m\n",
       "\u001b[1;31mDocstring:\u001b[0m\n",
       "Prints the values to a stream, or to sys.stdout by default.\n",
       "\n",
       "sep\n",
       "  string inserted between values, default a space.\n",
       "end\n",
       "  string appended after the last value, default a newline.\n",
       "file\n",
       "  a file-like object (stream); defaults to the current sys.stdout.\n",
       "flush\n",
       "  whether to forcibly flush the stream.\n",
       "\u001b[1;31mType:\u001b[0m      builtin_function_or_method"
      ]
     },
     "metadata": {},
     "output_type": "display_data"
    }
   ],
   "source": [
    "?print"
   ]
  },
  {
   "cell_type": "markdown",
   "id": "4079c5cc-bde2-4678-ab61-2272ccb9e9b6",
   "metadata": {},
   "source": [
    "Por ejemplo, la función `print()` en Python tiene cinco parámetros principales:"
   ]
  },
  {
   "cell_type": "markdown",
   "id": "3cf287cd-cf0f-44ec-9d74-7d94684ae747",
   "metadata": {},
   "source": [
    "#### <a style=\"padding:3px;color: #FF4D4D; \"><strong>*args</strong></a>\n",
    "\n",
    "- Lo que se va a imprimir. Puede ser cualquier número de objetos, de cualquier tipo.\n",
    "- Pueden pasarse muchos argumentos separados por comas.\n",
    "- Cada uno se convierte a cadena de texto."
   ]
  },
  {
   "cell_type": "code",
   "execution_count": 8,
   "id": "e01329e5-223f-4c47-975f-5bbd2456be1f",
   "metadata": {},
   "outputs": [],
   "source": [
    "ciudad = \"CDMX\"\n",
    "pais = \"México\"\n",
    "coord = (19.4326, -99.1332)"
   ]
  },
  {
   "cell_type": "code",
   "execution_count": 9,
   "id": "c325304f-d9e8-42e7-8f70-a69a5ed608e9",
   "metadata": {},
   "outputs": [
    {
     "name": "stdout",
     "output_type": "stream",
     "text": [
      "CDMX México se encuentra en las coordenadas (19.4326, -99.1332)\n"
     ]
    }
   ],
   "source": [
    "print(ciudad, pais, \"se encuentra en las coordenadas\", coord)"
   ]
  },
  {
   "cell_type": "markdown",
   "id": "624b0c10-3744-4428-8402-367856b3df6f",
   "metadata": {},
   "source": [
    "#### <a style=\"padding:3px;color: #FF4D4D; \"><strong>sep=' '</strong></a>\n",
    "\n",
    "- Define el separador entre los objetos a imprimir.\n",
    "- Por defecto es un espacio ' '."
   ]
  },
  {
   "cell_type": "code",
   "execution_count": 11,
   "id": "b48ae193-a0ec-4520-924b-db6af628f500",
   "metadata": {},
   "outputs": [
    {
     "name": "stdout",
     "output_type": "stream",
     "text": [
      "CDMX ☺ México ☺ se encuentra en las coordenadas ☺ (19.4326, -99.1332)\n"
     ]
    }
   ],
   "source": [
    "print(\n",
    "    ciudad, pais, \"se encuentra en las coordenadas\", coord,\n",
    "    sep = \" \\u263A \"\n",
    "     )"
   ]
  },
  {
   "cell_type": "markdown",
   "id": "a5481c98-d885-4be5-9e48-454b37557870",
   "metadata": {},
   "source": [
    "#### <a style=\"padding:3px;color: #FF4D4D; \"><strong>end='\\n'</strong></a>\n",
    "\n",
    "- Define qué poner al final de la impresión.\n",
    "- El valor por defecto es un salto de línea `(\\n)`.\n",
    "- Cada print empieza en una nueva línea."
   ]
  },
  {
   "cell_type": "code",
   "execution_count": 13,
   "id": "d6f0fd5e-da22-4efe-bb4f-6a913d8bc33b",
   "metadata": {},
   "outputs": [
    {
     "name": "stdout",
     "output_type": "stream",
     "text": [
      "CDMX ☺ México ☺ se encuentra en las coordenadas ☺ (19.4326, -99.1332)..."
     ]
    }
   ],
   "source": [
    "print(\n",
    "    ciudad, pais, \"se encuentra en las coordenadas\", coord,\n",
    "    sep = \" \\u263A \",\n",
    "    end = \"...\"\n",
    "     )"
   ]
  },
  {
   "cell_type": "markdown",
   "id": "d6abd6c6-78ea-4254-aa61-eea0ea25b1bd",
   "metadata": {},
   "source": [
    "#### <a style=\"padding:3px;color: #FF4D4D; \"><strong>flush=False</strong></a>\n",
    "\n",
    "- Si forzar o no el vaciado inmediato del buffer de salida.\n",
    "- Por defecto, Python acumula las impresiones en un buffer para hacerlas más eficientes.\n",
    "- El trabajo de la descarga es asegurarse de que la salida, que está siendo almacenada en búfer, va al destino de forma segura."
   ]
  },
  {
   "cell_type": "code",
   "execution_count": 15,
   "id": "139daf7e-c1f6-4e4e-b2b9-ecd00314d001",
   "metadata": {},
   "outputs": [
    {
     "name": "stdout",
     "output_type": "stream",
     "text": [
      "CDMX ☺ México ☺ se encuentra en las coordenadas ☺ (19.4326, -99.1332)..."
     ]
    }
   ],
   "source": [
    "import time\n",
    "print(\n",
    "    ciudad, pais, \"se encuentra en las coordenadas\", coord,\n",
    "    sep = \" \\u263A \",\n",
    "    end = \"...\",\n",
    "    flush = True\n",
    "     )\n",
    "time.sleep(5)"
   ]
  },
  {
   "cell_type": "markdown",
   "id": "2a0f9dc4-19d5-4635-801a-635fb97aaf2d",
   "metadata": {},
   "source": [
    "#### <a style=\"padding:3px;color: #FF4D4D; \"><strong>file=sys.stdout</strong></a>\n",
    "\n",
    "- Puedes cambiar el destino de lo que imprime print.\n",
    "- Por defecto, imprime en la pantalla (sys.stdout).\n",
    "- Puedes mandarse a un archivo, un buffer o cualquier objeto que tenga un método .write()."
   ]
  },
  {
   "cell_type": "code",
   "execution_count": 17,
   "id": "9e04fddb-80c8-4854-a248-b37a573acbb4",
   "metadata": {},
   "outputs": [],
   "source": [
    "with open(\"salida.txt\", \"w\") as out:\n",
    "    print(\n",
    "    ciudad, pais, \"se encuentra en las coordenadas\", coord,\n",
    "    sep = \" - \",\n",
    "    end = \"...\",\n",
    "    file = out\n",
    "     )"
   ]
  },
  {
   "cell_type": "markdown",
   "id": "4db63bb1-e154-4f21-b46f-1133fdb1350e",
   "metadata": {},
   "source": [
    "## <a style=\"padding:3px;color: #FF4D4D; \"><strong>Definición de Funciones</strong></a>"
   ]
  },
  {
   "cell_type": "markdown",
   "id": "82a560f1-4891-494e-8de9-f263cc64ac5a",
   "metadata": {},
   "source": [
    "Puede suceder el caso en que la tarea que buscamos realizar no tenga una función previamente definida y debamos hacerla nosotros mismos. Esto es posible mediante la definición de funciones que requiere los 3 siguientes pasos:\n",
    "\n",
    "- Usamos la palabra clave `def`.\n",
    "- Luego el **nombre** de la función junto con sus parámetros, en caso de requerirse.\n",
    "- Se cierra la definición con : y se coloca a partir de la siguiente línea el contenido a ejecutar por la función.\n",
    "\n",
    "Por ejemplo, podemos hacer una función que salude a los estudiantes:"
   ]
  },
  {
   "cell_type": "code",
   "execution_count": 20,
   "id": "54d6a522-5ecd-4f96-9cae-2ff5d9e60b41",
   "metadata": {},
   "outputs": [],
   "source": [
    "def saludar():\n",
    "    print(\"¡Hola, bienvenido a la clase de funciones!\")"
   ]
  },
  {
   "cell_type": "markdown",
   "id": "027d185b-a0db-4fab-8075-07cd73abe9a5",
   "metadata": {},
   "source": [
    "Pero como podemos observar, esto no generó ninguna salida. Para usar la función es necesario llamarla:"
   ]
  },
  {
   "cell_type": "code",
   "execution_count": 22,
   "id": "a568bd98-b16a-417a-ba64-e2371b5a15d3",
   "metadata": {},
   "outputs": [
    {
     "name": "stdout",
     "output_type": "stream",
     "text": [
      "¡Hola, bienvenido a la clase de funciones!\n"
     ]
    }
   ],
   "source": [
    "saludar()"
   ]
  },
  {
   "cell_type": "markdown",
   "id": "53ec27b4-851a-46fe-b27b-48d1f234c0e1",
   "metadata": {},
   "source": [
    "En el ejemplo anterior, nuestra función siempre realizaba exactamente la misma tarea cada vez que la llamábamos.\n",
    "\n",
    "Sin embargo, para que las funciones sean realmente útiles, necesitamos poder pasarles valores de entrada (inputs) diferentes, por medio de **parámetros**\n",
    "\n",
    "Un parámetro es una variable que recibe un valor cuando se llama a la función. "
   ]
  },
  {
   "cell_type": "code",
   "execution_count": 24,
   "id": "49a39daf-1eca-4089-9768-804d5eb22678",
   "metadata": {},
   "outputs": [],
   "source": [
    "def saludar(nombre, curso):\n",
    "    print(\"¡Hola,\", nombre, \"bienvenido a la clase de\", curso)"
   ]
  },
  {
   "cell_type": "markdown",
   "id": "e169d4e8-ea77-44f3-a516-c2110cac13e9",
   "metadata": {},
   "source": [
    "Y en este caso en particular, al llamar la función será necesario ingresar el **argumento** que utilizará el **parámetro** *\"nombre\"* que definimos arriba."
   ]
  },
  {
   "cell_type": "code",
   "execution_count": 26,
   "id": "d3208e6a-4aff-450f-b993-962d1b93e729",
   "metadata": {},
   "outputs": [
    {
     "name": "stdout",
     "output_type": "stream",
     "text": [
      "¡Hola, José bienvenido a la clase de estadística\n",
      "¡Hola, Josefina bienvenido a la clase de funciones\n"
     ]
    }
   ],
   "source": [
    "saludar(\"José\", \"estadística\")\n",
    "saludar(curso = \"funciones\", nombre = \"Josefina\")"
   ]
  },
  {
   "cell_type": "markdown",
   "id": "4c628484-1478-49a7-af53-f7d2ab043415",
   "metadata": {},
   "source": [
    "Notemos que pudimos ocupar la función de dos maneras distintas.\n",
    "\n",
    "En la primera, los argumentos se asignan a los parámetros en el orden en que aparecen, a lo que denominamos **argumentos posicionales**\n",
    "\n",
    "La segunda los asigna por su nombre, a lo que llamamos **keyword arguments**, que permiten especificar explícitamente qué valor corresponde a cada parámetro, sin importar el orden."
   ]
  },
  {
   "cell_type": "markdown",
   "id": "fdaf0979-9f26-44da-86bc-411d8ef40d78",
   "metadata": {},
   "source": [
    "*NOTA: Se denomina parámetro a la variable definida en la función y se denomina argumento al valor que se ingresa al llamar la función. En el ejemplo anterior, el parámetro es \"nombre\" y el argumento es \"Josefina\".*"
   ]
  },
  {
   "cell_type": "markdown",
   "id": "dff338f2-fdc8-4aaf-9246-d94c217c9332",
   "metadata": {},
   "source": [
    "Pero qué sucede, una vez que definimos esta nueva forma de `saludar` que incluye un parámetro, si volvemos a llamarla sin ingresar ningún argumento:"
   ]
  },
  {
   "cell_type": "code",
   "execution_count": 30,
   "id": "2b7f67ac-47ec-4ece-b69f-ce93f467a498",
   "metadata": {},
   "outputs": [
    {
     "ename": "TypeError",
     "evalue": "saludar() missing 2 required positional arguments: 'nombre' and 'curso'",
     "output_type": "error",
     "traceback": [
      "\u001b[1;31m---------------------------------------------------------------------------\u001b[0m",
      "\u001b[1;31mTypeError\u001b[0m                                 Traceback (most recent call last)",
      "Cell \u001b[1;32mIn[30], line 1\u001b[0m\n\u001b[1;32m----> 1\u001b[0m saludar()\n",
      "\u001b[1;31mTypeError\u001b[0m: saludar() missing 2 required positional arguments: 'nombre' and 'curso'"
     ]
    }
   ],
   "source": [
    "saludar()"
   ]
  },
  {
   "cell_type": "markdown",
   "id": "4c476743-61c3-4b52-93c5-096f00e20136",
   "metadata": {},
   "source": [
    "Para esto, existe el concepro de **valores por defecto**, que define un valor para el parámetro en caso de que no se le envíe ningún argumento al llamar la función."
   ]
  },
  {
   "cell_type": "code",
   "execution_count": 37,
   "id": "86e74ddf-f094-4af2-8012-7ee38deae8c9",
   "metadata": {},
   "outputs": [],
   "source": [
    "def saludar(nombre = \"alumno\"):\n",
    "    print(\"¡Hola,\", nombre, \"bienvenido a la clase de funciones!\")"
   ]
  },
  {
   "cell_type": "code",
   "execution_count": 39,
   "id": "c4919323-8760-483f-8532-d4be43834e3e",
   "metadata": {},
   "outputs": [
    {
     "name": "stdout",
     "output_type": "stream",
     "text": [
      "¡Hola, Josefina bienvenido a la clase de funciones!\n",
      "¡Hola, alumno bienvenido a la clase de funciones!\n"
     ]
    }
   ],
   "source": [
    "saludar(\"Josefina\")\n",
    "saludar()"
   ]
  },
  {
   "cell_type": "markdown",
   "id": "25ac727b-6ac6-400f-8b13-7f3d18acc39c",
   "metadata": {},
   "source": [
    "Además, hay ocasiones en que necesitamos que devuelvan valores de salida (outputs) que podamos usar en otras partes del programa. Para eso podemos hacer uso de la palabra clave `return`"
   ]
  },
  {
   "cell_type": "code",
   "execution_count": 41,
   "id": "4f4ab7e5-4a1c-4021-b686-10062b8e5092",
   "metadata": {},
   "outputs": [],
   "source": [
    "def iva(subtotal):\n",
    "    return subtotal * 0.16\n",
    "\n",
    "compra = 100\n",
    "iva_compra = iva(compra)\n",
    "\n",
    "total = compra + iva_compra"
   ]
  },
  {
   "cell_type": "markdown",
   "id": "e9a61faf-4349-461f-849b-7b85a0abac08",
   "metadata": {},
   "source": [
    "Y también habrá ocasiones en las que busquemos tener más de un argumento:"
   ]
  },
  {
   "cell_type": "code",
   "execution_count": 43,
   "id": "354ebc91-eb8a-490d-978d-fa12b02a319f",
   "metadata": {},
   "outputs": [
    {
     "name": "stdout",
     "output_type": "stream",
     "text": [
      "12\n"
     ]
    }
   ],
   "source": [
    "def mult(a, b):\n",
    "    return a * b\n",
    "\n",
    "print(mult(3, 4))"
   ]
  },
  {
   "cell_type": "markdown",
   "id": "53d71ea2-3b34-4307-a181-bda6b6d6e4c7",
   "metadata": {},
   "source": [
    "O incluso un número variable de argumentos, mediante `*args`:"
   ]
  },
  {
   "cell_type": "code",
   "execution_count": 45,
   "id": "49539b62-389f-40c5-9020-c89b06b2be73",
   "metadata": {},
   "outputs": [
    {
     "name": "stdout",
     "output_type": "stream",
     "text": [
      "24\n",
      "12000000\n"
     ]
    }
   ],
   "source": [
    "def mult_total(*numeros):\n",
    "    resultado = 1\n",
    "    for num in numeros:\n",
    "        resultado *= num\n",
    "    return resultado\n",
    "\n",
    "print(mult_total(1, 2, 3, 4))           # 6\n",
    "print(mult_total(10, 20, 30, 40, 50)) # 150"
   ]
  },
  {
   "cell_type": "markdown",
   "id": "b15c8f9a-8361-413c-a962-1e5842a98ab4",
   "metadata": {},
   "source": [
    "Si queremos recibir muchos parámetros con nombre, usamos `**kwargs`."
   ]
  },
  {
   "cell_type": "code",
   "execution_count": 47,
   "id": "df0da11a-50f2-4759-9ba8-6f25316a3251",
   "metadata": {},
   "outputs": [
    {
     "name": "stdout",
     "output_type": "stream",
     "text": [
      "nombre: Ana\n",
      "edad: 28\n",
      "ciudad: México\n"
     ]
    }
   ],
   "source": [
    "def describir_persona(**datos):\n",
    "    for clave, valor in datos.items():\n",
    "        print(f\"{clave}: {valor}\")\n",
    "\n",
    "describir_persona(nombre=\"Ana\", edad=28, ciudad=\"México\")"
   ]
  },
  {
   "cell_type": "markdown",
   "id": "68afc478-948b-49d8-ba51-ee577cf3bc08",
   "metadata": {},
   "source": [
    "#### <a style=\"padding:3px;color: #FF4D4D; \"><strong>Función Recursiva</strong></a>"
   ]
  },
  {
   "cell_type": "markdown",
   "id": "45903184-46f2-4b3d-92a4-ed3639c8af34",
   "metadata": {},
   "source": [
    "Existe la posibilidad de utilizar una función dentro de otra. A este concepto lo denominaremos **función \"anidada\"**."
   ]
  },
  {
   "cell_type": "code",
   "execution_count": 49,
   "id": "1680c7ae-2526-4457-8ef6-dab28d611a9c",
   "metadata": {},
   "outputs": [
    {
     "name": "stdout",
     "output_type": "stream",
     "text": [
      "20\n"
     ]
    }
   ],
   "source": [
    "def operacion(valor):\n",
    "    def cuadrado(x):\n",
    "        return x * x\n",
    "    return cuadrado(valor) + valor\n",
    "\n",
    "print(operacion(4))"
   ]
  },
  {
   "cell_type": "markdown",
   "id": "2ff4a2fb-e5c9-4eb5-8f3f-f7a0ffe6f936",
   "metadata": {},
   "source": [
    "Pero un caso particular de funciones anidadas es cuando una función se llama a sí misma. \n",
    "\n",
    "Esto se llama recursividad. Sirve para problemas que tienen una estructura repetitiva, como factoriales, árboles, estructuras anidadas; situaciones que típicamente son más avanzadas.\n",
    "\n",
    "Pensemos por ejemplo en una función para calcular el factorial de un número:\n",
    "\n",
    "$$n! = n \\cdot (n-1) \\ \\cdot (n-2) \\cdot ... \\cdot 3 \\cdot 2 \\cdot 1$$"
   ]
  },
  {
   "cell_type": "code",
   "execution_count": 51,
   "id": "4215d8ca-7703-445e-babc-a16190cee630",
   "metadata": {},
   "outputs": [
    {
     "name": "stdout",
     "output_type": "stream",
     "text": [
      "120\n"
     ]
    }
   ],
   "source": [
    "def factorial(n):\n",
    "    if n == 0 or n == 1:\n",
    "        return 1\n",
    "    else:\n",
    "        return n * factorial(n - 1)\n",
    "\n",
    "print(factorial(5)) "
   ]
  },
  {
   "cell_type": "markdown",
   "id": "4a4e311e-db17-48dd-847c-6c7e38ffb9f7",
   "metadata": {},
   "source": [
    "Cuando llamamos a una función recursiva como `factorial(5)`, Python va creando una \"pila de llamadas\" (call stack) que contiene copias de esa función ejecutándose al mismo tiempo, cada una con su propia versión del parámetro `n`.\n",
    "\n",
    "Entonces, en nuestro ejemplo:\n",
    "\n",
    "- `factorial(5)` llama a `factorial(4)`\n",
    "- `factorial(4)` llama a `factorial(3)`\n",
    "- `factorial(3)` llama a `factorial(2)`\n",
    "- `factorial(2)` llama a `factorial(1)`\n",
    "\n",
    "Y `factorial(1)` es nuestro caso base, por lo que se detiene la recursión y empieza a resolverse hacia atrás.\n",
    "\n",
    "Cada vez que una función recursiva se llama a sí misma, lo hace con un valor de `n` más pequeño, y cada llamada tiene su propio **\"espacio local\"** de variables, así que no hay conflicto entre ellas.\n",
    "\n",
    "Una función recursiva siempre debe tener:\n",
    "\n",
    "- **Un caso base:** Es la condición que termina la recursión. En este ejemplo, es cuando `n == 1` (o cuando `n == 0`, pero eso es por la definición matemática del factorial).\n",
    "- **Una regla recursiva:** Es la que divide el problema en una versión más pequeña de sí mismo. En nuestro ejemplo es: `factorial(n) = n * factorial(n-1)`"
   ]
  },
  {
   "cell_type": "markdown",
   "id": "560ddb36-4cfb-4315-9f36-a6ba4ad0ff64",
   "metadata": {},
   "source": [
    "## <a style=\"padding:3px;color: #FF4D4D; \"><strong>Las Funciones son Objetos</strong></a>"
   ]
  },
  {
   "cell_type": "markdown",
   "id": "14294af4-2dfe-4a11-935d-452deca39a83",
   "metadata": {},
   "source": [
    "Este hecho probablemente no sea una gran sorpresa; Python está diseñado de tal manera que casi todo es un objeto. \n",
    "\n",
    "Esta idea elegante hace que el lenguaje sea fácil de entender y predecible en su comportamiento. De hecho, es una de las mayores ventajas que tiene Python sobre otros lenguajes.\n",
    "\n",
    "Vamos a definir una función y confirmar que, en efecto, es un objeto. Crearemos una función que redondea un número al múltiplo de 10 más cercano."
   ]
  },
  {
   "cell_type": "code",
   "execution_count": 53,
   "id": "36a26a0e-f030-4264-8cc2-9e4b7ae8e28c",
   "metadata": {},
   "outputs": [
    {
     "name": "stdout",
     "output_type": "stream",
     "text": [
      "110\n",
      "120\n"
     ]
    }
   ],
   "source": [
    "def redond10(x):\n",
    "    return (x+5) // 10 * 10\n",
    "\n",
    "print(redond10(114))\n",
    "print(redond10(117))"
   ]
  },
  {
   "cell_type": "markdown",
   "id": "1ae0dfd9-66e8-4cc9-bd8b-7830cdece399",
   "metadata": {},
   "source": [
    "Verificando el tipo de nuestra función, tenemos lo siguiente"
   ]
  },
  {
   "cell_type": "code",
   "execution_count": 55,
   "id": "d8cb1a17-ebea-4306-baa2-31a790cd147a",
   "metadata": {},
   "outputs": [
    {
     "data": {
      "text/plain": [
       "function"
      ]
     },
     "execution_count": 55,
     "metadata": {},
     "output_type": "execute_result"
    }
   ],
   "source": [
    "type(redond10)"
   ]
  },
  {
   "cell_type": "markdown",
   "id": "7394b8f2-c574-4dff-85a0-17a53383207c",
   "metadata": {},
   "source": [
    "Al igual que con cualquier otro objeto, podemos asignarlo a una variable."
   ]
  },
  {
   "cell_type": "code",
   "execution_count": 57,
   "id": "4e69183b-e7af-43c8-bbe0-d1aa580d1aab",
   "metadata": {},
   "outputs": [
    {
     "data": {
      "text/plain": [
       "60"
      ]
     },
     "execution_count": 57,
     "metadata": {},
     "output_type": "execute_result"
    }
   ],
   "source": [
    "r = redond10\n",
    "r(55)"
   ]
  },
  {
   "cell_type": "markdown",
   "id": "f095fc51-c23b-4025-9894-f2fcd7de9c55",
   "metadata": {},
   "source": [
    "También podemos pasar nuestra función en otras funciones como un argumento."
   ]
  },
  {
   "cell_type": "code",
   "execution_count": 59,
   "id": "0c74e461-a2c3-4016-8603-f29cdcaadc6f",
   "metadata": {},
   "outputs": [
    {
     "name": "stdout",
     "output_type": "stream",
     "text": [
      "[('Gerardo', 70), ('Karla', 90), ('Paola', 70), ('César', 90), ('Adriana', 100)]\n"
     ]
    }
   ],
   "source": [
    "def redond_califs(operacion, lista_calif):\n",
    "    return [(nombre, operacion(calif)) for nombre, calif in lista_calif]\n",
    "\n",
    "grupo_A = [(\"Gerardo\", 67), (\"Karla\", 88), (\"Paola\", 73), (\"César\", 94), (\"Adriana\", 97)]\n",
    "\n",
    "print(redond_califs(redond10, grupo_A))"
   ]
  },
  {
   "cell_type": "markdown",
   "id": "f3e2cfec-56a1-4219-824b-26bc67941cc9",
   "metadata": {},
   "source": [
    "De hecho Python tiene un operador, `map`, que se utiliza frecuentemente en la programación funcional para evitar bucles.\n",
    "\n",
    "Este operador aplica una función a cualquier objeto iterable. Y el tipo de `return` también será un iterable (por eso lo convertimos en lista en el siguiente ejemplo)."
   ]
  },
  {
   "cell_type": "code",
   "execution_count": 61,
   "id": "d7faaceb-2796-4676-92e3-de9b2e9ad5b9",
   "metadata": {},
   "outputs": [
    {
     "data": {
      "text/plain": [
       "[100, 60, 30, 80]"
      ]
     },
     "execution_count": 61,
     "metadata": {},
     "output_type": "execute_result"
    }
   ],
   "source": [
    "list(map(redond10, (99, 56, 32, 77)))"
   ]
  },
  {
   "cell_type": "markdown",
   "id": "3e246092-7159-4812-bd31-b5ca70263750",
   "metadata": {},
   "source": [
    "## <a style=\"padding:3px;color: #FF4D4D; \"><strong>Funciones Lambda</strong></a>"
   ]
  },
  {
   "cell_type": "markdown",
   "id": "f1f85fa2-c8ca-45bf-8f03-aef4b5e6c105",
   "metadata": {},
   "source": [
    "Las funciones `lambda` en Python son una forma concisa de definir funciones anónimas (es decir, sin nombre) en una sola línea. Se utilizan frecuentemente en el paradigma de programación funcional, principalmente para funciones simples que se pasan como argumentos a otras funciones.\n",
    "\n",
    "La sintaxis básica es la siguiente:\n",
    "\n",
    "`lambda argumentos: expresión`"
   ]
  },
  {
   "cell_type": "code",
   "execution_count": 63,
   "id": "ea473e4b-92d0-4b7e-b29a-68e2fb11a40b",
   "metadata": {},
   "outputs": [
    {
     "data": {
      "text/plain": [
       "<function __main__.<lambda>(x, y)>"
      ]
     },
     "execution_count": 63,
     "metadata": {},
     "output_type": "execute_result"
    }
   ],
   "source": [
    "lambda x, y: x * y"
   ]
  },
  {
   "cell_type": "markdown",
   "id": "d2bbca56-bf98-483e-be30-c1a136addc30",
   "metadata": {},
   "source": [
    "En este ejemplo, nuestra función `lambda` toma dos argumentos `x` y `y` y los multiplica.\n",
    "\n",
    "Al asignarla a una variable, podemos utilizarla:"
   ]
  },
  {
   "cell_type": "code",
   "execution_count": 65,
   "id": "9da9f24e-f015-4595-a0ed-a3d11b3600c2",
   "metadata": {},
   "outputs": [
    {
     "name": "stdout",
     "output_type": "stream",
     "text": [
      "12\n"
     ]
    }
   ],
   "source": [
    "mult = lambda x, y: x * y\n",
    "print(mult(3, 4))"
   ]
  },
  {
   "cell_type": "markdown",
   "id": "5a46b057-e8ad-4c56-bcfb-57af8bcd7f9f",
   "metadata": {},
   "source": [
    "Muchas veces también son utilizadas como `input` del operador `map`. Por ejemplo aquí utilizaremos una función lambda para elevar al cubo cada número de una lista."
   ]
  },
  {
   "cell_type": "code",
   "execution_count": 67,
   "id": "cc28a60c-e61c-4fd5-93f2-2b8dc180b3ee",
   "metadata": {},
   "outputs": [
    {
     "data": {
      "text/plain": [
       "[8, 27, 125, 1000000]"
      ]
     },
     "execution_count": 67,
     "metadata": {},
     "output_type": "execute_result"
    }
   ],
   "source": [
    "list(map(lambda x: x**3, [2, 3, 5, 100]))"
   ]
  },
  {
   "cell_type": "markdown",
   "id": "bca91558-03b5-4a84-8b8d-0223c654de6b",
   "metadata": {},
   "source": [
    "Es recomendable reducir el uso de funciones `lambda` a los siguientes casos:\n",
    "\n",
    "- La función es simple (una sola expresión).\n",
    "- No necesitas reutilizarla en otra parte del código.\n",
    "- Quieres pasarla directamente como argumento (por ejemplo, a `map`, `filter`, `sorted`, etc.).\n",
    "\n",
    "Limitaciones\n",
    "- Solo puede contener una expresión (no múltiples líneas ni declaraciones `if`, `for`, etc.).\n",
    "- Suelen ser menos legibles si el código se complica."
   ]
  },
  {
   "cell_type": "markdown",
   "id": "c5356b3d-3f18-4f2e-b5ad-44ad9d80e6f6",
   "metadata": {},
   "source": [
    "## <a style=\"padding:3px;color: #FF4D4D; \"><strong>Espacio de Nombres</strong></a>"
   ]
  },
  {
   "cell_type": "markdown",
   "id": "0ba4d100-ba91-499f-a8bb-9d795ad1ae9c",
   "metadata": {},
   "source": [
    "Podemos notar que a veces usamos los mismos nombres de **variables** en diferentes **funciones**. Nombres comunes como `x` y `y` tienden a aparecer con frecuencia. \n",
    "\n",
    "De hecho, podrías haberte preguntado si esto es algo peligroso. ¿Existe el riesgo de que cambiemos una variable en una función y esto afecte el funcionamiento de otra función?\n",
    "\n",
    "Investigaremos este asunto en el siguiente código."
   ]
  },
  {
   "cell_type": "code",
   "execution_count": 69,
   "id": "826e6c75-d302-43c3-994d-08e440d78db1",
   "metadata": {},
   "outputs": [
    {
     "name": "stdout",
     "output_type": "stream",
     "text": [
      "Dentro de la función, x = 4\n",
      "El return de la función resulta en 4\n",
      "Fuera de la función, x = 3\n"
     ]
    }
   ],
   "source": [
    "def suma_uno(x):\n",
    "    x = x + 1\n",
    "    print('Dentro de la función, x =', x)\n",
    "    return x\n",
    "\n",
    "x = 3\n",
    "result = suma_uno(x)\n",
    "print('El return de la función resulta en', result)\n",
    "print('Fuera de la función, x =', x)"
   ]
  },
  {
   "cell_type": "markdown",
   "id": "0407b175-d81e-4394-84cd-7610532d0d4b",
   "metadata": {},
   "source": [
    "Observa que inicializamos una variable `x` en el programa principal. Dentro de la función, tenemos una instrucción que parece sumar uno a `x`. Luego, en el programa principal, intentamos imprimir el valor de `x`."
   ]
  },
  {
   "cell_type": "markdown",
   "id": "c042a540-311b-44c1-bde6-bb1e102a4bd3",
   "metadata": {},
   "source": [
    "Recuerda que Python utiliza un objeto especial llamado **espacio de nombres (namespace)** para almacenar los nombres de las variables, que a su vez hacen referencia a objetos. \n",
    "\n",
    "De hecho, un programa puede tener muchos espacios de nombres distintos. Existe un **espacio de nombres global que contiene** las variables globales. Cada vez que se llama a una función, Python también crea un **espacio de nombres local** que contiene las variables locales de esa función.\n",
    "\n",
    "Ya hemos visto que los parámetros de una función se convierten en variables locales. También podemos crear una variable local simplemente asignándola dentro de la función. Aquí tienes otro ejemplo en el que se crea una variable local y mediante asignación. Observa que la y local no es la misma que la y global."
   ]
  },
  {
   "cell_type": "code",
   "execution_count": 71,
   "id": "71613348-c501-4e85-8f42-577acec63d2d",
   "metadata": {},
   "outputs": [
    {
     "name": "stdout",
     "output_type": "stream",
     "text": [
      "Dentro de la función, x = 7\n",
      "El return de la función resulta en 7\n",
      "Fuera de la función, y = 100\n"
     ]
    }
   ],
   "source": [
    "def suma_uno(x):\n",
    "    y = x + 1\n",
    "    print('Dentro de la función, x =', y)\n",
    "    return y\n",
    "\n",
    "x = 6\n",
    "y = 100\n",
    "result = suma_uno(x)\n",
    "print('El return de la función resulta en', result)\n",
    "print('Fuera de la función, y =', y)"
   ]
  },
  {
   "cell_type": "markdown",
   "id": "bfe3186d-9a6e-4e9a-b1ab-b5bce5f59fe0",
   "metadata": {},
   "source": [
    "#### <a style=\"padding:3px;color: #FF4D4D; \"><strong>Accediendo a Variables Globales</strong></a>"
   ]
  },
  {
   "cell_type": "markdown",
   "id": "aa8c9dde-7d7d-4bd5-8961-b25f66978277",
   "metadata": {},
   "source": [
    "Pasar objetos a una función como argumentos es la forma más clara y segura de proporcionar valores que necesitamos dentro de una función.\n",
    "\n",
    "Pero Python nos ofrece otras formas. \n",
    "\n",
    "En el siguiente código, observa la línea `x = x + y` dentro de la función. `x` es un parámetro, por lo tanto sabemos que `x` es una variable local. Sin embargo, no hay una variable local `y`.\n",
    "\n",
    "En esta situación, Python intentará encontrar un valor para la variable `y` buscando en la pila de ejecución. Dado que no hay un y en el espacio de nombres local, Python revisa el espacio de nombres global. En este caso, hay un `y` global, por lo que Python utiliza ese valor."
   ]
  },
  {
   "cell_type": "code",
   "execution_count": 73,
   "id": "50b9de68-a650-4607-951b-6ad8e867ddc8",
   "metadata": {},
   "outputs": [
    {
     "name": "stdout",
     "output_type": "stream",
     "text": [
      "¿Dentro de la función?, y = 5\n",
      "El return devuelve 12\n",
      "Fuera de la función, y = 5\n"
     ]
    }
   ],
   "source": [
    "def suma_y(x):\n",
    "    suma = x + y # No existe una variable local y, entonces buscará la global\n",
    "    print('¿Dentro de la función?, y =', y)\n",
    "    return suma\n",
    "\n",
    "y = 5\n",
    "result = suma_y(7)\n",
    "print('El return devuelve', result)\n",
    "print('Fuera de la función, y =', y)"
   ]
  }
 ],
 "metadata": {
  "kernelspec": {
   "display_name": "Python [conda env:base] *",
   "language": "python",
   "name": "conda-base-py"
  },
  "language_info": {
   "codemirror_mode": {
    "name": "ipython",
    "version": 3
   },
   "file_extension": ".py",
   "mimetype": "text/x-python",
   "name": "python",
   "nbconvert_exporter": "python",
   "pygments_lexer": "ipython3",
   "version": "3.11.5"
  }
 },
 "nbformat": 4,
 "nbformat_minor": 5
}
