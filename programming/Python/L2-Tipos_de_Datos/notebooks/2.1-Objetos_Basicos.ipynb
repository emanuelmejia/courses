{
 "cells": [
  {
   "cell_type": "markdown",
   "id": "20305986-8016-4dad-9b8d-b8af0012bfae",
   "metadata": {},
   "source": [
    "<div style=\"padding:10px;background-color: #FF4D4D; color:white;font-size:28px;\"><strong>Tipos de Objetos Básicos</strong></div>"
   ]
  },
  {
   "attachments": {},
   "cell_type": "markdown",
   "id": "c75e7d3d-6ac2-4071-9bd5-84151d5bbb33",
   "metadata": {},
   "source": [
    "Los objetos son básicamente contenedores que pueden almacenar cualquier tipo de datos.\n",
    "\n",
    "11 y \"Hola\" son ejemplos de objetos que en bajos niveles se almacenan como ceros y unos, sin embargo sus datos deben estar separados y son los objetos quienes se aseguran de esa separación.\n",
    "\n",
    "El lugar en que se almacenan y gestionan los objetos se denomina Espacio de Objetos y dentro de este espacio incluso el código que escribimos se guarda como objeto."
   ]
  },
  {
   "attachments": {},
   "cell_type": "markdown",
   "id": "5921bc0f-fc3a-4bdf-b5dd-c8eb3d4298e6",
   "metadata": {},
   "source": [
    "Sin embargo, no podríamos ver secuencias de ceros y unos y distinguir fácilmente entre una tabla o una imagen. Además, las cosas que podemos realizar con cada uno son muy distintas, podríamos restar dos números pero no dos imágenes. Por este motivo, debemos llevar registro del tipo de dato en cada objeto.\n",
    "\n",
    "La categoría que tiene cada objeto se denomina tipo (o también llamada “clase”)."
   ]
  },
  {
   "cell_type": "markdown",
   "id": "f34c8357-52dc-43ba-8fc8-71acf42ded5d",
   "metadata": {},
   "source": [
    "## <a style=\"padding:3px;color: #FF4D4D; \"><strong>Números Enteros - Int</strong></a>"
   ]
  },
  {
   "attachments": {},
   "cell_type": "markdown",
   "id": "6d38db0a-defe-4c36-bb34-c133dfa2e40f",
   "metadata": {},
   "source": [
    "El primer tipo numérico se trata de los enteros.\n",
    "\n",
    "Dentro de este tipo de objeto pueden almacenarse enteros positivos (1, 2, 3) o enteros negativos (-1, -2, -1000), incluyendo también al 0.\n",
    "\n",
    "Y curiosamente, no hay un límite de qué tan grandes pueden ser (más allá de las limitantes de hardware)."
   ]
  },
  {
   "cell_type": "code",
   "execution_count": 7,
   "id": "3ee5fedd-9079-4070-8de0-de563069e897",
   "metadata": {},
   "outputs": [
    {
     "data": {
      "text/plain": [
       "int"
      ]
     },
     "execution_count": 7,
     "metadata": {},
     "output_type": "execute_result"
    }
   ],
   "source": [
    "type(0)"
   ]
  },
  {
   "cell_type": "code",
   "execution_count": 8,
   "id": "bfca0382-df97-4800-b36e-7d9635a0e433",
   "metadata": {},
   "outputs": [
    {
     "data": {
      "text/plain": [
       "int"
      ]
     },
     "execution_count": 8,
     "metadata": {},
     "output_type": "execute_result"
    }
   ],
   "source": [
    "type(-45)"
   ]
  },
  {
   "cell_type": "code",
   "execution_count": 9,
   "id": "c1869a81-c6c2-465c-8940-70d07f6ac143",
   "metadata": {},
   "outputs": [
    {
     "data": {
      "text/plain": [
       "int"
      ]
     },
     "execution_count": 9,
     "metadata": {},
     "output_type": "execute_result"
    }
   ],
   "source": [
    "type(10000000000000000000000000000)"
   ]
  },
  {
   "cell_type": "markdown",
   "id": "5f034df7-e8bb-4ec1-a1cc-8d3f11b9f272",
   "metadata": {},
   "source": [
    "## <a style=\"padding:3px;color: #FF4D4D; \"><strong>Números Punto Flotante - Float</strong></a>"
   ]
  },
  {
   "attachments": {},
   "cell_type": "markdown",
   "id": "cefb128d-e2c9-4073-8180-89f64d39a5e5",
   "metadata": {},
   "source": [
    "Este tipo de objeto es una aproximación de los números reales, es decir números que incluyen punto decimal o fracciones.\n",
    "\n",
    "Se denominan de punto flotante debido a que el punto decimal \"flota\" entre posiciones. La idea básica es descomponer el número en partes:\n",
    "\n",
    "- Una **mantisa** o los coeficientes del número.\n",
    "- Un **exponente** que indica dónde se coloca el punto decimal.\n",
    "\n",
    "Por ejemplo en el número de oro, 1.618034 se dividiría en los siguientes componentes:\n",
    "- Mantisa: 1618034\n",
    "- Exponente: -6\n",
    "\n",
    "Lógica:\n",
    "\n",
    "$1618034$ x $10^{-6} = 1.618034$"
   ]
  },
  {
   "cell_type": "code",
   "execution_count": 12,
   "id": "03b58e66-deb4-40db-ab92-08e378d18a22",
   "metadata": {},
   "outputs": [
    {
     "data": {
      "text/plain": [
       "float"
      ]
     },
     "execution_count": 12,
     "metadata": {},
     "output_type": "execute_result"
    }
   ],
   "source": [
    "type(1/2)"
   ]
  },
  {
   "cell_type": "markdown",
   "id": "6443afc3-c20a-4796-87eb-7e1e54a5a8ea",
   "metadata": {},
   "source": [
    "El tipo float aplica un error de redondeo después de ~ 16 decimales."
   ]
  },
  {
   "cell_type": "code",
   "execution_count": 14,
   "id": "20f39266-abba-4674-9f52-092803d3e0dc",
   "metadata": {},
   "outputs": [
    {
     "name": "stdout",
     "output_type": "stream",
     "text": [
      "3.141592653589793\n"
     ]
    }
   ],
   "source": [
    "import math\n",
    "print(math.pi)"
   ]
  },
  {
   "cell_type": "markdown",
   "id": "16d297f9-32ca-484d-83cf-361d678568c8",
   "metadata": {},
   "source": [
    "## <a style=\"padding:3px;color: #FF4D4D; \"><strong>Operaciones</strong></a>"
   ]
  },
  {
   "cell_type": "markdown",
   "id": "b2a4b928-454c-4153-89fa-1db64b0557dd",
   "metadata": {},
   "source": [
    "<p style=\"padding:3px;color: #FF4D4D; \"><strong>Suma</strong></p>"
   ]
  },
  {
   "cell_type": "code",
   "execution_count": 17,
   "id": "91b13c23-7083-492d-9864-1b8f7c914e4d",
   "metadata": {},
   "outputs": [
    {
     "data": {
      "text/plain": [
       "10"
      ]
     },
     "execution_count": 17,
     "metadata": {},
     "output_type": "execute_result"
    }
   ],
   "source": [
    "5 + 5"
   ]
  },
  {
   "cell_type": "code",
   "execution_count": 18,
   "id": "328e1364-13d5-4078-a597-601b94837de0",
   "metadata": {},
   "outputs": [
    {
     "data": {
      "text/plain": [
       "int"
      ]
     },
     "execution_count": 18,
     "metadata": {},
     "output_type": "execute_result"
    }
   ],
   "source": [
    "type(5 + 5)"
   ]
  },
  {
   "cell_type": "code",
   "execution_count": 19,
   "id": "a1bb2776-dd1c-4289-90d0-8548c16fa2c2",
   "metadata": {},
   "outputs": [
    {
     "data": {
      "text/plain": [
       "11.8"
      ]
     },
     "execution_count": 19,
     "metadata": {},
     "output_type": "execute_result"
    }
   ],
   "source": [
    "5 + 6.8"
   ]
  },
  {
   "cell_type": "code",
   "execution_count": 20,
   "id": "7b59153e-ac29-4e39-bff2-c4c46bccbdff",
   "metadata": {},
   "outputs": [
    {
     "data": {
      "text/plain": [
       "float"
      ]
     },
     "execution_count": 20,
     "metadata": {},
     "output_type": "execute_result"
    }
   ],
   "source": [
    "type(5 + 6.8)"
   ]
  },
  {
   "cell_type": "markdown",
   "id": "b7e9a112-b9a5-4b53-b6f7-b8465e96c7c9",
   "metadata": {},
   "source": [
    "<p style=\"padding:3px;color: #FF4D4D; \"><strong>Resta</strong></p>"
   ]
  },
  {
   "cell_type": "code",
   "execution_count": 22,
   "id": "2f24091e",
   "metadata": {},
   "outputs": [
    {
     "data": {
      "text/plain": [
       "-7"
      ]
     },
     "execution_count": 22,
     "metadata": {},
     "output_type": "execute_result"
    }
   ],
   "source": [
    "11 - 18"
   ]
  },
  {
   "cell_type": "code",
   "execution_count": 23,
   "id": "2f91c514-1a4c-43c6-9858-d00303f2f311",
   "metadata": {},
   "outputs": [
    {
     "data": {
      "text/plain": [
       "int"
      ]
     },
     "execution_count": 23,
     "metadata": {},
     "output_type": "execute_result"
    }
   ],
   "source": [
    "type(11 - 18)"
   ]
  },
  {
   "cell_type": "code",
   "execution_count": 24,
   "id": "2a7e0927-df8d-4ecb-a55a-3d22952c3f6b",
   "metadata": {},
   "outputs": [
    {
     "data": {
      "text/plain": [
       "-7.0"
      ]
     },
     "execution_count": 24,
     "metadata": {},
     "output_type": "execute_result"
    }
   ],
   "source": [
    "11 - 18.0"
   ]
  },
  {
   "cell_type": "code",
   "execution_count": 25,
   "id": "ff001349-20d5-4663-9cf8-51509e1c66fc",
   "metadata": {},
   "outputs": [
    {
     "data": {
      "text/plain": [
       "float"
      ]
     },
     "execution_count": 25,
     "metadata": {},
     "output_type": "execute_result"
    }
   ],
   "source": [
    "type(11 - 18.0)"
   ]
  },
  {
   "cell_type": "markdown",
   "id": "32e834ea-f420-4b33-a550-92a4ed08a29a",
   "metadata": {},
   "source": [
    "<p style=\"padding:3px;color: #FF4D4D; \"><strong>Multiplicación</strong></p>"
   ]
  },
  {
   "cell_type": "code",
   "execution_count": 27,
   "id": "b795408a-4fe2-45ed-8ca0-669d0226a8e0",
   "metadata": {},
   "outputs": [
    {
     "data": {
      "text/plain": [
       "49"
      ]
     },
     "execution_count": 27,
     "metadata": {},
     "output_type": "execute_result"
    }
   ],
   "source": [
    "7 * 7"
   ]
  },
  {
   "cell_type": "code",
   "execution_count": 28,
   "id": "3fdb1761-9f93-4980-a2b4-fc388a9eb32f",
   "metadata": {},
   "outputs": [
    {
     "data": {
      "text/plain": [
       "int"
      ]
     },
     "execution_count": 28,
     "metadata": {},
     "output_type": "execute_result"
    }
   ],
   "source": [
    "type(7 * 7)"
   ]
  },
  {
   "cell_type": "code",
   "execution_count": 29,
   "id": "28a8f4d9-1e01-44fd-a7a7-15577eb3774c",
   "metadata": {},
   "outputs": [
    {
     "data": {
      "text/plain": [
       "9.0"
      ]
     },
     "execution_count": 29,
     "metadata": {},
     "output_type": "execute_result"
    }
   ],
   "source": [
    "1.5 * 6"
   ]
  },
  {
   "cell_type": "code",
   "execution_count": 30,
   "id": "c85a8537-e481-4219-8a16-99f157256021",
   "metadata": {},
   "outputs": [
    {
     "data": {
      "text/plain": [
       "float"
      ]
     },
     "execution_count": 30,
     "metadata": {},
     "output_type": "execute_result"
    }
   ],
   "source": [
    "type(1.5 * 6)"
   ]
  },
  {
   "cell_type": "markdown",
   "id": "6c3a1cc1-5615-4d04-b8f4-b88ff8851586",
   "metadata": {},
   "source": [
    "<p style=\"padding:3px;color: #FF4D4D; \"><strong>División - Punto Flotante</strong></p>\n",
    "Siempre crea un objeto flotante aunque el resultado pudiera ser un entero"
   ]
  },
  {
   "cell_type": "code",
   "execution_count": 32,
   "id": "3bfb69ef-e646-44c5-9e3b-a87edb5dc95f",
   "metadata": {},
   "outputs": [
    {
     "data": {
      "text/plain": [
       "1.8888888888888888"
      ]
     },
     "execution_count": 32,
     "metadata": {},
     "output_type": "execute_result"
    }
   ],
   "source": [
    "17/9"
   ]
  },
  {
   "cell_type": "code",
   "execution_count": 33,
   "id": "5a1a364b-835e-4937-b332-dad9364fb399",
   "metadata": {},
   "outputs": [
    {
     "data": {
      "text/plain": [
       "float"
      ]
     },
     "execution_count": 33,
     "metadata": {},
     "output_type": "execute_result"
    }
   ],
   "source": [
    "type(17/9)"
   ]
  },
  {
   "cell_type": "code",
   "execution_count": 34,
   "id": "795b6408-210c-4dfb-9951-5fc82ffe68f2",
   "metadata": {},
   "outputs": [
    {
     "data": {
      "text/plain": [
       "5.0"
      ]
     },
     "execution_count": 34,
     "metadata": {},
     "output_type": "execute_result"
    }
   ],
   "source": [
    "20/4"
   ]
  },
  {
   "cell_type": "code",
   "execution_count": 35,
   "id": "24ba8ecb-7d82-4277-9af2-a0eaa9ba07b5",
   "metadata": {},
   "outputs": [
    {
     "data": {
      "text/plain": [
       "float"
      ]
     },
     "execution_count": 35,
     "metadata": {},
     "output_type": "execute_result"
    }
   ],
   "source": [
    "type(20/4)"
   ]
  },
  {
   "cell_type": "markdown",
   "id": "b233c355-e7c9-49cb-87c5-b1f7abb914de",
   "metadata": {},
   "source": [
    "<p style=\"padding:3px;color: #FF4D4D; \"><strong>División Truncada - Entero</strong></p>\n",
    "Recorta la porción decimal de la división, crea un objeto entero"
   ]
  },
  {
   "cell_type": "code",
   "execution_count": 37,
   "id": "a471efab-f63c-47ee-8f46-f87b280dc26a",
   "metadata": {},
   "outputs": [
    {
     "data": {
      "text/plain": [
       "2"
      ]
     },
     "execution_count": 37,
     "metadata": {},
     "output_type": "execute_result"
    }
   ],
   "source": [
    "4//2"
   ]
  },
  {
   "cell_type": "code",
   "execution_count": 38,
   "id": "33ae09f9-8191-4d0b-a14f-332bc91b4fca",
   "metadata": {},
   "outputs": [
    {
     "data": {
      "text/plain": [
       "int"
      ]
     },
     "execution_count": 38,
     "metadata": {},
     "output_type": "execute_result"
    }
   ],
   "source": [
    "type(4//2)"
   ]
  },
  {
   "cell_type": "code",
   "execution_count": 39,
   "id": "eed07a40-4835-46c4-b316-7510f00f2681",
   "metadata": {},
   "outputs": [
    {
     "data": {
      "text/plain": [
       "3"
      ]
     },
     "execution_count": 39,
     "metadata": {},
     "output_type": "execute_result"
    }
   ],
   "source": [
    "19//5"
   ]
  },
  {
   "cell_type": "code",
   "execution_count": 40,
   "id": "645dd964-2201-4f02-bd66-1b289a640bdf",
   "metadata": {},
   "outputs": [
    {
     "data": {
      "text/plain": [
       "int"
      ]
     },
     "execution_count": 40,
     "metadata": {},
     "output_type": "execute_result"
    }
   ],
   "source": [
    "type(19//5)"
   ]
  },
  {
   "cell_type": "markdown",
   "id": "a2d4d6b4-c361-4d25-97a9-3ab2c355af8d",
   "metadata": {},
   "source": [
    "<p style=\"padding:3px;color: #FF4D4D; \"><strong>Módulo</strong></p>\n",
    "Devuelve el residuo de una división"
   ]
  },
  {
   "cell_type": "code",
   "execution_count": 42,
   "id": "9512a900-2b15-4329-b199-f608546acc59",
   "metadata": {},
   "outputs": [
    {
     "name": "stdout",
     "output_type": "stream",
     "text": [
      "4\n"
     ]
    },
    {
     "data": {
      "text/plain": [
       "int"
      ]
     },
     "execution_count": 42,
     "metadata": {},
     "output_type": "execute_result"
    }
   ],
   "source": [
    "print(19 % 5)\n",
    "type(19 % 5)"
   ]
  },
  {
   "cell_type": "markdown",
   "id": "91100197-4939-4402-9013-a3b2d1d05d07",
   "metadata": {},
   "source": [
    "<p style=\"padding:3px;color: #FF4D4D; \"><strong>Exponente</strong></p>\n",
    "Devuelve el primer número elevado a la potencia del segundo número. Ejemplo $2^6$"
   ]
  },
  {
   "cell_type": "code",
   "execution_count": 44,
   "id": "8ca70af8-2eeb-4b63-ad03-26d20f63dedb",
   "metadata": {},
   "outputs": [
    {
     "data": {
      "text/plain": [
       "64"
      ]
     },
     "execution_count": 44,
     "metadata": {},
     "output_type": "execute_result"
    }
   ],
   "source": [
    "2**6"
   ]
  },
  {
   "cell_type": "markdown",
   "id": "e81a5be8-05b4-491f-be4c-7c7ecc2f9872",
   "metadata": {},
   "source": [
    "## <a style=\"padding:3px;color: #FF4D4D; \"><strong>Jerarquía de Operaciones</strong></a>"
   ]
  },
  {
   "cell_type": "markdown",
   "id": "f52600ae-ca0d-4318-9d44-5f2766971685",
   "metadata": {},
   "source": [
    "Python sigue la jerarquía de las operaciones dadas por PEMDAS:\n",
    "- Paréntesis\n",
    "- Exponentes *(incluyendo raíces)*\n",
    "- Multiplicación & División\n",
    "- Adición *(suma)* & Sustracción *(resta)*"
   ]
  },
  {
   "cell_type": "code",
   "execution_count": 47,
   "id": "30347801-4675-4c18-a4ba-4b9217f10ffb",
   "metadata": {},
   "outputs": [
    {
     "data": {
      "text/plain": [
       "14"
      ]
     },
     "execution_count": 47,
     "metadata": {},
     "output_type": "execute_result"
    }
   ],
   "source": [
    "2 + 3 * 4"
   ]
  },
  {
   "cell_type": "markdown",
   "id": "87669e86-b710-4fd2-b5e4-1ae8e3cd9d1d",
   "metadata": {},
   "source": [
    "Si queremos controlar el orden en que son ejecutadas las operaciones, usamos paréntesis"
   ]
  },
  {
   "cell_type": "code",
   "execution_count": 49,
   "id": "b310cd07-d15e-4fbc-927d-d6eec25ef0be",
   "metadata": {},
   "outputs": [
    {
     "data": {
      "text/plain": [
       "20"
      ]
     },
     "execution_count": 49,
     "metadata": {},
     "output_type": "execute_result"
    }
   ],
   "source": [
    "(2 + 3) * 4"
   ]
  },
  {
   "cell_type": "markdown",
   "id": "17931be9-4564-4b80-ac0e-c6d236dc9919",
   "metadata": {},
   "source": [
    "## <a style=\"padding:3px;color: #FF4D4D; \"><strong>Booleanos</strong></a>"
   ]
  },
  {
   "cell_type": "markdown",
   "id": "e9761bad-47e6-4726-b627-b159f5c3c20b",
   "metadata": {},
   "source": [
    "Representan un valor de verdad, pueden ser\n",
    "- 1 Verdadero \n",
    "- 0 Falso"
   ]
  },
  {
   "cell_type": "code",
   "execution_count": 52,
   "id": "056f0ab4-da67-40dc-8920-9ec27db519d9",
   "metadata": {},
   "outputs": [
    {
     "data": {
      "text/plain": [
       "True"
      ]
     },
     "execution_count": 52,
     "metadata": {},
     "output_type": "execute_result"
    }
   ],
   "source": [
    "True"
   ]
  },
  {
   "cell_type": "code",
   "execution_count": 53,
   "id": "ca0e4c20-7f7f-43a8-be3b-694157ce47d4",
   "metadata": {},
   "outputs": [
    {
     "data": {
      "text/plain": [
       "bool"
      ]
     },
     "execution_count": 53,
     "metadata": {},
     "output_type": "execute_result"
    }
   ],
   "source": [
    "type(True)"
   ]
  },
  {
   "cell_type": "code",
   "execution_count": 54,
   "id": "679144d5-9251-4966-bd59-7d97d68ee9fb",
   "metadata": {},
   "outputs": [
    {
     "data": {
      "text/plain": [
       "False"
      ]
     },
     "execution_count": 54,
     "metadata": {},
     "output_type": "execute_result"
    }
   ],
   "source": [
    "False"
   ]
  },
  {
   "cell_type": "code",
   "execution_count": 55,
   "id": "c38d5de8-8bfc-446b-bfa2-cb016ac055d8",
   "metadata": {},
   "outputs": [
    {
     "data": {
      "text/plain": [
       "bool"
      ]
     },
     "execution_count": 55,
     "metadata": {},
     "output_type": "execute_result"
    }
   ],
   "source": [
    "type(False)"
   ]
  },
  {
   "cell_type": "markdown",
   "id": "fc2274f2-7a50-4a15-804b-87e5dc59591a",
   "metadata": {},
   "source": [
    "## <a style=\"padding:3px;color: #FF4D4D; \"><strong>Comparaciones</strong></a>"
   ]
  },
  {
   "cell_type": "markdown",
   "id": "28f81dcb-8987-4db2-b626-ac60939a3ff4",
   "metadata": {},
   "source": [
    "Existe otro tipo de operaciones denominadas comparaciones, cuyo resultado será un booleano. \n",
    "Por ejemplo, comparar si dos números son:\n",
    "- Iguales\n",
    "- Diferentes\n",
    "- Mayores\n",
    "- Menores\n",
    "- Mayores o iguales\n",
    "- Menores o iguales"
   ]
  },
  {
   "cell_type": "code",
   "execution_count": 58,
   "id": "9d27a2ce-28aa-47b6-ae85-53ce68db57a8",
   "metadata": {},
   "outputs": [
    {
     "data": {
      "text/plain": [
       "True"
      ]
     },
     "execution_count": 58,
     "metadata": {},
     "output_type": "execute_result"
    }
   ],
   "source": [
    "2 != 5 "
   ]
  },
  {
   "cell_type": "code",
   "execution_count": 59,
   "id": "83f61521-f921-4aa8-adf5-8d8f74e18586",
   "metadata": {},
   "outputs": [
    {
     "data": {
      "text/plain": [
       "True"
      ]
     },
     "execution_count": 59,
     "metadata": {},
     "output_type": "execute_result"
    }
   ],
   "source": [
    "2 ** 3 == 2 * 2 * 2"
   ]
  },
  {
   "cell_type": "code",
   "execution_count": 60,
   "id": "c9923137-3322-4832-a54c-beece5608cca",
   "metadata": {},
   "outputs": [
    {
     "data": {
      "text/plain": [
       "False"
      ]
     },
     "execution_count": 60,
     "metadata": {},
     "output_type": "execute_result"
    }
   ],
   "source": [
    "11 < 2 ** 3"
   ]
  },
  {
   "cell_type": "code",
   "execution_count": 61,
   "id": "6bc9ee9b-556f-487d-8902-0829cc1efe8f",
   "metadata": {},
   "outputs": [
    {
     "data": {
      "text/plain": [
       "False"
      ]
     },
     "execution_count": 61,
     "metadata": {},
     "output_type": "execute_result"
    }
   ],
   "source": [
    "5 * 2 >= 2 ** 5"
   ]
  },
  {
   "cell_type": "markdown",
   "id": "52fda3a6-b9f9-4dbc-8c6e-0a65247bddb9",
   "metadata": {},
   "source": [
    "Los números flotantes se almacenan en base 2 (binario), eso quiere decir que un número se traduce únicamente en 0 y 1. Algunos números son periódicos en base 2. Por ejemplo:\n",
    "- **Base 10:** 1.1\n",
    "- **Base  2:** 1.000110011001100110011...\n",
    "\n",
    "Esto puede generar un error de redondeo, que aunque puede ser mínimo, es necesario considerarlo"
   ]
  },
  {
   "cell_type": "code",
   "execution_count": 63,
   "id": "8d82cb2c-fb84-4ca8-9afc-0eb0665ca201",
   "metadata": {},
   "outputs": [
    {
     "data": {
      "text/plain": [
       "True"
      ]
     },
     "execution_count": 63,
     "metadata": {},
     "output_type": "execute_result"
    }
   ],
   "source": [
    "1.1 == 1.1"
   ]
  },
  {
   "cell_type": "markdown",
   "id": "bfb9f5df-6801-4bd9-80b7-b2e502b6860e",
   "metadata": {},
   "source": [
    "Aparentemente la siguiente comparación debiera ser cierta"
   ]
  },
  {
   "cell_type": "code",
   "execution_count": 65,
   "id": "fb5c91cc-430e-45f3-bc98-f73a79fbf349",
   "metadata": {},
   "outputs": [
    {
     "data": {
      "text/plain": [
       "False"
      ]
     },
     "execution_count": 65,
     "metadata": {},
     "output_type": "execute_result"
    }
   ],
   "source": [
    "1.1 + 1.1 + 1.1 == 3.3"
   ]
  },
  {
   "cell_type": "markdown",
   "id": "4b1e831c-46ea-4b3a-83f3-0d68cb253abb",
   "metadata": {},
   "source": [
    "Sin embargo contiene un número que en base 2 es interminable y genera un error de redondeo"
   ]
  },
  {
   "cell_type": "code",
   "execution_count": 67,
   "id": "0170b348-32e9-4f4d-a236-0404d05e08ba",
   "metadata": {
    "scrolled": true
   },
   "outputs": [
    {
     "data": {
      "text/plain": [
       "3.3000000000000003"
      ]
     },
     "execution_count": 67,
     "metadata": {},
     "output_type": "execute_result"
    }
   ],
   "source": [
    "1.1 + 1.1 + 1.1"
   ]
  },
  {
   "cell_type": "markdown",
   "id": "06b1aed4-41d7-46fa-b6aa-038ef5e2cce5",
   "metadata": {},
   "source": [
    "## <a style=\"padding:3px;color: #FF4D4D; \"><strong>Variables</strong></a>"
   ]
  },
  {
   "cell_type": "markdown",
   "id": "6170ed89-44ac-402d-a4cc-484c1c08f732",
   "metadata": {},
   "source": [
    "Son nombres que le damos a los objetos para poder acceder a ellos. Las variables van dentro de un objeto especial llamado Namespace (un espacio de nombres).\n",
    "\n",
    "Para crear una usamos el **operador de asignación**, escrito como *=*.\n",
    "\n",
    "*NOTA: Este operador es diferente al operador igual (==) visto en las comparaciones*"
   ]
  },
  {
   "cell_type": "code",
   "execution_count": 70,
   "id": "6f250a26-46bf-416a-bc29-480d9cfdd383",
   "metadata": {},
   "outputs": [],
   "source": [
    "x = 11"
   ]
  },
  {
   "cell_type": "markdown",
   "id": "af545741-963e-45b8-9042-94b007ebb542",
   "metadata": {},
   "source": [
    "Nótese que no hay ninguna salida de esta sentencia, únicamente se ha creado una variable que se refiere a un objeto *int*. Y podemos utilizarla en futuras sentencias."
   ]
  },
  {
   "cell_type": "code",
   "execution_count": 72,
   "id": "15db550a-fc01-4e55-803d-e90193b85806",
   "metadata": {},
   "outputs": [
    {
     "data": {
      "text/plain": [
       "33"
      ]
     },
     "execution_count": 72,
     "metadata": {},
     "output_type": "execute_result"
    }
   ],
   "source": [
    "x + 2 * x"
   ]
  },
  {
   "cell_type": "code",
   "execution_count": 73,
   "id": "919672c7-81e1-4c3b-92a1-79ad504f0c2c",
   "metadata": {},
   "outputs": [
    {
     "data": {
      "text/plain": [
       "121"
      ]
     },
     "execution_count": 73,
     "metadata": {},
     "output_type": "execute_result"
    }
   ],
   "source": [
    "x ** 2"
   ]
  },
  {
   "cell_type": "code",
   "execution_count": 74,
   "id": "c751196d-411b-43b4-98ed-6fc296814f9e",
   "metadata": {},
   "outputs": [
    {
     "data": {
      "text/plain": [
       "int"
      ]
     },
     "execution_count": 74,
     "metadata": {},
     "output_type": "execute_result"
    }
   ],
   "source": [
    "type(x)"
   ]
  },
  {
   "cell_type": "markdown",
   "id": "f5f539b5-7ca0-4f46-8e97-8ea3939ef224",
   "metadata": {},
   "source": [
    "El operador de asignación NO copia un valor. Se crea el objeto *int* y la variable *x* es asignada como un nombre que apunta al objeto *int*.\n",
    "\n",
    "Puede crearse más de una variable y hacer operaciones entre ellas."
   ]
  },
  {
   "cell_type": "code",
   "execution_count": 76,
   "id": "42636154-f25b-405d-8835-e15a7b07c706",
   "metadata": {},
   "outputs": [
    {
     "data": {
      "text/plain": [
       "12.083045973594572"
      ]
     },
     "execution_count": 76,
     "metadata": {},
     "output_type": "execute_result"
    }
   ],
   "source": [
    "a = 11\n",
    "b = 5\n",
    "(a ** 2 + b ** 2) ** 0.5 # Teorema de pitágoras para los curiosos"
   ]
  },
  {
   "cell_type": "markdown",
   "id": "6721dadf-3caa-41b9-8ea6-d9d476ed295b",
   "metadata": {},
   "source": [
    "Es posible asignar dos nuevos objetos a nuestras variables y reevaluar la expresión. Además de que los objetos asignados pueden ser cualquier expresión, por ejemplo operaciones."
   ]
  },
  {
   "cell_type": "code",
   "execution_count": 78,
   "id": "b204491b-95f0-4075-94cc-87d9fe1d4d5a",
   "metadata": {},
   "outputs": [
    {
     "data": {
      "text/plain": [
       "5.0"
      ]
     },
     "execution_count": 78,
     "metadata": {},
     "output_type": "execute_result"
    }
   ],
   "source": [
    "a = (10 % 6)\n",
    "b = (1.5 * 2)\n",
    "\n",
    "(a ** 2 + b ** 2) ** 0.5  # Ahora con una terna pitagórica"
   ]
  },
  {
   "cell_type": "markdown",
   "id": "ae48123e-3a2e-4233-8e8e-6ee42ade5a49",
   "metadata": {},
   "source": [
    "Las variables pueden también utilizarse como expresiones, siempre y cuando ya hayan sido creadas."
   ]
  },
  {
   "cell_type": "code",
   "execution_count": 80,
   "id": "5655e2b3-7a6e-4eae-a37d-2a83ed398fdd",
   "metadata": {},
   "outputs": [
    {
     "name": "stdout",
     "output_type": "stream",
     "text": [
      "12\n"
     ]
    }
   ],
   "source": [
    "x = x + 1\n",
    "print(x)"
   ]
  },
  {
   "cell_type": "markdown",
   "id": "fbc16614-b5f1-4057-a79c-488e9ed536f8",
   "metadata": {},
   "source": [
    "Nótese que la expresión `x = x + 1` disminuye el valor de `x` en 1, sin embargo las operaciones ingresadas sin asignar no cambian el valor de `x`."
   ]
  },
  {
   "cell_type": "code",
   "execution_count": 82,
   "id": "0acfcd65-6c62-44b2-9330-098e8b48c89a",
   "metadata": {},
   "outputs": [
    {
     "data": {
      "text/plain": [
       "9"
      ]
     },
     "execution_count": 82,
     "metadata": {},
     "output_type": "execute_result"
    }
   ],
   "source": [
    "x - 3"
   ]
  },
  {
   "cell_type": "code",
   "execution_count": 83,
   "id": "2ee67d88-eed8-4f0e-b212-b142c59ec80b",
   "metadata": {},
   "outputs": [
    {
     "name": "stdout",
     "output_type": "stream",
     "text": [
      "12\n"
     ]
    }
   ],
   "source": [
    "print(x)"
   ]
  },
  {
   "cell_type": "markdown",
   "id": "4d3eaea9-a0df-4920-9d7f-5a8efa44566a",
   "metadata": {},
   "source": [
    "<p style=\"padding:3px;color: #FF4D4D; \"><strong>Shorthand Operators - Operadores Abreviados</strong></p>"
   ]
  },
  {
   "cell_type": "markdown",
   "id": "d74e3790-c162-4866-9497-3e0ad15e07a2",
   "metadata": {},
   "source": [
    "Python provee algunos operadores abreviados que hacen las expresiones como `x = x + 1` más sencillas"
   ]
  },
  {
   "cell_type": "code",
   "execution_count": 86,
   "id": "4a8bfdbc-7ccd-4a8d-92e2-934d28b2b18a",
   "metadata": {},
   "outputs": [
    {
     "name": "stdout",
     "output_type": "stream",
     "text": [
      "12\n"
     ]
    }
   ],
   "source": [
    "print(x)"
   ]
  },
  {
   "cell_type": "code",
   "execution_count": 87,
   "id": "c9be52d3-e633-433b-90a1-7ec2e9eebed0",
   "metadata": {},
   "outputs": [],
   "source": [
    "x += 1"
   ]
  },
  {
   "cell_type": "code",
   "execution_count": 88,
   "id": "0ea1d4e2-2c11-45a7-8b6d-eee7f9b37544",
   "metadata": {},
   "outputs": [
    {
     "name": "stdout",
     "output_type": "stream",
     "text": [
      "13\n"
     ]
    }
   ],
   "source": [
    "print(x)"
   ]
  },
  {
   "cell_type": "markdown",
   "id": "d540491e-d9e9-49f9-a58f-2e69f00e6f88",
   "metadata": {},
   "source": [
    "Podemos observar que las expresiones `x = x + 1` y `x += 1` son equivalentes"
   ]
  },
  {
   "cell_type": "markdown",
   "id": "6c849034-1011-4d95-bf5f-afecc2429865",
   "metadata": {},
   "source": [
    "Existen diversos operadores abreviados, por ejemplo:\n",
    "\n",
    "| Símbolo | Descripción | Sintaxis | Equivalente |\n",
    "| ----------- | ----------- | ----------- | ----------- |\n",
    "| += | Suma dos números y asigna el resultado al objeto de la izquierda | x += 2 | x = x + 2 |\n",
    "| -= | Resta dos números y asigna el resultado al objeto de la izquierda | x -= 2 | x = x - 2 |\n",
    "| *= | Multiplica dos números y asigna el resultado al objeto de la izquierda | x *= 2 | x = x * 2 |\n",
    "| /= | Divide dos números y asigna el resultado al objeto de la izquierda | x /= 2 | x = x / 2 |\n",
    "| %= | Calcula el módulo de dos números y asigna el resultado al objeto de la izquierda | x %= 2 | x = x % 2 |\n",
    "|**= | Eleva el número de la izquierda a la potencia del número derecho y asigna el resultado al objeto de la izquierda | x **= 1 | x = x ** 1 |\n",
    "|//= | Calcula la división trunca entre dos números y asigna el resultado al objeto de la izquierda | x //= 1 | x = x // 1 |"
   ]
  },
  {
   "cell_type": "code",
   "execution_count": 91,
   "id": "69cbbd01-a52d-4234-8d3c-bd0ee67d7ded",
   "metadata": {},
   "outputs": [
    {
     "name": "stdout",
     "output_type": "stream",
     "text": [
      "4\n"
     ]
    }
   ],
   "source": [
    "x //= 3\n",
    "print(x)"
   ]
  },
  {
   "cell_type": "code",
   "execution_count": 92,
   "id": "803f2ed2-1a33-4450-a038-9c706270adc9",
   "metadata": {},
   "outputs": [
    {
     "name": "stdout",
     "output_type": "stream",
     "text": [
      "16\n"
     ]
    }
   ],
   "source": [
    "x **= 2\n",
    "print(x)"
   ]
  },
  {
   "cell_type": "code",
   "execution_count": 93,
   "id": "d1624e10-8726-46dd-9506-1473d298fd24",
   "metadata": {},
   "outputs": [
    {
     "name": "stdout",
     "output_type": "stream",
     "text": [
      "0\n"
     ]
    }
   ],
   "source": [
    "x %= 4\n",
    "print(x)"
   ]
  },
  {
   "cell_type": "code",
   "execution_count": 94,
   "id": "e7d12072-7015-4f8b-b999-8126bf96a486",
   "metadata": {},
   "outputs": [
    {
     "name": "stdout",
     "output_type": "stream",
     "text": [
      "-5\n"
     ]
    }
   ],
   "source": [
    "x -= 5\n",
    "print(x)"
   ]
  },
  {
   "cell_type": "markdown",
   "id": "e53e08e3-7eee-4303-89f7-8e194bb46c87",
   "metadata": {},
   "source": [
    "<p style=\"padding:3px;color: #FF4D4D; \"><strong>Tipado Dinámico</strong></p>"
   ]
  },
  {
   "cell_type": "markdown",
   "id": "8cb7a209-debe-4d6d-817a-d9f94a5e8380",
   "metadata": {},
   "source": [
    "Estos nombres, o variables, no tienen tipos y se dice que Python es tipado dinámicamente. Esto quiere decir que *x* puede referirse a un *int* en este momento y más adelante puede ser de tipo *function*.\n",
    "\n",
    "Otros lenguajes como C y Java no permiten esto, son lenguajes tipados estáticamente.\n",
    "\n",
    "Esto puede darnos mucha libertad, pero también puede propiciar errores."
   ]
  },
  {
   "cell_type": "code",
   "execution_count": 97,
   "id": "cbc807a7-2a14-4c14-824c-c1be4ef0d38b",
   "metadata": {},
   "outputs": [
    {
     "name": "stdout",
     "output_type": "stream",
     "text": [
      "-5\n"
     ]
    }
   ],
   "source": [
    "print(x)"
   ]
  },
  {
   "cell_type": "code",
   "execution_count": 98,
   "id": "16b94b0b-877e-4ab7-ab1f-282ca1f8b7d2",
   "metadata": {},
   "outputs": [
    {
     "data": {
      "text/plain": [
       "int"
      ]
     },
     "execution_count": 98,
     "metadata": {},
     "output_type": "execute_result"
    }
   ],
   "source": [
    "type(x)"
   ]
  },
  {
   "cell_type": "code",
   "execution_count": 99,
   "id": "ac83b45c-3c6a-4a54-881b-5935db84ff78",
   "metadata": {},
   "outputs": [
    {
     "data": {
      "text/plain": [
       "-15"
      ]
     },
     "execution_count": 99,
     "metadata": {},
     "output_type": "execute_result"
    }
   ],
   "source": [
    "x + x + x"
   ]
  },
  {
   "cell_type": "code",
   "execution_count": 100,
   "id": "c15e5f20-b37c-49e5-abee-ab71df67dc5d",
   "metadata": {},
   "outputs": [],
   "source": [
    "x = \"cha\""
   ]
  },
  {
   "cell_type": "code",
   "execution_count": 101,
   "id": "acc430c8-33d0-443d-841b-9430dfc7306c",
   "metadata": {},
   "outputs": [
    {
     "data": {
      "text/plain": [
       "str"
      ]
     },
     "execution_count": 101,
     "metadata": {},
     "output_type": "execute_result"
    }
   ],
   "source": [
    "type(x)"
   ]
  },
  {
   "cell_type": "code",
   "execution_count": 102,
   "id": "2a079600-4dd1-4cee-9ca8-fb04edb148cb",
   "metadata": {},
   "outputs": [
    {
     "data": {
      "text/plain": [
       "'chachacha'"
      ]
     },
     "execution_count": 102,
     "metadata": {},
     "output_type": "execute_result"
    }
   ],
   "source": [
    "x + x + x"
   ]
  },
  {
   "cell_type": "markdown",
   "id": "3e98d949-ef88-4d4a-9d8f-0e30a64a4e48",
   "metadata": {},
   "source": [
    "## <a style=\"padding:3px;color: #FF4D4D; \"><strong>Cadenas - Strings</strong></a>"
   ]
  },
  {
   "cell_type": "markdown",
   "id": "094bb885-1013-4506-8aa1-36580a54b2fa",
   "metadata": {},
   "source": [
    "Tipo básico para representar texto, son secuencias de caracteres individuales combinados en un objeto.\n",
    "\n",
    "Su manipulación es crucial en y Python viene con un set muy importante de herramientas que hacen que crear y modificar cadenas sea algo sencillo. "
   ]
  },
  {
   "cell_type": "markdown",
   "id": "7d3a093e-9643-4266-890e-4f811471aa5a",
   "metadata": {},
   "source": [
    "Una cadena puede crearse utilizando comillas sencillas o dobles"
   ]
  },
  {
   "cell_type": "code",
   "execution_count": 106,
   "id": "ce201b17-bcee-4e41-aa7a-dcbc7728066c",
   "metadata": {},
   "outputs": [
    {
     "name": "stdout",
     "output_type": "stream",
     "text": [
      "Cadena con comillas sencillas\n"
     ]
    }
   ],
   "source": [
    "s = 'Cadena con comillas sencillas'\n",
    "print(s)"
   ]
  },
  {
   "cell_type": "code",
   "execution_count": 107,
   "id": "75677312-24bb-449d-8be8-654990891945",
   "metadata": {},
   "outputs": [
    {
     "name": "stdout",
     "output_type": "stream",
     "text": [
      "Cadena con comillas dobles\n"
     ]
    }
   ],
   "source": [
    "s = \"Cadena con comillas dobles\"\n",
    "print(s)"
   ]
  },
  {
   "cell_type": "markdown",
   "id": "656c0e1a-a860-4a2c-8dc2-effc51488cf6",
   "metadata": {},
   "source": [
    "<p style=\"padding:3px;color: #FF4D4D; \"><strong>Caracter de Escape \"\\\"</strong></p>"
   ]
  },
  {
   "cell_type": "markdown",
   "id": "7eae8983-13b8-46ff-9725-178be78ecec4",
   "metadata": {},
   "source": [
    "Pueden crearse también cadenas de más de una línea. La manera más sencilla es utilizar comillas \"triples\"."
   ]
  },
  {
   "cell_type": "code",
   "execution_count": 110,
   "id": "66138558-8ee0-48e7-a0c6-ad26ad6b40f4",
   "metadata": {},
   "outputs": [
    {
     "name": "stdout",
     "output_type": "stream",
     "text": [
      "Esta es una cadena\n",
      "de más de una línea\n",
      "hecha con comillas triples\n"
     ]
    }
   ],
   "source": [
    "s = \"\"\"Esta es una cadena\n",
    "de más de una línea\n",
    "hecha con comillas triples\"\"\"\n",
    "print(s)"
   ]
  },
  {
   "cell_type": "markdown",
   "id": "f93179aa-d68b-4829-8a73-b0382f9881ae",
   "metadata": {},
   "source": [
    "Hay veces que únicamente únicamente tener más de una línea en el código, pero que esto no se vea en la salida.\n",
    "\n",
    "Para lograrlo usaremos el caracter de escape **`\\`**"
   ]
  },
  {
   "cell_type": "code",
   "execution_count": 112,
   "id": "a7cdd5ad-c2ac-4613-9c78-d5281eef605d",
   "metadata": {},
   "outputs": [
    {
     "name": "stdout",
     "output_type": "stream",
     "text": [
      "Afortunadamente Python nos da una alternativa\n"
     ]
    }
   ],
   "source": [
    "s = \"Afortunadamente Python \\\n",
    "nos da una alternativa\"\n",
    "print(s)"
   ]
  },
  {
   "cell_type": "markdown",
   "id": "f3b5a19a-30be-4e4e-9264-3d102aad9003",
   "metadata": {},
   "source": [
    "O puede ser que quedamos lo contrario, y escribir únicamente una línea en el código, pero que en la salida sea más de una línea de texto.\n",
    "\n",
    "En este caso utilizaremos el caracter de nueva línea **(`\\n`)**"
   ]
  },
  {
   "cell_type": "code",
   "execution_count": 114,
   "id": "ed2875ea-7dfb-4c3a-960e-cb3e575d6996",
   "metadata": {},
   "outputs": [
    {
     "name": "stdout",
     "output_type": "stream",
     "text": [
      "Afortunadamente también\n",
      "Podemos hacer lo contrario\n"
     ]
    }
   ],
   "source": [
    "s = \"Afortunadamente también\\nPodemos hacer lo contrario\"\n",
    "print(s)"
   ]
  },
  {
   "cell_type": "markdown",
   "id": "80b7aeb2-387b-4a9b-95bf-53de0539c236",
   "metadata": {},
   "source": [
    "O puede ser que queramos un espacio definido de tabulación entre dos frases de nuestro texto.\n",
    "\n",
    "Y para eso utilizaremos el caracter **(`\\t`)**"
   ]
  },
  {
   "cell_type": "code",
   "execution_count": 116,
   "id": "8cc77d67-2b2f-4718-aae4-4f0974ade89d",
   "metadata": {},
   "outputs": [
    {
     "name": "stdout",
     "output_type": "stream",
     "text": [
      "Primera Frase\tSegunda Frase\n"
     ]
    }
   ],
   "source": [
    "s = \"Primera Frase\\tSegunda Frase\"\n",
    "print(s)"
   ]
  },
  {
   "cell_type": "markdown",
   "id": "05ae9630-0e3d-4e38-bc03-2a92baeaf4b8",
   "metadata": {},
   "source": [
    "A veces queremos incluir comillas dentro de nuestra cadena\n",
    "\n",
    "La forma más sencilla es ocupar el caracter contrario al que se utilizó para crear la cadena. Sin embargo también se puede lograr con el caracter para comillas simples  (`\\'`) o dobles (`\\\"`)"
   ]
  },
  {
   "cell_type": "code",
   "execution_count": 118,
   "id": "6e53cc65-d984-4e23-8db2-cf9e5afbd8a0",
   "metadata": {},
   "outputs": [
    {
     "name": "stdout",
     "output_type": "stream",
     "text": [
      "'Python' me divierte\n"
     ]
    }
   ],
   "source": [
    "s = \"'Python' me divierte\"\n",
    "print(s)"
   ]
  },
  {
   "cell_type": "code",
   "execution_count": 119,
   "id": "f6a2d1ce-25d7-40c9-83b9-7fa34ec3eada",
   "metadata": {},
   "outputs": [
    {
     "name": "stdout",
     "output_type": "stream",
     "text": [
      "Me deja colocar \"comillas dobles\"\n"
     ]
    }
   ],
   "source": [
    "s = \"Me deja colocar \\\"comillas dobles\\\"\"\n",
    "print(s)"
   ]
  },
  {
   "cell_type": "code",
   "execution_count": 120,
   "id": "e3ab1a19-eee2-420e-8314-e2e6d87accc6",
   "metadata": {},
   "outputs": [
    {
     "name": "stdout",
     "output_type": "stream",
     "text": [
      "O también 'comillas simples'\n"
     ]
    }
   ],
   "source": [
    "s = 'O también \\'comillas simples\\''\n",
    "print(s)"
   ]
  },
  {
   "cell_type": "markdown",
   "id": "4141596d-f1ff-4c70-85c1-e50e192017cf",
   "metadata": {},
   "source": [
    "Y qué pasaría si únicamente quiero colocar una diagonal invertida.\n",
    "\n",
    "También es posible mediante el caracter backslash **(`\\\\`)**"
   ]
  },
  {
   "cell_type": "code",
   "execution_count": 122,
   "id": "b086c60b-5ff7-4c1b-99fe-f0e3aa269f60",
   "metadata": {},
   "outputs": [
    {
     "name": "stdout",
     "output_type": "stream",
     "text": [
      "Yo solo quería usar \\ una diagonal\n"
     ]
    }
   ],
   "source": [
    "s = \"Yo solo quería usar \\\\ una diagonal\"\n",
    "print(s)"
   ]
  },
  {
   "cell_type": "markdown",
   "id": "b41a2271-5695-42c4-9107-0929e4cab66c",
   "metadata": {},
   "source": [
    "## <a style=\"padding:3px;color: #FF4D4D; \"><strong>Operaciones con Cadenas</strong></a>"
   ]
  },
  {
   "cell_type": "markdown",
   "id": "d57a05e3-97c7-46ce-bd33-d59d3ab8d1a1",
   "metadata": {},
   "source": [
    "Python tiene una manera muy intuitiva para utilizar los operadores de cadenas"
   ]
  },
  {
   "cell_type": "markdown",
   "id": "dbaccbaa-ca5c-47d5-8026-d4f380d795a6",
   "metadata": {},
   "source": [
    "<p style=\"padding:3px;color: #FF4D4D; \"><strong>Concatenar (+)</strong></p>"
   ]
  },
  {
   "cell_type": "code",
   "execution_count": 126,
   "id": "30b28cfd-b401-472a-bfa9-d64fb4db66ea",
   "metadata": {},
   "outputs": [
    {
     "data": {
      "text/plain": [
       "'Esta es la mejor clase'"
      ]
     },
     "execution_count": 126,
     "metadata": {},
     "output_type": "execute_result"
    }
   ],
   "source": [
    "c = \"Esta es \"\n",
    "d = \"la \"\n",
    "e = \"mejor clase\"\n",
    "c + d + e"
   ]
  },
  {
   "cell_type": "markdown",
   "id": "d5cbe7e3-45c2-4927-95a5-61a2361b0f4b",
   "metadata": {},
   "source": [
    "Nótese que el signo de más combina las dos cadenas en una. Pero no se cambió ninguna de las dos cadenas originales, más bien una cadena nueva fue creada.\n",
    "\n",
    "Además, la concatenación no agrega espacios a menos que los pongamos manualmente, como al final de la variable `c` y `d`"
   ]
  },
  {
   "cell_type": "markdown",
   "id": "e3d32f13-0154-4e17-8743-8ab5e2f77eeb",
   "metadata": {},
   "source": [
    "<p style=\"padding:3px;color: #FF4D4D; \"><strong>Duplicar (*)</strong></p>"
   ]
  },
  {
   "cell_type": "markdown",
   "id": "4ec55113-ce9d-470f-ab53-fd3dde63571b",
   "metadata": {},
   "source": [
    "Podemos utilizar este operador para concatenar una cadena consigo misma múltiples veces"
   ]
  },
  {
   "cell_type": "code",
   "execution_count": 130,
   "id": "5d89cfe3-fc79-46fb-81f1-51bf60f3af2f",
   "metadata": {},
   "outputs": [
    {
     "data": {
      "text/plain": [
       "'la la la la la la la la la la '"
      ]
     },
     "execution_count": 130,
     "metadata": {},
     "output_type": "execute_result"
    }
   ],
   "source": [
    "d * 10"
   ]
  },
  {
   "cell_type": "markdown",
   "id": "a3c0e960-fc2d-43ed-8f8c-a6c9bbf2869c",
   "metadata": {},
   "source": [
    "<p style=\"padding:3px;color: #FF4D4D; \"><strong>Extraer Caracteres [ ]</strong></p>"
   ]
  },
  {
   "cell_type": "markdown",
   "id": "e6b01806-5002-43cd-a980-561f0bce88d0",
   "metadata": {},
   "source": [
    "Una cadena es un ejemplo de un objeto secuencia, se trata en el fondo de una secuencia de caracteres y por lo tanto pueden accederse a los caracteres en dicha secuencia mediante el siguiente método.\n",
    "\n",
    "Este método, permite obtener un caracter individual de una cadena. Para hacer esto, solo necesitamos poner la posición deseada entre corchetes.\n",
    "\n",
    "Pero la cuenta de posiciones debe iniciarse desde el 0."
   ]
  },
  {
   "cell_type": "code",
   "execution_count": 133,
   "id": "02c045a6-cf6d-4789-a70e-79d073727a60",
   "metadata": {},
   "outputs": [
    {
     "name": "stdout",
     "output_type": "stream",
     "text": [
      "e\n",
      "s\n",
      "t\n"
     ]
    }
   ],
   "source": [
    "s = \"esternocleidomastoideo\"\n",
    "print(s[0])\n",
    "print(s[1])\n",
    "print(s[2])"
   ]
  },
  {
   "cell_type": "markdown",
   "id": "085cf7f1-9e9f-4a41-aeed-70f433c9bcb7",
   "metadata": {},
   "source": [
    "La posición entre corchetes es denominada índice de cadena *(string index)*.\n",
    "\n",
    "Python también nos da la opción de contar desde el final de la cadena, en donde el índice -1 nos dará el último caracter, el índice -2 será el penúltimo, etc."
   ]
  },
  {
   "cell_type": "code",
   "execution_count": 135,
   "id": "5db7c6dd-fc95-4cfc-b4f7-e595054c43a2",
   "metadata": {},
   "outputs": [
    {
     "name": "stdout",
     "output_type": "stream",
     "text": [
      "o\n",
      "e\n"
     ]
    }
   ],
   "source": [
    "print(s[-1])\n",
    "print(s[-2])"
   ]
  },
  {
   "cell_type": "markdown",
   "id": "acad7c93-c50e-4c47-8082-ba0cad91a5fe",
   "metadata": {},
   "source": [
    "<p style=\"padding:3px;color: #FF4D4D; \"><strong>Corte - Slice [inicio:final:paso]</strong></p>"
   ]
  },
  {
   "cell_type": "markdown",
   "id": "ebbd1c80-5dfd-43b3-8793-d0a7676151cb",
   "metadata": {},
   "source": [
    "Si queremos sacar más de un caracter de nuestra cadena, podríamos utilizar un slice.\n",
    "\n",
    "Por ejemplo si queremos sacar los caracteres 1, 2 y 3."
   ]
  },
  {
   "cell_type": "code",
   "execution_count": 138,
   "id": "b1ed21d7-5cbc-42be-b8c6-9c48047950b7",
   "metadata": {},
   "outputs": [
    {
     "data": {
      "text/plain": [
       "'ste'"
      ]
     },
     "execution_count": 138,
     "metadata": {},
     "output_type": "execute_result"
    }
   ],
   "source": [
    "s[1:4]"
   ]
  },
  {
   "cell_type": "markdown",
   "id": "41784578-b761-4c0a-91c1-b3e2636ba907",
   "metadata": {},
   "source": [
    "El primer número de la estructura indica la posición desde la que iniciará el corte, seguida de dos puntos y la posición final. Sin embargo, escribimos como caracter final la posición `4` en lugar de la `3`. Esto es porque Python la notación implica todos los caracteres desde la posición de inicio, pero menores a la posición final.\n",
    "\n",
    "Por ejemplo podríamos querer obtener todos los caracteres menos el primero y el último."
   ]
  },
  {
   "cell_type": "code",
   "execution_count": 140,
   "id": "87456f1a-d685-4c9b-ab9a-3b6b511ad0a5",
   "metadata": {},
   "outputs": [
    {
     "data": {
      "text/plain": [
       "'sternocleidomastoide'"
      ]
     },
     "execution_count": 140,
     "metadata": {},
     "output_type": "execute_result"
    }
   ],
   "source": [
    "s[1:-1]"
   ]
  },
  {
   "cell_type": "markdown",
   "id": "798f23da-d8d1-4633-ab64-2ccdf4123c2d",
   "metadata": {},
   "source": [
    "En caso de omitir algún parámetro, se tomará el inicio o final por default de la cadena."
   ]
  },
  {
   "cell_type": "code",
   "execution_count": 142,
   "id": "0cdd997c-dc91-454b-9969-f3812a0a87bd",
   "metadata": {},
   "outputs": [
    {
     "data": {
      "text/plain": [
       "'esternocleidomastoide'"
      ]
     },
     "execution_count": 142,
     "metadata": {},
     "output_type": "execute_result"
    }
   ],
   "source": [
    "s[ :-1]"
   ]
  },
  {
   "cell_type": "code",
   "execution_count": 143,
   "id": "2baf2316-6d56-442b-bc50-6e7f65e82f74",
   "metadata": {},
   "outputs": [
    {
     "data": {
      "text/plain": [
       "'cleidomastoideo'"
      ]
     },
     "execution_count": 143,
     "metadata": {},
     "output_type": "execute_result"
    }
   ],
   "source": [
    "s[7: ]"
   ]
  },
  {
   "cell_type": "markdown",
   "id": "559302eb-5e26-4bf1-bcf4-5ec981bde1a9",
   "metadata": {},
   "source": [
    "Por último, puede que no queramos cada carácter en nuestra porción; por ejemplo, podríamos querer cada segundo o cada tercer carácter. \n",
    "\n",
    "Para hacer esto, podemos incluir un tamaño de paso opcional en nuestra porción, colocándolo después de otros dos puntos dentro de los corchetes. \n",
    "\n",
    "Por ejemplo, si queremos extraer cada dos caracteres de nuestra cadena, comenzando en el índice 4 y hasta (pero sin incluir) el índice 9."
   ]
  },
  {
   "cell_type": "code",
   "execution_count": 145,
   "id": "2049489b-6ca2-4721-8f67-df67c26f5878",
   "metadata": {},
   "outputs": [
    {
     "data": {
      "text/plain": [
       "'rol'"
      ]
     },
     "execution_count": 145,
     "metadata": {},
     "output_type": "execute_result"
    }
   ],
   "source": [
    "s[4:10:2]"
   ]
  },
  {
   "cell_type": "markdown",
   "id": "7a58d8ab-e8be-48ba-85b6-7c3e2e270090",
   "metadata": {},
   "source": [
    "También pueden incluirse pasos negativos. Por ejemplo poner -1 causaría que se escriba la cadena al revés"
   ]
  },
  {
   "cell_type": "code",
   "execution_count": 147,
   "id": "47e1be88-84ff-4da8-8a85-3e10a221c86c",
   "metadata": {},
   "outputs": [
    {
     "data": {
      "text/plain": [
       "'oediotsamodielconretse'"
      ]
     },
     "execution_count": 147,
     "metadata": {},
     "output_type": "execute_result"
    }
   ],
   "source": [
    "s[::-1]"
   ]
  },
  {
   "cell_type": "markdown",
   "id": "f3335d20-f233-40cc-aec5-b44715cf21ce",
   "metadata": {},
   "source": [
    "<p style=\"padding:3px;color: #FF4D4D; \"><strong>Cambio de mayúsculas y minúsculas</strong></p>"
   ]
  },
  {
   "cell_type": "markdown",
   "id": "6026fd42-b3cb-453a-8da9-75c36ba8d2ee",
   "metadata": {},
   "source": [
    "Existen métodos prácticos que nos ayudan a cambiar entre mayúsculas y minúsculas de una cadena. Por ejemplo"
   ]
  },
  {
   "cell_type": "code",
   "execution_count": 150,
   "id": "66756b45-47a9-42d6-9f9c-fcd87b87ee9d",
   "metadata": {},
   "outputs": [
    {
     "data": {
      "text/plain": [
       "'MEJOR CLASE'"
      ]
     },
     "execution_count": 150,
     "metadata": {},
     "output_type": "execute_result"
    }
   ],
   "source": [
    "# Mayúsculas\n",
    "e.upper()"
   ]
  },
  {
   "cell_type": "code",
   "execution_count": 151,
   "id": "3a47261c-ce62-425e-995c-309d0cf81d21",
   "metadata": {},
   "outputs": [
    {
     "data": {
      "text/plain": [
       "'mejor clase'"
      ]
     },
     "execution_count": 151,
     "metadata": {},
     "output_type": "execute_result"
    }
   ],
   "source": [
    "# Minúsculas\n",
    "e.lower()"
   ]
  },
  {
   "cell_type": "code",
   "execution_count": 152,
   "id": "57bbaad6-0c65-4578-bdb3-c65a120107f9",
   "metadata": {},
   "outputs": [
    {
     "data": {
      "text/plain": [
       "'Mejor clase'"
      ]
     },
     "execution_count": 152,
     "metadata": {},
     "output_type": "execute_result"
    }
   ],
   "source": [
    "# Primera mayúscula\n",
    "e.capitalize()"
   ]
  },
  {
   "cell_type": "code",
   "execution_count": 153,
   "id": "75cb10cc-a6a0-4236-85f5-156b2454af91",
   "metadata": {},
   "outputs": [
    {
     "data": {
      "text/plain": [
       "'Mejor Clase'"
      ]
     },
     "execution_count": 153,
     "metadata": {},
     "output_type": "execute_result"
    }
   ],
   "source": [
    "# Primera mayúscula en cada palabra\n",
    "e.title()"
   ]
  },
  {
   "cell_type": "markdown",
   "id": "7bc9afc6-c0a7-4ce2-bfc2-c7970e652465",
   "metadata": {},
   "source": [
    "## <a style=\"padding:3px;color: #FF4D4D; \"><strong>Obteniendo Cadenas del Usuario</strong></a>"
   ]
  },
  {
   "cell_type": "markdown",
   "id": "1e72fe67-a030-4a4a-b49c-fce4e91963ee",
   "metadata": {},
   "source": [
    "Habrá ocasiones en que necesitaremos obtener información del usuari. Una de las maneras más sencillas es usar una instrucción de entrada *(input)*."
   ]
  },
  {
   "cell_type": "code",
   "execution_count": 156,
   "id": "fbd7101d-a167-44aa-a2aa-b102da2fe869",
   "metadata": {},
   "outputs": [
    {
     "name": "stdin",
     "output_type": "stream",
     "text": [
      "Ingresa tu nombre:  Emanuel\n"
     ]
    }
   ],
   "source": [
    "nombre = input(\"Ingresa tu nombre: \")"
   ]
  },
  {
   "cell_type": "markdown",
   "id": "554c79ac-e280-44fa-8f1d-87f0c9228945",
   "metadata": {},
   "source": [
    "El intérprete muestra el mensaje que escrito como instrucción y espera el ingreso de información. Lo que sea que escribas se guarda en la variable con el nombre que hayas indicado, y podrán utilizarse los comandos anteriores."
   ]
  },
  {
   "cell_type": "code",
   "execution_count": 158,
   "id": "4ffa028a-2138-4c65-b13e-099bc91915fc",
   "metadata": {},
   "outputs": [
    {
     "data": {
      "text/plain": [
       "'leun'"
      ]
     },
     "execution_count": 158,
     "metadata": {},
     "output_type": "execute_result"
    }
   ],
   "source": [
    "nombre[-1:2:-1]"
   ]
  },
  {
   "cell_type": "markdown",
   "id": "4247301c-5898-48c0-b5c9-1dca2e0cd7bd",
   "metadata": {},
   "source": [
    "Cualquier cosa que se escriba en un mensaje de entrada *(input)* se guardará como una cadena, incluso si es un número."
   ]
  },
  {
   "cell_type": "code",
   "execution_count": 160,
   "id": "e241f6a0-0c01-476e-93d7-c63916162e8f",
   "metadata": {},
   "outputs": [
    {
     "name": "stdin",
     "output_type": "stream",
     "text": [
      "Ingresa el precio actual de un kilo de tortillas:  22\n"
     ]
    },
    {
     "name": "stdout",
     "output_type": "stream",
     "text": [
      "<class 'str'>\n"
     ]
    }
   ],
   "source": [
    "torti = input(\"Ingresa el precio actual de un kilo de tortillas: \")\n",
    "print(type(torti))"
   ]
  },
  {
   "cell_type": "markdown",
   "id": "42c82048-6bd5-4d1d-b25d-c30f0ad34f9d",
   "metadata": {},
   "source": [
    "## <a style=\"padding:3px;color: #FF4D4D; \"><strong>Constructores</strong></a>"
   ]
  },
  {
   "cell_type": "markdown",
   "id": "30af9ad1-462f-42ca-94fd-fb8bf0810687",
   "metadata": {},
   "source": [
    "<p style=\"padding:3px;color: #FF4D4D; \"><strong>Tipado Fuerte</strong></p>"
   ]
  },
  {
   "cell_type": "markdown",
   "id": "77616ebd-7b03-4ecd-a4c5-2a30f0fbb669",
   "metadata": {},
   "source": [
    "Se dice que Python es un lenguaje fuertemente tipado. Esto significa que restringe las operaciones que podemos realizar según el tipo objeto que tengamos.\n",
    "\n",
    "Por ejemplo podemos sumar un `int` con un `float`, pero ninguno de estos puede \"sumarse\" con un `string`"
   ]
  },
  {
   "cell_type": "code",
   "execution_count": 164,
   "id": "dfce2da8-49b9-4fac-9323-40ac79008b9d",
   "metadata": {},
   "outputs": [
    {
     "data": {
      "text/plain": [
       "17.75"
      ]
     },
     "execution_count": 164,
     "metadata": {},
     "output_type": "execute_result"
    }
   ],
   "source": [
    "8 + 9.75"
   ]
  },
  {
   "cell_type": "code",
   "execution_count": 165,
   "id": "c535837a-b1f4-4ace-85a6-a6e21f0b6e58",
   "metadata": {},
   "outputs": [
    {
     "data": {
      "text/plain": [
       "float"
      ]
     },
     "execution_count": 165,
     "metadata": {},
     "output_type": "execute_result"
    }
   ],
   "source": [
    "type(8 + 9.75)"
   ]
  },
  {
   "cell_type": "code",
   "execution_count": 166,
   "id": "7a4acd8e-dd97-4530-9aa6-f5920b9c0f50",
   "metadata": {},
   "outputs": [
    {
     "ename": "TypeError",
     "evalue": "unsupported operand type(s) for +: 'int' and 'str'",
     "output_type": "error",
     "traceback": [
      "\u001b[1;31m---------------------------------------------------------------------------\u001b[0m",
      "\u001b[1;31mTypeError\u001b[0m                                 Traceback (most recent call last)",
      "Cell \u001b[1;32mIn[166], line 1\u001b[0m\n\u001b[1;32m----> 1\u001b[0m \u001b[38;5;241m8\u001b[39m \u001b[38;5;241m+\u001b[39m \u001b[38;5;124m\"\u001b[39m\u001b[38;5;124m9.75\u001b[39m\u001b[38;5;124m\"\u001b[39m\n",
      "\u001b[1;31mTypeError\u001b[0m: unsupported operand type(s) for +: 'int' and 'str'"
     ]
    }
   ],
   "source": [
    "8 + \"9.75\""
   ]
  },
  {
   "cell_type": "markdown",
   "id": "b073dac2-3c17-45e3-addf-497affd5a38b",
   "metadata": {},
   "source": [
    "Podemos ver que se genera un tipo específico de error llamado `TypeError`. El mensaje de error nos indica que el operador `+` no funciona entre un `int` y un `str`.\n",
    "\n",
    "Si realmente queremos que esa última línea funcione, podemos tomar la cadena \"9.75\" y convertirla en un float para poder realizar la suma. \n",
    "\n",
    "Para esto, utilizaremos un constructor."
   ]
  },
  {
   "cell_type": "code",
   "execution_count": 177,
   "id": "0140d6f7-b205-49e9-a4aa-2bf65548677a",
   "metadata": {},
   "outputs": [
    {
     "data": {
      "text/plain": [
       "17.75"
      ]
     },
     "execution_count": 177,
     "metadata": {},
     "output_type": "execute_result"
    }
   ],
   "source": [
    "8 + float(\"9.75\")"
   ]
  },
  {
   "cell_type": "markdown",
   "id": "9bcb93d9-9526-46b7-90b2-a57e48c91ad2",
   "metadata": {},
   "source": [
    "Un constructor es una función especializada que crea un objeto de un tipo específico. \n",
    "\n",
    "El nombre del constructor es simplemente el nombre del tipo. En este caso, queremos crear un float, así que usamos la función `float`. Python tomará lo que pongamos entre paréntesis e intentará convertirlo en un número decimal.\n",
    "\n",
    "También es posible crear un `int` a partir de un `float` aunque se pierde la parte decimal del número. O también puede realizarse lo contrario."
   ]
  },
  {
   "cell_type": "code",
   "execution_count": 179,
   "id": "237bc94a-9e5b-4fc8-abe3-18530d019345",
   "metadata": {},
   "outputs": [
    {
     "data": {
      "text/plain": [
       "9"
      ]
     },
     "execution_count": 179,
     "metadata": {},
     "output_type": "execute_result"
    }
   ],
   "source": [
    "int(9.75)"
   ]
  },
  {
   "cell_type": "code",
   "execution_count": 181,
   "id": "49774e53-a35e-4361-a534-661b11aa4901",
   "metadata": {},
   "outputs": [
    {
     "data": {
      "text/plain": [
       "5.0"
      ]
     },
     "execution_count": 181,
     "metadata": {},
     "output_type": "execute_result"
    }
   ],
   "source": [
    "float(5)"
   ]
  },
  {
   "cell_type": "markdown",
   "id": "b920dcc6-52a3-4c72-800a-b72b04730d6f",
   "metadata": {},
   "source": [
    "Los booleanos tienen una representación numérica. Esta puede ser utilizada para construir objetos desde o hacia esa clase"
   ]
  },
  {
   "cell_type": "code",
   "execution_count": 183,
   "id": "373b17eb-0938-4fb2-bc2e-20f2fbb38b89",
   "metadata": {},
   "outputs": [
    {
     "data": {
      "text/plain": [
       "1"
      ]
     },
     "execution_count": 183,
     "metadata": {},
     "output_type": "execute_result"
    }
   ],
   "source": [
    "int(True)"
   ]
  },
  {
   "cell_type": "code",
   "execution_count": 185,
   "id": "3ade531c-8fc4-47cf-9ea2-1ffde0cb0087",
   "metadata": {},
   "outputs": [
    {
     "data": {
      "text/plain": [
       "False"
      ]
     },
     "execution_count": 185,
     "metadata": {},
     "output_type": "execute_result"
    }
   ],
   "source": [
    "bool(0)"
   ]
  },
  {
   "cell_type": "markdown",
   "id": "e3ea1437-f3c6-4ab0-8205-6169aecb8f3f",
   "metadata": {},
   "source": [
    "También las cadenas tienen su propio constructor:"
   ]
  },
  {
   "cell_type": "code",
   "execution_count": 187,
   "id": "5cdd5806-1bf9-4f8f-956a-8ecac9581221",
   "metadata": {},
   "outputs": [
    {
     "data": {
      "text/plain": [
       "'9.75'"
      ]
     },
     "execution_count": 187,
     "metadata": {},
     "output_type": "execute_result"
    }
   ],
   "source": [
    "str(\"9.75\")"
   ]
  },
  {
   "cell_type": "code",
   "execution_count": 189,
   "id": "5b1c6592-a933-45bb-8caf-2c5f840645c6",
   "metadata": {},
   "outputs": [
    {
     "data": {
      "text/plain": [
       "'True'"
      ]
     },
     "execution_count": 189,
     "metadata": {},
     "output_type": "execute_result"
    }
   ],
   "source": [
    "str(True)"
   ]
  },
  {
   "cell_type": "markdown",
   "id": "51846733-8d5b-4dd6-bf34-613e7f0e552a",
   "metadata": {},
   "source": [
    "Sin embargo los constructores no pueden hacerlo todo. Si le das un valor que no puede convertir al tipo deseado, Python generará un error."
   ]
  },
  {
   "cell_type": "code",
   "execution_count": 191,
   "id": "ea5b192e-d9d5-4593-a764-39731df06ddd",
   "metadata": {},
   "outputs": [
    {
     "ename": "ValueError",
     "evalue": "invalid literal for int() with base 10: '9.75'",
     "output_type": "error",
     "traceback": [
      "\u001b[1;31m---------------------------------------------------------------------------\u001b[0m",
      "\u001b[1;31mValueError\u001b[0m                                Traceback (most recent call last)",
      "Cell \u001b[1;32mIn[191], line 1\u001b[0m\n\u001b[1;32m----> 1\u001b[0m \u001b[38;5;28mint\u001b[39m(\u001b[38;5;124m\"\u001b[39m\u001b[38;5;124m9.75\u001b[39m\u001b[38;5;124m\"\u001b[39m)\n",
      "\u001b[1;31mValueError\u001b[0m: invalid literal for int() with base 10: '9.75'"
     ]
    }
   ],
   "source": [
    "int(\"9.75\")"
   ]
  },
  {
   "cell_type": "markdown",
   "id": "c52c2d6a-75e3-4d8d-867b-8d7cdc37bb53",
   "metadata": {},
   "source": [
    "Aunque podríamos solucionar eso utilizando dos constructores y cada constructor hace su parte del trabajo, permitiendo que Python interprete correctamente el valor paso a paso."
   ]
  },
  {
   "cell_type": "code",
   "execution_count": 193,
   "id": "2fd242dd-3eaf-4912-8501-479b5e22843f",
   "metadata": {},
   "outputs": [
    {
     "data": {
      "text/plain": [
       "9"
      ]
     },
     "execution_count": 193,
     "metadata": {},
     "output_type": "execute_result"
    }
   ],
   "source": [
    "int(float(\"9.75\"))"
   ]
  }
 ],
 "metadata": {
  "kernelspec": {
   "display_name": "Python [conda env:base] *",
   "language": "python",
   "name": "conda-base-py"
  },
  "language_info": {
   "codemirror_mode": {
    "name": "ipython",
    "version": 3
   },
   "file_extension": ".py",
   "mimetype": "text/x-python",
   "name": "python",
   "nbconvert_exporter": "python",
   "pygments_lexer": "ipython3",
   "version": "3.11.5"
  }
 },
 "nbformat": 4,
 "nbformat_minor": 5
}
