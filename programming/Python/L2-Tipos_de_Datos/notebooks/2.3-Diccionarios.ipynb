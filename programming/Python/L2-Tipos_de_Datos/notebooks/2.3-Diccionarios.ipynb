{
 "cells": [
  {
   "cell_type": "markdown",
   "id": "a837b95f-5cd2-42a7-a0b1-8c810128cec2",
   "metadata": {},
   "source": [
    "<div style=\"padding:10px;background-color: #FF4D4D; color:white;font-size:28px;\"><strong>Estructuras Básicas - Diccionarios</strong></div>"
   ]
  },
  {
   "cell_type": "markdown",
   "id": "b7ae9f8c-2341-434a-b1bc-88b178ccbf3a",
   "metadata": {},
   "source": [
    "Un diccionario es un tipo de dato muy importante en Python que nos permite organizar información de forma distinta: \n",
    "\n",
    "En lugar de usar índices numéricos como en listas o tuplas, usamos claves (keys) para acceder a los valores.\n",
    "\n",
    "Por ejemplo, si quisiéramos guardar definiciones de palabras, podríamos usar un diccionario así:"
   ]
  },
  {
   "cell_type": "code",
   "execution_count": 3,
   "id": "f43f126e-b9c2-4625-b251-23946d39a693",
   "metadata": {},
   "outputs": [],
   "source": [
    "diccionario = {\n",
    "    \"Python\": \"Un lenguaje de programación de alto nivel.\",\n",
    "    \"Variable\": \"Un contenedor para almacenar datos.\",\n",
    "    \"Secuencia\": \"Disposición ordenada de elementos\"\n",
    "}"
   ]
  },
  {
   "cell_type": "markdown",
   "id": "7f34a3c7-7171-413c-a693-a633c95a87f8",
   "metadata": {},
   "source": [
    "Aquí, cada llave (como \"Python\") está asociada a un valor (como \"Un lenguaje de programación de alto nivel.\"). Este tipo de estructura se llama llave-valor (key-value).\n",
    "\n",
    "Podemos acceder a una definición fácilmente por medio de la llave:"
   ]
  },
  {
   "cell_type": "code",
   "execution_count": 5,
   "id": "c472be0c-8b99-4f92-bcc7-5c1fb8ec4627",
   "metadata": {},
   "outputs": [
    {
     "data": {
      "text/plain": [
       "'Un lenguaje de programación de alto nivel.'"
      ]
     },
     "execution_count": 5,
     "metadata": {},
     "output_type": "execute_result"
    }
   ],
   "source": [
    "diccionario[\"Python\"]"
   ]
  },
  {
   "cell_type": "markdown",
   "id": "8de73cb5-0eb0-47de-bd57-521085afec86",
   "metadata": {},
   "source": [
    "Pero no sirve únicamente para crear un diccionario de significados de palabras, los diccionarios tienen gran versatilidad"
   ]
  },
  {
   "cell_type": "code",
   "execution_count": 7,
   "id": "235c2209-9054-4aee-9b24-21a21cd2972d",
   "metadata": {},
   "outputs": [],
   "source": [
    "persona = {\n",
    "    \"nombre\": \"Emanuel\",\n",
    "    \"edad\": 34,\n",
    "    \"país\": \"México\"\n",
    "}"
   ]
  },
  {
   "cell_type": "markdown",
   "id": "8cd36d9b-bcdf-4136-8efd-77869d7611b2",
   "metadata": {},
   "source": [
    "A diferencia de las secuencias como listas o tuplas, que almacenan elementos en orden (posición 0, 1, 2…), un diccionario no tiene un orden natural.\n",
    "Por eso, si imprimes un diccionario, el orden en que aparecen los elementos puede cambiar, y no afecta el contenido ni la funcionalidad."
   ]
  },
  {
   "cell_type": "code",
   "execution_count": 9,
   "id": "1341f944-0ce9-4278-a391-4c855d8d6e00",
   "metadata": {},
   "outputs": [],
   "source": [
    "teacher = {\n",
    "    \"país\": \"México\",\n",
    "    \"edad\": 34,\n",
    "    \"nombre\": \"Emanuel\"\n",
    "}"
   ]
  },
  {
   "cell_type": "code",
   "execution_count": 10,
   "id": "1f4bd4eb-7c79-41e7-81c3-e7c3d36fb773",
   "metadata": {},
   "outputs": [
    {
     "data": {
      "text/plain": [
       "True"
      ]
     },
     "execution_count": 10,
     "metadata": {},
     "output_type": "execute_result"
    }
   ],
   "source": [
    "persona == teacher"
   ]
  },
  {
   "cell_type": "markdown",
   "id": "b4aaa737-c01f-44ee-8427-a6f7712476e9",
   "metadata": {},
   "source": [
    "Ambos diccionarios son equivalentes aunque el orden de los pares sea diferente.\n",
    "\n",
    "Antes de seguir, es bueno saber que hay otras formas de crear un diccionario en Python. Una de ellas es usando el constructor dict(), que intenta convertir lo que le pasamos en un diccionario, siempre que tenga un formato adecuado."
   ]
  },
  {
   "cell_type": "code",
   "execution_count": 12,
   "id": "78adea3e-fd50-4935-b65b-587124cae191",
   "metadata": {},
   "outputs": [
    {
     "name": "stdout",
     "output_type": "stream",
     "text": [
      "{'nombre': 'Emanuel', 'edad': 34, 'país': 'México'}\n"
     ]
    }
   ],
   "source": [
    "# Pares clave-valor usando el constructor dict()\n",
    "actuario = dict(nombre=\"Emanuel\", edad=34, país=\"México\")\n",
    "print(actuario)"
   ]
  },
  {
   "cell_type": "code",
   "execution_count": 13,
   "id": "f06c9431-3e71-4062-977c-700567b1102d",
   "metadata": {},
   "outputs": [
    {
     "name": "stdout",
     "output_type": "stream",
     "text": [
      "{'nombre': 'Emanuel', 'edad': 34, 'país': 'México'}\n"
     ]
    }
   ],
   "source": [
    "# A partir de una lista de tuplas\n",
    "pares = [('nombre', 'Emanuel'), ('edad', 34), ('país','México')]\n",
    "ciudadano = dict(pares)\n",
    "print(ciudadano)"
   ]
  },
  {
   "cell_type": "code",
   "execution_count": 14,
   "id": "d0b8c30d-f2de-46d4-a506-05dade9d2c41",
   "metadata": {},
   "outputs": [
    {
     "data": {
      "text/plain": [
       "{'nombre': 'Emanuel', 'edad': 34, 'país': 'México'}"
      ]
     },
     "execution_count": 14,
     "metadata": {},
     "output_type": "execute_result"
    }
   ],
   "source": [
    "# Usando zip()\n",
    "llaves = [\"nombre\", \"edad\", \"país\"]\n",
    "valores = [\"Emanuel\", 34, \"México\"]\n",
    "socio = dict(zip(llaves, valores))\n",
    "socio"
   ]
  },
  {
   "cell_type": "markdown",
   "id": "33714967-0752-4206-a567-c9329bbfa5fa",
   "metadata": {},
   "source": [
    "Y podemos corroborar que todos los diccionarios son iguales a pesar de haber sido creados de maneras distintas."
   ]
  },
  {
   "cell_type": "code",
   "execution_count": 16,
   "id": "3e9a188a-e150-44e1-8090-e1031d26dd33",
   "metadata": {},
   "outputs": [
    {
     "data": {
      "text/plain": [
       "True"
      ]
     },
     "execution_count": 16,
     "metadata": {},
     "output_type": "execute_result"
    }
   ],
   "source": [
    "persona == actuario == ciudadano == socio"
   ]
  },
  {
   "cell_type": "markdown",
   "id": "cadf5892-b459-42ca-9877-018d862c0e73",
   "metadata": {},
   "source": [
    "Manipular diccionarios en Python es muy sencillo.\n",
    "\n",
    "Para insertar o acceder a un valor, usamos la clave dentro de corchetes [].\n",
    "\n",
    "Esto se parece a cómo accedemos a una lista, pero en lugar de usar un índice numérico, usamos una clave personalizada (como un string o un número)."
   ]
  },
  {
   "cell_type": "code",
   "execution_count": 18,
   "id": "9f5c89a3-9f2e-4954-9162-5df01c18f996",
   "metadata": {},
   "outputs": [
    {
     "data": {
      "text/plain": [
       "'Emanuel'"
      ]
     },
     "execution_count": 18,
     "metadata": {},
     "output_type": "execute_result"
    }
   ],
   "source": [
    "persona[\"nombre\"]"
   ]
  },
  {
   "cell_type": "code",
   "execution_count": 19,
   "id": "de2191f3-6081-4bec-ade1-6a3b7512ddbf",
   "metadata": {},
   "outputs": [
    {
     "data": {
      "text/plain": [
       "{'nombre': 'Emanuel', 'edad': 34, 'país': 'México', 'profesión': 'Actuario'}"
      ]
     },
     "execution_count": 19,
     "metadata": {},
     "output_type": "execute_result"
    }
   ],
   "source": [
    "persona[\"profesión\"] = \"Actuario\"\n",
    "persona"
   ]
  },
  {
   "cell_type": "markdown",
   "id": "5b2eed4f-668c-4acf-b307-b439d4f9439b",
   "metadata": {},
   "source": [
    "De esta misma manera podemos modificar el valor de una llave ya existente"
   ]
  },
  {
   "cell_type": "code",
   "execution_count": 21,
   "id": "9ea280fe-c084-439d-bf03-2ff45726d7c6",
   "metadata": {},
   "outputs": [
    {
     "data": {
      "text/plain": [
       "{'nombre': 'Emanuel', 'edad': 34, 'país': 'México', 'profesión': 'Maestro'}"
      ]
     },
     "execution_count": 21,
     "metadata": {},
     "output_type": "execute_result"
    }
   ],
   "source": [
    "persona[\"profesión\"] = \"Maestro\"\n",
    "persona"
   ]
  },
  {
   "cell_type": "markdown",
   "id": "81ddb5f5-9f71-4281-8fb3-c71f16a89504",
   "metadata": {},
   "source": [
    "Como ejemplo crearemos ahora un diccionario que representa números de socio y su nombre. Vamos a crear un diccionario vacío y luego insertamos dos valores:"
   ]
  },
  {
   "cell_type": "code",
   "execution_count": 23,
   "id": "794279fa-793e-447e-8ee4-104188fe9ed1",
   "metadata": {},
   "outputs": [
    {
     "name": "stdout",
     "output_type": "stream",
     "text": [
      "{11795947827: 'Carmen', 45089012241: 'Emanuel'}\n"
     ]
    }
   ],
   "source": [
    "socios = {}\n",
    "socios[11795947827] = \"Carmen\"\n",
    "socios[45089012241] = \"Emanuel\"\n",
    "print(socios)"
   ]
  },
  {
   "cell_type": "markdown",
   "id": "9b1c6126-3e7c-45f1-9388-1f366973a387",
   "metadata": {},
   "source": [
    "Así que ahora, cuando llega un socio y queremos saber quién es, simplemente escribimos su número en el mismo formato para buscarlo en el diccionario."
   ]
  },
  {
   "cell_type": "code",
   "execution_count": 25,
   "id": "678dd80c-1331-4823-bd4e-7d77f6f0c778",
   "metadata": {},
   "outputs": [
    {
     "data": {
      "text/plain": [
       "'Carmen'"
      ]
     },
     "execution_count": 25,
     "metadata": {},
     "output_type": "execute_result"
    }
   ],
   "source": [
    "socios[11795947827]"
   ]
  },
  {
   "cell_type": "markdown",
   "id": "b6640426-4d04-4aa2-b76b-9575172f7ab8",
   "metadata": {},
   "source": [
    "¿Y qué sucedería si buscamos una clave que no existe en un diccionario?"
   ]
  },
  {
   "cell_type": "code",
   "execution_count": 27,
   "id": "c67b6ce4-e0f2-43fe-8a41-ce7a26215707",
   "metadata": {},
   "outputs": [
    {
     "ename": "KeyError",
     "evalue": "11795947821",
     "output_type": "error",
     "traceback": [
      "\u001b[1;31m---------------------------------------------------------------------------\u001b[0m",
      "\u001b[1;31mKeyError\u001b[0m                                  Traceback (most recent call last)",
      "Cell \u001b[1;32mIn[27], line 1\u001b[0m\n\u001b[1;32m----> 1\u001b[0m socios[\u001b[38;5;241m11795947821\u001b[39m]\n",
      "\u001b[1;31mKeyError\u001b[0m: 11795947821"
     ]
    }
   ],
   "source": [
    "socios[11795947821]"
   ]
  },
  {
   "cell_type": "markdown",
   "id": "0ee2b663-7728-4ea0-bb8a-fb3e162fbb7f",
   "metadata": {},
   "source": [
    "Obtenemos un error llamado `KeyError`. Esto ocurre porque las claves son esenciales en un diccionario: si la clave no está, no podemos recuperar el valor asociado."
   ]
  },
  {
   "cell_type": "markdown",
   "id": "eba6d317-235e-4294-a43e-dd3192e09585",
   "metadata": {},
   "source": [
    "Igual que con listas, podemos usar `del`, pero en lugar de pasar un índice, pasamos la clave:"
   ]
  },
  {
   "cell_type": "code",
   "execution_count": 48,
   "id": "abe5bca0-c193-408e-9b93-833445babf6a",
   "metadata": {},
   "outputs": [],
   "source": [
    "del socios[45089012241]"
   ]
  },
  {
   "cell_type": "code",
   "execution_count": 50,
   "id": "efa1f200-15d8-4cfe-9b37-68013c4f0426",
   "metadata": {},
   "outputs": [
    {
     "name": "stdout",
     "output_type": "stream",
     "text": [
      "{11795947827: 'Carmen'}\n"
     ]
    }
   ],
   "source": [
    "print(socios)"
   ]
  },
  {
   "cell_type": "markdown",
   "id": "aa5a0d8c-b933-4ce9-8237-0edc463a5939",
   "metadata": {},
   "source": [
    "Si se intenta eliminar una clave que no existe, también obtendremos un `KeyError`. \n",
    "\n",
    "Así como usamos el método `.pop()` en listas, también podemos usar `pop()` en diccionarios para eliminar una clave específica y obtener su valor al mismo tiempo."
   ]
  },
  {
   "cell_type": "code",
   "execution_count": 52,
   "id": "13627f9b-c199-4150-8e5d-fcac169a0c03",
   "metadata": {},
   "outputs": [
    {
     "data": {
      "text/plain": [
       "'Carmen'"
      ]
     },
     "execution_count": 52,
     "metadata": {},
     "output_type": "execute_result"
    }
   ],
   "source": [
    "socios.pop(11795947827)"
   ]
  },
  {
   "cell_type": "markdown",
   "id": "a6c71197-f5d7-49d2-9d38-f2629c420b68",
   "metadata": {},
   "source": [
    "También en este caso, si la llave no está, obtendremos un `KeyError`. Pero si damos un **valor por defecto**, no pasa nada malo:"
   ]
  },
  {
   "cell_type": "code",
   "execution_count": 54,
   "id": "00ab725c-6ffa-491b-9780-4d8db751e58d",
   "metadata": {},
   "outputs": [
    {
     "data": {
      "text/plain": [
       "'No se encuentra el número solicitado'"
      ]
     },
     "execution_count": 54,
     "metadata": {},
     "output_type": "execute_result"
    }
   ],
   "source": [
    "socios.pop(11795947832, \"No se encuentra el número solicitado\")"
   ]
  },
  {
   "cell_type": "markdown",
   "id": "1ee523e2-fc2d-453b-92b8-3c1428374692",
   "metadata": {},
   "source": [
    "También podemos usar el método `len` en un diccionario, en este caso nos arrojará el número de llaves en él"
   ]
  },
  {
   "cell_type": "code",
   "execution_count": 56,
   "id": "9d8edd12-da4b-4ae8-a9b7-75ce130a842e",
   "metadata": {},
   "outputs": [
    {
     "data": {
      "text/plain": [
       "0"
      ]
     },
     "execution_count": 56,
     "metadata": {},
     "output_type": "execute_result"
    }
   ],
   "source": [
    "len(socios)"
   ]
  },
  {
   "cell_type": "markdown",
   "id": "19f92719-5751-46d3-a712-7d2dd02994cc",
   "metadata": {},
   "source": [
    "En los diccionarios de Python, los **valores** pueden ser prácticamente de cualquier tipo: listas, tuplas, otros diccionarios, etc.\n",
    "\n",
    "Sin embargo, las **llaves** deben seguir reglas más estrictas: las claves deben ser objetos inmutables, como strings, números y tuplas. Pero no pueden ser claves listas, otros diccionarios."
   ]
  },
  {
   "cell_type": "code",
   "execution_count": 58,
   "id": "d7b8d608-7df1-4975-8fcb-c330d5cd2ca7",
   "metadata": {},
   "outputs": [],
   "source": [
    "# Por ejemplo una tupla como clave (válido porque es inmutable)\n",
    "coordenada = (40.7128, -74.0060)\n",
    "ciudades = {coordenada: \"Nueva York\"}"
   ]
  },
  {
   "cell_type": "code",
   "execution_count": 60,
   "id": "48b630dd-d818-4b00-8892-ba6f9778a931",
   "metadata": {},
   "outputs": [
    {
     "ename": "TypeError",
     "evalue": "unhashable type: 'list'",
     "output_type": "error",
     "traceback": [
      "\u001b[1;31m---------------------------------------------------------------------------\u001b[0m",
      "\u001b[1;31mTypeError\u001b[0m                                 Traceback (most recent call last)",
      "Cell \u001b[1;32mIn[60], line 3\u001b[0m\n\u001b[0;32m      1\u001b[0m \u001b[38;5;66;03m# Usar una lista como clave (no permitido)\u001b[39;00m\n\u001b[0;32m      2\u001b[0m coordenada \u001b[38;5;241m=\u001b[39m [\u001b[38;5;241m40.7128\u001b[39m, \u001b[38;5;241m-\u001b[39m\u001b[38;5;241m74.0060\u001b[39m]\n\u001b[1;32m----> 3\u001b[0m ciudades \u001b[38;5;241m=\u001b[39m {coordenada: \u001b[38;5;124m\"\u001b[39m\u001b[38;5;124mNueva York\u001b[39m\u001b[38;5;124m\"\u001b[39m}\n",
      "\u001b[1;31mTypeError\u001b[0m: unhashable type: 'list'"
     ]
    }
   ],
   "source": [
    "# Usar una lista como clave (no permitido)\n",
    "coordenada = [40.7128, -74.0060]\n",
    "ciudades = {coordenada: \"Nueva York\"}\n",
    "# Esto lanza: TypeError: unhashable type: 'list'"
   ]
  },
  {
   "cell_type": "markdown",
   "id": "c29fee06-1525-4130-9547-86ca6cf3e653",
   "metadata": {},
   "source": [
    "Esto sucede por cómo están implementados los diccionarios en Python: Los diccionarios usan una estructura interna llamada tabla hash.\n",
    "\n",
    "Una función hash se puede usar para mapear datos de tamaño arbitrario a valores de tamaño fijo. Los valores devueltos por una función hash se llaman valores hash, códigos hash, resúmenes (digests) o simplemente hashes. \n",
    "\n",
    "Esta función,  permite buscar o agregar elementos muy rápidamente, toma prácticamente el mismo tiempo, sin importar cuántos elementos haya. Sin embargo, para funcionar, cada clave pasa por una función matemática llamada hash. Pero esa función necesita que las claves no cambien, o de lo contrario el diccionario se rompería."
   ]
  },
  {
   "cell_type": "markdown",
   "id": "adad4b80-99d4-4c18-9011-e4a72f6d7bb2",
   "metadata": {},
   "source": [
    "Ahora utilizaremos un ejemplo que incluye una estructura más compleja. Pondremos diccionarios, dentro de nuestro diccionario. \n",
    "\n",
    "Para empezar podemos utilizar el operador `in` para saber si una llave está en nuestro diccionario, que es algo que podríamos hacer antes de intentar obtener un valor."
   ]
  },
  {
   "cell_type": "code",
   "execution_count": 62,
   "id": "416becb0-3145-40bc-ab2e-d2ed379163c5",
   "metadata": {},
   "outputs": [],
   "source": [
    "ubicaciones = {\n",
    "    \"CDMX\": {\"coordenada\": (19.4326, -99.1332), \"pais\": \"México\"},\n",
    "    \"Nueva York\": {\"coordenada\": (40.7128, -74.0060), \"pais\": \"Estados Unidos\"},\n",
    "    \"París\": {\"coordenada\": (48.8566, 2.3522), \"pais\": \"Francia\"},\n",
    "    \"Tokio\": {\"coordenada\": (35.6895, 139.6917), \"pais\": \"Japón\"}\n",
    "}"
   ]
  },
  {
   "cell_type": "code",
   "execution_count": 64,
   "id": "60073ff9-f842-44f9-a3c4-423843999517",
   "metadata": {},
   "outputs": [
    {
     "data": {
      "text/plain": [
       "False"
      ]
     },
     "execution_count": 64,
     "metadata": {},
     "output_type": "execute_result"
    }
   ],
   "source": [
    "\"Toluca\" in ubicaciones"
   ]
  },
  {
   "cell_type": "code",
   "execution_count": 66,
   "id": "d34ca1e9-ff42-46e4-b480-6a7585b3d165",
   "metadata": {},
   "outputs": [
    {
     "data": {
      "text/plain": [
       "True"
      ]
     },
     "execution_count": 66,
     "metadata": {},
     "output_type": "execute_result"
    }
   ],
   "source": [
    "\"Monterrey\" not in ubicaciones"
   ]
  },
  {
   "cell_type": "markdown",
   "id": "716c8bc7-b7fc-4fbf-a237-98ed515d751b",
   "metadata": {},
   "source": [
    "En ciertas ocasiones puede ser necesario obtener únicamente las llaves o valores de un diccionario. Para eso existe una variedad de métodos.\n",
    "\n",
    "1. keys() — Devuelve todas las llaves (ciudades en nuestro caso).\n",
    "2. values() — Devuelve los valores (información de cada lugar).\n",
    "3. items() — Devuelve pares (ciudad, información)."
   ]
  },
  {
   "cell_type": "code",
   "execution_count": 68,
   "id": "ba507daf-7c96-4fd7-be2b-12dcd121495f",
   "metadata": {},
   "outputs": [
    {
     "name": "stdout",
     "output_type": "stream",
     "text": [
      "dict_keys(['CDMX', 'Nueva York', 'París', 'Tokio'])\n"
     ]
    }
   ],
   "source": [
    "print(ubicaciones.keys())"
   ]
  },
  {
   "cell_type": "code",
   "execution_count": 70,
   "id": "1ec62f4c-1840-4b4b-8a95-cf1d35d4030a",
   "metadata": {},
   "outputs": [
    {
     "name": "stdout",
     "output_type": "stream",
     "text": [
      "dict_values([{'coordenada': (19.4326, -99.1332), 'pais': 'México'}, {'coordenada': (40.7128, -74.006), 'pais': 'Estados Unidos'}, {'coordenada': (48.8566, 2.3522), 'pais': 'Francia'}, {'coordenada': (35.6895, 139.6917), 'pais': 'Japón'}])\n"
     ]
    }
   ],
   "source": [
    "print(ubicaciones.values())"
   ]
  },
  {
   "cell_type": "code",
   "execution_count": 72,
   "id": "6027161e-5401-4c98-b2c6-8dbe47115b6f",
   "metadata": {},
   "outputs": [
    {
     "name": "stdout",
     "output_type": "stream",
     "text": [
      "dict_items([('CDMX', {'coordenada': (19.4326, -99.1332), 'pais': 'México'}), ('Nueva York', {'coordenada': (40.7128, -74.006), 'pais': 'Estados Unidos'}), ('París', {'coordenada': (48.8566, 2.3522), 'pais': 'Francia'}), ('Tokio', {'coordenada': (35.6895, 139.6917), 'pais': 'Japón'})])\n"
     ]
    }
   ],
   "source": [
    "print(ubicaciones.items())"
   ]
  },
  {
   "cell_type": "markdown",
   "id": "9dd33dfb-d041-4b50-9fb5-41d0cc38e2ab",
   "metadata": {},
   "source": [
    "Al igual que las listas, los diccionarios pueden copiarse utilizando el método `copy`. Sin embargo, recordemos que esto crea una *copia superficial*, por lo que debemos tener cuidado al modificar objetos dentro de los diccionarios."
   ]
  },
  {
   "cell_type": "code",
   "execution_count": 74,
   "id": "68cf3f92-83b0-4567-9738-7358e0b73caa",
   "metadata": {},
   "outputs": [
    {
     "data": {
      "text/plain": [
       "{'CDMX': {'coordenada': (19.4326, -99.1332), 'pais': 'México'},\n",
       " 'Nueva York': {'coordenada': (40.7128, -74.006), 'pais': 'Estados Unidos'},\n",
       " 'París': {'coordenada': (48.8566, 2.3522), 'pais': 'Francia'},\n",
       " 'Tokio': {'coordenada': (35.6895, 139.6917), 'pais': 'Japón'}}"
      ]
     },
     "execution_count": 74,
     "metadata": {},
     "output_type": "execute_result"
    }
   ],
   "source": [
    "ubicaciones_copy = ubicaciones.copy()\n",
    "ubicaciones_copy"
   ]
  },
  {
   "cell_type": "code",
   "execution_count": 76,
   "id": "9829aac7-ad89-40ae-999f-7d823a447539",
   "metadata": {},
   "outputs": [],
   "source": [
    "ubicaciones_copy['Nueva York'].clear()"
   ]
  },
  {
   "cell_type": "code",
   "execution_count": 78,
   "id": "7ed9f1a5-5e0b-452f-8e7d-faf1650814e1",
   "metadata": {},
   "outputs": [
    {
     "data": {
      "text/plain": [
       "{'CDMX': {'coordenada': (19.4326, -99.1332), 'pais': 'México'},\n",
       " 'Nueva York': {},\n",
       " 'París': {'coordenada': (48.8566, 2.3522), 'pais': 'Francia'},\n",
       " 'Tokio': {'coordenada': (35.6895, 139.6917), 'pais': 'Japón'}}"
      ]
     },
     "execution_count": 78,
     "metadata": {},
     "output_type": "execute_result"
    }
   ],
   "source": [
    "ubicaciones"
   ]
  },
  {
   "cell_type": "markdown",
   "id": "edac41da-2445-497c-ae40-0f0b04c5b2b6",
   "metadata": {},
   "source": [
    "El método `clear` elimina todos los pares llave-valor de un diccionario. \n",
    "\n",
    "En este caso, lo hemos aplicado al objeto diccionario que está almacenado en `ubicaciones_copy`. \n",
    "\n",
    "Este es el mismo objeto que está almacenado en `ubicaciones`, por lo que cuando imprimimos `ubicaciones`, nos muestra vacío el diccionario que eliminamos.\n",
    "\n",
    "Esto sucede porque tanto `ubicaciones` como `ubicaciones_copy` apuntan al mismo objeto en memoria debido a la naturaleza de las copias superficiales."
   ]
  },
  {
   "cell_type": "markdown",
   "id": "90ada2d3-2f49-42ef-b1fb-a3a3b8e01803",
   "metadata": {},
   "source": [
    "Uno de los métodos más útiles de los diccionarios es el método `get`. Este método intenta recuperar un valor basado en una llave, pero también nos permite establecer un resultado predeterminada. \n",
    "\n",
    "Esto significa que si la llave que buscamos no está en el diccionario, obtendremos el resultado predeterminado en su lugar. \n",
    "\n",
    "Aquí tratamos de obtener una frase en otro idioma de nuestro diccionario de traducciones, pero incluimos un mensaje de error útil por si la frase no está en el diccionario."
   ]
  },
  {
   "cell_type": "code",
   "execution_count": 80,
   "id": "275eb22c-9d08-4e1a-9026-4807ca3b9374",
   "metadata": {},
   "outputs": [
    {
     "data": {
      "text/plain": [
       "{'coordenada': (19.4326, -99.1332), 'pais': 'México'}"
      ]
     },
     "execution_count": 80,
     "metadata": {},
     "output_type": "execute_result"
    }
   ],
   "source": [
    "ubicaciones.get(\"CDMX\", \"Ciudad no encontrada\")"
   ]
  },
  {
   "cell_type": "code",
   "execution_count": 84,
   "id": "3e158476-f2ac-4e01-b542-72b308d26e0b",
   "metadata": {},
   "outputs": [
    {
     "data": {
      "text/plain": [
       "'Ciudad no encontrada'"
      ]
     },
     "execution_count": 84,
     "metadata": {},
     "output_type": "execute_result"
    }
   ],
   "source": [
    "ubicaciones.get(\"Casablanca\", \"Ciudad no encontrada\")"
   ]
  },
  {
   "cell_type": "markdown",
   "id": "73de0b80-52e5-4d94-8b3e-481f0d922fb2",
   "metadata": {},
   "source": [
    "Si queremos unir dos diccionarios, podemos utilizar el método `update`. Esto sobreescribirá las llaves que sean compartidas por ambos diccionarios."
   ]
  },
  {
   "cell_type": "code",
   "execution_count": 86,
   "id": "d07ee305-0596-46af-98d1-a9c2aaa6f194",
   "metadata": {},
   "outputs": [],
   "source": [
    "lugares = {\n",
    "    \"CDMX\": {\"coordenada\": (19.4326, -99.1332), \"pais\": \"México\"},\n",
    "    'Nueva York': {'coordenada': (40.7128, -74.006), 'pais': 'Estados Unidos'},\n",
    "    \"Casablanca\": {\"coordenada\": (33.5731, -7.5898), \"pais\": \"Marruecos\"},\n",
    "    \"Sidney\": {\"coordenada\": (-33.8688, 151.2093), \"pais\": \"Australia\"}\n",
    "}"
   ]
  },
  {
   "cell_type": "code",
   "execution_count": 88,
   "id": "a3db74c5-1c57-47ce-8dc6-0f115f06b325",
   "metadata": {},
   "outputs": [
    {
     "data": {
      "text/plain": [
       "{'CDMX': {'coordenada': (19.4326, -99.1332), 'pais': 'México'},\n",
       " 'Nueva York': {},\n",
       " 'París': {'coordenada': (48.8566, 2.3522), 'pais': 'Francia'},\n",
       " 'Tokio': {'coordenada': (35.6895, 139.6917), 'pais': 'Japón'}}"
      ]
     },
     "execution_count": 88,
     "metadata": {},
     "output_type": "execute_result"
    }
   ],
   "source": [
    "ubicaciones"
   ]
  },
  {
   "cell_type": "code",
   "execution_count": 90,
   "id": "f219f324-e8fe-40f4-be97-8f17f78d8117",
   "metadata": {},
   "outputs": [],
   "source": [
    "ubicaciones.update(lugares)"
   ]
  },
  {
   "cell_type": "code",
   "execution_count": 92,
   "id": "d94b0ea7-db2f-4c9e-a7fc-a16fa214e0b7",
   "metadata": {},
   "outputs": [
    {
     "data": {
      "text/plain": [
       "{'CDMX': {'coordenada': (19.4326, -99.1332), 'pais': 'México'},\n",
       " 'Nueva York': {'coordenada': (40.7128, -74.006), 'pais': 'Estados Unidos'},\n",
       " 'París': {'coordenada': (48.8566, 2.3522), 'pais': 'Francia'},\n",
       " 'Tokio': {'coordenada': (35.6895, 139.6917), 'pais': 'Japón'},\n",
       " 'Casablanca': {'coordenada': (33.5731, -7.5898), 'pais': 'Marruecos'},\n",
       " 'Sidney': {'coordenada': (-33.8688, 151.2093), 'pais': 'Australia'}}"
      ]
     },
     "execution_count": 92,
     "metadata": {},
     "output_type": "execute_result"
    }
   ],
   "source": [
    "ubicaciones"
   ]
  }
 ],
 "metadata": {
  "kernelspec": {
   "display_name": "Python [conda env:base] *",
   "language": "python",
   "name": "conda-base-py"
  },
  "language_info": {
   "codemirror_mode": {
    "name": "ipython",
    "version": 3
   },
   "file_extension": ".py",
   "mimetype": "text/x-python",
   "name": "python",
   "nbconvert_exporter": "python",
   "pygments_lexer": "ipython3",
   "version": "3.11.5"
  }
 },
 "nbformat": 4,
 "nbformat_minor": 5
}
