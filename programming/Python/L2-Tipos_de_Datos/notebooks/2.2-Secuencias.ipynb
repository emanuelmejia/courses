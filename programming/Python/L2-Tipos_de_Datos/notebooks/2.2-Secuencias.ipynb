{
 "cells": [
  {
   "cell_type": "markdown",
   "id": "714928c5-2197-4d35-87ad-da7cb39b17d2",
   "metadata": {},
   "source": [
    "<div style=\"padding:10px;background-color: #FF4D4D; color:white;font-size:28px;\"><strong>Estructuras Básicas - Secuencias</strong></div>"
   ]
  },
  {
   "cell_type": "markdown",
   "id": "1d9bd077-96ba-4c71-9478-7f9e911aed0a",
   "metadata": {},
   "source": [
    "## <a style=\"padding:3px;color: #FF4D4D; \"><strong>Listas</strong></a>"
   ]
  },
  {
   "cell_type": "markdown",
   "id": "47aa45fd-9173-4f05-984b-c7f747d310bc",
   "metadata": {},
   "source": [
    "Las listas son una de las estructuras de datos más intuitivas, flexibles y utilizadas que existen.\n",
    "\n",
    "Una de sus características distintivas es que podemos modificarlas por lo que decimos que las listas son objetos **mutables**. \n",
    "\n",
    "Hasta el momento hemos nuevos objetos y reasignar variables para que apuntaran a ellos, pero nunca cambiamos un int, un float o una str. De hecho, las listas son los primeros objetos mutables que hemos visto."
   ]
  },
  {
   "cell_type": "code",
   "execution_count": 4,
   "id": "bc59e96b-96b1-4c02-8743-cb9b02a1b389",
   "metadata": {},
   "outputs": [
    {
     "name": "stdout",
     "output_type": "stream",
     "text": [
      "[]\n"
     ]
    },
    {
     "data": {
      "text/plain": [
       "list"
      ]
     },
     "execution_count": 4,
     "metadata": {},
     "output_type": "execute_result"
    }
   ],
   "source": [
    "x = []\n",
    "print(x)\n",
    "type(x)"
   ]
  },
  {
   "cell_type": "markdown",
   "id": "75820163-c649-4dbb-9b11-17a45dbbdd5f",
   "metadata": {},
   "source": [
    "Podemos utilizar el método `append()` para ir agregando términos **individuales** a la lista."
   ]
  },
  {
   "cell_type": "code",
   "execution_count": 6,
   "id": "7bea86e4-6623-45f1-b3c5-76ed6d5613f0",
   "metadata": {},
   "outputs": [
    {
     "name": "stdout",
     "output_type": "stream",
     "text": [
      "[5]\n"
     ]
    }
   ],
   "source": [
    "x.append(5)\n",
    "print(x)"
   ]
  },
  {
   "cell_type": "code",
   "execution_count": 7,
   "id": "e60b6676-9f37-4253-952e-b40035229319",
   "metadata": {},
   "outputs": [
    {
     "name": "stdout",
     "output_type": "stream",
     "text": [
      "[5, 11]\n"
     ]
    }
   ],
   "source": [
    "x.append(11)\n",
    "print(x)"
   ]
  },
  {
   "cell_type": "markdown",
   "id": "4dc4fb39-3123-4c1d-8e85-4dc4076d93df",
   "metadata": {},
   "source": [
    "Las listas aceptan objetos de diversos tipos."
   ]
  },
  {
   "cell_type": "code",
   "execution_count": 9,
   "id": "bee95c4c-bc43-4d15-b684-b86b26e2988f",
   "metadata": {},
   "outputs": [
    {
     "name": "stdout",
     "output_type": "stream",
     "text": [
      "[5, 11, 'ups']\n"
     ]
    },
    {
     "data": {
      "text/plain": [
       "list"
      ]
     },
     "execution_count": 9,
     "metadata": {},
     "output_type": "execute_result"
    }
   ],
   "source": [
    "x.append('ups')\n",
    "print(x)\n",
    "type(x)"
   ]
  },
  {
   "cell_type": "markdown",
   "id": "ed380e78-b2bc-4b0e-972a-0c0bb66fef1a",
   "metadata": {},
   "source": [
    "Si se agrega más de un valor utilizando este método, se agregará como un elemento **individual**, por ejemplo una lista dentro de una lista"
   ]
  },
  {
   "cell_type": "markdown",
   "id": "03d3590e-1cb0-4200-9418-26d2a88398bb",
   "metadata": {},
   "source": [
    "![inception_list_within_list](../images/list.png)"
   ]
  },
  {
   "cell_type": "code",
   "execution_count": 12,
   "id": "327ae7b1-50e3-4813-a979-bb37b75503e0",
   "metadata": {},
   "outputs": [
    {
     "name": "stdout",
     "output_type": "stream",
     "text": [
      "[5, 11, 'ups', [6, 7]]\n"
     ]
    }
   ],
   "source": [
    "x.append([6,7])\n",
    "print(x)"
   ]
  },
  {
   "cell_type": "markdown",
   "id": "997e853c-3362-4fd5-9e94-2be3217ca2aa",
   "metadata": {},
   "source": [
    "Al igual que con las cadenas, podemos acceder a los elementos de una lista utilizando su índice (iniciando desde 0)."
   ]
  },
  {
   "cell_type": "code",
   "execution_count": 14,
   "id": "4a860955-776d-4757-8d3b-3e3088231e68",
   "metadata": {},
   "outputs": [
    {
     "data": {
      "text/plain": [
       "11"
      ]
     },
     "execution_count": 14,
     "metadata": {},
     "output_type": "execute_result"
    }
   ],
   "source": [
    "x[1]"
   ]
  },
  {
   "cell_type": "markdown",
   "id": "406b9dd5-e9c8-4a32-9fc7-ab7031ad320c",
   "metadata": {},
   "source": [
    "Podemos acceder también a un subconjunto de ellos mediante un slice(inicio:final:paso)"
   ]
  },
  {
   "cell_type": "code",
   "execution_count": 16,
   "id": "550caa39-8879-4bed-8568-ef4bd6c95024",
   "metadata": {},
   "outputs": [
    {
     "data": {
      "text/plain": [
       "[5, 11, 'ups']"
      ]
     },
     "execution_count": 16,
     "metadata": {},
     "output_type": "execute_result"
    }
   ],
   "source": [
    "x[0:3]"
   ]
  },
  {
   "cell_type": "markdown",
   "id": "20ee0506-0c07-4a86-8477-19178bc5e9f4",
   "metadata": {},
   "source": [
    "En caso de que el objeto de algún índice también sea indexable, podemos colocar un doble índice para acceder a los índices dentro del objeto de la lista"
   ]
  },
  {
   "cell_type": "code",
   "execution_count": 18,
   "id": "22a994bb-8a98-4f70-85f4-4529811f5d26",
   "metadata": {},
   "outputs": [
    {
     "data": {
      "text/plain": [
       "[6, 7]"
      ]
     },
     "execution_count": 18,
     "metadata": {},
     "output_type": "execute_result"
    }
   ],
   "source": [
    "x[3]"
   ]
  },
  {
   "cell_type": "code",
   "execution_count": 19,
   "id": "1d745419-4f70-4098-976e-10502044991d",
   "metadata": {},
   "outputs": [
    {
     "data": {
      "text/plain": [
       "6"
      ]
     },
     "execution_count": 19,
     "metadata": {},
     "output_type": "execute_result"
    }
   ],
   "source": [
    "x[3][0]"
   ]
  },
  {
   "cell_type": "code",
   "execution_count": 20,
   "id": "322a1b0b-6199-4716-b668-9a164a686478",
   "metadata": {},
   "outputs": [
    {
     "data": {
      "text/plain": [
       "'p'"
      ]
     },
     "execution_count": 20,
     "metadata": {},
     "output_type": "execute_result"
    }
   ],
   "source": [
    "#incluso si el objeto es una cadena\n",
    "x[2][1]"
   ]
  },
  {
   "cell_type": "markdown",
   "id": "f700af38-f785-4dd0-911a-af1762b86af0",
   "metadata": {},
   "source": [
    "Podemos utilizar un índice para intercambiar un valor dentro de la lista."
   ]
  },
  {
   "cell_type": "code",
   "execution_count": 22,
   "id": "af1077af-d5db-49d0-b052-bcb7d98a5e98",
   "metadata": {},
   "outputs": [
    {
     "name": "stdout",
     "output_type": "stream",
     "text": [
      "[5, 11, 10, [6, 7]]\n"
     ]
    }
   ],
   "source": [
    "x[2] = 10 # Indexado desde cero\n",
    "print(x)"
   ]
  },
  {
   "cell_type": "markdown",
   "id": "8b794168-b568-42e7-8305-d0c8c9fe54d3",
   "metadata": {},
   "source": [
    "Podemos también utilizar el método `extend()` para incluir nuevos valores."
   ]
  },
  {
   "cell_type": "code",
   "execution_count": 24,
   "id": "90e075f8-c2aa-4f2e-8a13-ccf3609fc949",
   "metadata": {},
   "outputs": [
    {
     "name": "stdout",
     "output_type": "stream",
     "text": [
      "[5, 11, 10, [6, 7], 12, 13, 14]\n"
     ]
    }
   ],
   "source": [
    "x.extend([12,13,14])\n",
    "print(x)"
   ]
  },
  {
   "cell_type": "markdown",
   "id": "b39201fb-061b-49b4-aa76-a2be7f2ab914",
   "metadata": {},
   "source": [
    "Podemos intercambiar porciones completas"
   ]
  },
  {
   "cell_type": "code",
   "execution_count": 26,
   "id": "53e1831c-5513-43ac-bd56-ad9f22daf670",
   "metadata": {},
   "outputs": [
    {
     "name": "stdout",
     "output_type": "stream",
     "text": [
      "[15, 16, 10, [6, 7], 12, 13, 14]\n"
     ]
    }
   ],
   "source": [
    "x[0:2] = [15,16]\n",
    "print(x)"
   ]
  },
  {
   "cell_type": "markdown",
   "id": "87d99736-a71c-46c3-83de-1755e135e5db",
   "metadata": {},
   "source": [
    "Y podemos también quitar valores de la lista utilizando la palabra clave `del`. Esto recortará los valores indexados de la lista. Puede hacerse colocando una estructura de `inicio:final` o con un valor específico"
   ]
  },
  {
   "cell_type": "code",
   "execution_count": 28,
   "id": "79a215ab-e628-4004-b956-a43e66b605ce",
   "metadata": {},
   "outputs": [
    {
     "name": "stdout",
     "output_type": "stream",
     "text": [
      "[15, [6, 7], 12, 13, 14]\n"
     ]
    }
   ],
   "source": [
    "del x[1:3]\n",
    "print(x)"
   ]
  },
  {
   "cell_type": "code",
   "execution_count": 29,
   "id": "a69a82de-511c-4765-a0ff-02a6e14db312",
   "metadata": {},
   "outputs": [
    {
     "name": "stdout",
     "output_type": "stream",
     "text": [
      "[[6, 7], 12, 13, 14]\n"
     ]
    }
   ],
   "source": [
    "del x[0]\n",
    "print(x)"
   ]
  },
  {
   "cell_type": "markdown",
   "id": "ea5ac5f2-d1a8-4af0-9e4d-8aef068cfcae",
   "metadata": {},
   "source": [
    "Podemos incluso borrar todos los valores sin conocerlos utilizando el mmétodo `clear()`"
   ]
  },
  {
   "cell_type": "code",
   "execution_count": 31,
   "id": "8a7ad6b1-52cb-49ef-b3b3-ecf303cd09ba",
   "metadata": {},
   "outputs": [
    {
     "name": "stdout",
     "output_type": "stream",
     "text": [
      "[]\n"
     ]
    }
   ],
   "source": [
    "x.clear()\n",
    "print(x)"
   ]
  },
  {
   "cell_type": "markdown",
   "id": "4c2de220-7233-4692-a570-6036f3dfdba5",
   "metadata": {},
   "source": [
    "También puede remplazarse utilizando pasos. Por ejemplo cada segundo valor."
   ]
  },
  {
   "cell_type": "code",
   "execution_count": 33,
   "id": "39ff1730-0c8a-4fd7-a0de-f6af0768c199",
   "metadata": {},
   "outputs": [
    {
     "name": "stdout",
     "output_type": "stream",
     "text": [
      "[11, 12, 13, 14, 15]\n"
     ]
    }
   ],
   "source": [
    "x = [11,12,13,14,15]\n",
    "print(x)"
   ]
  },
  {
   "cell_type": "code",
   "execution_count": 34,
   "id": "668ccd69-53f9-4931-a942-f704f8bc5828",
   "metadata": {},
   "outputs": [],
   "source": [
    "y = [7, 3]"
   ]
  },
  {
   "cell_type": "code",
   "execution_count": 35,
   "id": "014075e6-ed8e-4c5d-8093-b8d30556da49",
   "metadata": {},
   "outputs": [
    {
     "name": "stdout",
     "output_type": "stream",
     "text": [
      "[11, 7, 13, 3, 15]\n"
     ]
    }
   ],
   "source": [
    "x[1:5:2] = y\n",
    "print(x)"
   ]
  },
  {
   "cell_type": "markdown",
   "id": "03a5f284-5190-4f16-82b6-49ff0b8cc4bf",
   "metadata": {},
   "source": [
    "También podemos incluir pasos al borrar elementos."
   ]
  },
  {
   "cell_type": "code",
   "execution_count": 37,
   "id": "6ea12cdf-32ff-46de-9550-9d0280c04ebe",
   "metadata": {},
   "outputs": [
    {
     "name": "stdout",
     "output_type": "stream",
     "text": [
      "[7, 3]\n"
     ]
    }
   ],
   "source": [
    "del x[0::2]\n",
    "print(x)"
   ]
  },
  {
   "cell_type": "markdown",
   "id": "7bf79677-9f5c-4e2c-8ae9-ef9a4afd84ef",
   "metadata": {},
   "source": [
    "También podemos ingresar valores en una posición específica con el método `insert()`, sin borrar o remplazar los valores existentes."
   ]
  },
  {
   "cell_type": "code",
   "execution_count": 39,
   "id": "84fb1a57-1b83-463e-8292-aca8e2b5f079",
   "metadata": {},
   "outputs": [
    {
     "name": "stdout",
     "output_type": "stream",
     "text": [
      "[21, 7, 3]\n",
      "[17, 21, 7, 3]\n",
      "[17, 123, 21, 7, 3]\n"
     ]
    }
   ],
   "source": [
    "x.insert(0, 21) # Inserta en la posición 0 el valor 21\n",
    "print(x)\n",
    "x.insert(0, 17) # Inserta en la posición 0 el valor 17\n",
    "print(x)\n",
    "x.insert(1,123) # Inserta en la posición 1 el valor 123\n",
    "print(x)"
   ]
  },
  {
   "cell_type": "markdown",
   "id": "005d5611-aba7-4c10-8d75-6a0d548b6f1a",
   "metadata": {},
   "source": [
    "También es común querer quitar el último valor de una lista. Para esto podemos utilizar el método `pop()`"
   ]
  },
  {
   "cell_type": "code",
   "execution_count": 41,
   "id": "de27c82f-4a31-4f36-b405-9f466d87cb96",
   "metadata": {},
   "outputs": [
    {
     "name": "stdout",
     "output_type": "stream",
     "text": [
      "[17, 123, 21, 7]\n"
     ]
    }
   ],
   "source": [
    "x.pop()\n",
    "print(x)"
   ]
  },
  {
   "cell_type": "markdown",
   "id": "8938dc33-4e6a-40d0-92c1-e42163bc5b5a",
   "metadata": {},
   "source": [
    "Únicamente es necesario tener cuidado pues, en caso de no guardar el valor en una variable, se perderá."
   ]
  },
  {
   "cell_type": "code",
   "execution_count": 43,
   "id": "7ac661ac-5e90-435e-bf7c-dc6b0d927126",
   "metadata": {},
   "outputs": [
    {
     "name": "stdout",
     "output_type": "stream",
     "text": [
      "7\n",
      "[17, 123, 21]\n"
     ]
    }
   ],
   "source": [
    "ult_val = x.pop()\n",
    "print(ult_val)\n",
    "print(x)"
   ]
  },
  {
   "cell_type": "markdown",
   "id": "d7586306-f7f2-4b18-a7dc-3f5f661b59f7",
   "metadata": {},
   "source": [
    "Podemos quitar el valor de una posición específica, indicando el índice dentro de los paréntesis del método `pop()`"
   ]
  },
  {
   "cell_type": "code",
   "execution_count": 45,
   "id": "cadb8390-8396-4b29-8bb8-f29165399ace",
   "metadata": {},
   "outputs": [
    {
     "name": "stdout",
     "output_type": "stream",
     "text": [
      "123\n",
      "[17, 21]\n"
     ]
    }
   ],
   "source": [
    "seg_val = x.pop(1)\n",
    "print(seg_val)\n",
    "print(x)"
   ]
  },
  {
   "cell_type": "markdown",
   "id": "b4b08441-3e67-4ab6-a837-a7928030bf9b",
   "metadata": {},
   "source": [
    "También podemos quitar valores específicos de la lista, aunque únicamente encontrará la primera instancia que encuentre del valor."
   ]
  },
  {
   "cell_type": "code",
   "execution_count": 47,
   "id": "c8921b43-c454-4e5f-ae84-3180a9820646",
   "metadata": {},
   "outputs": [
    {
     "name": "stdout",
     "output_type": "stream",
     "text": [
      "[17, 21, 17, 18, 19, 20]\n"
     ]
    }
   ],
   "source": [
    "x.extend([17,18,19,20])\n",
    "print(x)"
   ]
  },
  {
   "cell_type": "code",
   "execution_count": 48,
   "id": "b80dd8af-9b2a-49d8-b74f-550016db9a27",
   "metadata": {},
   "outputs": [
    {
     "name": "stdout",
     "output_type": "stream",
     "text": [
      "[21, 17, 18, 19, 20]\n"
     ]
    }
   ],
   "source": [
    "x.remove(17)\n",
    "print(x)"
   ]
  },
  {
   "cell_type": "markdown",
   "id": "3b663393-92e9-49f9-b0d1-95a51bcd03e1",
   "metadata": {},
   "source": [
    "Podemos también ordenar una lista utilizando los métodos `sort()` y `reverse()`"
   ]
  },
  {
   "cell_type": "code",
   "execution_count": 50,
   "id": "35aeb7f0-0865-49aa-88f5-9bd8ad755b1d",
   "metadata": {},
   "outputs": [
    {
     "name": "stdout",
     "output_type": "stream",
     "text": [
      "[17, 18, 19, 20, 21]\n"
     ]
    }
   ],
   "source": [
    "x.sort()\n",
    "print(x)"
   ]
  },
  {
   "cell_type": "code",
   "execution_count": 51,
   "id": "ba59ffc3-9fcb-49ce-88ae-319af7ac84ef",
   "metadata": {},
   "outputs": [
    {
     "name": "stdout",
     "output_type": "stream",
     "text": [
      "[21, 20, 19, 18, 17]\n"
     ]
    }
   ],
   "source": [
    "x.reverse()\n",
    "print(x)"
   ]
  },
  {
   "cell_type": "markdown",
   "id": "934182a5-f6cb-4e13-b9ff-8b0600d9a5ca",
   "metadata": {},
   "source": [
    "<p style=\"padding:3px;color: #FF4D4D; \"><strong>Mutabilidad</strong></p>"
   ]
  },
  {
   "cell_type": "markdown",
   "id": "4e6e3b30-d9cd-47e1-9436-27c1ca14d72d",
   "metadata": {},
   "source": [
    "A continuación veamos un ejemplo del concepto de mutabilidad. Empezamos creando una lista"
   ]
  },
  {
   "cell_type": "code",
   "execution_count": 54,
   "id": "cdfa5891-f672-4dff-b44d-7393ac7c116b",
   "metadata": {},
   "outputs": [
    {
     "name": "stdout",
     "output_type": "stream",
     "text": [
      "['la']\n"
     ]
    }
   ],
   "source": [
    "A = ['la']\n",
    "print(A)"
   ]
  },
  {
   "cell_type": "markdown",
   "id": "8053d24c-79c3-48e5-8e45-a4a241691dc1",
   "metadata": {},
   "source": [
    "Y a continuación una nueva lista que contiene a la anterior"
   ]
  },
  {
   "cell_type": "code",
   "execution_count": 56,
   "id": "9be4b004-54c1-466b-883c-732909eea402",
   "metadata": {},
   "outputs": [
    {
     "name": "stdout",
     "output_type": "stream",
     "text": [
      "[['la'], ['la']]\n"
     ]
    }
   ],
   "source": [
    "B = [A,A]\n",
    "print(B)"
   ]
  },
  {
   "cell_type": "markdown",
   "id": "c983dd58-6ed1-4ee6-a9a9-c2f6b74d1b83",
   "metadata": {},
   "source": [
    "Asignamos la lista creada, idéntica, a una completamente nueva"
   ]
  },
  {
   "cell_type": "code",
   "execution_count": 58,
   "id": "e5642b12-37d0-4dc7-b267-ec7f5e52faff",
   "metadata": {},
   "outputs": [
    {
     "name": "stdout",
     "output_type": "stream",
     "text": [
      "[['la'], ['la']]\n"
     ]
    }
   ],
   "source": [
    "C = B\n",
    "print(C)"
   ]
  },
  {
   "cell_type": "markdown",
   "id": "e3060e54-1203-4367-89bc-5df50847055b",
   "metadata": {},
   "source": [
    "¿Qué sucede si intercambiamos un valor dentro de una de las sublistas de la segunda lista?"
   ]
  },
  {
   "cell_type": "code",
   "execution_count": 60,
   "id": "a87117d9-8a99-4f04-a3b5-6cee386128f5",
   "metadata": {},
   "outputs": [
    {
     "name": "stdout",
     "output_type": "stream",
     "text": [
      "['lo']\n",
      "[['lo'], ['lo']]\n",
      "[['lo'], ['lo']]\n"
     ]
    }
   ],
   "source": [
    "B[0][0] = 'lo'\n",
    "print(A)\n",
    "print(B)\n",
    "print(C)"
   ]
  },
  {
   "cell_type": "markdown",
   "id": "841f1537-2fbf-4dac-9826-e39a3d6a7b2c",
   "metadata": {},
   "source": [
    "Ahora generemos una nueva lista que contenga todas las anteriores"
   ]
  },
  {
   "cell_type": "code",
   "execution_count": 62,
   "id": "911905e8-3514-4dbb-824a-87ac5dd1458e",
   "metadata": {},
   "outputs": [
    {
     "name": "stdout",
     "output_type": "stream",
     "text": [
      "[['lo'], ['lo'], [['lo'], ['lo']], [['lo'], ['lo']]]\n"
     ]
    }
   ],
   "source": [
    "D = [A, A, B, C]\n",
    "print(D)"
   ]
  },
  {
   "cell_type": "markdown",
   "id": "a55086c8-6b56-46ba-9d77-b8e290f89724",
   "metadata": {},
   "source": [
    "¿Podemos deducir lo que sucederá si pasa si reemplazamos un valor de las sublistas de la copia?"
   ]
  },
  {
   "cell_type": "code",
   "execution_count": 64,
   "id": "2de24255-8588-4a7a-84e0-e668f6736542",
   "metadata": {},
   "outputs": [
    {
     "name": "stdout",
     "output_type": "stream",
     "text": [
      "['lu']\n",
      "[['lu'], ['lu']]\n",
      "[['lu'], ['lu']]\n",
      "[['lu'], ['lu'], [['lu'], ['lu']], [['lu'], ['lu']]]\n"
     ]
    }
   ],
   "source": [
    "C[0][0] = 'lu'\n",
    "print(A)\n",
    "print(B)\n",
    "print(C)\n",
    "print(D)"
   ]
  },
  {
   "cell_type": "markdown",
   "id": "21e5cf9f-cedd-458b-bf61-a961a155cb8a",
   "metadata": {},
   "source": [
    "¿Pero qué sucede si no ingreso a la sublista y remplazo el objeto completo en el índice principal?"
   ]
  },
  {
   "cell_type": "code",
   "execution_count": 66,
   "id": "cef8af5b-0022-4625-91fc-dfeb76d671f5",
   "metadata": {},
   "outputs": [
    {
     "name": "stdout",
     "output_type": "stream",
     "text": [
      "['le', 'li']\n"
     ]
    }
   ],
   "source": [
    "C[0] = 'le'\n",
    "C[1] = 'li'\n",
    "print(B)"
   ]
  },
  {
   "cell_type": "code",
   "execution_count": 67,
   "id": "1f85ac10-92af-4528-9a39-0adfdacfed5c",
   "metadata": {},
   "outputs": [
    {
     "name": "stdout",
     "output_type": "stream",
     "text": [
      "['lu']\n",
      "['le', 'li']\n",
      "['le', 'li']\n",
      "[['lu'], ['lu'], ['le', 'li'], ['le', 'li']]\n"
     ]
    }
   ],
   "source": [
    "print(A)\n",
    "print(B)\n",
    "print(C)\n",
    "print(D)"
   ]
  },
  {
   "cell_type": "markdown",
   "id": "0b88b805-6289-46a5-87dc-543a624f707b",
   "metadata": {},
   "source": [
    "## <a style=\"padding:3px;color: #FF4D4D; \"><strong>Secuencias</strong></a>"
   ]
  },
  {
   "cell_type": "markdown",
   "id": "33568db2-4813-46da-9a91-12f8dcfecd34",
   "metadata": {},
   "source": [
    "Una secuencia es una disposición ordenada de elementos, uno tras otro. \n",
    "\n",
    "Una lista es solo un ejemplo de secuencia en Python, pero tiene mucho en común con otras secuencias. Vamos a demostrar algunas de estas operaciones usando listas como ejemplo, pero hay bastantes operaciones que funcionan con casi todas las secuencias en Python."
   ]
  },
  {
   "cell_type": "markdown",
   "id": "38ad4869-91ed-4245-8c39-0009e6851a68",
   "metadata": {},
   "source": [
    "Podemos verificar si un cierto elemento existe en una lista usando la palabra clave `in`.\n",
    "\n",
    "`in` te da una respuesta a la pregunta: \"¿Este valor existe en la siguiente lista?\"\n",
    "\n",
    "El resultado será un objeto de tipo booleano, es decir, será `True` (verdadero) o `False` (falso)."
   ]
  },
  {
   "cell_type": "code",
   "execution_count": 71,
   "id": "1694440d-357a-4bbf-b549-93c391bce2df",
   "metadata": {},
   "outputs": [
    {
     "data": {
      "text/plain": [
       "[21, 20, 19, 18, 17]"
      ]
     },
     "execution_count": 71,
     "metadata": {},
     "output_type": "execute_result"
    }
   ],
   "source": [
    "x"
   ]
  },
  {
   "cell_type": "code",
   "execution_count": 72,
   "id": "1972064c-d374-49ba-8fca-e0e6fa95d4e1",
   "metadata": {},
   "outputs": [
    {
     "data": {
      "text/plain": [
       "False"
      ]
     },
     "execution_count": 72,
     "metadata": {},
     "output_type": "execute_result"
    }
   ],
   "source": [
    "3 in x"
   ]
  },
  {
   "cell_type": "code",
   "execution_count": 73,
   "id": "1b93c7ef-cbad-46f8-ab33-080e539a7bdc",
   "metadata": {},
   "outputs": [
    {
     "data": {
      "text/plain": [
       "True"
      ]
     },
     "execution_count": 73,
     "metadata": {},
     "output_type": "execute_result"
    }
   ],
   "source": [
    "17 in x"
   ]
  },
  {
   "cell_type": "code",
   "execution_count": 74,
   "id": "ab6bf6fc-18be-45e5-bca9-1d279dc4e515",
   "metadata": {},
   "outputs": [
    {
     "data": {
      "text/plain": [
       "True"
      ]
     },
     "execution_count": 74,
     "metadata": {},
     "output_type": "execute_result"
    }
   ],
   "source": [
    "3 not in x"
   ]
  },
  {
   "cell_type": "markdown",
   "id": "929146d4-55de-4d12-b7e3-697528361192",
   "metadata": {},
   "source": [
    "Otro método útil es unir dos secuencias utilizando el operador `+`."
   ]
  },
  {
   "cell_type": "code",
   "execution_count": 76,
   "id": "2106dab4-23c6-4f8c-9dc5-6236ee874397",
   "metadata": {},
   "outputs": [
    {
     "data": {
      "text/plain": [
       "[21, 20, 19, 18, 17, 16, 15, 14, 13, 12]"
      ]
     },
     "execution_count": 76,
     "metadata": {},
     "output_type": "execute_result"
    }
   ],
   "source": [
    "y = [16, 15, 14, 13, 12]\n",
    "\n",
    "z = x + y\n",
    "\n",
    "z"
   ]
  },
  {
   "cell_type": "code",
   "execution_count": 77,
   "id": "e743a4be-b7cc-42c3-af95-72f046164e81",
   "metadata": {},
   "outputs": [
    {
     "name": "stdout",
     "output_type": "stream",
     "text": [
      "[21, 20, 19, 18, 17]\n",
      "[16, 15, 14, 13, 12]\n"
     ]
    }
   ],
   "source": [
    "print(x)\n",
    "print(y)"
   ]
  },
  {
   "cell_type": "markdown",
   "id": "c3e4b990-9dc5-484d-8aa6-d767e79c73a5",
   "metadata": {},
   "source": [
    "Ahora tenemos una lista completamente nueva. Es importante notar que nuestras listas originales siguen ahí y no han cambiado.\n",
    "\n",
    "Esto significa que el operador `+` en listas no modifica los objetos originales, sino que crea uno nuevo con los elementos combinados. Esta es una característica útil cuando quieres conservar los datos originales intactos."
   ]
  },
  {
   "cell_type": "markdown",
   "id": "67883997-be09-4228-b1c6-ad46b25e888f",
   "metadata": {},
   "source": [
    "<p style=\"padding:3px;color: #FF4D4D; \"><strong>Índices y Slices</strong></p>"
   ]
  },
  {
   "cell_type": "markdown",
   "id": "4efe53e6-0fbb-481f-872c-b3b60ccf87c7",
   "metadata": {},
   "source": [
    "Ya hemos visto con las listas y las cadenas que podemos usar corchetes [] para extraer elementos individuales de una lista o porciones completas (slices). El formato es el siguiente:\n",
    "\n",
    "- `secuencia[índice]` Para obtener un solo elemento.\n",
    "- `secuencia[inicio:fin:paso]` para obtener una porción (slice) desde la posición de inicio hasta la posición de fin (sin incluir esta última), utilizando el paso indicado.\n",
    "  \n",
    "Hacer un slice de una lista siempre crea una nueva lista. Es decir, no modifica la secuencia original."
   ]
  },
  {
   "cell_type": "code",
   "execution_count": 81,
   "id": "3648e44e-0116-4764-b8d6-c50c52482a71",
   "metadata": {},
   "outputs": [
    {
     "data": {
      "text/plain": [
       "[21, 20, 19, 18, 17, 16, 15, 14, 13, 12]"
      ]
     },
     "execution_count": 81,
     "metadata": {},
     "output_type": "execute_result"
    }
   ],
   "source": [
    "z"
   ]
  },
  {
   "cell_type": "code",
   "execution_count": 82,
   "id": "89f388a5-b872-40f5-b900-bda0e7ab0252",
   "metadata": {},
   "outputs": [
    {
     "data": {
      "text/plain": [
       "21"
      ]
     },
     "execution_count": 82,
     "metadata": {},
     "output_type": "execute_result"
    }
   ],
   "source": [
    "# Extraer usando un índice\n",
    "z[0]"
   ]
  },
  {
   "cell_type": "code",
   "execution_count": 83,
   "id": "bd1084c9-e762-435b-a216-ab00451d79f7",
   "metadata": {},
   "outputs": [
    {
     "data": {
      "text/plain": [
       "[20, 17, 14]"
      ]
     },
     "execution_count": 83,
     "metadata": {},
     "output_type": "execute_result"
    }
   ],
   "source": [
    "# Usando slice\n",
    "z[1::3]"
   ]
  },
  {
   "cell_type": "markdown",
   "id": "2c8f4d25-242a-4f5a-9f77-2478b7cf9227",
   "metadata": {},
   "source": [
    "Tres operaciones útiles adicionales son:\n",
    "\n",
    "- El número de elementos `len()`.\n",
    "- El valor mínimo `min()`.\n",
    "- El valor máximo `max()`."
   ]
  },
  {
   "cell_type": "code",
   "execution_count": 85,
   "id": "227eccbf-4dd4-4e32-9086-4349eec9f2d1",
   "metadata": {},
   "outputs": [
    {
     "data": {
      "text/plain": [
       "10"
      ]
     },
     "execution_count": 85,
     "metadata": {},
     "output_type": "execute_result"
    }
   ],
   "source": [
    "# Número de elementos\n",
    "len(z)"
   ]
  },
  {
   "cell_type": "code",
   "execution_count": 86,
   "id": "d3fff7bc-bfdd-49e5-96f8-af869c79ef38",
   "metadata": {},
   "outputs": [
    {
     "data": {
      "text/plain": [
       "12"
      ]
     },
     "execution_count": 86,
     "metadata": {},
     "output_type": "execute_result"
    }
   ],
   "source": [
    "# Valor mínimo\n",
    "min(z)"
   ]
  },
  {
   "cell_type": "code",
   "execution_count": 87,
   "id": "ffec0b8b-d4e7-43a3-bd0a-a604ba744092",
   "metadata": {},
   "outputs": [
    {
     "data": {
      "text/plain": [
       "21"
      ]
     },
     "execution_count": 87,
     "metadata": {},
     "output_type": "execute_result"
    }
   ],
   "source": [
    "# Valor Máximo\n",
    "max(z)"
   ]
  },
  {
   "cell_type": "markdown",
   "id": "3cb5122a-7aa5-4354-8c2d-96a352cd11bb",
   "metadata": {},
   "source": [
    "Para las últimas dos funciones los elementos de la lista deben ser del mismo tipo y comparables entre sí."
   ]
  },
  {
   "cell_type": "markdown",
   "id": "6e9a2f55-0fbd-4394-b9e3-df7f204d85b6",
   "metadata": {},
   "source": [
    "También podemos buscar un elemento dentro de una lista para saber en qué posición se encuentra. Para ello, usamos el método `index()`."
   ]
  },
  {
   "cell_type": "code",
   "execution_count": 90,
   "id": "fe661133-f5cd-4f6e-b68f-8873e4a5fc10",
   "metadata": {},
   "outputs": [
    {
     "data": {
      "text/plain": [
       "1"
      ]
     },
     "execution_count": 90,
     "metadata": {},
     "output_type": "execute_result"
    }
   ],
   "source": [
    "mi_lista = ['a', 'b', 'c', 'b', 'd', 'x', 'b', 'z']\n",
    "mi_lista.index('b')"
   ]
  },
  {
   "cell_type": "markdown",
   "id": "7cee84e9-49a1-4b99-bf80-01ede8039337",
   "metadata": {},
   "source": [
    "Sin embargo, este método devuelve el índice del primer elemento en la lista que coincide con lo que estamos buscando.\n",
    "\n",
    "Una vez que encontramos un valor, podríamos querer encontrar la siguiente ocurrencia. Podemos hacerlo usando los argumentos **opcionales** `start` y `stop` del método `index()`.\n",
    "\n",
    "Esto le indica a Python que comience a buscar a partir de cierto índice y se detenga antes de otro índice (sin incluirlo), igual que en un slice."
   ]
  },
  {
   "cell_type": "code",
   "execution_count": 92,
   "id": "68734a11-b5e8-4e2a-b312-1d97383b5c56",
   "metadata": {},
   "outputs": [
    {
     "data": {
      "text/plain": [
       "6"
      ]
     },
     "execution_count": 92,
     "metadata": {},
     "output_type": "execute_result"
    }
   ],
   "source": [
    "# Obtendrá el índice en que se encuentra 'b' después de la posición 4 y ANTES de la posición 7\n",
    "mi_lista.index('b',4, 8)"
   ]
  },
  {
   "cell_type": "code",
   "execution_count": 93,
   "id": "392e0a34-8451-4406-9795-4cf9004d55a4",
   "metadata": {},
   "outputs": [],
   "source": [
    "# ¿Qué pasaría si ponemos el fin en el índice 6?\n",
    "# mi_lista.index('b', 4, 6)"
   ]
  },
  {
   "cell_type": "markdown",
   "id": "bc328db8-c452-485b-b426-e7b262522bde",
   "metadata": {},
   "source": [
    "Ahora también podemos obtener la cantidad de veces que un valor aparece en una lista usando el método `count()`.\n",
    "\n",
    "Solo necesitamos pasar como argumento el valor que queremos contar:"
   ]
  },
  {
   "cell_type": "code",
   "execution_count": 95,
   "id": "3f29755f-3987-4090-9def-56f035c72aa6",
   "metadata": {},
   "outputs": [
    {
     "data": {
      "text/plain": [
       "3"
      ]
     },
     "execution_count": 95,
     "metadata": {},
     "output_type": "execute_result"
    }
   ],
   "source": [
    "mi_lista.count('b')"
   ]
  },
  {
   "cell_type": "markdown",
   "id": "c8d5b62a-14a2-447d-8d3d-8b69b17393a7",
   "metadata": {},
   "source": [
    "Recuerda que, con unas pocas excepciones, todas las operaciones que hemos mencionado hasta ahora funcionan en todas las secuencias de Python."
   ]
  },
  {
   "cell_type": "code",
   "execution_count": 97,
   "id": "70398941-78ee-408c-9404-a43b0b3f8ee8",
   "metadata": {},
   "outputs": [
    {
     "data": {
      "text/plain": [
       "4"
      ]
     },
     "execution_count": 97,
     "metadata": {},
     "output_type": "execute_result"
    }
   ],
   "source": [
    "\"Esternocleidomastoideo\".count('o')"
   ]
  },
  {
   "cell_type": "markdown",
   "id": "9a29100e-69a8-4d65-9775-2d1c06181205",
   "metadata": {},
   "source": [
    "## <a style=\"padding:3px;color: #FF4D4D; \"><strong>Tuplas</strong></a>"
   ]
  },
  {
   "cell_type": "markdown",
   "id": "83b949eb-bfd6-42dc-add7-247e1c0b7ae5",
   "metadata": {},
   "source": [
    "Hemos visto que las listas son objetos mutables, y esta capacidad de cambiar su contenido las convierte en una herramienta extremadamente útil. \n",
    "\n",
    "Pero qué pasa si no deseamos ese comportamiento. Las tuplas son las primas inmutables de las listas; una vez que las creamos, no podemos volver atrás y modificarlas.\n",
    "\n",
    "Podemos distinguir una tupla de una lista porque una tupla está rodeada por paréntesis `()` en lugar de corchetes `[]`."
   ]
  },
  {
   "cell_type": "code",
   "execution_count": 100,
   "id": "abc9ac43-4c3a-4a5c-9917-ee2661684268",
   "metadata": {},
   "outputs": [],
   "source": [
    "t = (7,8,9,10,11)"
   ]
  },
  {
   "cell_type": "markdown",
   "id": "329ef729-9fcc-44fc-9d5b-9595ccb72b81",
   "metadata": {},
   "source": [
    "Una tupla también es una secuencia, por lo que podemos usar todos los métodos generales de secuencias con este tipo de objeto también"
   ]
  },
  {
   "cell_type": "code",
   "execution_count": 102,
   "id": "5bc7c515-e1f2-4994-abc0-8c3330e47940",
   "metadata": {},
   "outputs": [
    {
     "data": {
      "text/plain": [
       "11"
      ]
     },
     "execution_count": 102,
     "metadata": {},
     "output_type": "execute_result"
    }
   ],
   "source": [
    "max(t)"
   ]
  },
  {
   "cell_type": "code",
   "execution_count": 103,
   "id": "ee3fd191-7622-443d-afe2-8a555a5c35c5",
   "metadata": {},
   "outputs": [
    {
     "data": {
      "text/plain": [
       "7"
      ]
     },
     "execution_count": 103,
     "metadata": {},
     "output_type": "execute_result"
    }
   ],
   "source": [
    "t[0]"
   ]
  },
  {
   "cell_type": "code",
   "execution_count": 104,
   "id": "86e1f1d7-e0c8-4446-9b16-f125f19205a2",
   "metadata": {},
   "outputs": [
    {
     "data": {
      "text/plain": [
       "(7, 9, 11)"
      ]
     },
     "execution_count": 104,
     "metadata": {},
     "output_type": "execute_result"
    }
   ],
   "source": [
    "t[::2]"
   ]
  },
  {
   "cell_type": "markdown",
   "id": "c14d13b0-cd09-40ae-adbd-b8dfb9ade37b",
   "metadata": {},
   "source": [
    "Puede observarse que esa última línea devolvió una nueva tupla en lugar de una lista.\n",
    "\n",
    "Podemos concatenar tuplas usando el operador `+`, pero esto no cambia las tuplas originales. "
   ]
  },
  {
   "cell_type": "code",
   "execution_count": 106,
   "id": "0a3f5d78-d189-4875-8909-7be0bef21dcf",
   "metadata": {},
   "outputs": [
    {
     "data": {
      "text/plain": [
       "(7, 8, 9, 10, 11, 500, 600, 700)"
      ]
     },
     "execution_count": 106,
     "metadata": {},
     "output_type": "execute_result"
    }
   ],
   "source": [
    "t + (500,600,700)"
   ]
  },
  {
   "cell_type": "code",
   "execution_count": 107,
   "id": "893e7388-7a95-4197-b049-a79e27f5e4a4",
   "metadata": {},
   "outputs": [
    {
     "name": "stdout",
     "output_type": "stream",
     "text": [
      "(7, 8, 9, 10, 11)\n"
     ]
    }
   ],
   "source": [
    "print(t)"
   ]
  },
  {
   "cell_type": "markdown",
   "id": "2bae6a07-c338-4f58-b05b-6f084fae766a",
   "metadata": {},
   "source": [
    "Incluso si asignamos un nuevo valor a la **variable** `t`, en realidad se crea un nuevo objeto tupla que se está asignando a nuestra variable."
   ]
  },
  {
   "cell_type": "code",
   "execution_count": 109,
   "id": "67a3b91c-383f-403b-b67a-039679f27fe8",
   "metadata": {},
   "outputs": [],
   "source": [
    "t = t + t[::2]"
   ]
  },
  {
   "cell_type": "markdown",
   "id": "e4403530-19bc-440f-bd61-e712351e999e",
   "metadata": {},
   "source": [
    "Puedes crear una tupla a partir de una lista utilizando el constructor `tuple()`. Por ejemplo:"
   ]
  },
  {
   "cell_type": "code",
   "execution_count": 111,
   "id": "492202da-859f-4a38-9888-958960337347",
   "metadata": {},
   "outputs": [],
   "source": [
    "milista = ['b','a','c']"
   ]
  },
  {
   "cell_type": "code",
   "execution_count": 112,
   "id": "53775660-2f8c-4b65-b639-ecaedfb35841",
   "metadata": {},
   "outputs": [
    {
     "data": {
      "text/plain": [
       "('b', 'a', 'c')"
      ]
     },
     "execution_count": 112,
     "metadata": {},
     "output_type": "execute_result"
    }
   ],
   "source": [
    "mitupla = tuple(milista)\n",
    "mitupla"
   ]
  },
  {
   "cell_type": "markdown",
   "id": "194d963c-2146-4235-a156-53ce3bdc36b0",
   "metadata": {},
   "source": [
    "También podemos realizar lo opuesto"
   ]
  },
  {
   "cell_type": "code",
   "execution_count": 114,
   "id": "a6d8c99e-e0f5-48ff-a4ca-5416d41d47cc",
   "metadata": {},
   "outputs": [
    {
     "data": {
      "text/plain": [
       "[7, 8, 9, 10, 11, 7, 9, 11]"
      ]
     },
     "execution_count": 114,
     "metadata": {},
     "output_type": "execute_result"
    }
   ],
   "source": [
    "list(t)"
   ]
  },
  {
   "cell_type": "markdown",
   "id": "03586ce7-a4e9-4f2d-83c3-c54e07f652bd",
   "metadata": {},
   "source": [
    "Esto funciona porque Python normalmente facilita la conversión entre un tipo de secuencia y otro.\n",
    "\n",
    "Podemos realizar también las operaciones usuales de secuencias sobre las tuplas."
   ]
  },
  {
   "cell_type": "code",
   "execution_count": 116,
   "id": "2dd35e9b-27ac-4cf1-b77d-789e9343e71d",
   "metadata": {},
   "outputs": [
    {
     "data": {
      "text/plain": [
       "3"
      ]
     },
     "execution_count": 116,
     "metadata": {},
     "output_type": "execute_result"
    }
   ],
   "source": [
    "len(mitupla)"
   ]
  },
  {
   "cell_type": "code",
   "execution_count": 117,
   "id": "7e258dbd-6976-4c20-9414-6797e98d4322",
   "metadata": {},
   "outputs": [
    {
     "data": {
      "text/plain": [
       "'a'"
      ]
     },
     "execution_count": 117,
     "metadata": {},
     "output_type": "execute_result"
    }
   ],
   "source": [
    "min(mitupla)"
   ]
  },
  {
   "cell_type": "code",
   "execution_count": 118,
   "id": "c574bb0e-6e36-4124-af3a-3ce228c9076e",
   "metadata": {},
   "outputs": [
    {
     "data": {
      "text/plain": [
       "'c'"
      ]
     },
     "execution_count": 118,
     "metadata": {},
     "output_type": "execute_result"
    }
   ],
   "source": [
    "max(mitupla)"
   ]
  },
  {
   "cell_type": "markdown",
   "id": "1efb356e-80fc-4918-9572-871f89c95234",
   "metadata": {},
   "source": [
    "Las listas suelen usarse con más frecuencia, pues la mutabilidad puede ser una gran ventaja pero hay momentos en los que son necesarias las estructuras inmutables. Por ejemplo, las claves de un diccionario deben ser objetos inmutables.\n",
    "\n",
    "También ofrecen una forma elegante de asignar valores a múltiples variables de manera simultánea."
   ]
  },
  {
   "cell_type": "markdown",
   "id": "52420f77-c828-4f8a-96e3-799cb1e87b74",
   "metadata": {},
   "source": [
    "<p style=\"padding:3px;color: #FF4D4D; \"><strong>(In)mutabilidad</strong></p>"
   ]
  },
  {
   "cell_type": "markdown",
   "id": "9289895c-2ecc-40b0-b4c5-4402159dceff",
   "metadata": {},
   "source": [
    "¿Qué sucede si intentamos asignar un nuevo valor a un objeto inmutable? Hagamos un ejercicio similar al de mutabilidad, pero esta vez con tuplas"
   ]
  },
  {
   "cell_type": "code",
   "execution_count": 122,
   "id": "f2cf4df2-7140-480b-8586-d3fcc8954905",
   "metadata": {},
   "outputs": [
    {
     "name": "stdout",
     "output_type": "stream",
     "text": [
      "('la', 'la')\n"
     ]
    }
   ],
   "source": [
    "A = ('la','la')\n",
    "print(A)"
   ]
  },
  {
   "cell_type": "code",
   "execution_count": 123,
   "id": "9800f877-0fef-4416-83a9-5e9cee025caa",
   "metadata": {},
   "outputs": [
    {
     "name": "stdout",
     "output_type": "stream",
     "text": [
      "[('la', 'la'), ('la', 'la')]\n"
     ]
    }
   ],
   "source": [
    "B = [A,A]\n",
    "print(B)"
   ]
  },
  {
   "cell_type": "code",
   "execution_count": 124,
   "id": "c957a8bc-c768-4f1f-bd40-6ba4f7de4778",
   "metadata": {},
   "outputs": [],
   "source": [
    "# B[0][0] = 'lo'"
   ]
  },
  {
   "cell_type": "markdown",
   "id": "f73dea83-bf2c-412b-8087-39df47e68ba1",
   "metadata": {},
   "source": [
    "## <a style=\"padding:3px;color: #FF4D4D; \"><strong>Rangos</strong></a>"
   ]
  },
  {
   "cell_type": "markdown",
   "id": "be14641a-68b6-4880-a422-41d15d09df13",
   "metadata": {},
   "source": [
    "Supongamos que queremos listar los números del 0 al 9 en orden. Hay muchas razones por las que podríamos necesitar hacer esto: tal vez queremos numerar observaciones en un conjunto de datos, sumarlas, o repetir una acción 10 veces y llevar la cuenta de cuántas veces lo hemos hecho.\n",
    "\n",
    "El objeto `range` nos permite generar secuencias de números enteros de forma sencilla y eficiente. Por ejemplo:"
   ]
  },
  {
   "cell_type": "code",
   "execution_count": 127,
   "id": "4f17ed3b-a2f7-4570-a962-1fe978b4e140",
   "metadata": {},
   "outputs": [
    {
     "name": "stdout",
     "output_type": "stream",
     "text": [
      "[21, 20, 19, 18, 17]\n"
     ]
    }
   ],
   "source": [
    "r = range(10)\n",
    "print(x)"
   ]
  },
  {
   "cell_type": "markdown",
   "id": "9eb9d0e5-bb78-409d-b83d-e10ba192cbc1",
   "metadata": {},
   "source": [
    "¿Qué sucede si lo convertimos en otro tipo de secuencia?"
   ]
  },
  {
   "cell_type": "code",
   "execution_count": 129,
   "id": "9a814152-9626-4330-b82c-442a7112d646",
   "metadata": {},
   "outputs": [
    {
     "data": {
      "text/plain": [
       "[0, 1, 2, 3, 4, 5, 6, 7, 8, 9]"
      ]
     },
     "execution_count": 129,
     "metadata": {},
     "output_type": "execute_result"
    }
   ],
   "source": [
    "list(r)"
   ]
  },
  {
   "cell_type": "code",
   "execution_count": 130,
   "id": "41981b58-e4ed-43e1-a23c-39915380f6e6",
   "metadata": {},
   "outputs": [
    {
     "data": {
      "text/plain": [
       "(0, 1, 2, 3, 4, 5, 6, 7, 8, 9)"
      ]
     },
     "execution_count": 130,
     "metadata": {},
     "output_type": "execute_result"
    }
   ],
   "source": [
    "tuple(r)"
   ]
  },
  {
   "cell_type": "markdown",
   "id": "483a19d2-f516-4ced-aab7-099b240e2c32",
   "metadata": {},
   "source": [
    "Los rangos no tienen que empezar en 0; pueden tener un valor de inicio, fin y paso (step). Estos parámetros son muy útiles y es bueno practicar con ellos.\n",
    "\n",
    "La sintaxis general es:\n",
    "\n",
    "`range(inicio, fin, paso)`"
   ]
  },
  {
   "cell_type": "code",
   "execution_count": 132,
   "id": "92baf29c-0b93-4602-9a48-c9c83b0b4623",
   "metadata": {},
   "outputs": [
    {
     "data": {
      "text/plain": [
       "range(2, 10, 2)"
      ]
     },
     "execution_count": 132,
     "metadata": {},
     "output_type": "execute_result"
    }
   ],
   "source": [
    "i = 2\n",
    "f = 10\n",
    "p = 2\n",
    "\n",
    "range(i, f, p)"
   ]
  },
  {
   "cell_type": "code",
   "execution_count": 133,
   "id": "a8e41f4b-43a1-4052-9a9b-0e4f33b21352",
   "metadata": {},
   "outputs": [
    {
     "data": {
      "text/plain": [
       "[2, 4, 6, 8]"
      ]
     },
     "execution_count": 133,
     "metadata": {},
     "output_type": "execute_result"
    }
   ],
   "source": [
    "list(range(i, f, p))"
   ]
  },
  {
   "cell_type": "code",
   "execution_count": 134,
   "id": "5940119b-6691-48bc-8bd6-6fa0e0fe1789",
   "metadata": {},
   "outputs": [
    {
     "data": {
      "text/plain": [
       "[2, 7]"
      ]
     },
     "execution_count": 134,
     "metadata": {},
     "output_type": "execute_result"
    }
   ],
   "source": [
    "p = 5\n",
    "list(range(i, f, p))"
   ]
  },
  {
   "cell_type": "code",
   "execution_count": 135,
   "id": "5894a9a7-9729-487c-9b80-bd643cc68708",
   "metadata": {},
   "outputs": [
    {
     "data": {
      "text/plain": [
       "[0, 10, 20, 30, 40, 50, 60, 70, 80, 90]"
      ]
     },
     "execution_count": 135,
     "metadata": {},
     "output_type": "execute_result"
    }
   ],
   "source": [
    "i = 0\n",
    "f = 100\n",
    "p = 10\n",
    "list(range(i, f, p))"
   ]
  },
  {
   "cell_type": "markdown",
   "id": "6e6ad27a-57ed-46a4-8bbc-19de7c158f62",
   "metadata": {},
   "source": [
    "Recuerda que el valor de `fin` es excluyente; esto significa que el rango no incluye el número de `fin`, pero sí incluye el número de `inicio`.\n",
    "\n",
    "En el ejemplo anterior, si realmente quisiéramos los números del 0 al 100 en pasos de 10, necesitaríamos incrementar el valor de `fin` de modo que alcance al menos el 101."
   ]
  },
  {
   "cell_type": "code",
   "execution_count": 137,
   "id": "b698e2b5-8abd-4837-aea3-a3a32044c5b5",
   "metadata": {},
   "outputs": [
    {
     "data": {
      "text/plain": [
       "[0, 10, 20, 30, 40, 50, 60, 70, 80, 90, 100]"
      ]
     },
     "execution_count": 137,
     "metadata": {},
     "output_type": "execute_result"
    }
   ],
   "source": [
    "f +=1\n",
    "list(range(i, f, p))"
   ]
  },
  {
   "cell_type": "markdown",
   "id": "9062c434-b457-411e-8ff4-c82bb2aff3f0",
   "metadata": {},
   "source": [
    "¿Qué sucede si ingresamos pasos negativos?"
   ]
  },
  {
   "cell_type": "code",
   "execution_count": 139,
   "id": "25efc441-5a00-45a4-bd01-856c5de6c5f0",
   "metadata": {},
   "outputs": [
    {
     "data": {
      "text/plain": [
       "range(10, 0, -1)"
      ]
     },
     "execution_count": 139,
     "metadata": {},
     "output_type": "execute_result"
    }
   ],
   "source": [
    "i = 10\n",
    "f = 0\n",
    "p = -1\n",
    "range(10, 0, -1)"
   ]
  },
  {
   "cell_type": "code",
   "execution_count": 140,
   "id": "5d76bbf0-a788-4f37-9b63-b7f4581235c7",
   "metadata": {},
   "outputs": [
    {
     "data": {
      "text/plain": [
       "(10, 9, 8, 7, 6, 5, 4, 3, 2, 1)"
      ]
     },
     "execution_count": 140,
     "metadata": {},
     "output_type": "execute_result"
    }
   ],
   "source": [
    "tuple(range(i, f, p))"
   ]
  },
  {
   "cell_type": "markdown",
   "id": "69b9777d-2dac-443d-88f3-c95d736e7d98",
   "metadata": {},
   "source": [
    "Los rangos son secuencias eficientes y flexibles que pueden usarse de manera similar a otras secuencias en Python."
   ]
  },
  {
   "cell_type": "code",
   "execution_count": 142,
   "id": "aad785e9-19e8-4279-acc2-4eac6b5550da",
   "metadata": {},
   "outputs": [
    {
     "name": "stdout",
     "output_type": "stream",
     "text": [
      "True\n",
      "2\n",
      "False\n"
     ]
    }
   ],
   "source": [
    "print(7 in r)\n",
    "print(r.index(2))\n",
    "print(15 in r)"
   ]
  },
  {
   "cell_type": "markdown",
   "id": "2c077bad-60cc-4a89-98c7-1e34e1436f12",
   "metadata": {},
   "source": [
    "Pueden parecer un poco extraños al principio, pero aparecerán con frecuencia en el futuro. A medida que aprendamos más sobre control de flujo, veremos todo el potencial de los rangos, especialmente cuando los usemos en bucles como for, ya que son una forma útil de recorrer sobre los valores que queremos iterar"
   ]
  }
 ],
 "metadata": {
  "kernelspec": {
   "display_name": "Python [conda env:base] *",
   "language": "python",
   "name": "conda-base-py"
  },
  "language_info": {
   "codemirror_mode": {
    "name": "ipython",
    "version": 3
   },
   "file_extension": ".py",
   "mimetype": "text/x-python",
   "name": "python",
   "nbconvert_exporter": "python",
   "pygments_lexer": "ipython3",
   "version": "3.11.5"
  }
 },
 "nbformat": 4,
 "nbformat_minor": 5
}
