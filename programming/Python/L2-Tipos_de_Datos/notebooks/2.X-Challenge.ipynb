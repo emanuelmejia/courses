{
 "cells": [
  {
   "cell_type": "markdown",
   "id": "805d0dae-e622-4d1a-9091-a38fbb377ee6",
   "metadata": {},
   "source": [
    "### Reto 1:\n",
    "\n",
    "¿Qué le falta a esta función de terminal para correr adecuadamente?"
   ]
  },
  {
   "cell_type": "code",
   "execution_count": null,
   "id": "7089cfa5-59ab-4744-b7c3-5e36d3b2d797",
   "metadata": {},
   "outputs": [],
   "source": [
    "whoami"
   ]
  },
  {
   "cell_type": "markdown",
   "id": "61854063-45e6-4131-bbd0-a1b06494ae01",
   "metadata": {},
   "source": [
    "### Reto 2:\n",
    "\n",
    "Utiliza constructores en los siguientes objetos de forma que al final arroje un resultado tipo **int** igual a 11"
   ]
  },
  {
   "cell_type": "code",
   "execution_count": null,
   "id": "3a83230c-e964-43df-88ef-c57181c4a05f",
   "metadata": {},
   "outputs": [],
   "source": [
    "True + \"10.0\""
   ]
  },
  {
   "cell_type": "markdown",
   "id": "788b2a0e-cdcc-42c6-82bc-2831412354fd",
   "metadata": {},
   "source": [
    "### Reto 3:\n",
    "\n",
    "Utiliza un slice en la siguiente cadena, de tal manera que se incluya desde el caracter 4 `'a'` hasta el caracter 11 `'l'`, pero utilizando un paso que invierta el orden de atrás hacia adelante."
   ]
  },
  {
   "cell_type": "code",
   "execution_count": null,
   "id": "14870ec1-be4d-4e42-b054-92651650e0fa",
   "metadata": {},
   "outputs": [],
   "source": [
    "# El resultado debe ser \"l aval a\"\n",
    "mus = \"Anita lava la tina \""
   ]
  },
  {
   "cell_type": "markdown",
   "id": "5f7b69a3-0ea5-4ea8-949d-101921c96bf2",
   "metadata": {},
   "source": [
    "### Reto 4:\n",
    "\n",
    "Utilizando la siguiente lista de palabras, crea una NUEVA lista (llámala `Y`), sin alterar `X`m que incluya la cadena `'s'` como último elemento"
   ]
  },
  {
   "cell_type": "code",
   "execution_count": null,
   "id": "26646953-2d2e-40e9-af47-aa4f16a93e04",
   "metadata": {},
   "outputs": [],
   "source": [
    "X = list('salchicha')\n",
    "X"
   ]
  },
  {
   "cell_type": "code",
   "execution_count": null,
   "id": "df3ac845-3e31-4967-98bd-7a1d9f6170f7",
   "metadata": {},
   "outputs": [],
   "source": [
    "Y = # tu código aquí\n",
    "# X debe contener ['s', 'a', 'l', 'c', 'h', 'i', 'c', 'h', 'a']\n",
    "# Y debe contener ['s', 'a', 'l', 'c', 'h', 'i', 'c', 'h', 'a', 's']"
   ]
  },
  {
   "cell_type": "markdown",
   "id": "0cf61b3c-7c8e-4b4f-be81-ba6d00de1d93",
   "metadata": {},
   "source": [
    "Ahora, muestra cómo ingresarías ese mismo caracter `'s'` de manera que sí se altere en `X`."
   ]
  },
  {
   "cell_type": "code",
   "execution_count": null,
   "id": "12bdf219-af00-4543-b277-99db75091c4e",
   "metadata": {},
   "outputs": [],
   "source": [
    "# Tu código aquí\n",
    "# X debe contener ['s', 'a', 'l', 'c', 'h', 'i', 'c', 'h', 'a', 's']"
   ]
  },
  {
   "cell_type": "markdown",
   "id": "c533b4ae-498b-4633-bc49-30308d3bd0cd",
   "metadata": {},
   "source": [
    "Ahora muestra cómo borrarías elementos de la lista, alterando `X` de tal manera que únicamente queden los primeros 6 caracteres (índices del 0 al 5)"
   ]
  },
  {
   "cell_type": "code",
   "execution_count": null,
   "id": "60a3ed75-b9be-4497-84d1-399385d94d74",
   "metadata": {},
   "outputs": [],
   "source": [
    "# Tu código aquí\n",
    "# X debe contener ['s', 'a', 'l', 'c', 'h', 'i']"
   ]
  },
  {
   "cell_type": "markdown",
   "id": "04f43910-c0dd-45ef-aa67-de0c2d3a253c",
   "metadata": {},
   "source": [
    "Debajo tenemos la lista `Z`. Muestra cómo agregarías los ítems de `Z` al final de `X` (alterando únicamente `X`)"
   ]
  },
  {
   "cell_type": "code",
   "execution_count": null,
   "id": "7a1f4e8f-b946-45b3-8750-1c9559719381",
   "metadata": {},
   "outputs": [],
   "source": [
    "Z = list('pulpo')\n",
    "Z"
   ]
  },
  {
   "cell_type": "code",
   "execution_count": null,
   "id": "6986f980-bb7d-48cc-9546-507ad4a65ec4",
   "metadata": {},
   "outputs": [],
   "source": [
    "# Tu código aquí\n",
    "# X debe contener ['s', 'a', 'l', 'c', 'h', 'i', 'p', 'u', 'l', 'p', 'o']\n",
    "# Z debe contener ['p', 'u', 'l', 'p', 'o']"
   ]
  },
  {
   "cell_type": "markdown",
   "id": "b55fbcb2-b356-40c5-b470-840e1f584130",
   "metadata": {},
   "source": [
    "Calcula el número de elementos que contiene la lista `X` y el número de veces que aparece el caracter `p`."
   ]
  },
  {
   "cell_type": "code",
   "execution_count": null,
   "id": "33cc7db4-1551-468a-b733-77facbbd8365",
   "metadata": {},
   "outputs": [],
   "source": [
    "# Tu código aquí"
   ]
  },
  {
   "cell_type": "markdown",
   "id": "d06da753-fca3-4eb5-8b46-0678e262a97d",
   "metadata": {},
   "source": [
    "### Reto 5:\n",
    "\n",
    "Crea una tupla a partir de la lista `X` del ejercicio anterior. Guárdala en la variable `Y` (sobreescribiendo la variable `Y` del ejercicio anterior)."
   ]
  },
  {
   "cell_type": "code",
   "execution_count": null,
   "id": "6458a8fd-88e5-43a0-b38d-eb8ba17db437",
   "metadata": {},
   "outputs": [],
   "source": [
    "Y = # Tu código aquí"
   ]
  },
  {
   "cell_type": "markdown",
   "id": "c0229760-5b79-46ec-8d7f-f5bf5b1cd9a5",
   "metadata": {},
   "source": [
    "Usa un slice en `Y` que obtenga una tupla con las letras `'l', 'u', 'p', 'i'` en ese orden"
   ]
  },
  {
   "cell_type": "code",
   "execution_count": null,
   "id": "f76ed87b-3477-4d1c-9daa-e8616ea84d68",
   "metadata": {},
   "outputs": [],
   "source": [
    "# Tu código aquí"
   ]
  },
  {
   "cell_type": "markdown",
   "id": "3946a607-462b-4edb-9077-21c5be5463d2",
   "metadata": {},
   "source": [
    "### Reto 6:\n",
    "\n",
    "Crea un rango que incluya los números 7, 17, 27, 37, 47, 57"
   ]
  },
  {
   "cell_type": "code",
   "execution_count": null,
   "id": "44c40815-4536-4079-8dca-00cafe4384ce",
   "metadata": {},
   "outputs": [],
   "source": [
    "# Tu código aquí"
   ]
  },
  {
   "cell_type": "markdown",
   "id": "95c35f5c-aa8d-4075-a96f-fe8a90ae467b",
   "metadata": {},
   "source": [
    "Realiza las siguientes verificaciones:\n",
    "- Número de elementos\n",
    "- Posición en la que se encuentra el número 27\n",
    "- ¿Incluye al número 67?"
   ]
  },
  {
   "cell_type": "code",
   "execution_count": null,
   "id": "7024c9ea-07c5-483c-a009-3778fa11ffbc",
   "metadata": {},
   "outputs": [],
   "source": [
    "# Tu código aquí"
   ]
  },
  {
   "cell_type": "markdown",
   "id": "45926960-6c47-40ef-8c5f-0be6b44b79e1",
   "metadata": {},
   "source": [
    "### Reto 7:\n",
    "\n",
    "Crea un diccionario llamado `par` que utilice las llaves 1, 2, 3 y 4 cuyos valores sea una de las cadenas: 'par' o 'non' dependiendo del caso \n",
    "\n",
    "Es decir, la llave 3 tendrá como único valor la cadena 'non': `3: 'non'`"
   ]
  },
  {
   "cell_type": "code",
   "execution_count": null,
   "id": "ac1ff721-9b46-4d02-b45a-c72873e8e120",
   "metadata": {},
   "outputs": [],
   "source": [
    "par = # Tu código aquí"
   ]
  },
  {
   "cell_type": "markdown",
   "id": "756b9586-40ed-4eea-9cad-1da9684bd182",
   "metadata": {},
   "source": [
    "¿Cómo utilizarías tu diccionario para verificar la paridad de la `x` definida abajo."
   ]
  },
  {
   "cell_type": "code",
   "execution_count": null,
   "id": "29b90298-c66f-47ab-a364-b249978382bf",
   "metadata": {},
   "outputs": [],
   "source": [
    "x = 3//2"
   ]
  },
  {
   "cell_type": "code",
   "execution_count": null,
   "id": "0c8d403d-cb64-4f12-9498-e006ded99163",
   "metadata": {},
   "outputs": [],
   "source": [
    "# Tu código aquí"
   ]
  },
  {
   "cell_type": "markdown",
   "id": "d44a8600-a85e-4541-996d-8e0b0a217bfd",
   "metadata": {},
   "source": [
    "¿Cómo revisarías si la llave 5 existe en tu diccionario?"
   ]
  },
  {
   "cell_type": "code",
   "execution_count": null,
   "id": "609f9622-6b4b-43dc-b1fb-a45624ca74f9",
   "metadata": {},
   "outputs": [],
   "source": [
    "# Tu código aquí"
   ]
  }
 ],
 "metadata": {
  "kernelspec": {
   "display_name": "Python [conda env:base] *",
   "language": "python",
   "name": "conda-base-py"
  },
  "language_info": {
   "codemirror_mode": {
    "name": "ipython",
    "version": 3
   },
   "file_extension": ".py",
   "mimetype": "text/x-python",
   "name": "python",
   "nbconvert_exporter": "python",
   "pygments_lexer": "ipython3",
   "version": "3.11.5"
  }
 },
 "nbformat": 4,
 "nbformat_minor": 5
}
