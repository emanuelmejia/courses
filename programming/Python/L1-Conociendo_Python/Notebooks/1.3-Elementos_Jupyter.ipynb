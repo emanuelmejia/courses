{
 "cells": [
  {
   "cell_type": "markdown",
   "id": "2ca15ba5-08d3-4f02-b96c-8fe565fb090f",
   "metadata": {},
   "source": [
    "<div style=\"padding:10px;background-color: #FF4D4D; color:white;font-size:28px;\"><strong>Jupyter Notebook</strong></div>"
   ]
  },
  {
   "cell_type": "markdown",
   "id": "59c8e503-b7f4-4ca1-a902-63123ec7a1e8",
   "metadata": {},
   "source": [
    "## <a style=\"padding:3px;color: #FF4D4D; \"><strong>¿Qué es Jupyter Notebook?</strong></a>"
   ]
  },
  {
   "cell_type": "markdown",
   "id": "57d64766-6b4d-48a0-ac3b-bb32b56ba9d3",
   "metadata": {},
   "source": [
    "- Se define como Entorno de Desarrollo Integrado (IDE).\n",
    "- Es una aplicación web de código abierto que ayuda a programar eficientemente.\n",
    "- Su estructura en celdas ahorra tiempo y ayuda a evitar errores.\n",
    "- Además de Python, soporta otros lenguajes como R, Julia, Matlab, Ruby.\n",
    "- Se ejecuta en la nube o computadora. La primera es más fácil, pero la segunda es más eficiente."
   ]
  },
  {
   "cell_type": "markdown",
   "id": "bfb39874-cb53-4aca-8d5d-aebc4d8b6bab",
   "metadata": {},
   "source": [
    "## <a style=\"padding:3px;color: #FF4D4D; \"><strong>Celdas</strong></a>"
   ]
  },
  {
   "cell_type": "markdown",
   "id": "9fa1d4ce-5da8-4216-80f1-c13eb9da295d",
   "metadata": {},
   "source": [
    "- Son el núcleo de un notebook.\n",
    "- Se dividen en celdas de código y de markdown.\n",
    "- Se pueden ir corriendo de forma individual, lo que facilita la eficiencia y depuración."
   ]
  },
  {
   "cell_type": "markdown",
   "id": "c500f113-d033-4025-83a7-156e66be7377",
   "metadata": {},
   "source": [
    "## <a style=\"padding:3px;color: #FF4D4D; \"><strong>Markdown</strong></a>"
   ]
  },
  {
   "cell_type": "markdown",
   "id": "6bc8e666-0dc7-4402-a703-f0fde935a313",
   "metadata": {},
   "source": [
    "Lenguaje de marcado de textos para crear documentos con formato a partir de editores de texto plano."
   ]
  },
  {
   "cell_type": "markdown",
   "id": "71099397-cc28-47b0-8b31-7ea582900300",
   "metadata": {},
   "source": [
    "##### <a style=\"padding:3px;color: #FF4D4D; \"><strong>Títulos</strong></a>\n",
    "\n",
    "# #-Título Nivel 1\n",
    "## ##-Título Nivel 2\n",
    "### ###-Título Nivel 3\n",
    "︙"
   ]
  },
  {
   "cell_type": "markdown",
   "id": "ce91cbc0-2caa-41fb-b962-e78559677a84",
   "metadata": {},
   "source": [
    "##### <a style=\"padding:3px;color: #FF4D4D; \"><strong>Formato de Texto</strong></a>\n",
    "\n",
    "| Símbolo | Descripción | Sintaxis | Ejemplo |\n",
    "| ----------- | ----------- | ----------- | ----------- |\n",
    "| * | Cursiva / Italic | \\*Texto en Cursiva* | *Texto en Cursiva* |\n",
    "| ** | Negrita / Bold | \\*\\*Texto en Negritas** | **Texto en Negritas** |\n",
    "| *** | Negrita Cursiva / Bold & Italic | \\*\\*\\*Texto en Negrita Cursiva*** | ***Texto en Negrita Cursiva*** |\n",
    "| ~~ | Tachado / Strikethrough | ~~Texto Tachado~~ | \\~~Texto Tachado~~ |\n",
    "|\\` | Código | \\`texto_estilo_codigo` | `texto_estilo_codigo` |\n",
    "|[ ]+( ) |Link | \\[Este es un link](https://www.amat.mx/) | [Este es un link](https://www.amat.mx/) |"
   ]
  },
  {
   "cell_type": "markdown",
   "id": "1f5f6d72-99a0-4238-b88d-713b982b9707",
   "metadata": {},
   "source": [
    "##### <a style=\"padding:3px;color: #FF4D4D; \"><strong>Bloques</strong></a>\n",
    "\n",
    "> **Cita en Bloque**\n",
    ">\n",
    "> En caso que se requiera puede utilizarse más de una línea\n",
    "\n",
    "**Lista Ordenada**\n",
    "1. Primer item\n",
    "2. Segundo item\n",
    "3. Tercer item\n",
    "   \n",
    "**Lista sin Ordenar**\n",
    "- Primer item\n",
    "- Segundo item\n",
    "- Tercer item\n",
    "\n",
    "**Lista de Tareas**\n",
    "- [x] Tarea 1\n",
    "- [ ] Tarea 2\n",
    "- [ ] Tarea 3\n",
    "\n",
    "**Imágenes**\n",
    " ![Logo AMAT](https://static.wixstatic.com/media/023128_7f3a63a28eab4d0a91712a6fe8319981~mv2.png/v1/crop/x_0,y_852,w_7987,h_2729/fill/w_383,h_128,al_c,q_85,usm_0.66_1.00_0.01,enc_avif,quality_auto/Logo-NEW-AMATFONDO-BLANCO.png)"
   ]
  },
  {
   "cell_type": "markdown",
   "id": "1aa3e5b9-4ebf-490b-9650-22deeed47aaa",
   "metadata": {},
   "source": [
    "##### <a style=\"padding:3px;color: #FF4D4D; \"><strong>HMTL</strong></a>\n",
    "\n",
    "Las celdas Markdown permite ingresar código HTML, lo que permite añadir comandos adicionales:\n",
    "\n",
    "<ul>\n",
    "  <li><strong>Texto en Negritas</strong></li>\n",
    "  <li><em>Texto en Cursiva</em></li>\n",
    "  <li><strong><em>Texto en Negrita Cursiva</em></strong></li>\n",
    "  <li><strike>Texto Tachado</strike></li>\n",
    "  <li><u>Texto Subrayado</u></li>\n",
    "  <li><code>Texto estilo código</code></li>   \n",
    "  <li><a href=https://www.amat.mx/>Link</a></li>      \n",
    "  <li><a style=\"background-color: cornflowerblue; color:white;font-size:15px;font-family:Times New Roman;\" href = \"https://www.ibm.com/docs/es/tivoli-netcoolimpact/7.1.0?topic=tags-style-attribute\"><strong>Pero también mayores personalizaciones</strong></a></li>\n",
    "</ul>"
   ]
  },
  {
   "cell_type": "markdown",
   "id": "400e4cb8-2e88-4f2f-8265-0ab3cad1e53c",
   "metadata": {},
   "source": [
    "Sin embargo no todos los comandos funcionan de la misma manera. Por ejemplo, la siguiente casilla interactiva."
   ]
  },
  {
   "cell_type": "markdown",
   "id": "5e40f138-f581-437f-bafc-dbdc7047a0d9",
   "metadata": {},
   "source": [
    "<label for=\"tac\">\n",
    "  <input id=\"tac\" type=\"checkbox\" name=\"terms-and-conditions\" />\n",
    "  Acepto términos y condiciones\n",
    "</label>\n",
    "<p>\n",
    "  <a href=\"terms-and-conditions.html\">Lee nuestros términos y condiciones</a>\n",
    "</p>"
   ]
  },
  {
   "cell_type": "markdown",
   "id": "2af53c49-7874-449a-9389-ff64eecc8021",
   "metadata": {},
   "source": [
    "##### <a style=\"padding:3px;color: #FF4D4D; \"><strong>LaTeX</strong></a>\n",
    "\n",
    "Las celdas Markdown permite ingresar código LaTeX directamente, principalmente para escritura matemática:\n",
    "\n",
    "Ejemplo: Teniendo la variable aleatoria $X \\sim N(\\mu, \\sigma^2)$:\n",
    "\n",
    "$$\\Rightarrow F(X) = \\mathbb{P}(X\\le x) = \\int_{- \\infty}^{x} \\frac{1}{\\sigma \\sqrt{2 \\pi}} e^{-\\frac{(x - \\mu)^2}{2 \\sigma ^2}} dx$$"
   ]
  },
  {
   "cell_type": "markdown",
   "id": "98b4faf4-b85f-4e37-a8f2-c6f8a70f2d97",
   "metadata": {},
   "source": [
    "## <a style=\"padding:3px;color: #FF4D4D; \"><strong>Kernel</strong></a>"
   ]
  },
  {
   "cell_type": "markdown",
   "id": "0edfbce5-fc5a-4ace-b253-145f54738acf",
   "metadata": {},
   "source": [
    "Es el motor computacional que arranca el código escrito, controla todos los cálculos y muestra las salidas en pantalla.\n",
    "\n",
    "Cada lenguaje de programación usa un *kernel* separado. Para python es IPython.\n",
    "\n",
    "En la pestaña de \"Kernel\" podemos encontrar los siguientes comandos básicos:\n",
    "\n",
    "- **Interrupt Kernel:** Detiene el funcionamiento de la celda.\n",
    "- **Restart Kernel:** Reinicia el kernel.\n",
    "- **Restart Kernel and Clear Outputs:** Reinicia el kernel y restablece los datos de las celdas actuales.\n",
    "- **Restart Kernel and Run Up to Selected Cell:** Reinicia el kernel, restablece los datos de las celdas actuales y las reinicia en el orden especificado.\n",
    "- **Restart Kernel and Run All Cells:** Reinicia el kernel, restablece los datos de las celdas actuales y las reinicia en el orden especificado.\n",
    "- **Reconnect to Kernel:** Volver a conectarse al kernel.\n",
    "- **Shutdown Kernel:** Apaga el kernel.\n",
    "- **Shutdown All Kernels:** Apaga todos los kernels activos."
   ]
  },
  {
   "cell_type": "markdown",
   "id": "bd07ee2d-a0ac-439c-a937-f3f6fe964002",
   "metadata": {},
   "source": [
    "## <a style=\"padding:3px;color: #FF4D4D; \"><strong>Código</strong></a>"
   ]
  },
  {
   "cell_type": "markdown",
   "id": "2f643931-1ce9-4f06-82e0-b1273f1a696a",
   "metadata": {},
   "source": [
    "Las celdas de código ejecutan las líneas dentro de la celda, utilizando el kernel del notebook. \n",
    "\n",
    "En este caso utilizaremos la sintaxis de Python:"
   ]
  },
  {
   "cell_type": "code",
   "execution_count": 19,
   "id": "4713b7a9-e75c-4a07-865e-cee02161864d",
   "metadata": {},
   "outputs": [
    {
     "name": "stdout",
     "output_type": "stream",
     "text": [
      "Hello World\n"
     ]
    }
   ],
   "source": [
    "print(\"Hello World\")"
   ]
  },
  {
   "cell_type": "markdown",
   "id": "1326b3bc-99b8-4600-ad53-7212e8eadb76",
   "metadata": {},
   "source": [
    "Tras ejecutar una línea de código, aparecerá un número en los corchetes de la izquierda que nos indican el orden en que se han ejecutado las celdas."
   ]
  },
  {
   "cell_type": "code",
   "execution_count": 21,
   "id": "06637bf8-d900-439e-881a-5228525f5d07",
   "metadata": {},
   "outputs": [
    {
     "data": {
      "text/plain": [
       "9.899494936611665"
      ]
     },
     "execution_count": 21,
     "metadata": {},
     "output_type": "execute_result"
    }
   ],
   "source": [
    "import math\n",
    "\n",
    "a = 98\n",
    "math.sqrt(a)"
   ]
  },
  {
   "cell_type": "markdown",
   "id": "402d55c3-5f0b-45ae-8b77-5e1ae532cad1",
   "metadata": {},
   "source": [
    "También es posible ejecutar comandos de terminal dentro de celdas de código. Es necesario agregarle primero un símbolo de admiración \"!\" para que pueda interpretarse como una sentencia de terminal"
   ]
  },
  {
   "cell_type": "code",
   "execution_count": 23,
   "id": "aa412cea-8070-4749-a2dc-b1b8907ff6c1",
   "metadata": {},
   "outputs": [
    {
     "name": "stdout",
     "output_type": "stream",
     "text": [
      "C:\\Users\\emanu\\OneDrive - Firedrop\\Github\\Public\\courses\\programming\\Python\\L1-Conociendo_Python\\Notebooks\n"
     ]
    }
   ],
   "source": [
    "# Ubicación del directorio actual\n",
    "!cd\n",
    "# !pwd    en terminal linux"
   ]
  },
  {
   "cell_type": "code",
   "execution_count": 24,
   "id": "63b4ec4e-26e7-4c0f-a908-47b8283de6e6",
   "metadata": {},
   "outputs": [
    {
     "name": "stdout",
     "output_type": "stream",
     "text": [
      "/c/Users/emanu/anaconda3/python\n"
     ]
    }
   ],
   "source": [
    "# En dónde se encuentra el python que está corriendo actualmente\n",
    "!which python"
   ]
  },
  {
   "cell_type": "code",
   "execution_count": 25,
   "id": "b50864b9-0042-46b4-a8de-18532213ad45",
   "metadata": {},
   "outputs": [
    {
     "name": "stdout",
     "output_type": "stream",
     "text": [
      "Python 3.11.5\n"
     ]
    }
   ],
   "source": [
    "# Versión de python que está corriendo actualmente\n",
    "!python --version"
   ]
  },
  {
   "cell_type": "code",
   "execution_count": 26,
   "id": "db3cfcfd-985e-4786-98ab-92c2ed66500f",
   "metadata": {},
   "outputs": [
    {
     "name": "stdout",
     "output_type": "stream",
     "text": [
      " El volumen de la unidad C es Local Disk\n",
      " El nÃºmero de serie del volumen es: 460F-5C18\n",
      "\n",
      " Directorio de C:\\Users\\emanu\\OneDrive - Firedrop\\Github\\Public\\courses\\programming\\Python\\L1-Conociendo_Python\\Notebooks\n",
      "\n",
      "28/04/2025  11:00 a. m.             3,668 1.1-Programando_un_Algoritmo.ipynb\n",
      "28/04/2025  12:17 p. m.             4,666 1.2-Paradigmas_Python.ipynb\n",
      "28/04/2025  01:08 p. m.            14,942 1.3-Elementos_Jupyter.ipynb\n",
      "               3 archivos         23,276 bytes\n",
      "               0 dirs  649,949,880,320 bytes libres\n"
     ]
    }
   ],
   "source": [
    "# Libros de Jupyter Notebook en este mismo directorio\n",
    "!dir *.ipynb\n",
    "# !ls *.ipynb      en terminal linux"
   ]
  },
  {
   "cell_type": "code",
   "execution_count": 27,
   "id": "52bc983a-75b2-4719-88b0-9a1fd5a0e86b",
   "metadata": {},
   "outputs": [
    {
     "name": "stdout",
     "output_type": "stream",
     "text": [
      "Microsoft Windows [Versión 10.0.26100.3915]\n",
      "(c) Microsoft Corporation. Todos los derechos reservados.\n",
      "\n",
      "C:\\Users\\emanu\\OneDrive - Firedrop\\Github\\Public\\courses\\programming\\Python\\L1-Conociendo_Python\\Notebooks>where python\n",
      "C:\\Users\\emanu\\anaconda3\\python.exe\n",
      "C:\\Users\\emanu\\AppData\\Local\\Microsoft\\WindowsApps\\python.exe\n",
      "\n",
      "C:\\Users\\emanu\\OneDrive - Firedrop\\Github\\Public\\courses\\programming\\Python\\L1-Conociendo_Python\\Notebooks>cd\n",
      "C:\\Users\\emanu\\OneDrive - Firedrop\\Github\\Public\\courses\\programming\\Python\\L1-Conociendo_Python\\Notebooks\n",
      "\n",
      "C:\\Users\\emanu\\OneDrive - Firedrop\\Github\\Public\\courses\\programming\\Python\\L1-Conociendo_Python\\Notebooks>dir *.ipynb\n",
      " El volumen de la unidad C es Local Disk\n",
      " El número de serie del volumen es: 460F-5C18\n",
      "\n",
      " Directorio de C:\\Users\\emanu\\OneDrive - Firedrop\\Github\\Public\\courses\\programming\\Python\\L1-Conociendo_Python\\Notebooks\n",
      "\n",
      "28/04/2025  11:00 a. m.             3,668 1.1-Programando_un_Algoritmo.ipynb\n",
      "28/04/2025  12:17 p. m.             4,666 1.2-Paradigmas_Python.ipynb\n",
      "28/04/2025  01:08 p. m.            14,942 1.3-Elementos_Jupyter.ipynb\n",
      "               3 archivos         23,276 bytes\n",
      "               0 dirs  649,949,814,784 bytes libres\n",
      "\n",
      "C:\\Users\\emanu\\OneDrive - Firedrop\\Github\\Public\\courses\\programming\\Python\\L1-Conociendo_Python\\Notebooks>whoami\n",
      "emanu\n",
      "\n",
      "C:\\Users\\emanu\\OneDrive - Firedrop\\Github\\Public\\courses\\programming\\Python\\L1-Conociendo_Python\\Notebooks>"
     ]
    }
   ],
   "source": [
    "%%cmd # Todo lo que siga después de este comando se correrá en terminal\n",
    "where python\n",
    "cd\n",
    "dir *.ipynb\n",
    "whoami"
   ]
  },
  {
   "cell_type": "markdown",
   "id": "54b8f791-a076-4226-85be-6dcd67496030",
   "metadata": {},
   "source": [
    "## <a style=\"padding:3px;color: #FF4D4D; \"><strong>Atajos de Teclado</strong></a>"
   ]
  },
  {
   "cell_type": "markdown",
   "id": "ac793260-55d7-42e7-a03c-9f47f34fb408",
   "metadata": {},
   "source": [
    "##### Modo Edición\n",
    "- **Shift + Enter:** Ejecuta la celda\n",
    "- **esc:** Abre el modo comando\n",
    "\n",
    "##### Modo Comando\n",
    "- **A:** Agrega una celda arriba\n",
    "- **B:** Agrega una celda abajo\n",
    "- **M:** Cambia el tipo de celda a Markdown\n",
    "- **Y:** Cambia el tipo de celda a Código\n",
    "- **X:** Borra una celda\n",
    "- **Z:** Deshacer eliminación de celda\n",
    "- **Shift + J o Shift + ↓:** Selecciona una celda debajo\n",
    "- **Shift + K o Shift + ↑:** Selecciona una celda arriba\n",
    "- **Enter:** Pasa del Modo Comando al Modo Edición\n",
    "\n",
    "##### Otros\n",
    "\n",
    "- **Ctrl + F:** Buscar y reemplazar información en el código.\n",
    "- **Shift + Tab:** Muestra documentación del objeto agregado en la celda"
   ]
  }
 ],
 "metadata": {
  "kernelspec": {
   "display_name": "Python [conda env:base] *",
   "language": "python",
   "name": "conda-base-py"
  },
  "language_info": {
   "codemirror_mode": {
    "name": "ipython",
    "version": 3
   },
   "file_extension": ".py",
   "mimetype": "text/x-python",
   "name": "python",
   "nbconvert_exporter": "python",
   "pygments_lexer": "ipython3",
   "version": "3.11.5"
  }
 },
 "nbformat": 4,
 "nbformat_minor": 5
}
