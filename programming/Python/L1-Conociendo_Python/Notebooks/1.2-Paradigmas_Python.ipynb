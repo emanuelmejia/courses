{
 "cells": [
  {
   "cell_type": "markdown",
   "id": "9d816da8-10e9-4ee7-982a-2b1e87dde66b",
   "metadata": {},
   "source": [
    "<div style=\"padding:10px;background-color: #FF4D4D; color:white;font-size:28px;\"><strong>Paradigmas en Python</strong></div>"
   ]
  },
  {
   "cell_type": "markdown",
   "id": "1cfe330b-3299-42bd-8bcb-3b811d66511f",
   "metadata": {},
   "source": [
    "<a style=\"padding:3px;color: #FF4D4D; font-size:20px;\"><strong>Procedimental</strong></a>"
   ]
  },
  {
   "attachments": {},
   "cell_type": "markdown",
   "id": "4739b0fd-bb1c-4d7f-aaed-423c46dc010b",
   "metadata": {},
   "source": [
    "- Se enfoca en qué hacer y cómo hacerlo paso a paso.\n",
    "- Ideal para scripts simples o tareas bien definidas.\n",
    "- Basado en ejecución secuencias de instrucciones y funciones.\n",
    "- Sencillo de entender y de estructurar."
   ]
  },
  {
   "cell_type": "code",
   "execution_count": 4,
   "id": "c4fe2c34-24f3-4a47-b383-3d9ad350a82f",
   "metadata": {},
   "outputs": [
    {
     "name": "stdout",
     "output_type": "stream",
     "text": [
      "Hola mundo, soy Emanuel tengo 34 años y nací en México\n"
     ]
    }
   ],
   "source": [
    "# Procedimental\n",
    "nombre = \"Emanuel\"\n",
    "edad = 34\n",
    "pais = \"México\"\n",
    "\n",
    "print(\"Hola mundo, soy\", nombre, \"tengo\", edad, \"años y nací en\", pais)"
   ]
  },
  {
   "cell_type": "markdown",
   "id": "e2eb80eb-a676-4269-b129-4dfebc92cef5",
   "metadata": {},
   "source": [
    "<a style=\"padding:3px;color: #FF4D4D; font-size:20px;\"><strong>Orientado a Objetos</strong></a>"
   ]
  },
  {
   "cell_type": "markdown",
   "id": "edab8f64-bb6c-4491-86cf-b8042ab29fde",
   "metadata": {},
   "source": [
    "-  Se enfoca en modelar el mundo real a través de objetos.\n",
    "-  Promueve el diseño modular y escalable.\n",
    "-  Organiza el código en clases y objetos que encapsulan datos y comportamiento.\n",
    "-  Facilita la reutilización y mantenimiento del código."
   ]
  },
  {
   "cell_type": "code",
   "execution_count": 7,
   "id": "28844401",
   "metadata": {},
   "outputs": [
    {
     "name": "stdout",
     "output_type": "stream",
     "text": [
      "Hola mundo, soy Emanuel tengo 34, años y nací en México\n"
     ]
    }
   ],
   "source": [
    "# Orientado a Objetos\n",
    "class Persona:\n",
    "    def __init__(self, nombre, edad, pais):\n",
    "        self.nombre = nombre\n",
    "        self.edad = edad\n",
    "        self.pais = pais\n",
    "    def saludar(self):\n",
    "        print(f\"Hola mundo, soy {self.nombre} tengo {self.edad}, años y nací en {self.pais}\")\n",
    "\n",
    "Yo = Persona(\"Emanuel\", 34, \"México\")\n",
    "\n",
    "Yo.saludar()"
   ]
  },
  {
   "cell_type": "markdown",
   "id": "cb0ef830-704f-4b33-b735-402cc7c1d17b",
   "metadata": {},
   "source": [
    "<a style=\"padding:3px;color: #FF4D4D; font-size:20px;\"><strong>Funcional</strong></a>"
   ]
  },
  {
   "cell_type": "markdown",
   "id": "95d11666-0a8b-4bf3-9dc7-1374c02892e7",
   "metadata": {},
   "source": [
    "- Se basa en el uso de funciones puras, sin usar variables globales.\n",
    "- Evita efectos secundarios, cambios de estado y el uso de bucles.\n",
    "- Fomenta el código más predecible y fácil de probar.\n",
    "- Facilita la programación declarativa y el trabajo con datos inmutables."
   ]
  },
  {
   "cell_type": "code",
   "execution_count": 10,
   "id": "c0e957c1",
   "metadata": {},
   "outputs": [
    {
     "name": "stdout",
     "output_type": "stream",
     "text": [
      "Hola mundo, soy Emanuel tengo 34, años y nací en México\n"
     ]
    }
   ],
   "source": [
    "# Funcional\n",
    "saludar = lambda nombre, edad, pais: print(f\"Hola mundo, soy {nombre} tengo {edad}, años y nací en {pais}\")\n",
    "\n",
    "saludar(\"Emanuel\", 34, \"México\")"
   ]
  }
 ],
 "metadata": {
  "kernelspec": {
   "display_name": "Python [conda env:base] *",
   "language": "python",
   "name": "conda-base-py"
  },
  "language_info": {
   "codemirror_mode": {
    "name": "ipython",
    "version": 3
   },
   "file_extension": ".py",
   "mimetype": "text/x-python",
   "name": "python",
   "nbconvert_exporter": "python",
   "pygments_lexer": "ipython3",
   "version": "3.11.5"
  }
 },
 "nbformat": 4,
 "nbformat_minor": 5
}
