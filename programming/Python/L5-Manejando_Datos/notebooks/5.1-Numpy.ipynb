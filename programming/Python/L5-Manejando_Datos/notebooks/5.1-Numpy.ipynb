{
 "cells": [
  {
   "cell_type": "markdown",
   "id": "fbd2d682-9a52-42aa-bf6d-31359021d07d",
   "metadata": {},
   "source": [
    "<div style=\"padding:10px;background-color: #FF4D4D; color:white;font-size:28px;\"><strong>Numpy</strong></div>"
   ]
  },
  {
   "cell_type": "markdown",
   "id": "7031a320-dbdd-40f5-8c23-73150cf795f9",
   "metadata": {},
   "source": [
    "Existen algunos paquetes especializados en aplicaciones específicas, algunos son tan populares que casi todos los programadores los usan.\n",
    "\n",
    "Un paquete en particular, [**NumPy**](https://numpy.org/), se encuentra en el núcleo de la computación científica y de datos en Python (incluyendo el ecosistema [PyData](https://pydata.org/)). Muchos otros paquetes de ciencia de datos (como `scikit-learn`, `scipy`, `pandas`) están construidos sobre **NumPy**, por lo que es muy importante entender su función.\n",
    "\n",
    "Contiene, entre otras cosas:\n",
    "\n",
    "- Un poderoso objeto de **arreglo N-dimensional**\n",
    "- Capacidades de álgebra lineal, transformada de Fourier.\n",
    "- Funciones sofisticadas y generación de números aleatorios.\n",
    "- Vectorización de funciones.\n",
    "- Herramientas para integrar código en **C/C++** y **Fortran**\n",
    "\n",
    "A menudo usamos **NumPy** para trabajar con datos."
   ]
  },
  {
   "cell_type": "markdown",
   "id": "0eab6aa7-c5f9-4563-b8af-16139027b991",
   "metadata": {},
   "source": [
    "## <a style=\"padding:3px;color: #FF4D4D; \"><strong>Arreglos</strong></a>"
   ]
  },
  {
   "cell_type": "markdown",
   "id": "2423eeae-0739-43b4-a9d7-7d7847c6d0e6",
   "metadata": {},
   "source": [
    "Tradicionalmente, `numpy` se renombra como `np`. La razón por la que hacemos esto es que existe una convención en la comunidad **PyData** de importar los paquetes de datos con nombres más cortos."
   ]
  },
  {
   "cell_type": "code",
   "execution_count": 6,
   "id": "b3efc540-29be-4d4d-9923-8ff56c76b20a",
   "metadata": {},
   "outputs": [
    {
     "name": "stdout",
     "output_type": "stream",
     "text": [
      "1.26.4\n"
     ]
    }
   ],
   "source": [
    "import numpy as np\n",
    "print(np.__version__)"
   ]
  },
  {
   "cell_type": "code",
   "execution_count": 7,
   "id": "3cb3af4e-203b-4829-9a7d-7b62d2257322",
   "metadata": {},
   "outputs": [
    {
     "data": {
      "text/plain": [
       "array([ 0,  1,  2,  3,  4,  5,  6,  7,  8,  9, 10, 11, 12, 13, 14, 15, 16,\n",
       "       17, 18, 19])"
      ]
     },
     "execution_count": 7,
     "metadata": {},
     "output_type": "execute_result"
    }
   ],
   "source": [
    "np.arange(0,20)"
   ]
  },
  {
   "cell_type": "markdown",
   "id": "b723e22b-3d37-4d89-ba55-a1d038a4912a",
   "metadata": {},
   "source": [
    "La función `arange` es análoga a la función `range` que estudiamos anteriormente. "
   ]
  },
  {
   "cell_type": "code",
   "execution_count": 9,
   "id": "7e9b5439-827e-4e5c-ad82-30207244c4e9",
   "metadata": {},
   "outputs": [],
   "source": [
    "miArreglo = np.arange(10)"
   ]
  },
  {
   "cell_type": "markdown",
   "id": "74e708cc-e59a-410f-9e81-d775e806452a",
   "metadata": {},
   "source": [
    "Pero en lugar de devolver un objeto de tipo `range`, el tipo de objeto que devuelve es un `numpy.ndarray`, algo que llamaremos un `arreglo`."
   ]
  },
  {
   "cell_type": "code",
   "execution_count": 11,
   "id": "161d32ec-86cb-462d-8bb5-b9de28c11253",
   "metadata": {},
   "outputs": [
    {
     "data": {
      "text/plain": [
       "numpy.ndarray"
      ]
     },
     "execution_count": 11,
     "metadata": {},
     "output_type": "execute_result"
    }
   ],
   "source": [
    "type(miArreglo)"
   ]
  },
  {
   "cell_type": "markdown",
   "id": "ec88d75d-e363-4360-948e-c81f97d53c71",
   "metadata": {},
   "source": [
    "Los Arreglos son similares a las otras secuencias que vimos anteriormente. Por ejemplo, podemos acceder a sus elementos a través del índice."
   ]
  },
  {
   "cell_type": "code",
   "execution_count": 13,
   "id": "44bfe964-e2f6-4065-9931-21a007339ba6",
   "metadata": {},
   "outputs": [
    {
     "data": {
      "text/plain": [
       "array([ 0,  1, 12,  3,  4,  5,  6,  7,  8,  9])"
      ]
     },
     "execution_count": 13,
     "metadata": {},
     "output_type": "execute_result"
    }
   ],
   "source": [
    "miArreglo[2] = 12\n",
    "miArreglo"
   ]
  },
  {
   "cell_type": "markdown",
   "id": "90d65ed3-84c7-4c49-81a9-15cdcfac95fd",
   "metadata": {},
   "source": [
    "Sin embargo, los arreglos también tienen características únicas. \n",
    "\n",
    "Para empezar, todos los objetos contenidos en el arreglo **deben ser del mismo tipo**. \n",
    "\n",
    "Aunque esto podría parecer una restricción molesta comparando los arreglos con otros objetos, permite que este nuevo tipo de secuencia trabaje de manera MUY eficiente en grandes volúmenes de datos."
   ]
  },
  {
   "cell_type": "code",
   "execution_count": 15,
   "id": "c3b89ab8-6caa-4320-8651-4652a376df97",
   "metadata": {},
   "outputs": [],
   "source": [
    "# miArreglo[5] = \"pluma\""
   ]
  },
  {
   "cell_type": "markdown",
   "id": "c665e2cb-e95e-483f-9aa2-8260c13a6368",
   "metadata": {},
   "source": [
    "Puede accederse al tipo de datos que contiene un arreglo utilizando la propiedad `dtype`. Eso quiere decir que, una vez creado, no puede cambiarse directamente el tipo de un arreglo."
   ]
  },
  {
   "cell_type": "code",
   "execution_count": 17,
   "id": "a35dd04c-5c1a-4139-8fff-ecf7571fac64",
   "metadata": {},
   "outputs": [
    {
     "data": {
      "text/plain": [
       "dtype('int32')"
      ]
     },
     "execution_count": 17,
     "metadata": {},
     "output_type": "execute_result"
    }
   ],
   "source": [
    "miArreglo.dtype"
   ]
  },
  {
   "cell_type": "markdown",
   "id": "20cd1565-5c97-44e5-a2db-506481a9ca55",
   "metadata": {},
   "source": [
    "Los tipos más comunes en NumPy son:\n",
    "\n",
    "##### Tipo Entero y Booleanos:\n",
    "- `bool_` : Booleano (Verdadero o Falso) almacenado como un byte\n",
    "- `int_` : Tipo entero predeterminado (igual que long en C; normalmente int64 o int32)\n",
    "- `intc` : Idéntico al tipo int en C (normalmente int32 o int64)\n",
    "- `intp` : Entero usado para indexación (igual que ssize_t en C; normalmente int32 o int64)\n",
    "- `int8` : Entero de 8 bits con signo (-128 a 127)\n",
    "- `int16` : Entero de 16 bits con signo (-32,768 a 32,767)\n",
    "- `int32` : Entero de 32 bits con signo (-2,147,483,648 a 2,147,483,647)\n",
    "- `int64` : Entero de 64 bits con signo (-9,223,372,036,854,775,808 a 9,223,372,036,854,775,807)\n",
    "- `uint8` : Entero sin signo de 8 bits (0 a 255)\n",
    "- `uint16` : Entero sin signo de 16 bits (0 a 65,535)\n",
    "- `uint32` : Entero sin signo de 32 bits (0 a 4,294,967,295)\n",
    "- `uint64` : Entero sin signo de 64 bits (0 a 18,446,744,073,709,551,615)\n",
    "\n",
    "##### Tipos de punto flotante\n",
    "- `float_` : Abreviatura de float64\n",
    "- `float16` : Punto flotante de media precisión: 1 bit de signo, 5 bits de exponente, 10 bits de mantisa\n",
    "- `float32` : Punto flotante de precisión simple: 1 bit de signo, 8 bits de exponente, 23 bits de mantisa\n",
    "- `float64` : Punto flotante de doble precisión: 1 bit de signo, 11 bits de exponente, 52 bits de mantisa\n",
    "\n",
    "##### Tipos complejos\n",
    "- `complex_` : Abreviatura de complex128\n",
    "- `complex64` : Número complejo representado por dos float32 (parte real e imaginaria)\n",
    "- `complex128` : Número complejo representado por dos float64 (parte real e imaginaria)"
   ]
  },
  {
   "cell_type": "markdown",
   "id": "f9d3ffcf-c94d-436d-baf4-5a42a0a08736",
   "metadata": {},
   "source": [
    "Además, una vez que el arreglo fue creado su tamaño es fijo, lo que les permite optimizarse para un alto desempeño.\n",
    "\n",
    "Por lo tanto, funciones como `pop` o `append` no funcionarán en el arreglo."
   ]
  },
  {
   "cell_type": "code",
   "execution_count": 20,
   "id": "5dcdce21-3fd6-47bc-9f2e-081db2ca8e48",
   "metadata": {},
   "outputs": [],
   "source": [
    "# miArreglo.append(20)"
   ]
  },
  {
   "cell_type": "code",
   "execution_count": 21,
   "id": "8661b05c-af15-4772-b84d-6b272c91e114",
   "metadata": {},
   "outputs": [],
   "source": [
    "# miArreglo.pop()"
   ]
  },
  {
   "cell_type": "markdown",
   "id": "2166f690-6c5c-4d97-88d2-e97406e2d8f4",
   "metadata": {},
   "source": [
    "## <a style=\"padding:3px;color: #FF4D4D; \"><strong>Construcción de Arreglos</strong></a>"
   ]
  },
  {
   "cell_type": "markdown",
   "id": "d583aa63-702b-4d25-970d-8703d268f099",
   "metadata": {},
   "source": [
    "Al igual que con un rango, podemos utilizar pasos en nuestra creación de arreglos por medio de la función `arange`"
   ]
  },
  {
   "cell_type": "code",
   "execution_count": 24,
   "id": "068aeb59-0104-4947-92c1-778f6cb18060",
   "metadata": {},
   "outputs": [
    {
     "data": {
      "text/plain": [
       "array([ 0,  2,  4,  6,  8, 10, 12, 14, 16, 18])"
      ]
     },
     "execution_count": 24,
     "metadata": {},
     "output_type": "execute_result"
    }
   ],
   "source": [
    "np.arange(0,20,2)"
   ]
  },
  {
   "cell_type": "markdown",
   "id": "6321ab30-3435-4df2-9037-7b42a89d59c1",
   "metadata": {},
   "source": [
    "También podemos llenar el espacio entre dos números, por ejemplo imaginemos que deseamos el rango entre 0 y 1 dividido en cinco números exactamente."
   ]
  },
  {
   "cell_type": "code",
   "execution_count": 26,
   "id": "dbe2a133-0da2-47d0-ad8c-df792bda1552",
   "metadata": {},
   "outputs": [
    {
     "data": {
      "text/plain": [
       "array([0.  , 0.25, 0.5 , 0.75, 1.  ])"
      ]
     },
     "execution_count": 26,
     "metadata": {},
     "output_type": "execute_result"
    }
   ],
   "source": [
    "np.linspace(0,1,5)"
   ]
  },
  {
   "cell_type": "markdown",
   "id": "5e4b8e22-53df-46b7-93ca-d3a247c83189",
   "metadata": {},
   "source": [
    "Y podemos también convertir esto en un tipo diferente si lo necesitamos, aunque debemos ser cuidadosos con la posibilidad de perder información"
   ]
  },
  {
   "cell_type": "code",
   "execution_count": 28,
   "id": "3f3dc57c-70df-460c-a865-62ec3dbf8034",
   "metadata": {},
   "outputs": [
    {
     "data": {
      "text/plain": [
       "array([0, 0, 0, 0, 1])"
      ]
     },
     "execution_count": 28,
     "metadata": {},
     "output_type": "execute_result"
    }
   ],
   "source": [
    "np.linspace(0,1,5).astype('int')"
   ]
  },
  {
   "cell_type": "markdown",
   "id": "d4a2d2f7-2553-4ed1-af64-077ca160f1fa",
   "metadata": {},
   "source": [
    "También existen varias maneras de generar arreglos al vuelo al pasar objetos en la función `array`"
   ]
  },
  {
   "cell_type": "code",
   "execution_count": 30,
   "id": "a20c097c-c1a6-4e3c-b37c-49ff78e14c83",
   "metadata": {},
   "outputs": [
    {
     "data": {
      "text/plain": [
       "array([ 0,  1,  2,  3,  4,  5,  6,  7,  8,  9, 10, 11, 12, 13, 14, 15, 16,\n",
       "       17, 18, 19])"
      ]
     },
     "execution_count": 30,
     "metadata": {},
     "output_type": "execute_result"
    }
   ],
   "source": [
    "np.array(range(20))"
   ]
  },
  {
   "cell_type": "code",
   "execution_count": 31,
   "id": "499ba830-efee-4b8c-89e8-15c2674b09e9",
   "metadata": {},
   "outputs": [
    {
     "data": {
      "text/plain": [
       "dtype('int32')"
      ]
     },
     "execution_count": 31,
     "metadata": {},
     "output_type": "execute_result"
    }
   ],
   "source": [
    "np.array(range(20)).dtype"
   ]
  },
  {
   "cell_type": "markdown",
   "id": "4877af26-fd4d-4ff8-8ef8-ef58e735517a",
   "metadata": {},
   "source": [
    "Como mencionamos, los arreglos de **NumPy** deben contener el mismo tipo, no podemos mezclar por ejemplo flotantes y enteros."
   ]
  },
  {
   "cell_type": "code",
   "execution_count": 33,
   "id": "169bd32e-5847-4b91-b4af-e204630ea1a4",
   "metadata": {},
   "outputs": [
    {
     "data": {
      "text/plain": [
       "array([1., 0., 2., 3.])"
      ]
     },
     "execution_count": 33,
     "metadata": {},
     "output_type": "execute_result"
    }
   ],
   "source": [
    "np.array([1.0,0,2,3])"
   ]
  },
  {
   "cell_type": "code",
   "execution_count": 34,
   "id": "bd64dd33-0b5f-4650-813c-86b6767481fc",
   "metadata": {},
   "outputs": [
    {
     "data": {
      "text/plain": [
       "dtype('float64')"
      ]
     },
     "execution_count": 34,
     "metadata": {},
     "output_type": "execute_result"
    }
   ],
   "source": [
    "np.array([1.0,0,2,3]).dtype"
   ]
  },
  {
   "cell_type": "markdown",
   "id": "4f6ab049-5204-4bd7-bd9e-03e43e3d51fe",
   "metadata": {},
   "source": [
    "Esto permite asignaciones consistentes en la memoria que optimizan los procesos en los arreglos.\n",
    "\n",
    "Sin embargo, hay ocasiones en que obtendremos un arreglo de un tipo que no necesariamente es el deseado."
   ]
  },
  {
   "cell_type": "code",
   "execution_count": 36,
   "id": "a8997356-ca8a-4b2b-8b4d-9dd79a6d0c0e",
   "metadata": {},
   "outputs": [
    {
     "data": {
      "text/plain": [
       "array([1., 2., 2.])"
      ]
     },
     "execution_count": 36,
     "metadata": {},
     "output_type": "execute_result"
    }
   ],
   "source": [
    "np.array([True,2,2.0])"
   ]
  },
  {
   "cell_type": "code",
   "execution_count": 37,
   "id": "dfd9e259-b763-4eb0-b055-9f42e928144c",
   "metadata": {},
   "outputs": [
    {
     "data": {
      "text/plain": [
       "dtype('float64')"
      ]
     },
     "execution_count": 37,
     "metadata": {},
     "output_type": "execute_result"
    }
   ],
   "source": [
    "np.array([True,2,2.0]).dtype"
   ]
  },
  {
   "cell_type": "markdown",
   "id": "1b7f7445-c12e-4669-a992-b3e3eeef934e",
   "metadata": {},
   "source": [
    "Afortunadamente, durante la creación de nuestro arreglo, podemos definir el tipo deseado."
   ]
  },
  {
   "cell_type": "code",
   "execution_count": 39,
   "id": "9af9d2bc-7e66-46fa-b5fc-578f1a859637",
   "metadata": {},
   "outputs": [
    {
     "data": {
      "text/plain": [
       "array([ True,  True,  True])"
      ]
     },
     "execution_count": 39,
     "metadata": {},
     "output_type": "execute_result"
    }
   ],
   "source": [
    "## Booleanos\n",
    "np.array([True, 1, 2.0], dtype='bool_')"
   ]
  },
  {
   "cell_type": "code",
   "execution_count": 40,
   "id": "3a29af34-84be-4477-9193-feef8dbcf3a2",
   "metadata": {},
   "outputs": [
    {
     "data": {
      "text/plain": [
       "array([1., 1., 2.])"
      ]
     },
     "execution_count": 40,
     "metadata": {},
     "output_type": "execute_result"
    }
   ],
   "source": [
    "## Flotantes\n",
    "np.array([True, 1, 2.0], dtype='float_')"
   ]
  },
  {
   "cell_type": "code",
   "execution_count": 41,
   "id": "94544272-377d-40c6-a842-fe5fde780d70",
   "metadata": {},
   "outputs": [
    {
     "data": {
      "text/plain": [
       "array([1, 1, 2])"
      ]
     },
     "execution_count": 41,
     "metadata": {},
     "output_type": "execute_result"
    }
   ],
   "source": [
    "## Enteros\n",
    "np.array([True, 1, 2.0], dtype='int_')"
   ]
  },
  {
   "cell_type": "code",
   "execution_count": 42,
   "id": "a68e63e4-d9ae-4fa9-9d0a-04154266359b",
   "metadata": {},
   "outputs": [
    {
     "data": {
      "text/plain": [
       "array([1, 1, 2], dtype=uint8)"
      ]
     },
     "execution_count": 42,
     "metadata": {},
     "output_type": "execute_result"
    }
   ],
   "source": [
    "## Enteros byte-8bits (del 0 al 255)\n",
    "np.array([True, 1, 2.0], dtype='uint8')"
   ]
  },
  {
   "cell_type": "markdown",
   "id": "e3d4acf1-27b0-47d2-b16a-b11351e6c6b1",
   "metadata": {},
   "source": [
    "## <a style=\"padding:3px;color: #FF4D4D; \"><strong>Vectorización</strong></a>"
   ]
  },
  {
   "cell_type": "markdown",
   "id": "acb8c0e4-0e8b-4bf0-ac9e-3b93400f6c23",
   "metadata": {},
   "source": [
    "Los arreglos de **Numpy** nos permiten implementar muchos métodos como si fuesen listas de Python."
   ]
  },
  {
   "cell_type": "code",
   "execution_count": 45,
   "id": "e4f1ca2b-9c8a-4f7b-8f96-b6c138ccbca2",
   "metadata": {},
   "outputs": [
    {
     "data": {
      "text/plain": [
       "array([ 0,  1, 12,  3,  4,  5,  6,  7,  8,  9])"
      ]
     },
     "execution_count": 45,
     "metadata": {},
     "output_type": "execute_result"
    }
   ],
   "source": [
    "miArreglo"
   ]
  },
  {
   "cell_type": "code",
   "execution_count": 46,
   "id": "65722e6b-3654-4f5a-a5d9-ff0dadc5bef3",
   "metadata": {},
   "outputs": [
    {
     "data": {
      "text/plain": [
       "[0, 1, 144, 9, 16, 25, 36, 49, 64, 81]"
      ]
     },
     "execution_count": 46,
     "metadata": {},
     "output_type": "execute_result"
    }
   ],
   "source": [
    "[x * x for x in miArreglo]"
   ]
  },
  {
   "cell_type": "markdown",
   "id": "1a423300-c166-4437-89b3-d3cd1d07ad76",
   "metadata": {},
   "source": [
    "Sin embargo, esto no siempre es la manera recomendada de utilizar los arreglos. Normalmente, buscaremos **vectorizar** al computar una función"
   ]
  },
  {
   "cell_type": "code",
   "execution_count": 48,
   "id": "4a01b7da-76d4-4947-a773-263e6f94ae52",
   "metadata": {},
   "outputs": [
    {
     "data": {
      "text/plain": [
       "array([  0,   1, 144,   9,  16,  25,  36,  49,  64,  81])"
      ]
     },
     "execution_count": 48,
     "metadata": {},
     "output_type": "execute_result"
    }
   ],
   "source": [
    "miArreglo * miArreglo"
   ]
  },
  {
   "cell_type": "markdown",
   "id": "8c22ed11-640c-4011-acaa-24cc0b48fdd3",
   "metadata": {},
   "source": [
    "Midiendo los tiempos de cada uno de los métodos podemos ver que el segundo fue mucho más eficiente."
   ]
  },
  {
   "cell_type": "code",
   "execution_count": 50,
   "id": "0b05df92-5674-4b01-99e5-a9011922c9f1",
   "metadata": {},
   "outputs": [
    {
     "name": "stdout",
     "output_type": "stream",
     "text": [
      "1.65 μs ± 117 ns per loop (mean ± std. dev. of 7 runs, 1,000,000 loops each)\n"
     ]
    }
   ],
   "source": [
    "%timeit [x * x for x in miArreglo]"
   ]
  },
  {
   "cell_type": "code",
   "execution_count": 51,
   "id": "30b519fa-f546-45c4-a2bf-10f6acc291d4",
   "metadata": {},
   "outputs": [
    {
     "name": "stdout",
     "output_type": "stream",
     "text": [
      "468 ns ± 54.9 ns per loop (mean ± std. dev. of 7 runs, 1,000,000 loops each)\n"
     ]
    }
   ],
   "source": [
    "%timeit miArreglo * miArreglo"
   ]
  },
  {
   "cell_type": "markdown",
   "id": "438c75da-6b14-4f44-8766-d578810207a9",
   "metadata": {},
   "source": [
    "ms = milisegundos o $10^{-3} $ segundos\n",
    "\n",
    "$\\mu s$ = microsegundos o $10^{-6} $ segundos\n",
    "\n",
    "ns = nanosegundos o $ 10 ^{-9} $ segundos"
   ]
  },
  {
   "cell_type": "markdown",
   "id": "32738979-5be7-4206-b199-dd5d9e67d366",
   "metadata": {},
   "source": [
    "La vectorización, en términos simples, te permite aplicar una función a todo un arreglo en lugar de hacerlo valor por valor, similar a lo que hicimos con `map` en lecciones anteriores.\n",
    "\n",
    "Esto normalmente hace que las cosas sean mucho más concisas, legibles y rápidas.\n",
    "\n",
    "Esto permite que muchas operaciones que requieren bucles, podemos evitarlas con una operación vectorial con arreglos de NumPy. Esto debido a que los bucles además de que pueden introducir errores, suelen ser menos eficientes."
   ]
  },
  {
   "cell_type": "markdown",
   "id": "1c455f53-5bd9-4c0f-a73a-8395d9b5e352",
   "metadata": {},
   "source": [
    "Evaluemos la sintaxis de algunas operaciones que pueden realizarse a un arreglo por medio de vectorización."
   ]
  },
  {
   "cell_type": "code",
   "execution_count": 55,
   "id": "96b4c1a7-90e2-4d88-b60d-2bc5da216684",
   "metadata": {},
   "outputs": [
    {
     "data": {
      "text/plain": [
       "array([47, 35, 43, 41, 22, 27, 40,  3, 16, 22,  3, 20,  0, 47, 45, 42,  5,\n",
       "       22, 35, 35])"
      ]
     },
     "execution_count": 55,
     "metadata": {},
     "output_type": "execute_result"
    }
   ],
   "source": [
    "arrInt = np.random.randint(0,50,20)\n",
    "arrInt"
   ]
  },
  {
   "cell_type": "code",
   "execution_count": 56,
   "id": "e31266a6-c5a8-4ba6-8306-041737b44741",
   "metadata": {},
   "outputs": [
    {
     "data": {
      "text/plain": [
       "array([57, 45, 53, 51, 32, 37, 50, 13, 26, 32, 13, 30, 10, 57, 55, 52, 15,\n",
       "       32, 45, 45])"
      ]
     },
     "execution_count": 56,
     "metadata": {},
     "output_type": "execute_result"
    }
   ],
   "source": [
    "# Sumar 10 a cada número\n",
    "arrInt + 10"
   ]
  },
  {
   "cell_type": "code",
   "execution_count": 57,
   "id": "6b087987-bf1f-493d-b5e3-0d062022c88f",
   "metadata": {},
   "outputs": [
    {
     "data": {
      "text/plain": [
       "array([94, 70, 86, 82, 44, 54, 80,  6, 32, 44,  6, 40,  0, 94, 90, 84, 10,\n",
       "       44, 70, 70])"
      ]
     },
     "execution_count": 57,
     "metadata": {},
     "output_type": "execute_result"
    }
   ],
   "source": [
    "# Duplicar cada elemento\n",
    "arrInt * 2"
   ]
  },
  {
   "cell_type": "code",
   "execution_count": 58,
   "id": "4f82e217-20f9-4536-9bbb-3bd84ac34696",
   "metadata": {},
   "outputs": [
    {
     "data": {
      "text/plain": [
       "array([103823,  42875,  79507,  68921,  10648,  19683,  64000,     27,\n",
       "         4096,  10648,     27,   8000,      0, 103823,  91125,  74088,\n",
       "          125,  10648,  42875,  42875], dtype=int32)"
      ]
     },
     "execution_count": 58,
     "metadata": {},
     "output_type": "execute_result"
    }
   ],
   "source": [
    "# Elevar cada elemento al cubo\n",
    "arrInt ** 3"
   ]
  },
  {
   "cell_type": "markdown",
   "id": "3e9a2e8c-10fc-4f79-80e5-d1e038f94096",
   "metadata": {},
   "source": [
    "Podemos llevar esto un paso más allá y definir nuestras propias funciones vectorizadas, las cuales funcionarán con una eficiencia extremadamente alta. Supongamos que necesitamos realizar una serie de transformaciones. Podemos incluirlas en una función para que sean un poco más legibles.\n",
    "\n",
    "Simplemente podemos declarar exactamente lo que queremos que se haga con cada objeto."
   ]
  },
  {
   "cell_type": "code",
   "execution_count": 60,
   "id": "e52dd913-ee29-4c3d-8e93-f1a8e3080b18",
   "metadata": {},
   "outputs": [],
   "source": [
    "def opera(obj):\n",
    "    return ((obj * 2) - 1)"
   ]
  },
  {
   "cell_type": "markdown",
   "id": "07ca9862-4251-4b0f-a305-ccee2b48070e",
   "metadata": {},
   "source": [
    "Esta función podríamos aplicarla a un entero."
   ]
  },
  {
   "cell_type": "code",
   "execution_count": 62,
   "id": "bfd65909-1189-4c43-a29d-0bed35703008",
   "metadata": {},
   "outputs": [
    {
     "data": {
      "text/plain": [
       "3"
      ]
     },
     "execution_count": 62,
     "metadata": {},
     "output_type": "execute_result"
    }
   ],
   "source": [
    "opera(2)"
   ]
  },
  {
   "cell_type": "markdown",
   "id": "e4009457-fb5f-4673-8fc3-ba09f529758a",
   "metadata": {},
   "source": [
    "Y podríamos también aplicarlo a un arreglo"
   ]
  },
  {
   "cell_type": "code",
   "execution_count": 64,
   "id": "0a57da65-b0d7-41f8-b3ef-0724bede433a",
   "metadata": {},
   "outputs": [
    {
     "data": {
      "text/plain": [
       "array([93, 69, 85, 81, 43, 53, 79,  5, 31, 43,  5, 39, -1, 93, 89, 83,  9,\n",
       "       43, 69, 69])"
      ]
     },
     "execution_count": 64,
     "metadata": {},
     "output_type": "execute_result"
    }
   ],
   "source": [
    "opera(arrInt)"
   ]
  },
  {
   "cell_type": "markdown",
   "id": "c2facc84-40ab-4cc5-9fa1-4e4da156852b",
   "metadata": {},
   "source": [
    "Aunque esto funcionó, a veces no lo hará, como por ejemplo si incluimos filtros o tenemos transformaciones específicas para ciertos valores. En esos casos, necesitamos usar la función `vectorize` para poder pasarle un arreglo. Definamos por ejemplo la siguiente función:"
   ]
  },
  {
   "cell_type": "code",
   "execution_count": 66,
   "id": "3ce4e8c7-788b-4dd2-bc05-f7417d93852c",
   "metadata": {},
   "outputs": [],
   "source": [
    "def paridad(x):\n",
    "    if x % 2 == 0:\n",
    "        return \"par\"\n",
    "    else:\n",
    "        return \"impar\""
   ]
  },
  {
   "cell_type": "markdown",
   "id": "1ea013e8-88e7-4986-94fc-7de68f5df041",
   "metadata": {},
   "source": [
    "Si intentamos aplicarla directamente sobre un arreglo obtendremos un error porque `paridad` no está diseñada para manejar arreglos, solo escalares:"
   ]
  },
  {
   "cell_type": "code",
   "execution_count": 68,
   "id": "378fa0eb-54cb-40d0-b300-c60820652939",
   "metadata": {},
   "outputs": [
    {
     "data": {
      "text/plain": [
       "'impar'"
      ]
     },
     "execution_count": 68,
     "metadata": {},
     "output_type": "execute_result"
    }
   ],
   "source": [
    "paridad(3)"
   ]
  },
  {
   "cell_type": "code",
   "execution_count": 69,
   "id": "f9db98f5-83c7-4c45-95ff-7d89782ed932",
   "metadata": {},
   "outputs": [],
   "source": [
    "# paridad(arrInt)"
   ]
  },
  {
   "cell_type": "markdown",
   "id": "dda20007-ed39-461e-abff-58bb349908d8",
   "metadata": {},
   "source": [
    "Pero `np.vectorize` permite que una función que trabaja sobre escalares se aplique elemento por elemento sobre un arreglo, como si fuera una versión “universal” de la función."
   ]
  },
  {
   "cell_type": "code",
   "execution_count": 71,
   "id": "08e6d60c-4f90-4f9c-9cda-557fa0951899",
   "metadata": {},
   "outputs": [],
   "source": [
    "paridadVec = np.vectorize(paridad)"
   ]
  },
  {
   "cell_type": "code",
   "execution_count": 72,
   "id": "6935bfc9-9026-48c4-ab51-c039c364cfed",
   "metadata": {},
   "outputs": [
    {
     "data": {
      "text/plain": [
       "array('impar', dtype='<U5')"
      ]
     },
     "execution_count": 72,
     "metadata": {},
     "output_type": "execute_result"
    }
   ],
   "source": [
    "paridadVec(3)"
   ]
  },
  {
   "cell_type": "code",
   "execution_count": 73,
   "id": "ff404e5c-3e97-446e-921c-f79fe6b0b951",
   "metadata": {},
   "outputs": [
    {
     "data": {
      "text/plain": [
       "array(['impar', 'impar', 'impar', 'impar', 'par', 'impar', 'par', 'impar',\n",
       "       'par', 'par', 'impar', 'par', 'par', 'impar', 'impar', 'par',\n",
       "       'impar', 'par', 'impar', 'impar'], dtype='<U5')"
      ]
     },
     "execution_count": 73,
     "metadata": {},
     "output_type": "execute_result"
    }
   ],
   "source": [
    "paridadVec(arrInt)"
   ]
  },
  {
   "cell_type": "markdown",
   "id": "9373fa62-51ee-4354-b67b-41ce0242df3a",
   "metadata": {},
   "source": [
    "## <a style=\"padding:3px;color: #FF4D4D; \"><strong>Selección Booleana</strong></a>"
   ]
  },
  {
   "cell_type": "markdown",
   "id": "38502a4b-bbd2-4bb1-a99e-531497e606e1",
   "metadata": {},
   "source": [
    "La selección Booleana en los arreglos es útil porque nos permite pedirle a la computadora lo que queremos en lugar de decirle exactamente cómo hacerlo (pensamiento declarativo en lugar de imperativo).\n",
    "\n",
    "Por lo que la computadora lo ejecutará de la forma más eficiente posible."
   ]
  },
  {
   "cell_type": "code",
   "execution_count": 76,
   "id": "0dc4aafc-862c-4fb0-9808-3a9a276b4a88",
   "metadata": {},
   "outputs": [
    {
     "data": {
      "text/plain": [
       "array([ 0,  1,  2,  3,  4,  5,  6,  7,  8,  9, 10, 11, 12, 13, 14, 15, 16,\n",
       "       17, 18, 19])"
      ]
     },
     "execution_count": 76,
     "metadata": {},
     "output_type": "execute_result"
    }
   ],
   "source": [
    "arr = np.arange(20)\n",
    "arr"
   ]
  },
  {
   "cell_type": "code",
   "execution_count": 77,
   "id": "374a9185-7ab4-4d7b-9b37-f6fcf1f3e98c",
   "metadata": {},
   "outputs": [
    {
     "data": {
      "text/plain": [
       "[0, 2, 4, 6, 8, 10, 12, 14, 16, 18]"
      ]
     },
     "execution_count": 77,
     "metadata": {},
     "output_type": "execute_result"
    }
   ],
   "source": [
    "# Forma imperativa\n",
    "[x for x in arr if x % 2 == 0]"
   ]
  },
  {
   "cell_type": "code",
   "execution_count": 78,
   "id": "2d9e5b65-b1aa-4b56-bf5a-ddc227a36ce6",
   "metadata": {},
   "outputs": [
    {
     "data": {
      "text/plain": [
       "array([ 0,  2,  4,  6,  8, 10, 12, 14, 16, 18])"
      ]
     },
     "execution_count": 78,
     "metadata": {},
     "output_type": "execute_result"
    }
   ],
   "source": [
    "# Forma declarativa Python NumPy\n",
    "arr[arr % 2 == 0]"
   ]
  },
  {
   "cell_type": "markdown",
   "id": "1a9ce693-f976-42d3-9f80-fefb2ca927a5",
   "metadata": {},
   "source": [
    "Esto, además de que es más corto de escribir y más eficiente, introduce una nueva sintaxis así que desglosemos su significado. Observemos lo que tenemos dentro de los corchetes cuadrados"
   ]
  },
  {
   "cell_type": "code",
   "execution_count": 80,
   "id": "3d810ee1-9c19-4b79-8a45-24619214bcb8",
   "metadata": {},
   "outputs": [
    {
     "data": {
      "text/plain": [
       "array([ True, False,  True, False,  True, False,  True, False,  True,\n",
       "       False,  True, False,  True, False,  True, False,  True, False,\n",
       "        True, False])"
      ]
     },
     "execution_count": 80,
     "metadata": {},
     "output_type": "execute_result"
    }
   ],
   "source": [
    "arr % 2 == 0"
   ]
  },
  {
   "cell_type": "markdown",
   "id": "ba5a6b84-4837-4429-8027-53dc6e99507e",
   "metadata": {},
   "source": [
    "Tenemos una lista de objetos booleanos que corresponde a aplicar la función a cada elemento del arreglo original y evaluar la condición propuesta.\n",
    "\n",
    "Esto esencialmente es una operación de filtrado mucho más concisa conocida como **Selección Booleana**.\n",
    "\n",
    "Al ingresar esta lista de booleanos como \"índice\" de nuestro arreglo, estamos pidiéndole que filtre en el arreglo original, los valores en que la selección booleana arrojaron un resultado `True`, es tan simple como eso.\n",
    "\n",
    "¿Y qué tan importante es esta optimización?"
   ]
  },
  {
   "cell_type": "code",
   "execution_count": 82,
   "id": "7a0e4d68-cd9a-4bac-91d6-314bc5d3e963",
   "metadata": {},
   "outputs": [],
   "source": [
    "arr2 = np.arange(20000)"
   ]
  },
  {
   "cell_type": "code",
   "execution_count": 83,
   "id": "b52f3f7e-cede-4776-8b90-dca9355447d3",
   "metadata": {},
   "outputs": [
    {
     "name": "stdout",
     "output_type": "stream",
     "text": [
      "2.62 ms ± 194 μs per loop (mean ± std. dev. of 7 runs, 100 loops each)\n"
     ]
    }
   ],
   "source": [
    "%timeit [x for x in arr2 if x % 2 == 0]"
   ]
  },
  {
   "cell_type": "code",
   "execution_count": 84,
   "id": "0486d151-def2-48b0-8437-5bfe4563240f",
   "metadata": {},
   "outputs": [
    {
     "name": "stdout",
     "output_type": "stream",
     "text": [
      "137 μs ± 9.65 μs per loop (mean ± std. dev. of 7 runs, 10,000 loops each)\n"
     ]
    }
   ],
   "source": [
    "%timeit arr2[arr2 % 2 == 0]"
   ]
  },
  {
   "cell_type": "markdown",
   "id": "24f002fe-1096-4119-a549-3c434bb71845",
   "metadata": {},
   "source": [
    "Podemos ver que que es considerablemente más rápida la selección booleana pues está anclada en una librería de álgebra lineal optimizada que se encuentra en la computadora.\n",
    "\n",
    "Adicionalmente, permite operaciones unidas de maneras mucho más fáciles de entender que intentándolo por otros medios menos legibles como un bucle o una comprensión."
   ]
  },
  {
   "cell_type": "code",
   "execution_count": 86,
   "id": "4ee5ea71-f865-4396-8fe2-a0b3336abafa",
   "metadata": {},
   "outputs": [
    {
     "data": {
      "text/plain": [
       "array([ 0,  1,  2,  3,  4, 16, 17, 18, 19])"
      ]
     },
     "execution_count": 86,
     "metadata": {},
     "output_type": "execute_result"
    }
   ],
   "source": [
    "# Mayores a 15 o menores a 5\n",
    "arr[(arr > 15) | (arr < 5)]"
   ]
  },
  {
   "cell_type": "code",
   "execution_count": 87,
   "id": "1a106995-154b-4c3b-838b-4bebcb8f3086",
   "metadata": {},
   "outputs": [
    {
     "data": {
      "text/plain": [
       "array([ 6,  7,  8,  9, 10, 11, 12, 13, 14])"
      ]
     },
     "execution_count": 87,
     "metadata": {},
     "output_type": "execute_result"
    }
   ],
   "source": [
    "# Mayores a 5 y menores a 15\n",
    "arr[(arr > 5) & (arr < 15)]"
   ]
  },
  {
   "cell_type": "markdown",
   "id": "cac9e10e-b219-4472-aeca-c821b8e7f89a",
   "metadata": {},
   "source": [
    "En estos casos debemos usar paréntesis alrededor de las condiciones; de lo contrario, no funcionará, ya que Python no sabrá cómo combinar las distintas expresiones lógicas."
   ]
  },
  {
   "cell_type": "code",
   "execution_count": 89,
   "id": "7c572440-4a53-4457-8ce8-7fb3b6dade93",
   "metadata": {},
   "outputs": [
    {
     "data": {
      "text/plain": [
       "20"
      ]
     },
     "execution_count": 89,
     "metadata": {},
     "output_type": "execute_result"
    }
   ],
   "source": [
    "arr.size"
   ]
  },
  {
   "cell_type": "markdown",
   "id": "6ae515ca-c4ac-43db-b522-3a8e4115a93c",
   "metadata": {},
   "source": [
    "Además la selección Booleana no necesariamente tiene que hacerse con el mismo arreglo.\n",
    "\n",
    "Por ejemplo, imaginemos que el arreglo `arr` corresponde al número de cliente de un banco (del 1 al 20) y creamos otro arreglo que simula los saldos en sus cuentas."
   ]
  },
  {
   "cell_type": "code",
   "execution_count": 91,
   "id": "bc65f66e-877d-48a3-99f8-f671c6ab7028",
   "metadata": {},
   "outputs": [
    {
     "data": {
      "text/plain": [
       "array([10569, 49587, 49995, 16168, 48284,  9919, 25213,  3538,  4209,\n",
       "       12661, 48650,  4635, 15655, 26215, 26237, 48954, 36349, 45134,\n",
       "       18020, 22245])"
      ]
     },
     "execution_count": 91,
     "metadata": {},
     "output_type": "execute_result"
    }
   ],
   "source": [
    "saldos = np.random.randint(0,50000,20)\n",
    "saldos"
   ]
  },
  {
   "cell_type": "markdown",
   "id": "41f02f83-bc88-4d2b-bf57-daf3697c7460",
   "metadata": {},
   "source": [
    "Podemos seleccionar los elementos del arreglo de números original con base en el de los saldos. Imaginemos que queremos saber qué clientes tienen un saldo mayor a $25,000"
   ]
  },
  {
   "cell_type": "code",
   "execution_count": 93,
   "id": "f33afbf6-469b-4595-8aa5-77175ae21de4",
   "metadata": {},
   "outputs": [
    {
     "data": {
      "text/plain": [
       "array([ 1,  2,  4,  6, 10, 13, 14, 15, 16, 17])"
      ]
     },
     "execution_count": 93,
     "metadata": {},
     "output_type": "execute_result"
    }
   ],
   "source": [
    "arr[saldos > 25000]"
   ]
  },
  {
   "cell_type": "markdown",
   "id": "b1e13e31-3cd6-4b37-9bf7-3ad7f92d4f99",
   "metadata": {},
   "source": [
    "Únicamente debemos asegurar que estamos filtrando con un arreglo del mismo tamaño que el que estás tratando de filtrar; de lo contrario, NumPy no sabrá exactamente cómo aplicar el filtro."
   ]
  },
  {
   "cell_type": "markdown",
   "id": "0ef068b7-0ca6-4e46-a861-86aef6b194de",
   "metadata": {},
   "source": [
    "## <a style=\"padding:3px;color: #FF4D4D; \"><strong>Arreglos Multidimensionales</strong></a>"
   ]
  },
  {
   "cell_type": "markdown",
   "id": "5d0c47ae-47a2-46d2-a544-2562fb598d52",
   "metadata": {},
   "source": [
    "El tipo `numpy.ndarray` se refiere a un **arreglo de n-dimensiones** y `n` puede tomar el valor que nosotros quedamos.\n",
    "\n",
    "Por ejemplo, podemos crear una matriz de dos dimensiones, que contenga números aleatorios distribuidos uniformemente entre 0 y 1."
   ]
  },
  {
   "cell_type": "code",
   "execution_count": 97,
   "id": "ef17f3d3-ef55-4a0e-badd-824da4b9b576",
   "metadata": {},
   "outputs": [
    {
     "data": {
      "text/plain": [
       "array([[0.93644619, 0.4214693 , 0.30736838, 0.28692138],\n",
       "       [0.22362169, 0.79562162, 0.78817034, 0.92182275],\n",
       "       [0.57305706, 0.72811748, 0.02653336, 0.30172853],\n",
       "       [0.46860169, 0.19218127, 0.44905171, 0.7753946 ]])"
      ]
     },
     "execution_count": 97,
     "metadata": {},
     "output_type": "execute_result"
    }
   ],
   "source": [
    "np.random.rand(4,4)"
   ]
  },
  {
   "cell_type": "markdown",
   "id": "2d400334-e519-44ba-8af4-8b2d7931629b",
   "metadata": {},
   "source": [
    "O podemos crear un cubo tridimensional de números aleatorios."
   ]
  },
  {
   "cell_type": "code",
   "execution_count": 99,
   "id": "b79ee251-c7fa-4e4e-9439-36efee7fe8ba",
   "metadata": {},
   "outputs": [
    {
     "data": {
      "text/plain": [
       "array([[[7.03204326e-01, 1.75610821e-01, 2.52271387e-01, 5.66411724e-01],\n",
       "        [1.96070129e-02, 1.28388095e-01, 6.66946969e-01, 6.30426602e-02],\n",
       "        [3.53899777e-01, 9.79132365e-01, 1.41724752e-01, 9.60047333e-01],\n",
       "        [4.65224033e-01, 9.31306933e-01, 5.34657360e-01, 1.04999709e-01]],\n",
       "\n",
       "       [[1.75801790e-02, 9.53389897e-01, 8.11764323e-01, 5.46370981e-01],\n",
       "        [3.02887836e-01, 3.93622201e-01, 6.95084878e-02, 1.69480203e-01],\n",
       "        [5.68638113e-01, 6.20590615e-01, 1.07945969e-02, 2.60907277e-04],\n",
       "        [9.78062522e-01, 8.67533204e-01, 8.03039088e-01, 1.78863733e-01]],\n",
       "\n",
       "       [[8.35222125e-01, 6.83151384e-01, 3.82373232e-01, 9.61496337e-01],\n",
       "        [4.37040030e-01, 9.01958953e-01, 2.58635194e-01, 7.95718427e-01],\n",
       "        [5.77513175e-01, 6.79245201e-02, 9.73558008e-01, 8.67032429e-01],\n",
       "        [2.09753859e-01, 3.42712590e-02, 5.92622575e-01, 5.18493438e-01]],\n",
       "\n",
       "       [[9.01745915e-02, 1.81202566e-01, 9.89804263e-02, 9.47419981e-01],\n",
       "        [3.75831207e-01, 1.11152792e-02, 3.86179254e-02, 4.84953940e-01],\n",
       "        [8.52528956e-01, 6.14467261e-01, 8.21685198e-01, 5.68773940e-01],\n",
       "        [9.43814677e-01, 9.36181182e-01, 5.37179252e-01, 3.97093074e-01]]])"
      ]
     },
     "execution_count": 99,
     "metadata": {},
     "output_type": "execute_result"
    }
   ],
   "source": [
    "np.random.rand(4,4,4)"
   ]
  },
  {
   "cell_type": "markdown",
   "id": "b4da4af1-9b3d-402e-8765-cb96e4f91001",
   "metadata": {},
   "source": [
    "Y podríamos continuar en espacios dimensionales más altos como puede verse en la documentación de la función."
   ]
  },
  {
   "cell_type": "code",
   "execution_count": 101,
   "id": "97431abf-fe66-4903-ac7e-4422d6a7f640",
   "metadata": {
    "collapsed": true,
    "jupyter": {
     "outputs_hidden": true
    },
    "scrolled": true
   },
   "outputs": [
    {
     "data": {
      "text/plain": [
       "\u001b[1;31mDocstring:\u001b[0m\n",
       "rand(d0, d1, ..., dn)\n",
       "\n",
       "Random values in a given shape.\n",
       "\n",
       ".. note::\n",
       "    This is a convenience function for users porting code from Matlab,\n",
       "    and wraps `random_sample`. That function takes a\n",
       "    tuple to specify the size of the output, which is consistent with\n",
       "    other NumPy functions like `numpy.zeros` and `numpy.ones`.\n",
       "\n",
       "Create an array of the given shape and populate it with\n",
       "random samples from a uniform distribution\n",
       "over ``[0, 1)``.\n",
       "\n",
       "Parameters\n",
       "----------\n",
       "d0, d1, ..., dn : int, optional\n",
       "    The dimensions of the returned array, must be non-negative.\n",
       "    If no argument is given a single Python float is returned.\n",
       "\n",
       "Returns\n",
       "-------\n",
       "out : ndarray, shape ``(d0, d1, ..., dn)``\n",
       "    Random values.\n",
       "\n",
       "See Also\n",
       "--------\n",
       "random\n",
       "\n",
       "Examples\n",
       "--------\n",
       ">>> np.random.rand(3,2)\n",
       "array([[ 0.14022471,  0.96360618],  #random\n",
       "       [ 0.37601032,  0.25528411],  #random\n",
       "       [ 0.49313049,  0.94909878]]) #random\n",
       "\u001b[1;31mType:\u001b[0m      builtin_function_or_method"
      ]
     },
     "metadata": {},
     "output_type": "display_data"
    }
   ],
   "source": [
    "?np.random.rand"
   ]
  },
  {
   "cell_type": "markdown",
   "id": "03762d2f-b747-4952-9d1b-7fe0e25c394d",
   "metadata": {},
   "source": [
    "Los números que creamos se tomaron de una distribución uniforme, sin embargo **Numpy** ofrece muchas otras distribuciones con las que podemos trabajar."
   ]
  },
  {
   "cell_type": "code",
   "execution_count": 103,
   "id": "2b6476ad-f8eb-407f-bfe3-1fab48c8ef01",
   "metadata": {
    "collapsed": true,
    "jupyter": {
     "outputs_hidden": true
    },
    "scrolled": true
   },
   "outputs": [
    {
     "data": {
      "text/plain": [
       "\u001b[1;31mType:\u001b[0m        module\n",
       "\u001b[1;31mString form:\u001b[0m <module 'numpy.random' from 'C:\\\\Users\\\\emanu\\\\anaconda3\\\\Lib\\\\site-packages\\\\numpy\\\\random\\\\__init__.py'>\n",
       "\u001b[1;31mFile:\u001b[0m        c:\\users\\emanu\\anaconda3\\lib\\site-packages\\numpy\\random\\__init__.py\n",
       "\u001b[1;31mDocstring:\u001b[0m  \n",
       "========================\n",
       "Random Number Generation\n",
       "========================\n",
       "\n",
       "Use ``default_rng()`` to create a `Generator` and call its methods.\n",
       "\n",
       "=============== =========================================================\n",
       "Generator\n",
       "--------------- ---------------------------------------------------------\n",
       "Generator       Class implementing all of the random number distributions\n",
       "default_rng     Default constructor for ``Generator``\n",
       "=============== =========================================================\n",
       "\n",
       "============================================= ===\n",
       "BitGenerator Streams that work with Generator\n",
       "--------------------------------------------- ---\n",
       "MT19937\n",
       "PCG64\n",
       "PCG64DXSM\n",
       "Philox\n",
       "SFC64\n",
       "============================================= ===\n",
       "\n",
       "============================================= ===\n",
       "Getting entropy to initialize a BitGenerator\n",
       "--------------------------------------------- ---\n",
       "SeedSequence\n",
       "============================================= ===\n",
       "\n",
       "\n",
       "Legacy\n",
       "------\n",
       "\n",
       "For backwards compatibility with previous versions of numpy before 1.17, the\n",
       "various aliases to the global `RandomState` methods are left alone and do not\n",
       "use the new `Generator` API.\n",
       "\n",
       "==================== =========================================================\n",
       "Utility functions\n",
       "-------------------- ---------------------------------------------------------\n",
       "random               Uniformly distributed floats over ``[0, 1)``\n",
       "bytes                Uniformly distributed random bytes.\n",
       "permutation          Randomly permute a sequence / generate a random sequence.\n",
       "shuffle              Randomly permute a sequence in place.\n",
       "choice               Random sample from 1-D array.\n",
       "==================== =========================================================\n",
       "\n",
       "==================== =========================================================\n",
       "Compatibility\n",
       "functions - removed\n",
       "in the new API\n",
       "-------------------- ---------------------------------------------------------\n",
       "rand                 Uniformly distributed values.\n",
       "randn                Normally distributed values.\n",
       "ranf                 Uniformly distributed floating point numbers.\n",
       "random_integers      Uniformly distributed integers in a given range.\n",
       "                     (deprecated, use ``integers(..., closed=True)`` instead)\n",
       "random_sample        Alias for `random_sample`\n",
       "randint              Uniformly distributed integers in a given range\n",
       "seed                 Seed the legacy random number generator.\n",
       "==================== =========================================================\n",
       "\n",
       "==================== =========================================================\n",
       "Univariate\n",
       "distributions\n",
       "-------------------- ---------------------------------------------------------\n",
       "beta                 Beta distribution over ``[0, 1]``.\n",
       "binomial             Binomial distribution.\n",
       "chisquare            :math:`\\chi^2` distribution.\n",
       "exponential          Exponential distribution.\n",
       "f                    F (Fisher-Snedecor) distribution.\n",
       "gamma                Gamma distribution.\n",
       "geometric            Geometric distribution.\n",
       "gumbel               Gumbel distribution.\n",
       "hypergeometric       Hypergeometric distribution.\n",
       "laplace              Laplace distribution.\n",
       "logistic             Logistic distribution.\n",
       "lognormal            Log-normal distribution.\n",
       "logseries            Logarithmic series distribution.\n",
       "negative_binomial    Negative binomial distribution.\n",
       "noncentral_chisquare Non-central chi-square distribution.\n",
       "noncentral_f         Non-central F distribution.\n",
       "normal               Normal / Gaussian distribution.\n",
       "pareto               Pareto distribution.\n",
       "poisson              Poisson distribution.\n",
       "power                Power distribution.\n",
       "rayleigh             Rayleigh distribution.\n",
       "triangular           Triangular distribution.\n",
       "uniform              Uniform distribution.\n",
       "vonmises             Von Mises circular distribution.\n",
       "wald                 Wald (inverse Gaussian) distribution.\n",
       "weibull              Weibull distribution.\n",
       "zipf                 Zipf's distribution over ranked data.\n",
       "==================== =========================================================\n",
       "\n",
       "==================== ==========================================================\n",
       "Multivariate\n",
       "distributions\n",
       "-------------------- ----------------------------------------------------------\n",
       "dirichlet            Multivariate generalization of Beta distribution.\n",
       "multinomial          Multivariate generalization of the binomial distribution.\n",
       "multivariate_normal  Multivariate generalization of the normal distribution.\n",
       "==================== ==========================================================\n",
       "\n",
       "==================== =========================================================\n",
       "Standard\n",
       "distributions\n",
       "-------------------- ---------------------------------------------------------\n",
       "standard_cauchy      Standard Cauchy-Lorentz distribution.\n",
       "standard_exponential Standard exponential distribution.\n",
       "standard_gamma       Standard Gamma distribution.\n",
       "standard_normal      Standard normal distribution.\n",
       "standard_t           Standard Student's t-distribution.\n",
       "==================== =========================================================\n",
       "\n",
       "==================== =========================================================\n",
       "Internal functions\n",
       "-------------------- ---------------------------------------------------------\n",
       "get_state            Get tuple representing internal state of generator.\n",
       "set_state            Set state of generator.\n",
       "==================== ========================================================="
      ]
     },
     "metadata": {},
     "output_type": "display_data"
    }
   ],
   "source": [
    "?np.random"
   ]
  },
  {
   "cell_type": "markdown",
   "id": "7bc152bf-af88-43c0-b57e-fb068e14696a",
   "metadata": {},
   "source": [
    "Viendo la documentación del módulo `np.random`, tenemos una gran variedad de funciones a nuestra disposición, por ejemplo podemos generar un arreglo de número generados bajo una normal estándar."
   ]
  },
  {
   "cell_type": "code",
   "execution_count": 105,
   "id": "80448acb-2d0a-43d0-82c0-457ff7b6efab",
   "metadata": {},
   "outputs": [
    {
     "data": {
      "text/plain": [
       "array([-1.06338916, -0.52543547,  0.10352236,  1.18143051,  1.69884901,\n",
       "        0.70826935,  1.3708374 , -1.07292741, -2.59406488, -1.78566681,\n",
       "       -0.80573383,  1.19773583])"
      ]
     },
     "execution_count": 105,
     "metadata": {},
     "output_type": "execute_result"
    }
   ],
   "source": [
    "np.random.randn(12)"
   ]
  },
  {
   "cell_type": "markdown",
   "id": "83eadd5c-e018-4c12-a48d-381b7f85f943",
   "metadata": {},
   "source": [
    "Y este mismo arreglo podríamos reacomodarlo en una matriz 4x3 utilizando el método `reshape`."
   ]
  },
  {
   "cell_type": "code",
   "execution_count": 107,
   "id": "526032dd-085f-45a9-a3a1-f2323739457b",
   "metadata": {},
   "outputs": [
    {
     "data": {
      "text/plain": [
       "array([[-0.47780641,  0.4054726 , -0.05267069],\n",
       "       [ 0.13080776, -0.47667781,  1.09180015],\n",
       "       [-0.19618195,  0.39270173, -1.04722697],\n",
       "       [-0.01544438, -1.97421978, -0.25664123]])"
      ]
     },
     "execution_count": 107,
     "metadata": {},
     "output_type": "execute_result"
    }
   ],
   "source": [
    "ar = np.random.randn(12).reshape(4,3)\n",
    "ar"
   ]
  },
  {
   "cell_type": "markdown",
   "id": "acd089b7-d863-4ae9-831e-5d2d953263a7",
   "metadata": {},
   "source": [
    "Podemos también crear una matriz nula con el comando `zeros` que utiliza las dimensiones de la matriz como argumento"
   ]
  },
  {
   "cell_type": "code",
   "execution_count": 109,
   "id": "a82f1764-ca7a-4bd0-a586-0b6614ef8f40",
   "metadata": {},
   "outputs": [
    {
     "data": {
      "text/plain": [
       "array([[0., 0.],\n",
       "       [0., 0.],\n",
       "       [0., 0.],\n",
       "       [0., 0.],\n",
       "       [0., 0.]])"
      ]
     },
     "execution_count": 109,
     "metadata": {},
     "output_type": "execute_result"
    }
   ],
   "source": [
    "np.zeros((5,2))"
   ]
  },
  {
   "cell_type": "markdown",
   "id": "f4659980-593a-4ab9-895b-25fb735d0927",
   "metadata": {},
   "source": [
    "Una gran ventaja con NumPy es que muchas veces un resultado puede ser utilizado como entrada de otra función. Por ejemplo la función devuelve una tupla como la que se necesita en la función `zeros`"
   ]
  },
  {
   "cell_type": "code",
   "execution_count": 111,
   "id": "4f8a02a0-f1c2-472f-a6b3-250a40e7d6ee",
   "metadata": {},
   "outputs": [
    {
     "data": {
      "text/plain": [
       "(4, 3)"
      ]
     },
     "execution_count": 111,
     "metadata": {},
     "output_type": "execute_result"
    }
   ],
   "source": [
    "ar.shape"
   ]
  },
  {
   "cell_type": "code",
   "execution_count": 112,
   "id": "75a8d665-fcbc-4387-ada5-b398500d7361",
   "metadata": {},
   "outputs": [
    {
     "data": {
      "text/plain": [
       "array([[0., 0., 0.],\n",
       "       [0., 0., 0.],\n",
       "       [0., 0., 0.],\n",
       "       [0., 0., 0.]])"
      ]
     },
     "execution_count": 112,
     "metadata": {},
     "output_type": "execute_result"
    }
   ],
   "source": [
    "np.zeros(ar.shape)"
   ]
  },
  {
   "cell_type": "code",
   "execution_count": 113,
   "id": "d19e47d6-3c56-4682-9f2d-aca56b7270b9",
   "metadata": {},
   "outputs": [],
   "source": [
    "# np.random.seed(10)"
   ]
  },
  {
   "cell_type": "code",
   "execution_count": 114,
   "id": "2330da48-83a7-4cde-9f68-ed2111d392ec",
   "metadata": {},
   "outputs": [
    {
     "data": {
      "text/plain": [
       "array([[1, 6, 2, 5, 3],\n",
       "       [7, 6, 5, 7, 4],\n",
       "       [2, 5, 4, 9, 9],\n",
       "       [7, 6, 8, 2, 9],\n",
       "       [2, 7, 2, 4, 1]], dtype=uint32)"
      ]
     },
     "execution_count": 114,
     "metadata": {},
     "output_type": "execute_result"
    }
   ],
   "source": [
    "arr1 = np.random.randint(1,10,25).reshape(5,5).astype('uint')\n",
    "arr1"
   ]
  },
  {
   "cell_type": "code",
   "execution_count": 115,
   "id": "2a7a108c-54ba-463c-96e2-995aee3144ac",
   "metadata": {},
   "outputs": [
    {
     "data": {
      "text/plain": [
       "array([[9, 1, 5, 5, 8],\n",
       "       [4, 5, 2, 2, 2],\n",
       "       [6, 9, 1, 4, 1],\n",
       "       [8, 5, 7, 9, 9],\n",
       "       [8, 1, 9, 4, 9]], dtype=uint32)"
      ]
     },
     "execution_count": 115,
     "metadata": {},
     "output_type": "execute_result"
    }
   ],
   "source": [
    "arr2 = np.random.randint(1,10,25).reshape(5,5).astype('uint')\n",
    "arr2"
   ]
  },
  {
   "cell_type": "markdown",
   "id": "138393cf-f5be-4c46-8243-247f4eab84d6",
   "metadata": {},
   "source": [
    "Nuevamente podemos operar de forma vectorial si deseamos por ejemplo duplicar los elementos del primer arreglo."
   ]
  },
  {
   "cell_type": "code",
   "execution_count": 117,
   "id": "add4e292-4685-4b08-93b5-8e7288708cba",
   "metadata": {},
   "outputs": [
    {
     "data": {
      "text/plain": [
       "array([[ 2, 12,  4, 10,  6],\n",
       "       [14, 12, 10, 14,  8],\n",
       "       [ 4, 10,  8, 18, 18],\n",
       "       [14, 12, 16,  4, 18],\n",
       "       [ 4, 14,  4,  8,  2]], dtype=uint32)"
      ]
     },
     "execution_count": 117,
     "metadata": {},
     "output_type": "execute_result"
    }
   ],
   "source": [
    "arr1 * 2"
   ]
  },
  {
   "cell_type": "markdown",
   "id": "bb7ef674-1f1d-4506-8d7d-bf3df35ccffd",
   "metadata": {},
   "source": [
    "Podemos multiplicar elementos rápidamente uno a uno"
   ]
  },
  {
   "cell_type": "code",
   "execution_count": 119,
   "id": "eea0224a-2e43-4786-9a85-540a109b4faf",
   "metadata": {},
   "outputs": [
    {
     "data": {
      "text/plain": [
       "array([[ 9,  6, 10, 25, 24],\n",
       "       [28, 30, 10, 14,  8],\n",
       "       [12, 45,  4, 36,  9],\n",
       "       [56, 30, 56, 18, 81],\n",
       "       [16,  7, 18, 16,  9]], dtype=uint32)"
      ]
     },
     "execution_count": 119,
     "metadata": {},
     "output_type": "execute_result"
    }
   ],
   "source": [
    "arr1 * arr2"
   ]
  },
  {
   "cell_type": "markdown",
   "id": "0921d8f8-3d24-4ac1-8725-31e595ca77e7",
   "metadata": {},
   "source": [
    "Digamos ahora que queremos comparar valores entre ambos arreglos"
   ]
  },
  {
   "cell_type": "code",
   "execution_count": 121,
   "id": "b4265eed-5045-4990-a57c-2427733ee39e",
   "metadata": {},
   "outputs": [
    {
     "data": {
      "text/plain": [
       "array([[ True, False,  True, False,  True],\n",
       "       [False, False, False, False, False],\n",
       "       [ True,  True, False, False, False],\n",
       "       [ True, False, False,  True, False],\n",
       "       [ True, False,  True, False,  True]])"
      ]
     },
     "execution_count": 121,
     "metadata": {},
     "output_type": "execute_result"
    }
   ],
   "source": [
    "arr1 < arr2"
   ]
  },
  {
   "cell_type": "markdown",
   "id": "9f847bf0-b4f0-4da9-9d8c-7208bcc6148e",
   "metadata": {},
   "source": [
    "Esto se vuelve sorprendentemente fácil sin necesidad de hacer bucles complejos para lograr este mismo resultado."
   ]
  },
  {
   "cell_type": "markdown",
   "id": "504e64d0-f188-42b9-bd17-76f87449da19",
   "metadata": {},
   "source": [
    "Observemos que la salida fue un arreglo también"
   ]
  },
  {
   "cell_type": "markdown",
   "id": "a1666246-f5d9-47b6-9d87-cf454e01778e",
   "metadata": {},
   "source": [
    "## <a style=\"padding:3px;color: #FF4D4D; \"><strong>Funciones Básicas</strong></a>"
   ]
  },
  {
   "cell_type": "markdown",
   "id": "d6015f34-4b10-485f-8e54-4463e88681c3",
   "metadata": {},
   "source": [
    "Otra ventaja de los arreglos de Numpy es que tienen integradas muchas funciones comunes. Por ejemplo:"
   ]
  },
  {
   "cell_type": "code",
   "execution_count": 127,
   "id": "acd8e92a-6abf-4b5c-8955-93a435a9dd5a",
   "metadata": {},
   "outputs": [
    {
     "data": {
      "text/plain": [
       "array([[-0.47780641,  0.4054726 , -0.05267069],\n",
       "       [ 0.13080776, -0.47667781,  1.09180015],\n",
       "       [-0.19618195,  0.39270173, -1.04722697],\n",
       "       [-0.01544438, -1.97421978, -0.25664123]])"
      ]
     },
     "execution_count": 127,
     "metadata": {},
     "output_type": "execute_result"
    }
   ],
   "source": [
    "ar"
   ]
  },
  {
   "cell_type": "code",
   "execution_count": 128,
   "id": "c2614a63-80e5-4f2a-a39a-9a81f6c4d9fa",
   "metadata": {},
   "outputs": [
    {
     "data": {
      "text/plain": [
       "12"
      ]
     },
     "execution_count": 128,
     "metadata": {},
     "output_type": "execute_result"
    }
   ],
   "source": [
    "# Tamaño del arreglo\n",
    "ar.size"
   ]
  },
  {
   "cell_type": "code",
   "execution_count": 129,
   "id": "492936a1-afd2-4f3d-baa0-e845bd56f106",
   "metadata": {},
   "outputs": [
    {
     "data": {
      "text/plain": [
       "(4, 3)"
      ]
     },
     "execution_count": 129,
     "metadata": {},
     "output_type": "execute_result"
    }
   ],
   "source": [
    "# Forma del arreglo\n",
    "ar.shape"
   ]
  },
  {
   "cell_type": "code",
   "execution_count": 130,
   "id": "2ad2c18f-c1ba-4561-a05f-3cf27d1f169f",
   "metadata": {},
   "outputs": [
    {
     "data": {
      "text/plain": [
       "-2.476086955866845"
      ]
     },
     "execution_count": 130,
     "metadata": {},
     "output_type": "execute_result"
    }
   ],
   "source": [
    "# Suma de valores\n",
    "ar.sum()"
   ]
  },
  {
   "cell_type": "code",
   "execution_count": 131,
   "id": "a2dd0b27-233b-4bcb-850b-a9e4746e7ae2",
   "metadata": {},
   "outputs": [
    {
     "data": {
      "text/plain": [
       "1.0918001531277817"
      ]
     },
     "execution_count": 131,
     "metadata": {},
     "output_type": "execute_result"
    }
   ],
   "source": [
    "# Valor máximo\n",
    "ar.max()"
   ]
  },
  {
   "cell_type": "code",
   "execution_count": 132,
   "id": "b6a3fc43-64d6-4957-a226-39a374b868c9",
   "metadata": {},
   "outputs": [
    {
     "data": {
      "text/plain": [
       "-1.9742197808575133"
      ]
     },
     "execution_count": 132,
     "metadata": {},
     "output_type": "execute_result"
    }
   ],
   "source": [
    "# Valor mínimo\n",
    "ar.min()"
   ]
  },
  {
   "cell_type": "code",
   "execution_count": 133,
   "id": "1df072dd-2510-445f-94c8-3ba7c66b1d67",
   "metadata": {},
   "outputs": [
    {
     "data": {
      "text/plain": [
       "10"
      ]
     },
     "execution_count": 133,
     "metadata": {},
     "output_type": "execute_result"
    }
   ],
   "source": [
    "# Ubicación del mínimo\n",
    "ar.argmin()"
   ]
  },
  {
   "cell_type": "code",
   "execution_count": 134,
   "id": "ca668c6f-e767-484f-85ea-d0bb330c5c8b",
   "metadata": {},
   "outputs": [
    {
     "data": {
      "text/plain": [
       "5"
      ]
     },
     "execution_count": 134,
     "metadata": {},
     "output_type": "execute_result"
    }
   ],
   "source": [
    "# Ubicación del máximo\n",
    "ar.argmax()"
   ]
  },
  {
   "cell_type": "code",
   "execution_count": 135,
   "id": "fa568398-fd86-49ec-84d5-6883da39dd4a",
   "metadata": {},
   "outputs": [
    {
     "data": {
      "text/plain": [
       "-0.2063405796555704"
      ]
     },
     "execution_count": 135,
     "metadata": {},
     "output_type": "execute_result"
    }
   ],
   "source": [
    "# Media\n",
    "ar.mean()"
   ]
  },
  {
   "cell_type": "code",
   "execution_count": 136,
   "id": "238b2051-81ac-4f4a-a6b4-f6747cdb5264",
   "metadata": {},
   "outputs": [
    {
     "data": {
      "text/plain": [
       "0.5478297726802033"
      ]
     },
     "execution_count": 136,
     "metadata": {},
     "output_type": "execute_result"
    }
   ],
   "source": [
    "# Varianza\n",
    "ar.var()"
   ]
  },
  {
   "cell_type": "code",
   "execution_count": 137,
   "id": "096efc08-595a-4a44-92fc-326593f3db6f",
   "metadata": {},
   "outputs": [
    {
     "data": {
      "text/plain": [
       "0.740155235528469"
      ]
     },
     "execution_count": 137,
     "metadata": {},
     "output_type": "execute_result"
    }
   ],
   "source": [
    "# Desviación estándar\n",
    "ar.std()"
   ]
  },
  {
   "cell_type": "code",
   "execution_count": null,
   "id": "0f119fbb-f8cd-4082-8210-3dd1af7362d7",
   "metadata": {},
   "outputs": [],
   "source": [
    "# Mediana\n",
    "np.median(ar)"
   ]
  },
  {
   "cell_type": "markdown",
   "id": "767ffe96-67af-47f0-9174-e630302994da",
   "metadata": {},
   "source": [
    "Recordemos ahora los arreglos que estábamos comparando"
   ]
  },
  {
   "cell_type": "markdown",
   "id": "e1c6d33c-17b2-422b-b050-8df250234e19",
   "metadata": {},
   "source": [
    "Habrá veces en que queremos hacer estas operaciones por fila o por columna"
   ]
  },
  {
   "cell_type": "code",
   "execution_count": 140,
   "id": "2baad9b7-2007-421d-99a3-3f6849129717",
   "metadata": {},
   "outputs": [
    {
     "data": {
      "text/plain": [
       "array([[1, 6, 2, 5, 3],\n",
       "       [7, 6, 5, 7, 4],\n",
       "       [2, 5, 4, 9, 9],\n",
       "       [7, 6, 8, 2, 9],\n",
       "       [2, 7, 2, 4, 1]], dtype=uint32)"
      ]
     },
     "execution_count": 140,
     "metadata": {},
     "output_type": "execute_result"
    }
   ],
   "source": [
    "arr1"
   ]
  },
  {
   "cell_type": "markdown",
   "id": "2f1f34d5-92e0-4406-9372-ef6bcf4e6ae8",
   "metadata": {},
   "source": [
    "Por ejemplo aquí tenemos la suma por columnas `axis = 0`"
   ]
  },
  {
   "cell_type": "code",
   "execution_count": 142,
   "id": "e081945d-95da-4e9e-b9cf-451e2d62b2a8",
   "metadata": {},
   "outputs": [
    {
     "data": {
      "text/plain": [
       "array([19, 30, 21, 27, 26], dtype=uint32)"
      ]
     },
     "execution_count": 142,
     "metadata": {},
     "output_type": "execute_result"
    }
   ],
   "source": [
    "arr1.sum(axis = 0)"
   ]
  },
  {
   "cell_type": "markdown",
   "id": "8a5a888d-c7e0-4878-8903-5ce8158866e8",
   "metadata": {},
   "source": [
    "O la media por filas `axis = 1`"
   ]
  },
  {
   "cell_type": "code",
   "execution_count": 144,
   "id": "20f2f6db-22db-4383-9022-8f6322f0a092",
   "metadata": {},
   "outputs": [
    {
     "data": {
      "text/plain": [
       "array([3.4, 5.8, 5.8, 6.4, 3.2])"
      ]
     },
     "execution_count": 144,
     "metadata": {},
     "output_type": "execute_result"
    }
   ],
   "source": [
    "arr1.mean(axis = 1)"
   ]
  },
  {
   "cell_type": "markdown",
   "id": "47df9399-ef72-4f2d-9fa4-ce23261a113f",
   "metadata": {},
   "source": [
    "El máximo de cada fila `axis = 1`"
   ]
  },
  {
   "cell_type": "code",
   "execution_count": 146,
   "id": "fe4fac0b-daff-47b6-b6bc-5c70a6c32853",
   "metadata": {},
   "outputs": [
    {
     "data": {
      "text/plain": [
       "array([6, 7, 9, 9, 7], dtype=uint32)"
      ]
     },
     "execution_count": 146,
     "metadata": {},
     "output_type": "execute_result"
    }
   ],
   "source": [
    "arr1.max(axis = 1)"
   ]
  },
  {
   "cell_type": "markdown",
   "id": "46eea200-097d-4cff-836e-d6bf88963290",
   "metadata": {},
   "source": [
    "El mínimo de cada columna `axis = 0`"
   ]
  },
  {
   "cell_type": "code",
   "execution_count": 148,
   "id": "cbb28cba-91b8-4dad-9ba4-2bebebfb5c64",
   "metadata": {},
   "outputs": [
    {
     "data": {
      "text/plain": [
       "array([1, 5, 2, 2, 1], dtype=uint32)"
      ]
     },
     "execution_count": 148,
     "metadata": {},
     "output_type": "execute_result"
    }
   ],
   "source": [
    "arr1.min(axis = 0)"
   ]
  },
  {
   "cell_type": "markdown",
   "id": "5bcc1b0a-f64f-4204-8973-fc82e61004f0",
   "metadata": {},
   "source": [
    "Tenemos también la posibilidad de calcular la transpuesta con las funciones `.T` o `.transpose()`"
   ]
  },
  {
   "cell_type": "code",
   "execution_count": 150,
   "id": "6ce638c8-992d-466a-b5ee-4d823bf047f4",
   "metadata": {},
   "outputs": [
    {
     "data": {
      "text/plain": [
       "array([[1, 7, 2, 7, 2],\n",
       "       [6, 6, 5, 6, 7],\n",
       "       [2, 5, 4, 8, 2],\n",
       "       [5, 7, 9, 2, 4],\n",
       "       [3, 4, 9, 9, 1]], dtype=uint32)"
      ]
     },
     "execution_count": 150,
     "metadata": {},
     "output_type": "execute_result"
    }
   ],
   "source": [
    "arr1.T"
   ]
  },
  {
   "cell_type": "code",
   "execution_count": 151,
   "id": "f207e7e7-52e6-4f14-9dd7-0855d17cbd65",
   "metadata": {},
   "outputs": [
    {
     "data": {
      "text/plain": [
       "array([[1, 7, 2, 7, 2],\n",
       "       [6, 6, 5, 6, 7],\n",
       "       [2, 5, 4, 8, 2],\n",
       "       [5, 7, 9, 2, 4],\n",
       "       [3, 4, 9, 9, 1]], dtype=uint32)"
      ]
     },
     "execution_count": 151,
     "metadata": {},
     "output_type": "execute_result"
    }
   ],
   "source": [
    "arr1.transpose()"
   ]
  },
  {
   "cell_type": "markdown",
   "id": "1fe5547b-55f1-4f3e-9d11-5bf161dfe606",
   "metadata": {},
   "source": [
    "También podemos aplanar el arreglo con la función `flatten()` que devuelve un nuevo arreglo, mientras que ravel apunta al arreglo original."
   ]
  },
  {
   "cell_type": "code",
   "execution_count": 153,
   "id": "116c28bf-f00b-48f3-8b42-6afcbddf9a72",
   "metadata": {},
   "outputs": [
    {
     "data": {
      "text/plain": [
       "array([1, 6, 2, 5, 3, 7, 6, 5, 7, 4, 2, 5, 4, 9, 9, 7, 6, 8, 2, 9, 2, 7,\n",
       "       2, 4, 1], dtype=uint32)"
      ]
     },
     "execution_count": 153,
     "metadata": {},
     "output_type": "execute_result"
    }
   ],
   "source": [
    "flat = arr1.flatten()\n",
    "flat"
   ]
  },
  {
   "cell_type": "code",
   "execution_count": 154,
   "id": "41317501-477b-486d-93c1-81f96d17e690",
   "metadata": {},
   "outputs": [
    {
     "data": {
      "text/plain": [
       "array([1, 7, 2, 7, 2, 6, 6, 5, 6, 7, 2, 5, 4, 8, 2, 5, 7, 9, 2, 4, 3, 4,\n",
       "       9, 9, 1], dtype=uint32)"
      ]
     },
     "execution_count": 154,
     "metadata": {},
     "output_type": "execute_result"
    }
   ],
   "source": [
    "flatF = arr1.flatten(order = 'F')\n",
    "flatF"
   ]
  },
  {
   "cell_type": "code",
   "execution_count": 155,
   "id": "0b40a6ac-900c-4e7b-a288-02f913820349",
   "metadata": {},
   "outputs": [
    {
     "data": {
      "text/plain": [
       "array([11,  6,  2,  5,  3,  7,  6,  5,  7,  4,  2,  5,  4,  9,  9,  7,  6,\n",
       "        8,  2,  9,  2,  7,  2,  4,  1], dtype=uint32)"
      ]
     },
     "execution_count": 155,
     "metadata": {},
     "output_type": "execute_result"
    }
   ],
   "source": [
    "flat[0] = 11\n",
    "flat"
   ]
  },
  {
   "cell_type": "code",
   "execution_count": 156,
   "id": "3bf36824-6d3e-4215-8213-9c9cc51209b6",
   "metadata": {},
   "outputs": [
    {
     "data": {
      "text/plain": [
       "array([[1, 6, 2, 5, 3],\n",
       "       [7, 6, 5, 7, 4],\n",
       "       [2, 5, 4, 9, 9],\n",
       "       [7, 6, 8, 2, 9],\n",
       "       [2, 7, 2, 4, 1]], dtype=uint32)"
      ]
     },
     "execution_count": 156,
     "metadata": {},
     "output_type": "execute_result"
    }
   ],
   "source": [
    "arr1"
   ]
  },
  {
   "cell_type": "markdown",
   "id": "de15a2f4-7226-4657-9bdd-bf3fa6ac0141",
   "metadata": {},
   "source": [
    "O podemos también utilizar la función `ravel()`, sin embargo esta segunda apunta al arreglo original"
   ]
  },
  {
   "cell_type": "code",
   "execution_count": 158,
   "id": "ab88e9d0-5b41-4c15-868c-832d8d2aa8d6",
   "metadata": {},
   "outputs": [
    {
     "data": {
      "text/plain": [
       "array([1, 6, 2, 5, 3, 7, 6, 5, 7, 4, 2, 5, 4, 9, 9, 7, 6, 8, 2, 9, 2, 7,\n",
       "       2, 4, 1], dtype=uint32)"
      ]
     },
     "execution_count": 158,
     "metadata": {},
     "output_type": "execute_result"
    }
   ],
   "source": [
    "rav = arr1.ravel()\n",
    "rav"
   ]
  },
  {
   "cell_type": "code",
   "execution_count": 159,
   "id": "0e8f9113-1afc-4474-9503-e8a1c281252d",
   "metadata": {},
   "outputs": [
    {
     "data": {
      "text/plain": [
       "array([11,  6,  2,  5,  3,  7,  6,  5,  7,  4,  2,  5,  4,  9,  9,  7,  6,\n",
       "        8,  2,  9,  2,  7,  2,  4,  1], dtype=uint32)"
      ]
     },
     "execution_count": 159,
     "metadata": {},
     "output_type": "execute_result"
    }
   ],
   "source": [
    "rav[0] = 11\n",
    "rav"
   ]
  },
  {
   "cell_type": "code",
   "execution_count": 160,
   "id": "da9ff5b0-c905-42d8-8439-771c9ea550d9",
   "metadata": {},
   "outputs": [
    {
     "data": {
      "text/plain": [
       "array([[11,  6,  2,  5,  3],\n",
       "       [ 7,  6,  5,  7,  4],\n",
       "       [ 2,  5,  4,  9,  9],\n",
       "       [ 7,  6,  8,  2,  9],\n",
       "       [ 2,  7,  2,  4,  1]], dtype=uint32)"
      ]
     },
     "execution_count": 160,
     "metadata": {},
     "output_type": "execute_result"
    }
   ],
   "source": [
    "arr1"
   ]
  },
  {
   "cell_type": "markdown",
   "id": "5c725631-f6c3-4c06-ad54-82d836795a41",
   "metadata": {},
   "source": [
    "Podemos usar otras funciones útiles como `cumsum` y `cumprod` para obtener las sumas y productos acumulativos. Esto funciona para arreglos de cualquier dimensión."
   ]
  },
  {
   "cell_type": "code",
   "execution_count": 162,
   "id": "eb4e0603-3db3-486d-83b9-1187fe14c05d",
   "metadata": {},
   "outputs": [
    {
     "data": {
      "text/plain": [
       "array([ 11,  17,  19,  24,  27,  34,  40,  45,  52,  56,  58,  63,  67,\n",
       "        76,  85,  92,  98, 106, 108, 117, 119, 126, 128, 132, 133],\n",
       "      dtype=uint32)"
      ]
     },
     "execution_count": 162,
     "metadata": {},
     "output_type": "execute_result"
    }
   ],
   "source": [
    "arr1.cumsum()"
   ]
  },
  {
   "cell_type": "code",
   "execution_count": 163,
   "id": "6a4cbe73-6893-4246-992c-77e950b1a591",
   "metadata": {},
   "outputs": [
    {
     "data": {
      "text/plain": [
       "array([        11,         66,        132,        660,       1980,\n",
       "            13860,      83160,     415800,    2910600,   11642400,\n",
       "         23284800,  116424000,  465696000, 4191264000, 3361637632,\n",
       "       2056626944, 3749827072, 4228812800, 4162658304, 3104186368,\n",
       "       1913405440,  508936192, 1017872384, 4071489536, 4071489536],\n",
       "      dtype=uint32)"
      ]
     },
     "execution_count": 163,
     "metadata": {},
     "output_type": "execute_result"
    }
   ],
   "source": [
    "arr1.cumprod()"
   ]
  },
  {
   "cell_type": "markdown",
   "id": "9405e0cb-3ece-4090-8d9d-83e1d0f11994",
   "metadata": {},
   "source": [
    "Recordemos también que al comparar dos arreglos obtuvimos a su vez un arreglo (de Booleanos). Podemos también operar sobre este:"
   ]
  },
  {
   "cell_type": "code",
   "execution_count": 165,
   "id": "0e7041dc-89aa-4f23-a2c9-08c9123d8f4d",
   "metadata": {},
   "outputs": [
    {
     "data": {
      "text/plain": [
       "array([[ True,  True, False, False, False],\n",
       "       [ True,  True,  True,  True,  True],\n",
       "       [False, False,  True,  True,  True],\n",
       "       [False,  True,  True, False, False],\n",
       "       [False,  True, False, False, False]])"
      ]
     },
     "execution_count": 165,
     "metadata": {},
     "output_type": "execute_result"
    }
   ],
   "source": [
    "arr1 > arr2"
   ]
  },
  {
   "cell_type": "markdown",
   "id": "d32c735d-c237-4964-bb82-7927e454fa9e",
   "metadata": {},
   "source": [
    "Y calcular cuántas veces fueron mayores los valores del primer arreglo."
   ]
  },
  {
   "cell_type": "code",
   "execution_count": 167,
   "id": "d03b7c3b-e57c-44f0-adb7-b1250b57a045",
   "metadata": {},
   "outputs": [
    {
     "data": {
      "text/plain": [
       "13"
      ]
     },
     "execution_count": 167,
     "metadata": {},
     "output_type": "execute_result"
    }
   ],
   "source": [
    "(arr1 > arr2).sum()"
   ]
  },
  {
   "cell_type": "markdown",
   "id": "9eb44c7a-4c44-4402-9333-76cbc6a46755",
   "metadata": {},
   "source": [
    "O cuántas veces contenían el mismo valor"
   ]
  },
  {
   "cell_type": "code",
   "execution_count": 169,
   "id": "b21d3a11-bf81-44e1-ab57-cd925de22e3a",
   "metadata": {},
   "outputs": [
    {
     "data": {
      "text/plain": [
       "3"
      ]
     },
     "execution_count": 169,
     "metadata": {},
     "output_type": "execute_result"
    }
   ],
   "source": [
    "(arr1 == arr2).sum()"
   ]
  },
  {
   "cell_type": "markdown",
   "id": "b26d9803-25d1-4faf-bf32-99a67f2195fa",
   "metadata": {},
   "source": [
    "## <a style=\"padding:3px;color: #FF4D4D; \"><strong>NaN</strong></a>"
   ]
  },
  {
   "cell_type": "markdown",
   "id": "97dac9e8-098e-4c4e-8f51-0ea32c36463c",
   "metadata": {},
   "source": [
    "Hay un tipo de objeto que aún no se ha mencionado y que es un poco difícil de describir: este es el valor `NaN` o \"not a number\" (no es un número).\n",
    "\n",
    "Esto seguramente aparecerá y puede alterar nuestro análisis. Los NaN son técnicamente flotantes, pero surgen en ciertas operaciones. Una forma en la que esto puede ocurrir es debido a divisiones extrañas que no devuelven un número real."
   ]
  },
  {
   "cell_type": "code",
   "execution_count": 172,
   "id": "0328ee02-b9dd-41ed-aa5b-cabe526a0bc4",
   "metadata": {},
   "outputs": [
    {
     "name": "stderr",
     "output_type": "stream",
     "text": [
      "C:\\Users\\emanu\\AppData\\Local\\Temp\\ipykernel_12736\\3713928926.py:1: RuntimeWarning: invalid value encountered in divide\n",
      "  problema = np.array([0.])/np.array([0.])\n"
     ]
    }
   ],
   "source": [
    "problema = np.array([0.])/np.array([0.])"
   ]
  },
  {
   "cell_type": "code",
   "execution_count": 173,
   "id": "01806aa2-9e93-42f3-b84f-b693f9f5099a",
   "metadata": {},
   "outputs": [
    {
     "data": {
      "text/plain": [
       "array([nan])"
      ]
     },
     "execution_count": 173,
     "metadata": {},
     "output_type": "execute_result"
    }
   ],
   "source": [
    "problema"
   ]
  },
  {
   "cell_type": "markdown",
   "id": "d293ae20-08e7-4c04-b4e1-268ae9ab7c47",
   "metadata": {},
   "source": [
    "También podemos obtener este valor de lo siguiente."
   ]
  },
  {
   "cell_type": "code",
   "execution_count": 175,
   "id": "e587e30e-2978-4ded-b43c-51234dba2caa",
   "metadata": {},
   "outputs": [
    {
     "data": {
      "text/plain": [
       "nan"
      ]
     },
     "execution_count": 175,
     "metadata": {},
     "output_type": "execute_result"
    }
   ],
   "source": [
    "np.nan"
   ]
  },
  {
   "cell_type": "markdown",
   "id": "551babad-01ea-4ebb-9a08-a78681a56474",
   "metadata": {},
   "source": [
    "Puede que nos estemos preguntando por qué esto es importante. \n",
    "\n",
    "Podríamos encontrarnos con estos valores en nuestro trabajo y tener que manejarlos. Si están dentro de un arreglo, necesitaremos asegurarnos de que se manejen correctamente, ya que pueden alterar nuestros cálculos. "
   ]
  },
  {
   "cell_type": "code",
   "execution_count": 177,
   "id": "aa2ad948-6d4e-4431-9e43-2a7c8a8e27cc",
   "metadata": {},
   "outputs": [
    {
     "data": {
      "text/plain": [
       "array([ 0.,  1.,  2.,  3.,  4.,  5.,  6.,  7.,  8.,  9., 10.],\n",
       "      dtype=float32)"
      ]
     },
     "execution_count": 177,
     "metadata": {},
     "output_type": "execute_result"
    }
   ],
   "source": [
    "ar = np.linspace(0,10,11).astype(np.float32)\n",
    "ar"
   ]
  },
  {
   "cell_type": "code",
   "execution_count": 178,
   "id": "0fbf396c-4c83-4281-acd8-8725f10c0570",
   "metadata": {},
   "outputs": [
    {
     "data": {
      "text/plain": [
       "array([nan,  1.,  2.,  3.,  4.,  5.,  6.,  7.,  8.,  9., 10.],\n",
       "      dtype=float32)"
      ]
     },
     "execution_count": 178,
     "metadata": {},
     "output_type": "execute_result"
    }
   ],
   "source": [
    "ar[0] = np.nan\n",
    "ar"
   ]
  },
  {
   "cell_type": "code",
   "execution_count": 179,
   "id": "cb50e198-01f5-4d09-8b00-e76aecaf4c80",
   "metadata": {},
   "outputs": [
    {
     "data": {
      "text/plain": [
       "nan"
      ]
     },
     "execution_count": 179,
     "metadata": {},
     "output_type": "execute_result"
    }
   ],
   "source": [
    "ar.min()"
   ]
  },
  {
   "cell_type": "code",
   "execution_count": 180,
   "id": "1ea4cc50-a325-4e1e-b4e5-bcf9d7d18c62",
   "metadata": {},
   "outputs": [
    {
     "data": {
      "text/plain": [
       "nan"
      ]
     },
     "execution_count": 180,
     "metadata": {},
     "output_type": "execute_result"
    }
   ],
   "source": [
    "ar.max()"
   ]
  },
  {
   "cell_type": "code",
   "execution_count": 181,
   "id": "bce16cb3-439f-435f-ad9b-a5648c3e448c",
   "metadata": {},
   "outputs": [
    {
     "data": {
      "text/plain": [
       "nan"
      ]
     },
     "execution_count": 181,
     "metadata": {},
     "output_type": "execute_result"
    }
   ],
   "source": [
    "ar.mean()"
   ]
  },
  {
   "cell_type": "markdown",
   "id": "2e9c9da3-a617-4126-b01f-3568d8c25fc8",
   "metadata": {},
   "source": [
    "Debemos estar al tanto de que existe una representación de valores faltantes o ilegales. En NumPy, estos valores no se manejan a menos que se sea explícito."
   ]
  },
  {
   "cell_type": "markdown",
   "id": "d5a1ac70-7ac7-480e-a991-89ada93bb831",
   "metadata": {},
   "source": [
    "## <a style=\"padding:3px;color: #FF4D4D; \"><strong>Consultas, Cortes y Combinación de Arreglos</strong></a>"
   ]
  }
 ],
 "metadata": {
  "kernelspec": {
   "display_name": "Python [conda env:base] *",
   "language": "python",
   "name": "conda-base-py"
  },
  "language_info": {
   "codemirror_mode": {
    "name": "ipython",
    "version": 3
   },
   "file_extension": ".py",
   "mimetype": "text/x-python",
   "name": "python",
   "nbconvert_exporter": "python",
   "pygments_lexer": "ipython3",
   "version": "3.11.5"
  }
 },
 "nbformat": 4,
 "nbformat_minor": 5
}
