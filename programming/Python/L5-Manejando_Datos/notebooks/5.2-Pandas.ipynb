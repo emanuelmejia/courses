{
 "cells": [
  {
   "cell_type": "markdown",
   "id": "1e1138ed-2d28-4236-a468-579752c082ff",
   "metadata": {},
   "source": [
    "<div style=\"padding:10px;background-color: #FF4D4D; color:white;font-size:28px;\"><strong>Pandas</strong></div>"
   ]
  },
  {
   "cell_type": "markdown",
   "id": "f2fd76bd-37c7-4668-95fb-bf2d11b94022",
   "metadata": {},
   "source": [
    "Como comentamos anteriormente, **NumPy** es la biblioteca fundamental que se encuentra en la base del ecosistema **PyData**. \n",
    "\n",
    "Es perfecta cuando estás desarrollando un nuevo modelo estadístico y quieres implementarlo, o cuando necesitas realizar muchas operaciones de álgebra lineal. \n",
    "\n",
    "Pero cuando tenemos un conjunto de datos tabular con una variedad de variables, sería complicado usar **NumPy** para preparar, explorar o analizar los datos. Simplemente de muy bajo nivel.\n",
    "\n",
    "Afortunadamente, para tareas como esas, tenemos [**Pandas**](http://pandas.pydata.org/), la biblioteca de análisis de datos de Python.\n",
    "\n",
    "Pandas es una biblioteca de código abierto, con licencia BSD (Berkeley Software Distribution), que ofrece estructuras de datos y herramientas de análisis de alto rendimiento y fácil uso para el lenguaje de programación Python.\n",
    "\n",
    "Pandas es, posiblemente, la biblioteca más importante que debemos conocer de Python para hacer análisis y ciencia de datos. \n",
    "\n",
    "Normalmente importamos `pandas` asignándole el nombre `pd`:"
   ]
  },
  {
   "cell_type": "code",
   "execution_count": 4,
   "id": "89a3ee69-0985-4f9b-9021-b8d716dedf65",
   "metadata": {},
   "outputs": [
    {
     "name": "stdout",
     "output_type": "stream",
     "text": [
      "1.26.4\n",
      "2.2.3\n"
     ]
    }
   ],
   "source": [
    "import numpy as np\n",
    "print(np.__version__)\n",
    "import pandas as pd\n",
    "print(pd.__version__)\n",
    "\n",
    "# Establecer una semilla para el número aleatorio\n",
    "np.random.seed(200)"
   ]
  },
  {
   "cell_type": "markdown",
   "id": "00b04a7c-7713-4f3c-92d2-38576da06c3e",
   "metadata": {},
   "source": [
    "Comencemos con una rápida introducción a los dos tipos principales en Pandas: la **Series** y el **DataFrame**."
   ]
  },
  {
   "cell_type": "markdown",
   "id": "3f0eeba5-f4f3-41e5-bd10-535411c96e49",
   "metadata": {},
   "source": [
    "## <a style=\"padding:3px;color: #FF4D4D; \"><strong>Series</strong></a>"
   ]
  },
  {
   "cell_type": "markdown",
   "id": "d9961451-ca0f-4947-9186-a3d340df9a23",
   "metadata": {},
   "source": [
    "Una Serie es la forma en que almacenamos una sola variable en **Pandas**. En realidad, es un contenedor (o envoltura) para un arreglo de NumPy."
   ]
  },
  {
   "cell_type": "code",
   "execution_count": 8,
   "id": "6e438194-f20e-44ff-815e-8b8ce728c93f",
   "metadata": {},
   "outputs": [
    {
     "data": {
      "text/plain": [
       "pandas.core.series.Series"
      ]
     },
     "execution_count": 8,
     "metadata": {},
     "output_type": "execute_result"
    }
   ],
   "source": [
    "pd.Series"
   ]
  },
  {
   "cell_type": "markdown",
   "id": "1fe4fd2d-d93c-4bb0-93c3-9c2017788b95",
   "metadata": {},
   "source": [
    "Vamos a crear una Series y a examinar sus componentes"
   ]
  },
  {
   "cell_type": "code",
   "execution_count": 10,
   "id": "797fec26-ed16-4033-9c0c-3e37fde9ad8d",
   "metadata": {},
   "outputs": [
    {
     "data": {
      "text/plain": [
       "0    76\n",
       "1    92\n",
       "2    85\n",
       "3    78\n",
       "4    94\n",
       "Name: semestral, dtype: int64"
      ]
     },
     "execution_count": 10,
     "metadata": {},
     "output_type": "execute_result"
    }
   ],
   "source": [
    "califs = pd.Series([76, 92, 85, 78, 94], name = 'semestral')\n",
    "califs"
   ]
  },
  {
   "cell_type": "markdown",
   "id": "0d2d748a-ed91-45af-8299-8c94e010f624",
   "metadata": {},
   "source": [
    "Primero, a la derecha tenemos los datos. De hecho, están almacenados como un *arreglo* de NumPy. Puedes extraerlos de la Series usando el atributo `values`."
   ]
  },
  {
   "cell_type": "code",
   "execution_count": 12,
   "id": "35b13194-e4b3-4e08-9c44-47efe3333f5f",
   "metadata": {},
   "outputs": [
    {
     "data": {
      "text/plain": [
       "array([76, 92, 85, 78, 94], dtype=int64)"
      ]
     },
     "execution_count": 12,
     "metadata": {},
     "output_type": "execute_result"
    }
   ],
   "source": [
    "califs.values"
   ]
  },
  {
   "cell_type": "markdown",
   "id": "7dd74570-cf69-491c-9496-1eb5044bc091",
   "metadata": {},
   "source": [
    "Como una Series está basada en un arreglo de NumPy, podemos usarla de misma manera en que usarías un arreglo de NumPy."
   ]
  },
  {
   "cell_type": "code",
   "execution_count": 14,
   "id": "f6bf98f8-2f7b-4803-bfb0-1847a36b06b1",
   "metadata": {},
   "outputs": [
    {
     "data": {
      "text/plain": [
       "0    77\n",
       "1    93\n",
       "2    86\n",
       "3    79\n",
       "4    95\n",
       "Name: semestral, dtype: int64"
      ]
     },
     "execution_count": 14,
     "metadata": {},
     "output_type": "execute_result"
    }
   ],
   "source": [
    "califs = califs + 1\n",
    "califs"
   ]
  },
  {
   "cell_type": "code",
   "execution_count": 15,
   "id": "64033d4b-3108-422d-a8dd-a91f98ae9109",
   "metadata": {},
   "outputs": [
    {
     "data": {
      "text/plain": [
       "0    False\n",
       "1     True\n",
       "2    False\n",
       "3    False\n",
       "4     True\n",
       "Name: semestral, dtype: bool"
      ]
     },
     "execution_count": 15,
     "metadata": {},
     "output_type": "execute_result"
    }
   ],
   "source": [
    "califs > 90"
   ]
  },
  {
   "cell_type": "markdown",
   "id": "dd4dbc42-3f8c-4b45-8e5d-0b28e7eed501",
   "metadata": {},
   "source": [
    "Volvamos a observar las diferentes partes de una Series. \n",
    "\n",
    "En la parte inferior de la salida impresa, podemos ver que le hemos dado un nombre. Aunque es opcional, es recomendable para mantener una estructura organizada.\n",
    "\n",
    "Finalmente, a la izquierda de los datos en el objeto Series, están los números 0, 1 y 2. Esto es algo llamado un **Índice** y es una secuencia de etiquetas para los datos.\n",
    "\n",
    "Este es un nuevo tipo de objeto en Python que no habíamos visto antes que también está basado en un arreglo de NumPy. Para acceder a él usaremos el atributo `index`."
   ]
  },
  {
   "cell_type": "code",
   "execution_count": 17,
   "id": "9bc1df26-e901-4960-86d9-2bf789f2edea",
   "metadata": {},
   "outputs": [
    {
     "data": {
      "text/plain": [
       "RangeIndex(start=0, stop=5, step=1)"
      ]
     },
     "execution_count": 17,
     "metadata": {},
     "output_type": "execute_result"
    }
   ],
   "source": [
    "califs.index"
   ]
  },
  {
   "cell_type": "code",
   "execution_count": 18,
   "id": "f18aed33-9f6b-47d4-9fa6-c1a2e4e9c5b8",
   "metadata": {},
   "outputs": [
    {
     "data": {
      "text/plain": [
       "77"
      ]
     },
     "execution_count": 18,
     "metadata": {},
     "output_type": "execute_result"
    }
   ],
   "source": [
    "califs[0]"
   ]
  },
  {
   "cell_type": "markdown",
   "id": "f952461d-8afe-4add-8a37-30f36400a4ef",
   "metadata": {},
   "source": [
    "De forma predeterminada, cuando creas una nueva Series, obtienes un índice que contiene los enteros 0, 1, 2, y así sucesivamente. Pero puedes cambiarlo por un índice diferente, y no tiene que ser numérico. \n",
    "\n",
    "De hecho, a menudo es útil tener etiquetas en forma de cadenas de texto para cada fila."
   ]
  },
  {
   "cell_type": "code",
   "execution_count": 20,
   "id": "70c6da07-615a-430a-bad4-d58fe3ca471c",
   "metadata": {},
   "outputs": [
    {
     "data": {
      "text/plain": [
       "estudiante\n",
       "Mario        77\n",
       "Alejandro    93\n",
       "Javier       86\n",
       "Luciana      79\n",
       "Sabrina      95\n",
       "Name: semestral, dtype: int64"
      ]
     },
     "execution_count": 20,
     "metadata": {},
     "output_type": "execute_result"
    }
   ],
   "source": [
    "califs.index = pd.Index([\"Mario\", \"Alejandro\", \"Javier\", \"Luciana\", \"Sabrina\"], name = 'estudiante')\n",
    "califs"
   ]
  },
  {
   "cell_type": "markdown",
   "id": "dce6d955-1b6e-4c8d-b8b6-f8c033f96445",
   "metadata": {},
   "source": [
    "Nota que, al igual que con una Series, podemos darle un nombre a un Index, aunque no es obligatorio.\n",
    "\n",
    "Ahora que tenemos un índice con cadenas de texto, podemos usar esas nuevas etiquetas para seleccionar valores."
   ]
  },
  {
   "cell_type": "code",
   "execution_count": 22,
   "id": "2579a27c-ae70-49f7-b144-1b9b0bae8c97",
   "metadata": {},
   "outputs": [
    {
     "data": {
      "text/plain": [
       "95"
      ]
     },
     "execution_count": 22,
     "metadata": {},
     "output_type": "execute_result"
    }
   ],
   "source": [
    "califs[\"Sabrina\"]"
   ]
  },
  {
   "cell_type": "markdown",
   "id": "5de217fc-7a32-4b26-be9a-ad30b10f0c87",
   "metadata": {},
   "source": [
    "También podemos asignar valores de este modo"
   ]
  },
  {
   "cell_type": "code",
   "execution_count": 24,
   "id": "f460e4cf-3040-4f54-b669-9def4d7f9735",
   "metadata": {},
   "outputs": [
    {
     "data": {
      "text/plain": [
       "estudiante\n",
       "Mario        77\n",
       "Alejandro    93\n",
       "Javier       88\n",
       "Luciana      79\n",
       "Sabrina      95\n",
       "Name: semestral, dtype: int64"
      ]
     },
     "execution_count": 24,
     "metadata": {},
     "output_type": "execute_result"
    }
   ],
   "source": [
    "califs[\"Javier\"] = 88\n",
    "califs"
   ]
  },
  {
   "cell_type": "markdown",
   "id": "d0598a61-74cb-413e-8ccb-edc9881e082b",
   "metadata": {},
   "source": [
    "Si pasamos una secuencia, podemos acceder a múltiples valores."
   ]
  },
  {
   "cell_type": "code",
   "execution_count": 26,
   "id": "6c06adca-75c6-44be-874a-47b13aa78c5f",
   "metadata": {},
   "outputs": [
    {
     "data": {
      "text/plain": [
       "estudiante\n",
       "Mario      77\n",
       "Luciana    79\n",
       "Name: semestral, dtype: int64"
      ]
     },
     "execution_count": 26,
     "metadata": {},
     "output_type": "execute_result"
    }
   ],
   "source": [
    "califs[[\"Mario\",\"Luciana\"]]"
   ]
  },
  {
   "cell_type": "markdown",
   "id": "f47489fb-df7d-4aa5-a7fa-445f377a2f8b",
   "metadata": {},
   "source": [
    "También podemos usar selección booleana, al igual que en NumPy."
   ]
  },
  {
   "cell_type": "code",
   "execution_count": 28,
   "id": "3317534a-9536-43d2-9838-4242328d4a7a",
   "metadata": {},
   "outputs": [
    {
     "data": {
      "text/plain": [
       "estudiante\n",
       "Alejandro    93\n",
       "Javier       88\n",
       "Sabrina      95\n",
       "Name: semestral, dtype: int64"
      ]
     },
     "execution_count": 28,
     "metadata": {},
     "output_type": "execute_result"
    }
   ],
   "source": [
    "califs[califs>80]"
   ]
  },
  {
   "cell_type": "markdown",
   "id": "9ef895e0-2e5d-4043-a687-b9b50b79bc23",
   "metadata": {},
   "source": [
    "Es importante notar que, no importa cómo manipulemos los datos, las etiquetas del índice siempre permanecen asociadas a sus correspondientes valores. \n",
    "\n",
    "El Índice funciona como una forma de hacer un seguimiento de lo que significa cada valor, incluso cuando los datos se reorganizan o cambia la cantidad de valores. A veces esto puede ser realmente importante."
   ]
  },
  {
   "cell_type": "markdown",
   "id": "a0cd1810-bf39-4b04-9b09-a94474edb54a",
   "metadata": {},
   "source": [
    "## <a style=\"padding:3px;color: #FF4D4D; \"><strong>DataFrame</strong></a>"
   ]
  },
  {
   "cell_type": "markdown",
   "id": "c21fdac0-0a06-4797-9413-cc5977d91df4",
   "metadata": {},
   "source": [
    "Un **DataFrame** es lo que obtenemos al combinar varias Series una al lado de la otra. \n",
    "\n",
    "Es una **tabla** rectangular de datos y cada columna podría tener un tipo de dato diferente."
   ]
  },
  {
   "cell_type": "code",
   "execution_count": 32,
   "id": "dbd62a17-b506-4c59-aaac-1dc6e92d2c16",
   "metadata": {},
   "outputs": [
    {
     "data": {
      "text/plain": [
       "pandas.core.frame.DataFrame"
      ]
     },
     "execution_count": 32,
     "metadata": {},
     "output_type": "execute_result"
    }
   ],
   "source": [
    "pd.DataFrame"
   ]
  },
  {
   "cell_type": "code",
   "execution_count": 33,
   "id": "ebf42625-8c08-487b-9f61-7e6bac3680f2",
   "metadata": {},
   "outputs": [
    {
     "data": {
      "text/plain": [
       "array([84, 91, 79, 85, 98])"
      ]
     },
     "execution_count": 33,
     "metadata": {},
     "output_type": "execute_result"
    }
   ],
   "source": [
    "np.random.randint(75,99,5)"
   ]
  },
  {
   "cell_type": "code",
   "execution_count": 34,
   "id": "39c96f3f-e5d2-4d64-9d2b-95c366c269d2",
   "metadata": {},
   "outputs": [],
   "source": [
    "calif1 = pd.Series([76, 92, 85, 78, 94, 83])\n",
    "calif2 = pd.Series([84, 89, 86, 82, 95, 83])\n",
    "\n",
    "# Estableciendo índices\n",
    "calif1.index = pd.Index([\"Mario\", \"Alejandro\", \"Javier\", \"Luciana\", \"Sabrina\", \"Beatriz\"], name = 'estudiante')\n",
    "calif2.index = calif1.index"
   ]
  },
  {
   "cell_type": "markdown",
   "id": "bff75e71-f568-475f-af7d-8f4e06bcc3c1",
   "metadata": {},
   "source": [
    "Un Índice es inmutable, por lo que es seguro tener dos Series que compartan un Índice."
   ]
  },
  {
   "cell_type": "code",
   "execution_count": 36,
   "id": "e042639a-8d18-4883-8e43-e7e1b0352c18",
   "metadata": {},
   "outputs": [
    {
     "data": {
      "text/plain": [
       "(estudiante\n",
       " Mario        76\n",
       " Alejandro    92\n",
       " Javier       85\n",
       " Luciana      78\n",
       " Sabrina      94\n",
       " Beatriz      83\n",
       " dtype: int64,\n",
       " estudiante\n",
       " Mario        84\n",
       " Alejandro    89\n",
       " Javier       86\n",
       " Luciana      82\n",
       " Sabrina      95\n",
       " Beatriz      83\n",
       " dtype: int64)"
      ]
     },
     "execution_count": 36,
     "metadata": {},
     "output_type": "execute_result"
    }
   ],
   "source": [
    "calif1, calif2"
   ]
  },
  {
   "cell_type": "markdown",
   "id": "42a3b868-9378-4073-b741-636dd928b04d",
   "metadata": {},
   "source": [
    "Podríamos pasar estas Series directamente al constructor `DataFrame` para crear un DataFrame."
   ]
  },
  {
   "cell_type": "code",
   "execution_count": 38,
   "id": "c87064ad-f7c6-4f37-80d9-4536ad98597d",
   "metadata": {},
   "outputs": [
    {
     "data": {
      "text/html": [
       "<div>\n",
       "<style scoped>\n",
       "    .dataframe tbody tr th:only-of-type {\n",
       "        vertical-align: middle;\n",
       "    }\n",
       "\n",
       "    .dataframe tbody tr th {\n",
       "        vertical-align: top;\n",
       "    }\n",
       "\n",
       "    .dataframe thead th {\n",
       "        text-align: right;\n",
       "    }\n",
       "</style>\n",
       "<table border=\"1\" class=\"dataframe\">\n",
       "  <thead>\n",
       "    <tr style=\"text-align: right;\">\n",
       "      <th>estudiante</th>\n",
       "      <th>Mario</th>\n",
       "      <th>Alejandro</th>\n",
       "      <th>Javier</th>\n",
       "      <th>Luciana</th>\n",
       "      <th>Sabrina</th>\n",
       "      <th>Beatriz</th>\n",
       "    </tr>\n",
       "  </thead>\n",
       "  <tbody>\n",
       "    <tr>\n",
       "      <th>0</th>\n",
       "      <td>76</td>\n",
       "      <td>92</td>\n",
       "      <td>85</td>\n",
       "      <td>78</td>\n",
       "      <td>94</td>\n",
       "      <td>83</td>\n",
       "    </tr>\n",
       "    <tr>\n",
       "      <th>1</th>\n",
       "      <td>84</td>\n",
       "      <td>89</td>\n",
       "      <td>86</td>\n",
       "      <td>82</td>\n",
       "      <td>95</td>\n",
       "      <td>83</td>\n",
       "    </tr>\n",
       "  </tbody>\n",
       "</table>\n",
       "</div>"
      ],
      "text/plain": [
       "estudiante  Mario  Alejandro  Javier  Luciana  Sabrina  Beatriz\n",
       "0              76         92      85       78       94       83\n",
       "1              84         89      86       82       95       83"
      ]
     },
     "execution_count": 38,
     "metadata": {},
     "output_type": "execute_result"
    }
   ],
   "source": [
    "boleta = pd.DataFrame([calif1, calif2])\n",
    "boleta"
   ]
  },
  {
   "cell_type": "markdown",
   "id": "7727cd0b-df6c-4545-bfe1-455ffe5dd79c",
   "metadata": {},
   "source": [
    "Si pasamos una lista de Series, estas se convierten en las filas, lo cual no es el comportamiento deseado. Podemos corregir esto transponiendo el DataFrame, tal como lo haríamos con un arreglo de NumPy."
   ]
  },
  {
   "cell_type": "code",
   "execution_count": 40,
   "id": "7da199d2-e6a6-4345-985f-74ad95618be0",
   "metadata": {},
   "outputs": [
    {
     "data": {
      "text/html": [
       "<div>\n",
       "<style scoped>\n",
       "    .dataframe tbody tr th:only-of-type {\n",
       "        vertical-align: middle;\n",
       "    }\n",
       "\n",
       "    .dataframe tbody tr th {\n",
       "        vertical-align: top;\n",
       "    }\n",
       "\n",
       "    .dataframe thead th {\n",
       "        text-align: right;\n",
       "    }\n",
       "</style>\n",
       "<table border=\"1\" class=\"dataframe\">\n",
       "  <thead>\n",
       "    <tr style=\"text-align: right;\">\n",
       "      <th></th>\n",
       "      <th>0</th>\n",
       "      <th>1</th>\n",
       "    </tr>\n",
       "    <tr>\n",
       "      <th>estudiante</th>\n",
       "      <th></th>\n",
       "      <th></th>\n",
       "    </tr>\n",
       "  </thead>\n",
       "  <tbody>\n",
       "    <tr>\n",
       "      <th>Mario</th>\n",
       "      <td>76</td>\n",
       "      <td>84</td>\n",
       "    </tr>\n",
       "    <tr>\n",
       "      <th>Alejandro</th>\n",
       "      <td>92</td>\n",
       "      <td>89</td>\n",
       "    </tr>\n",
       "    <tr>\n",
       "      <th>Javier</th>\n",
       "      <td>85</td>\n",
       "      <td>86</td>\n",
       "    </tr>\n",
       "    <tr>\n",
       "      <th>Luciana</th>\n",
       "      <td>78</td>\n",
       "      <td>82</td>\n",
       "    </tr>\n",
       "    <tr>\n",
       "      <th>Sabrina</th>\n",
       "      <td>94</td>\n",
       "      <td>95</td>\n",
       "    </tr>\n",
       "    <tr>\n",
       "      <th>Beatriz</th>\n",
       "      <td>83</td>\n",
       "      <td>83</td>\n",
       "    </tr>\n",
       "  </tbody>\n",
       "</table>\n",
       "</div>"
      ],
      "text/plain": [
       "             0   1\n",
       "estudiante        \n",
       "Mario       76  84\n",
       "Alejandro   92  89\n",
       "Javier      85  86\n",
       "Luciana     78  82\n",
       "Sabrina     94  95\n",
       "Beatriz     83  83"
      ]
     },
     "execution_count": 40,
     "metadata": {},
     "output_type": "execute_result"
    }
   ],
   "source": [
    "boleta = boleta.T\n",
    "boleta"
   ]
  },
  {
   "cell_type": "markdown",
   "id": "7d1e00ae-2ae8-4d66-b89e-48d66138f9c9",
   "metadata": {},
   "source": [
    "Si le damos un nombre a los objetos Series, esos se convertirán en los nombres de las columnas del DataFrame. Como no lo hicimos anteriormente, ahora podemos establecer manualmente los nombres de las columnas."
   ]
  },
  {
   "cell_type": "code",
   "execution_count": 42,
   "id": "0011e110-355d-4c63-9686-67d2f0a97b6d",
   "metadata": {},
   "outputs": [
    {
     "data": {
      "text/html": [
       "<div>\n",
       "<style scoped>\n",
       "    .dataframe tbody tr th:only-of-type {\n",
       "        vertical-align: middle;\n",
       "    }\n",
       "\n",
       "    .dataframe tbody tr th {\n",
       "        vertical-align: top;\n",
       "    }\n",
       "\n",
       "    .dataframe thead th {\n",
       "        text-align: right;\n",
       "    }\n",
       "</style>\n",
       "<table border=\"1\" class=\"dataframe\">\n",
       "  <thead>\n",
       "    <tr style=\"text-align: right;\">\n",
       "      <th></th>\n",
       "      <th>semestral</th>\n",
       "      <th>final</th>\n",
       "    </tr>\n",
       "    <tr>\n",
       "      <th>estudiante</th>\n",
       "      <th></th>\n",
       "      <th></th>\n",
       "    </tr>\n",
       "  </thead>\n",
       "  <tbody>\n",
       "    <tr>\n",
       "      <th>Mario</th>\n",
       "      <td>76</td>\n",
       "      <td>84</td>\n",
       "    </tr>\n",
       "    <tr>\n",
       "      <th>Alejandro</th>\n",
       "      <td>92</td>\n",
       "      <td>89</td>\n",
       "    </tr>\n",
       "    <tr>\n",
       "      <th>Javier</th>\n",
       "      <td>85</td>\n",
       "      <td>86</td>\n",
       "    </tr>\n",
       "    <tr>\n",
       "      <th>Luciana</th>\n",
       "      <td>78</td>\n",
       "      <td>82</td>\n",
       "    </tr>\n",
       "    <tr>\n",
       "      <th>Sabrina</th>\n",
       "      <td>94</td>\n",
       "      <td>95</td>\n",
       "    </tr>\n",
       "    <tr>\n",
       "      <th>Beatriz</th>\n",
       "      <td>83</td>\n",
       "      <td>83</td>\n",
       "    </tr>\n",
       "  </tbody>\n",
       "</table>\n",
       "</div>"
      ],
      "text/plain": [
       "            semestral  final\n",
       "estudiante                  \n",
       "Mario              76     84\n",
       "Alejandro          92     89\n",
       "Javier             85     86\n",
       "Luciana            78     82\n",
       "Sabrina            94     95\n",
       "Beatriz            83     83"
      ]
     },
     "execution_count": 42,
     "metadata": {},
     "output_type": "execute_result"
    }
   ],
   "source": [
    "boleta.columns = ['semestral','final']\n",
    "boleta"
   ]
  },
  {
   "cell_type": "markdown",
   "id": "dcace625-11b9-45d6-8867-10e20c50c413",
   "metadata": {},
   "source": [
    "Una forma mucho más conveniente de crear un DataFrame es pasar un diccionario. Esto también te da una forma fácil de establecer los nombres de las columnas."
   ]
  },
  {
   "cell_type": "code",
   "execution_count": 44,
   "id": "592af41d-7e36-4e11-8b9a-23a16fddda3d",
   "metadata": {},
   "outputs": [
    {
     "data": {
      "text/html": [
       "<div>\n",
       "<style scoped>\n",
       "    .dataframe tbody tr th:only-of-type {\n",
       "        vertical-align: middle;\n",
       "    }\n",
       "\n",
       "    .dataframe tbody tr th {\n",
       "        vertical-align: top;\n",
       "    }\n",
       "\n",
       "    .dataframe thead th {\n",
       "        text-align: right;\n",
       "    }\n",
       "</style>\n",
       "<table border=\"1\" class=\"dataframe\">\n",
       "  <thead>\n",
       "    <tr style=\"text-align: right;\">\n",
       "      <th></th>\n",
       "      <th>semestral</th>\n",
       "      <th>final</th>\n",
       "    </tr>\n",
       "    <tr>\n",
       "      <th>estudiante</th>\n",
       "      <th></th>\n",
       "      <th></th>\n",
       "    </tr>\n",
       "  </thead>\n",
       "  <tbody>\n",
       "    <tr>\n",
       "      <th>Mario</th>\n",
       "      <td>76</td>\n",
       "      <td>84</td>\n",
       "    </tr>\n",
       "    <tr>\n",
       "      <th>Alejandro</th>\n",
       "      <td>92</td>\n",
       "      <td>89</td>\n",
       "    </tr>\n",
       "    <tr>\n",
       "      <th>Javier</th>\n",
       "      <td>85</td>\n",
       "      <td>86</td>\n",
       "    </tr>\n",
       "    <tr>\n",
       "      <th>Luciana</th>\n",
       "      <td>78</td>\n",
       "      <td>82</td>\n",
       "    </tr>\n",
       "    <tr>\n",
       "      <th>Sabrina</th>\n",
       "      <td>94</td>\n",
       "      <td>95</td>\n",
       "    </tr>\n",
       "    <tr>\n",
       "      <th>Beatriz</th>\n",
       "      <td>83</td>\n",
       "      <td>83</td>\n",
       "    </tr>\n",
       "  </tbody>\n",
       "</table>\n",
       "</div>"
      ],
      "text/plain": [
       "            semestral  final\n",
       "estudiante                  \n",
       "Mario              76     84\n",
       "Alejandro          92     89\n",
       "Javier             85     86\n",
       "Luciana            78     82\n",
       "Sabrina            94     95\n",
       "Beatriz            83     83"
      ]
     },
     "execution_count": 44,
     "metadata": {},
     "output_type": "execute_result"
    }
   ],
   "source": [
    "boleta = pd.DataFrame({'semestral': calif1, 'final': calif2})\n",
    "boleta"
   ]
  },
  {
   "cell_type": "markdown",
   "id": "db1af41c-28bf-40dd-89ee-f0330b49c902",
   "metadata": {},
   "source": [
    "Si el comando anterior coloca las columnas en el orden incorrecto, podemos corregirlo con el argumento `columns`."
   ]
  },
  {
   "cell_type": "code",
   "execution_count": 46,
   "id": "cb436349-e71f-4338-a47a-b915533e3225",
   "metadata": {},
   "outputs": [
    {
     "data": {
      "text/html": [
       "<div>\n",
       "<style scoped>\n",
       "    .dataframe tbody tr th:only-of-type {\n",
       "        vertical-align: middle;\n",
       "    }\n",
       "\n",
       "    .dataframe tbody tr th {\n",
       "        vertical-align: top;\n",
       "    }\n",
       "\n",
       "    .dataframe thead th {\n",
       "        text-align: right;\n",
       "    }\n",
       "</style>\n",
       "<table border=\"1\" class=\"dataframe\">\n",
       "  <thead>\n",
       "    <tr style=\"text-align: right;\">\n",
       "      <th></th>\n",
       "      <th>semestral</th>\n",
       "      <th>final</th>\n",
       "    </tr>\n",
       "    <tr>\n",
       "      <th>estudiante</th>\n",
       "      <th></th>\n",
       "      <th></th>\n",
       "    </tr>\n",
       "  </thead>\n",
       "  <tbody>\n",
       "    <tr>\n",
       "      <th>Mario</th>\n",
       "      <td>76</td>\n",
       "      <td>84</td>\n",
       "    </tr>\n",
       "    <tr>\n",
       "      <th>Alejandro</th>\n",
       "      <td>92</td>\n",
       "      <td>89</td>\n",
       "    </tr>\n",
       "    <tr>\n",
       "      <th>Javier</th>\n",
       "      <td>85</td>\n",
       "      <td>86</td>\n",
       "    </tr>\n",
       "    <tr>\n",
       "      <th>Luciana</th>\n",
       "      <td>78</td>\n",
       "      <td>82</td>\n",
       "    </tr>\n",
       "    <tr>\n",
       "      <th>Sabrina</th>\n",
       "      <td>94</td>\n",
       "      <td>95</td>\n",
       "    </tr>\n",
       "    <tr>\n",
       "      <th>Beatriz</th>\n",
       "      <td>83</td>\n",
       "      <td>83</td>\n",
       "    </tr>\n",
       "  </tbody>\n",
       "</table>\n",
       "</div>"
      ],
      "text/plain": [
       "            semestral  final\n",
       "estudiante                  \n",
       "Mario              76     84\n",
       "Alejandro          92     89\n",
       "Javier             85     86\n",
       "Luciana            78     82\n",
       "Sabrina            94     95\n",
       "Beatriz            83     83"
      ]
     },
     "execution_count": 46,
     "metadata": {},
     "output_type": "execute_result"
    }
   ],
   "source": [
    "boleta = pd.DataFrame({'semestral': calif1, 'final': calif2}, columns = ['semestral','final'])\n",
    "boleta"
   ]
  },
  {
   "cell_type": "markdown",
   "id": "ff98dff3-05b7-4a3f-ae6e-f950a356ad79",
   "metadata": {},
   "source": [
    "En este caso, nuestro DataFrame es lo suficientemente pequeño como para verlo todo fácilmente. \n",
    "\n",
    "Sin embargo, muchas veces necesitaremos trabajar con DataFrames realmente grandes, y habrá que visualizar al menos algunas filas para ver qué contienen. Puedes hacer esto con el método `head()`."
   ]
  },
  {
   "cell_type": "code",
   "execution_count": 48,
   "id": "05a46381-71b0-4fd0-97a1-b0e1adf41c47",
   "metadata": {},
   "outputs": [
    {
     "data": {
      "text/html": [
       "<div>\n",
       "<style scoped>\n",
       "    .dataframe tbody tr th:only-of-type {\n",
       "        vertical-align: middle;\n",
       "    }\n",
       "\n",
       "    .dataframe tbody tr th {\n",
       "        vertical-align: top;\n",
       "    }\n",
       "\n",
       "    .dataframe thead th {\n",
       "        text-align: right;\n",
       "    }\n",
       "</style>\n",
       "<table border=\"1\" class=\"dataframe\">\n",
       "  <thead>\n",
       "    <tr style=\"text-align: right;\">\n",
       "      <th></th>\n",
       "      <th>semestral</th>\n",
       "      <th>final</th>\n",
       "    </tr>\n",
       "    <tr>\n",
       "      <th>estudiante</th>\n",
       "      <th></th>\n",
       "      <th></th>\n",
       "    </tr>\n",
       "  </thead>\n",
       "  <tbody>\n",
       "    <tr>\n",
       "      <th>Mario</th>\n",
       "      <td>76</td>\n",
       "      <td>84</td>\n",
       "    </tr>\n",
       "    <tr>\n",
       "      <th>Alejandro</th>\n",
       "      <td>92</td>\n",
       "      <td>89</td>\n",
       "    </tr>\n",
       "    <tr>\n",
       "      <th>Javier</th>\n",
       "      <td>85</td>\n",
       "      <td>86</td>\n",
       "    </tr>\n",
       "    <tr>\n",
       "      <th>Luciana</th>\n",
       "      <td>78</td>\n",
       "      <td>82</td>\n",
       "    </tr>\n",
       "    <tr>\n",
       "      <th>Sabrina</th>\n",
       "      <td>94</td>\n",
       "      <td>95</td>\n",
       "    </tr>\n",
       "  </tbody>\n",
       "</table>\n",
       "</div>"
      ],
      "text/plain": [
       "            semestral  final\n",
       "estudiante                  \n",
       "Mario              76     84\n",
       "Alejandro          92     89\n",
       "Javier             85     86\n",
       "Luciana            78     82\n",
       "Sabrina            94     95"
      ]
     },
     "execution_count": 48,
     "metadata": {},
     "output_type": "execute_result"
    }
   ],
   "source": [
    "boleta.head()"
   ]
  },
  {
   "cell_type": "code",
   "execution_count": 49,
   "id": "f0bdd179-ebfb-4f88-a0e0-c8b6aa541f07",
   "metadata": {},
   "outputs": [
    {
     "data": {
      "text/html": [
       "<div>\n",
       "<style scoped>\n",
       "    .dataframe tbody tr th:only-of-type {\n",
       "        vertical-align: middle;\n",
       "    }\n",
       "\n",
       "    .dataframe tbody tr th {\n",
       "        vertical-align: top;\n",
       "    }\n",
       "\n",
       "    .dataframe thead th {\n",
       "        text-align: right;\n",
       "    }\n",
       "</style>\n",
       "<table border=\"1\" class=\"dataframe\">\n",
       "  <thead>\n",
       "    <tr style=\"text-align: right;\">\n",
       "      <th></th>\n",
       "      <th>semestral</th>\n",
       "      <th>final</th>\n",
       "    </tr>\n",
       "    <tr>\n",
       "      <th>estudiante</th>\n",
       "      <th></th>\n",
       "      <th></th>\n",
       "    </tr>\n",
       "  </thead>\n",
       "  <tbody>\n",
       "    <tr>\n",
       "      <th>Mario</th>\n",
       "      <td>76</td>\n",
       "      <td>84</td>\n",
       "    </tr>\n",
       "    <tr>\n",
       "      <th>Alejandro</th>\n",
       "      <td>92</td>\n",
       "      <td>89</td>\n",
       "    </tr>\n",
       "    <tr>\n",
       "      <th>Javier</th>\n",
       "      <td>85</td>\n",
       "      <td>86</td>\n",
       "    </tr>\n",
       "  </tbody>\n",
       "</table>\n",
       "</div>"
      ],
      "text/plain": [
       "            semestral  final\n",
       "estudiante                  \n",
       "Mario              76     84\n",
       "Alejandro          92     89\n",
       "Javier             85     86"
      ]
     },
     "execution_count": 49,
     "metadata": {},
     "output_type": "execute_result"
    }
   ],
   "source": [
    "boleta.head(3)"
   ]
  },
  {
   "cell_type": "markdown",
   "id": "dd584844-e9c1-458c-b036-a35e9f11bbde",
   "metadata": {},
   "source": [
    "Si necesitas trabajar con una columna individual, puedes extraerla utilizando la *notación de diccionario*:"
   ]
  },
  {
   "cell_type": "code",
   "execution_count": 51,
   "id": "4a5fada0-ba4a-41a6-a71c-91995abe7d9f",
   "metadata": {},
   "outputs": [
    {
     "data": {
      "text/plain": [
       "estudiante\n",
       "Mario        76\n",
       "Alejandro    92\n",
       "Javier       85\n",
       "Luciana      78\n",
       "Sabrina      94\n",
       "Beatriz      83\n",
       "Name: semestral, dtype: int64"
      ]
     },
     "execution_count": 51,
     "metadata": {},
     "output_type": "execute_result"
    }
   ],
   "source": [
    "boleta['semestral']"
   ]
  },
  {
   "cell_type": "markdown",
   "id": "3a6ce2cd-bc08-493c-bd9f-e8b0db07be2f",
   "metadata": {},
   "source": [
    "En este caso, como no hay espacios ni otros caracteres especiales en el nombre de la columna, también podemos acceder a ella como un atributo."
   ]
  },
  {
   "cell_type": "code",
   "execution_count": 53,
   "id": "5083fb29-46f3-4b81-b82f-7a9be1b40174",
   "metadata": {},
   "outputs": [
    {
     "data": {
      "text/plain": [
       "estudiante\n",
       "Mario        76\n",
       "Alejandro    92\n",
       "Javier       85\n",
       "Luciana      78\n",
       "Sabrina      94\n",
       "Beatriz      83\n",
       "Name: semestral, dtype: int64"
      ]
     },
     "execution_count": 53,
     "metadata": {},
     "output_type": "execute_result"
    }
   ],
   "source": [
    "boleta.semestral"
   ]
  },
  {
   "cell_type": "markdown",
   "id": "af121af8-a27e-4338-83b5-9e19639d409a",
   "metadata": {},
   "source": [
    "Debido a que la notación de atributo es muy conveniente al procesar DataFrames, vale la pena seleccionar nombres que no tengan espacios utilizando los estándares ya mencionados (`camelCase` o `snake_case`)."
   ]
  },
  {
   "cell_type": "markdown",
   "id": "27171d29-fe71-41a1-bdb3-0209212dd4c8",
   "metadata": {},
   "source": [
    "Podemos cambiar las columnas mediante asignación, por ejemplo, si damos un punto adicional a todos en el examen final."
   ]
  },
  {
   "cell_type": "code",
   "execution_count": 57,
   "id": "7f3078d1-8606-4ef1-b43f-83743a7cae8a",
   "metadata": {},
   "outputs": [
    {
     "data": {
      "text/html": [
       "<div>\n",
       "<style scoped>\n",
       "    .dataframe tbody tr th:only-of-type {\n",
       "        vertical-align: middle;\n",
       "    }\n",
       "\n",
       "    .dataframe tbody tr th {\n",
       "        vertical-align: top;\n",
       "    }\n",
       "\n",
       "    .dataframe thead th {\n",
       "        text-align: right;\n",
       "    }\n",
       "</style>\n",
       "<table border=\"1\" class=\"dataframe\">\n",
       "  <thead>\n",
       "    <tr style=\"text-align: right;\">\n",
       "      <th></th>\n",
       "      <th>semestral</th>\n",
       "      <th>final</th>\n",
       "    </tr>\n",
       "    <tr>\n",
       "      <th>estudiante</th>\n",
       "      <th></th>\n",
       "      <th></th>\n",
       "    </tr>\n",
       "  </thead>\n",
       "  <tbody>\n",
       "    <tr>\n",
       "      <th>Mario</th>\n",
       "      <td>76</td>\n",
       "      <td>85</td>\n",
       "    </tr>\n",
       "    <tr>\n",
       "      <th>Alejandro</th>\n",
       "      <td>92</td>\n",
       "      <td>90</td>\n",
       "    </tr>\n",
       "    <tr>\n",
       "      <th>Javier</th>\n",
       "      <td>85</td>\n",
       "      <td>87</td>\n",
       "    </tr>\n",
       "    <tr>\n",
       "      <th>Luciana</th>\n",
       "      <td>78</td>\n",
       "      <td>83</td>\n",
       "    </tr>\n",
       "    <tr>\n",
       "      <th>Sabrina</th>\n",
       "      <td>94</td>\n",
       "      <td>96</td>\n",
       "    </tr>\n",
       "    <tr>\n",
       "      <th>Beatriz</th>\n",
       "      <td>83</td>\n",
       "      <td>84</td>\n",
       "    </tr>\n",
       "  </tbody>\n",
       "</table>\n",
       "</div>"
      ],
      "text/plain": [
       "            semestral  final\n",
       "estudiante                  \n",
       "Mario              76     85\n",
       "Alejandro          92     90\n",
       "Javier             85     87\n",
       "Luciana            78     83\n",
       "Sabrina            94     96\n",
       "Beatriz            83     84"
      ]
     },
     "execution_count": 57,
     "metadata": {},
     "output_type": "execute_result"
    }
   ],
   "source": [
    "boleta.final = boleta.final + 1\n",
    "boleta"
   ]
  },
  {
   "cell_type": "markdown",
   "id": "c682e380-0825-44c6-abcb-283fd2f08dd4",
   "metadata": {},
   "source": [
    "También podemos usar la asignación estilo diccionario para crear nuevas columnas. (Esto no funciona con la notación de atributo.)"
   ]
  },
  {
   "cell_type": "code",
   "execution_count": 59,
   "id": "0fd31b82-7cc7-44f0-b477-96a60d1571fb",
   "metadata": {},
   "outputs": [
    {
     "data": {
      "text/html": [
       "<div>\n",
       "<style scoped>\n",
       "    .dataframe tbody tr th:only-of-type {\n",
       "        vertical-align: middle;\n",
       "    }\n",
       "\n",
       "    .dataframe tbody tr th {\n",
       "        vertical-align: top;\n",
       "    }\n",
       "\n",
       "    .dataframe thead th {\n",
       "        text-align: right;\n",
       "    }\n",
       "</style>\n",
       "<table border=\"1\" class=\"dataframe\">\n",
       "  <thead>\n",
       "    <tr style=\"text-align: right;\">\n",
       "      <th></th>\n",
       "      <th>semestral</th>\n",
       "      <th>final</th>\n",
       "      <th>tarea</th>\n",
       "    </tr>\n",
       "    <tr>\n",
       "      <th>estudiante</th>\n",
       "      <th></th>\n",
       "      <th></th>\n",
       "      <th></th>\n",
       "    </tr>\n",
       "  </thead>\n",
       "  <tbody>\n",
       "    <tr>\n",
       "      <th>Mario</th>\n",
       "      <td>76</td>\n",
       "      <td>85</td>\n",
       "      <td>90</td>\n",
       "    </tr>\n",
       "    <tr>\n",
       "      <th>Alejandro</th>\n",
       "      <td>92</td>\n",
       "      <td>90</td>\n",
       "      <td>90</td>\n",
       "    </tr>\n",
       "    <tr>\n",
       "      <th>Javier</th>\n",
       "      <td>85</td>\n",
       "      <td>87</td>\n",
       "      <td>90</td>\n",
       "    </tr>\n",
       "    <tr>\n",
       "      <th>Luciana</th>\n",
       "      <td>78</td>\n",
       "      <td>83</td>\n",
       "      <td>90</td>\n",
       "    </tr>\n",
       "    <tr>\n",
       "      <th>Sabrina</th>\n",
       "      <td>94</td>\n",
       "      <td>96</td>\n",
       "      <td>90</td>\n",
       "    </tr>\n",
       "    <tr>\n",
       "      <th>Beatriz</th>\n",
       "      <td>83</td>\n",
       "      <td>84</td>\n",
       "      <td>90</td>\n",
       "    </tr>\n",
       "  </tbody>\n",
       "</table>\n",
       "</div>"
      ],
      "text/plain": [
       "            semestral  final  tarea\n",
       "estudiante                         \n",
       "Mario              76     85     90\n",
       "Alejandro          92     90     90\n",
       "Javier             85     87     90\n",
       "Luciana            78     83     90\n",
       "Sabrina            94     96     90\n",
       "Beatriz            83     84     90"
      ]
     },
     "execution_count": 59,
     "metadata": {},
     "output_type": "execute_result"
    }
   ],
   "source": [
    "boleta['tarea'] = [90] * 6\n",
    "boleta"
   ]
  },
  {
   "cell_type": "markdown",
   "id": "ef7c4de3-a423-491c-986e-abae21930d94",
   "metadata": {},
   "source": [
    "Para eliminar una columna, una forma de hacerlo es con el comando `del`."
   ]
  },
  {
   "cell_type": "code",
   "execution_count": 61,
   "id": "afc9154c-7e5b-4662-abab-cef2187fac8b",
   "metadata": {},
   "outputs": [
    {
     "data": {
      "text/html": [
       "<div>\n",
       "<style scoped>\n",
       "    .dataframe tbody tr th:only-of-type {\n",
       "        vertical-align: middle;\n",
       "    }\n",
       "\n",
       "    .dataframe tbody tr th {\n",
       "        vertical-align: top;\n",
       "    }\n",
       "\n",
       "    .dataframe thead th {\n",
       "        text-align: right;\n",
       "    }\n",
       "</style>\n",
       "<table border=\"1\" class=\"dataframe\">\n",
       "  <thead>\n",
       "    <tr style=\"text-align: right;\">\n",
       "      <th></th>\n",
       "      <th>semestral</th>\n",
       "      <th>final</th>\n",
       "    </tr>\n",
       "    <tr>\n",
       "      <th>estudiante</th>\n",
       "      <th></th>\n",
       "      <th></th>\n",
       "    </tr>\n",
       "  </thead>\n",
       "  <tbody>\n",
       "    <tr>\n",
       "      <th>Mario</th>\n",
       "      <td>76</td>\n",
       "      <td>85</td>\n",
       "    </tr>\n",
       "    <tr>\n",
       "      <th>Alejandro</th>\n",
       "      <td>92</td>\n",
       "      <td>90</td>\n",
       "    </tr>\n",
       "    <tr>\n",
       "      <th>Javier</th>\n",
       "      <td>85</td>\n",
       "      <td>87</td>\n",
       "    </tr>\n",
       "    <tr>\n",
       "      <th>Luciana</th>\n",
       "      <td>78</td>\n",
       "      <td>83</td>\n",
       "    </tr>\n",
       "    <tr>\n",
       "      <th>Sabrina</th>\n",
       "      <td>94</td>\n",
       "      <td>96</td>\n",
       "    </tr>\n",
       "    <tr>\n",
       "      <th>Beatriz</th>\n",
       "      <td>83</td>\n",
       "      <td>84</td>\n",
       "    </tr>\n",
       "  </tbody>\n",
       "</table>\n",
       "</div>"
      ],
      "text/plain": [
       "            semestral  final\n",
       "estudiante                  \n",
       "Mario              76     85\n",
       "Alejandro          92     90\n",
       "Javier             85     87\n",
       "Luciana            78     83\n",
       "Sabrina            94     96\n",
       "Beatriz            83     84"
      ]
     },
     "execution_count": 61,
     "metadata": {},
     "output_type": "execute_result"
    }
   ],
   "source": [
    "del boleta['tarea']\n",
    "boleta"
   ]
  },
  {
   "cell_type": "markdown",
   "id": "0c3b8010-634d-4ddd-a345-f02d70013d1a",
   "metadata": {},
   "source": [
    "Aunque una mejor forma sería usar el método drop, que funciona tanto con filas como con columnas. Tienes que decirle a Pandas si te refieres a una fila o una columna utilizando el argumento `axis`.\n",
    "\n",
    "`axis 0` se refiere a la dirección hacia abajo, es decir, operaciones que cambian el número de filas. \n",
    "\n",
    "`axis 1` se refiere a la dirección horizontal, es decir, operaciones que cambian el número de columnas.\n",
    "\n",
    "Si queremos eliminar las calificaciones finales, eso cambia el número de columnas, y Python necesitará recorrer los nombres de las columnas horizontalmente, así que probemos `axis = 1`."
   ]
  },
  {
   "cell_type": "code",
   "execution_count": 63,
   "id": "9b7e829e-73e7-49fe-a215-45b349afcfe9",
   "metadata": {},
   "outputs": [
    {
     "data": {
      "text/html": [
       "<div>\n",
       "<style scoped>\n",
       "    .dataframe tbody tr th:only-of-type {\n",
       "        vertical-align: middle;\n",
       "    }\n",
       "\n",
       "    .dataframe tbody tr th {\n",
       "        vertical-align: top;\n",
       "    }\n",
       "\n",
       "    .dataframe thead th {\n",
       "        text-align: right;\n",
       "    }\n",
       "</style>\n",
       "<table border=\"1\" class=\"dataframe\">\n",
       "  <thead>\n",
       "    <tr style=\"text-align: right;\">\n",
       "      <th></th>\n",
       "      <th>semestral</th>\n",
       "    </tr>\n",
       "    <tr>\n",
       "      <th>estudiante</th>\n",
       "      <th></th>\n",
       "    </tr>\n",
       "  </thead>\n",
       "  <tbody>\n",
       "    <tr>\n",
       "      <th>Mario</th>\n",
       "      <td>76</td>\n",
       "    </tr>\n",
       "    <tr>\n",
       "      <th>Alejandro</th>\n",
       "      <td>92</td>\n",
       "    </tr>\n",
       "    <tr>\n",
       "      <th>Javier</th>\n",
       "      <td>85</td>\n",
       "    </tr>\n",
       "    <tr>\n",
       "      <th>Luciana</th>\n",
       "      <td>78</td>\n",
       "    </tr>\n",
       "    <tr>\n",
       "      <th>Sabrina</th>\n",
       "      <td>94</td>\n",
       "    </tr>\n",
       "    <tr>\n",
       "      <th>Beatriz</th>\n",
       "      <td>83</td>\n",
       "    </tr>\n",
       "  </tbody>\n",
       "</table>\n",
       "</div>"
      ],
      "text/plain": [
       "            semestral\n",
       "estudiante           \n",
       "Mario              76\n",
       "Alejandro          92\n",
       "Javier             85\n",
       "Luciana            78\n",
       "Sabrina            94\n",
       "Beatriz            83"
      ]
     },
     "execution_count": 63,
     "metadata": {},
     "output_type": "execute_result"
    }
   ],
   "source": [
    "boleta.drop('final', axis = 1)"
   ]
  },
  {
   "cell_type": "markdown",
   "id": "f181d076-e7d1-496b-b0dc-47681d48c524",
   "metadata": {},
   "source": [
    "Cabe mencionar que `drop()` devuelve un nuevo DataFrame, por lo que tendríamos que guardarlo nuevamente en `boleta` para mantener el cambio.\n",
    "\n",
    "Probemos ahora a eliminar una fila."
   ]
  },
  {
   "cell_type": "code",
   "execution_count": 65,
   "id": "90969d7e-6aab-4c48-9016-fa75c4ba4ab0",
   "metadata": {},
   "outputs": [
    {
     "data": {
      "text/html": [
       "<div>\n",
       "<style scoped>\n",
       "    .dataframe tbody tr th:only-of-type {\n",
       "        vertical-align: middle;\n",
       "    }\n",
       "\n",
       "    .dataframe tbody tr th {\n",
       "        vertical-align: top;\n",
       "    }\n",
       "\n",
       "    .dataframe thead th {\n",
       "        text-align: right;\n",
       "    }\n",
       "</style>\n",
       "<table border=\"1\" class=\"dataframe\">\n",
       "  <thead>\n",
       "    <tr style=\"text-align: right;\">\n",
       "      <th></th>\n",
       "      <th>semestral</th>\n",
       "      <th>final</th>\n",
       "    </tr>\n",
       "    <tr>\n",
       "      <th>estudiante</th>\n",
       "      <th></th>\n",
       "      <th></th>\n",
       "    </tr>\n",
       "  </thead>\n",
       "  <tbody>\n",
       "    <tr>\n",
       "      <th>Mario</th>\n",
       "      <td>76</td>\n",
       "      <td>85</td>\n",
       "    </tr>\n",
       "    <tr>\n",
       "      <th>Javier</th>\n",
       "      <td>85</td>\n",
       "      <td>87</td>\n",
       "    </tr>\n",
       "    <tr>\n",
       "      <th>Luciana</th>\n",
       "      <td>78</td>\n",
       "      <td>83</td>\n",
       "    </tr>\n",
       "    <tr>\n",
       "      <th>Sabrina</th>\n",
       "      <td>94</td>\n",
       "      <td>96</td>\n",
       "    </tr>\n",
       "    <tr>\n",
       "      <th>Beatriz</th>\n",
       "      <td>83</td>\n",
       "      <td>84</td>\n",
       "    </tr>\n",
       "  </tbody>\n",
       "</table>\n",
       "</div>"
      ],
      "text/plain": [
       "            semestral  final\n",
       "estudiante                  \n",
       "Mario              76     85\n",
       "Javier             85     87\n",
       "Luciana            78     83\n",
       "Sabrina            94     96\n",
       "Beatriz            83     84"
      ]
     },
     "execution_count": 65,
     "metadata": {},
     "output_type": "execute_result"
    }
   ],
   "source": [
    "boleta.drop('Alejandro', axis=0)"
   ]
  },
  {
   "cell_type": "markdown",
   "id": "1f0f0b89-e0ab-457a-b4fc-c16dc0ca6629",
   "metadata": {},
   "source": [
    "Nuevamente, esto no es un cambio permanente en el DataFrame original, a menos que lo guardemos nuevamente en `boleta`"
   ]
  },
  {
   "cell_type": "code",
   "execution_count": 67,
   "id": "98e9133d-25db-4ece-ad0f-6b14226ae756",
   "metadata": {},
   "outputs": [
    {
     "data": {
      "text/html": [
       "<div>\n",
       "<style scoped>\n",
       "    .dataframe tbody tr th:only-of-type {\n",
       "        vertical-align: middle;\n",
       "    }\n",
       "\n",
       "    .dataframe tbody tr th {\n",
       "        vertical-align: top;\n",
       "    }\n",
       "\n",
       "    .dataframe thead th {\n",
       "        text-align: right;\n",
       "    }\n",
       "</style>\n",
       "<table border=\"1\" class=\"dataframe\">\n",
       "  <thead>\n",
       "    <tr style=\"text-align: right;\">\n",
       "      <th></th>\n",
       "      <th>semestral</th>\n",
       "      <th>final</th>\n",
       "    </tr>\n",
       "    <tr>\n",
       "      <th>estudiante</th>\n",
       "      <th></th>\n",
       "      <th></th>\n",
       "    </tr>\n",
       "  </thead>\n",
       "  <tbody>\n",
       "    <tr>\n",
       "      <th>Mario</th>\n",
       "      <td>76</td>\n",
       "      <td>85</td>\n",
       "    </tr>\n",
       "    <tr>\n",
       "      <th>Alejandro</th>\n",
       "      <td>92</td>\n",
       "      <td>90</td>\n",
       "    </tr>\n",
       "    <tr>\n",
       "      <th>Javier</th>\n",
       "      <td>85</td>\n",
       "      <td>87</td>\n",
       "    </tr>\n",
       "    <tr>\n",
       "      <th>Luciana</th>\n",
       "      <td>78</td>\n",
       "      <td>83</td>\n",
       "    </tr>\n",
       "    <tr>\n",
       "      <th>Sabrina</th>\n",
       "      <td>94</td>\n",
       "      <td>96</td>\n",
       "    </tr>\n",
       "    <tr>\n",
       "      <th>Beatriz</th>\n",
       "      <td>83</td>\n",
       "      <td>84</td>\n",
       "    </tr>\n",
       "  </tbody>\n",
       "</table>\n",
       "</div>"
      ],
      "text/plain": [
       "            semestral  final\n",
       "estudiante                  \n",
       "Mario              76     85\n",
       "Alejandro          92     90\n",
       "Javier             85     87\n",
       "Luciana            78     83\n",
       "Sabrina            94     96\n",
       "Beatriz            83     84"
      ]
     },
     "execution_count": 67,
     "metadata": {},
     "output_type": "execute_result"
    }
   ],
   "source": [
    "boleta"
   ]
  },
  {
   "cell_type": "markdown",
   "id": "56694e91-4f9b-49de-b170-c8ec21cad784",
   "metadata": {},
   "source": [
    "Los DataFrames también están estrechamente integrados con la biblioteca de gráficos `matplotlib`."
   ]
  },
  {
   "cell_type": "code",
   "execution_count": 69,
   "id": "6f48615b-43ba-4105-b63a-e8f71165008c",
   "metadata": {},
   "outputs": [
    {
     "data": {
      "text/plain": [
       "Text(0.5, 1.0, 'Comparación Calificaciones Semestrales y Finales')"
      ]
     },
     "execution_count": 69,
     "metadata": {},
     "output_type": "execute_result"
    },
    {
     "data": {
      "image/png": "[encoded data removed]",
      "text/plain": [
       "<Figure size 640x480 with 1 Axes>"
      ]
     },
     "metadata": {},
     "output_type": "display_data"
    }
   ],
   "source": [
    "import matplotlib.pyplot as plt\n",
    "boleta.plot.scatter(x='semestral', y='final')\n",
    "plt.title(\"Comparación Calificaciones Semestrales y Finales\")"
   ]
  },
  {
   "cell_type": "markdown",
   "id": "e5aa9c23-adef-4672-a595-4df12b89ee73",
   "metadata": {},
   "source": [
    "Imagina que has realizado algo de limpieza de datos y estás listo para guardar tu trabajo. Una buena práctica sería guardar tu DataFrame en un archivo csv, lo cual es fácil de hacer con el método `to_csv()`."
   ]
  },
  {
   "cell_type": "code",
   "execution_count": 71,
   "id": "beb5cb5c-0941-44d9-a883-87f6aaf8d0f2",
   "metadata": {},
   "outputs": [],
   "source": [
    "boleta.to_csv(\"boletas.csv\")"
   ]
  },
  {
   "cell_type": "markdown",
   "id": "1305da95-a057-47d2-8de9-ccc0f8cc5c39",
   "metadata": {},
   "source": [
    "## <a style=\"padding:3px;color: #FF4D4D; \"><strong>Indexación de Series</strong></a>"
   ]
  },
  {
   "cell_type": "markdown",
   "id": "3ee3b61e-1d2c-4b35-a79c-99b2ef6ff98f",
   "metadata": {},
   "source": [
    "Hablemos de las herramientas que tenemos para extraer filas, columnas o valores individuales de los objetos de Pandas. \n",
    "\n",
    "Esto es un poco más complicado que en otros casos que hemos visto. \n",
    "\n",
    "Gran parte de la complicación viene de soportar tanto las posiciones enteras como las etiquetas de Índice.\n",
    "\n",
    "Empecemos con el caso de las Series."
   ]
  },
  {
   "cell_type": "code",
   "execution_count": 74,
   "id": "3af152cc-1238-4cde-94f1-9fdeff30a25c",
   "metadata": {},
   "outputs": [
    {
     "data": {
      "text/plain": [
       "cachorro0    0\n",
       "cachorro1    2\n",
       "cachorro2    4\n",
       "cachorro3    6\n",
       "cachorro4    8\n",
       "dtype: int64"
      ]
     },
     "execution_count": 74,
     "metadata": {},
     "output_type": "execute_result"
    }
   ],
   "source": [
    "premios = pd.Series( [x*2 for x in range(5)],\n",
    "                    index = ['cachorro{}'.format(x) for x in range(5)])\n",
    "premios"
   ]
  },
  {
   "cell_type": "markdown",
   "id": "7fa2e43e-f2bf-4cab-a377-8b109ab4355c",
   "metadata": {},
   "source": [
    "En estas podemos colocar tanto una posición entera como una etiqueta dentro de los corchetes."
   ]
  },
  {
   "cell_type": "code",
   "execution_count": 75,
   "id": "f669b526-cbf9-4d15-935c-6eec0c521c6b",
   "metadata": {},
   "outputs": [
    {
     "name": "stderr",
     "output_type": "stream",
     "text": [
      "C:\\Users\\emanu\\AppData\\Local\\Temp\\ipykernel_11948\\2937382157.py:1: FutureWarning: Series.__getitem__ treating keys as positions is deprecated. In a future version, integer keys will always be treated as labels (consistent with DataFrame behavior). To access a value by position, use `ser.iloc[pos]`\n",
      "  premios[1]\n"
     ]
    },
    {
     "data": {
      "text/plain": [
       "2"
      ]
     },
     "execution_count": 75,
     "metadata": {},
     "output_type": "execute_result"
    }
   ],
   "source": [
    "premios[1]"
   ]
  },
  {
   "cell_type": "code",
   "execution_count": 76,
   "id": "bc6c1760-a9cb-4d25-90c7-a5e3d62ec74f",
   "metadata": {},
   "outputs": [
    {
     "data": {
      "text/plain": [
       "2"
      ]
     },
     "execution_count": 76,
     "metadata": {},
     "output_type": "execute_result"
    }
   ],
   "source": [
    "premios['cachorro1']"
   ]
  },
  {
   "cell_type": "markdown",
   "id": "941ea7a2-6ee9-4e74-aab1-f4a69e04b905",
   "metadata": {},
   "source": [
    "Pueden ponerse varias etiquetas o posiciones en una secuencia."
   ]
  },
  {
   "cell_type": "code",
   "execution_count": 78,
   "id": "6eec497d-1478-4096-8279-3806300a7045",
   "metadata": {},
   "outputs": [
    {
     "data": {
      "text/plain": [
       "cachorro1    2\n",
       "cachorro4    8\n",
       "dtype: int64"
      ]
     },
     "execution_count": 78,
     "metadata": {},
     "output_type": "execute_result"
    }
   ],
   "source": [
    "premios[['cachorro1','cachorro4']]"
   ]
  },
  {
   "cell_type": "markdown",
   "id": "801fc86a-69e0-4465-81fe-24f007f319df",
   "metadata": {},
   "source": [
    "Podemos usar una selección booleana, de manera similar a NumPy."
   ]
  },
  {
   "cell_type": "code",
   "execution_count": 80,
   "id": "fc8e3e05-30b9-421d-a4f3-8f97e646d9a6",
   "metadata": {},
   "outputs": [
    {
     "data": {
      "text/plain": [
       "cachorro0    False\n",
       "cachorro1    False\n",
       "cachorro2     True\n",
       "cachorro3     True\n",
       "cachorro4     True\n",
       "dtype: bool"
      ]
     },
     "execution_count": 80,
     "metadata": {},
     "output_type": "execute_result"
    }
   ],
   "source": [
    "premios > 3"
   ]
  },
  {
   "cell_type": "code",
   "execution_count": 81,
   "id": "f763a4b9-f306-4406-8573-b693c02babf9",
   "metadata": {},
   "outputs": [
    {
     "data": {
      "text/plain": [
       "cachorro2    4\n",
       "cachorro3    6\n",
       "cachorro4    8\n",
       "dtype: int64"
      ]
     },
     "execution_count": 81,
     "metadata": {},
     "output_type": "execute_result"
    }
   ],
   "source": [
    "premios[premios > 3]"
   ]
  },
  {
   "cell_type": "markdown",
   "id": "b784565f-536f-4e73-8d54-50686bfb195d",
   "metadata": {},
   "source": [
    "Podemos usar un slice tanto con posiciones enteras como con etiquetas."
   ]
  },
  {
   "cell_type": "code",
   "execution_count": 83,
   "id": "696a7ec2-0bc6-464b-910e-fc8da68d40b7",
   "metadata": {},
   "outputs": [
    {
     "data": {
      "text/plain": [
       "cachorro1    2\n",
       "cachorro2    4\n",
       "dtype: int64"
      ]
     },
     "execution_count": 83,
     "metadata": {},
     "output_type": "execute_result"
    }
   ],
   "source": [
    "premios[1:3]"
   ]
  },
  {
   "cell_type": "code",
   "execution_count": 84,
   "id": "0485053c-af64-43fb-a582-0b36a0fb5a3b",
   "metadata": {},
   "outputs": [
    {
     "data": {
      "text/plain": [
       "cachorro1    2\n",
       "cachorro2    4\n",
       "cachorro3    6\n",
       "dtype: int64"
      ]
     },
     "execution_count": 84,
     "metadata": {},
     "output_type": "execute_result"
    }
   ],
   "source": [
    "premios['cachorro1':'cachorro3']"
   ]
  },
  {
   "cell_type": "markdown",
   "id": "7dabf2d4-cd73-48cf-b944-5b812fb86f8f",
   "metadata": {},
   "source": [
    "***IMPORTANTE:*** Estos dos slice **no se comportan de la misma manera**. Al usar etiquetas, Pandas rompe con la convención estándar de Python (afortunada o desafortunadamente) e incluye el dato final. Hay que tener esto en cuenta, porque es fácil seleccionar una fila adicional por error."
   ]
  },
  {
   "cell_type": "markdown",
   "id": "9d3ce727-528a-4fc2-8f78-4f772c78d385",
   "metadata": {},
   "source": [
    "## <a style=\"padding:3px;color: #FF4D4D; \"><strong>Indexación de DataFrames</strong></a>"
   ]
  },
  {
   "cell_type": "markdown",
   "id": "c2298526-de8f-4955-8664-a7ebd068d7fb",
   "metadata": {},
   "source": [
    "Ahora intentemos indexar con un DataFrame."
   ]
  },
  {
   "cell_type": "code",
   "execution_count": 88,
   "id": "aa3b41ab-ca67-4925-86fd-5338b1a5bf9f",
   "metadata": {},
   "outputs": [
    {
     "data": {
      "text/html": [
       "<div>\n",
       "<style scoped>\n",
       "    .dataframe tbody tr th:only-of-type {\n",
       "        vertical-align: middle;\n",
       "    }\n",
       "\n",
       "    .dataframe tbody tr th {\n",
       "        vertical-align: top;\n",
       "    }\n",
       "\n",
       "    .dataframe thead th {\n",
       "        text-align: right;\n",
       "    }\n",
       "</style>\n",
       "<table border=\"1\" class=\"dataframe\">\n",
       "  <thead>\n",
       "    <tr style=\"text-align: right;\">\n",
       "      <th></th>\n",
       "      <th>truco0</th>\n",
       "      <th>truco1</th>\n",
       "      <th>truco2</th>\n",
       "      <th>truco3</th>\n",
       "      <th>truco4</th>\n",
       "    </tr>\n",
       "  </thead>\n",
       "  <tbody>\n",
       "    <tr>\n",
       "      <th>cachorro0</th>\n",
       "      <td>3</td>\n",
       "      <td>7</td>\n",
       "      <td>1</td>\n",
       "      <td>2</td>\n",
       "      <td>11</td>\n",
       "    </tr>\n",
       "    <tr>\n",
       "      <th>cachorro1</th>\n",
       "      <td>3</td>\n",
       "      <td>18</td>\n",
       "      <td>10</td>\n",
       "      <td>20</td>\n",
       "      <td>12</td>\n",
       "    </tr>\n",
       "    <tr>\n",
       "      <th>cachorro2</th>\n",
       "      <td>2</td>\n",
       "      <td>9</td>\n",
       "      <td>1</td>\n",
       "      <td>7</td>\n",
       "      <td>2</td>\n",
       "    </tr>\n",
       "    <tr>\n",
       "      <th>cachorro3</th>\n",
       "      <td>1</td>\n",
       "      <td>13</td>\n",
       "      <td>8</td>\n",
       "      <td>4</td>\n",
       "      <td>10</td>\n",
       "    </tr>\n",
       "    <tr>\n",
       "      <th>cachorro4</th>\n",
       "      <td>4</td>\n",
       "      <td>3</td>\n",
       "      <td>6</td>\n",
       "      <td>3</td>\n",
       "      <td>5</td>\n",
       "    </tr>\n",
       "  </tbody>\n",
       "</table>\n",
       "</div>"
      ],
      "text/plain": [
       "           truco0  truco1  truco2  truco3  truco4\n",
       "cachorro0       3       7       1       2      11\n",
       "cachorro1       3      18      10      20      12\n",
       "cachorro2       2       9       1       7       2\n",
       "cachorro3       1      13       8       4      10\n",
       "cachorro4       4       3       6       3       5"
      ]
     },
     "execution_count": 88,
     "metadata": {},
     "output_type": "execute_result"
    }
   ],
   "source": [
    "Cachorros = pd.DataFrame( np.random.geometric(.2, size = (5,5)) , \n",
    "             columns = ['truco{}'.format(x) for x in range(5)],\n",
    "             index = ['cachorro{}'.format(x) for x in range(5)])\n",
    "Cachorros"
   ]
  },
  {
   "cell_type": "markdown",
   "id": "87adef48-5f00-43d7-b8fd-a674053fe8f2",
   "metadata": {},
   "source": [
    "Cuando se coloca un solo argumento entre corchetes, Pandas seleccionará las columnas del DataFrame."
   ]
  },
  {
   "cell_type": "code",
   "execution_count": 90,
   "id": "9babb63e-6151-4003-a1ce-a584f56f3d88",
   "metadata": {},
   "outputs": [
    {
     "data": {
      "text/plain": [
       "cachorro0     7\n",
       "cachorro1    18\n",
       "cachorro2     9\n",
       "cachorro3    13\n",
       "cachorro4     3\n",
       "Name: truco1, dtype: int32"
      ]
     },
     "execution_count": 90,
     "metadata": {},
     "output_type": "execute_result"
    }
   ],
   "source": [
    "Cachorros['truco1']"
   ]
  },
  {
   "cell_type": "markdown",
   "id": "1c1ab25a-65e6-46d7-a845-6985c369af00",
   "metadata": {},
   "source": [
    "Y si evitamos espacios y caracteres reservados en los nombres de columnas, hay una forma más agradable de escribir esto."
   ]
  },
  {
   "cell_type": "code",
   "execution_count": 92,
   "id": "6d43b007-8825-4daf-b1a7-7a5c5b496f79",
   "metadata": {},
   "outputs": [
    {
     "data": {
      "text/plain": [
       "cachorro0     7\n",
       "cachorro1    18\n",
       "cachorro2     9\n",
       "cachorro3    13\n",
       "cachorro4     3\n",
       "Name: truco1, dtype: int32"
      ]
     },
     "execution_count": 92,
     "metadata": {},
     "output_type": "execute_result"
    }
   ],
   "source": [
    "Cachorros.truco1"
   ]
  },
  {
   "cell_type": "markdown",
   "id": "31c1bc40-d2cf-4c1a-87c1-ec277c5c79b4",
   "metadata": {},
   "source": [
    "Pueden extraerse varias columnas con una lista."
   ]
  },
  {
   "cell_type": "code",
   "execution_count": 94,
   "id": "9800c312-c8f0-44fa-b232-4dc70ed6c48a",
   "metadata": {},
   "outputs": [
    {
     "data": {
      "text/html": [
       "<div>\n",
       "<style scoped>\n",
       "    .dataframe tbody tr th:only-of-type {\n",
       "        vertical-align: middle;\n",
       "    }\n",
       "\n",
       "    .dataframe tbody tr th {\n",
       "        vertical-align: top;\n",
       "    }\n",
       "\n",
       "    .dataframe thead th {\n",
       "        text-align: right;\n",
       "    }\n",
       "</style>\n",
       "<table border=\"1\" class=\"dataframe\">\n",
       "  <thead>\n",
       "    <tr style=\"text-align: right;\">\n",
       "      <th></th>\n",
       "      <th>truco1</th>\n",
       "      <th>truco4</th>\n",
       "    </tr>\n",
       "  </thead>\n",
       "  <tbody>\n",
       "    <tr>\n",
       "      <th>cachorro0</th>\n",
       "      <td>7</td>\n",
       "      <td>11</td>\n",
       "    </tr>\n",
       "    <tr>\n",
       "      <th>cachorro1</th>\n",
       "      <td>18</td>\n",
       "      <td>12</td>\n",
       "    </tr>\n",
       "    <tr>\n",
       "      <th>cachorro2</th>\n",
       "      <td>9</td>\n",
       "      <td>2</td>\n",
       "    </tr>\n",
       "    <tr>\n",
       "      <th>cachorro3</th>\n",
       "      <td>13</td>\n",
       "      <td>10</td>\n",
       "    </tr>\n",
       "    <tr>\n",
       "      <th>cachorro4</th>\n",
       "      <td>3</td>\n",
       "      <td>5</td>\n",
       "    </tr>\n",
       "  </tbody>\n",
       "</table>\n",
       "</div>"
      ],
      "text/plain": [
       "           truco1  truco4\n",
       "cachorro0       7      11\n",
       "cachorro1      18      12\n",
       "cachorro2       9       2\n",
       "cachorro3      13      10\n",
       "cachorro4       3       5"
      ]
     },
     "execution_count": 94,
     "metadata": {},
     "output_type": "execute_result"
    }
   ],
   "source": [
    "Cachorros[['truco1','truco4']]"
   ]
  },
  {
   "cell_type": "markdown",
   "id": "edddd2b5-43df-425a-b423-870ccb857c6d",
   "metadata": {},
   "source": [
    "En algunos casos la indexación de DataFrames funciona de manera diferente. \n",
    "\n",
    "Por ejemplo, al pasar un arreglo booleano, se usará para filtrar filas, no columnas."
   ]
  },
  {
   "cell_type": "code",
   "execution_count": 96,
   "id": "82bf317b-24ac-4315-8ecd-8fd01f4327c9",
   "metadata": {},
   "outputs": [
    {
     "data": {
      "text/plain": [
       "cachorro0     True\n",
       "cachorro1     True\n",
       "cachorro2     True\n",
       "cachorro3     True\n",
       "cachorro4    False\n",
       "Name: truco1, dtype: bool"
      ]
     },
     "execution_count": 96,
     "metadata": {},
     "output_type": "execute_result"
    }
   ],
   "source": [
    "Cachorros.truco1 > 3"
   ]
  },
  {
   "cell_type": "code",
   "execution_count": 97,
   "id": "f4bff5cd-82d2-41e7-8840-4a068efb63e0",
   "metadata": {},
   "outputs": [
    {
     "data": {
      "text/html": [
       "<div>\n",
       "<style scoped>\n",
       "    .dataframe tbody tr th:only-of-type {\n",
       "        vertical-align: middle;\n",
       "    }\n",
       "\n",
       "    .dataframe tbody tr th {\n",
       "        vertical-align: top;\n",
       "    }\n",
       "\n",
       "    .dataframe thead th {\n",
       "        text-align: right;\n",
       "    }\n",
       "</style>\n",
       "<table border=\"1\" class=\"dataframe\">\n",
       "  <thead>\n",
       "    <tr style=\"text-align: right;\">\n",
       "      <th></th>\n",
       "      <th>truco0</th>\n",
       "      <th>truco1</th>\n",
       "      <th>truco2</th>\n",
       "      <th>truco3</th>\n",
       "      <th>truco4</th>\n",
       "    </tr>\n",
       "  </thead>\n",
       "  <tbody>\n",
       "    <tr>\n",
       "      <th>cachorro0</th>\n",
       "      <td>3</td>\n",
       "      <td>7</td>\n",
       "      <td>1</td>\n",
       "      <td>2</td>\n",
       "      <td>11</td>\n",
       "    </tr>\n",
       "    <tr>\n",
       "      <th>cachorro1</th>\n",
       "      <td>3</td>\n",
       "      <td>18</td>\n",
       "      <td>10</td>\n",
       "      <td>20</td>\n",
       "      <td>12</td>\n",
       "    </tr>\n",
       "    <tr>\n",
       "      <th>cachorro2</th>\n",
       "      <td>2</td>\n",
       "      <td>9</td>\n",
       "      <td>1</td>\n",
       "      <td>7</td>\n",
       "      <td>2</td>\n",
       "    </tr>\n",
       "    <tr>\n",
       "      <th>cachorro3</th>\n",
       "      <td>1</td>\n",
       "      <td>13</td>\n",
       "      <td>8</td>\n",
       "      <td>4</td>\n",
       "      <td>10</td>\n",
       "    </tr>\n",
       "  </tbody>\n",
       "</table>\n",
       "</div>"
      ],
      "text/plain": [
       "           truco0  truco1  truco2  truco3  truco4\n",
       "cachorro0       3       7       1       2      11\n",
       "cachorro1       3      18      10      20      12\n",
       "cachorro2       2       9       1       7       2\n",
       "cachorro3       1      13       8       4      10"
      ]
     },
     "execution_count": 97,
     "metadata": {},
     "output_type": "execute_result"
    }
   ],
   "source": [
    "Cachorros[Cachorros.truco1 > 3]"
   ]
  },
  {
   "cell_type": "markdown",
   "id": "463e270e-9d9c-4c48-80dc-5ba9110e4fb8",
   "metadata": {},
   "source": [
    "Esto es un poco inesperado, pero filtrar filas es una operación tan común que los desarrolladores de Pandas querían que fuera posible hacerlo en pocos pasos.\n",
    "\n",
    "Esto es más raro, pero podemos pasar un DataFrame booleano para indexar. \n",
    "\n",
    "Esto es principalmente útil si queremos establecer valores en todo el DataFrame basados en una condición.\n",
    "\n",
    "Como ejemplo, supongamos que necesitamos restringir los datos superiores a 15, estableciéndolos en 15."
   ]
  },
  {
   "cell_type": "code",
   "execution_count": 99,
   "id": "32b7a0a6-ed97-481e-a9e6-476bbd3eb245",
   "metadata": {},
   "outputs": [
    {
     "data": {
      "text/html": [
       "<div>\n",
       "<style scoped>\n",
       "    .dataframe tbody tr th:only-of-type {\n",
       "        vertical-align: middle;\n",
       "    }\n",
       "\n",
       "    .dataframe tbody tr th {\n",
       "        vertical-align: top;\n",
       "    }\n",
       "\n",
       "    .dataframe thead th {\n",
       "        text-align: right;\n",
       "    }\n",
       "</style>\n",
       "<table border=\"1\" class=\"dataframe\">\n",
       "  <thead>\n",
       "    <tr style=\"text-align: right;\">\n",
       "      <th></th>\n",
       "      <th>truco0</th>\n",
       "      <th>truco1</th>\n",
       "      <th>truco2</th>\n",
       "      <th>truco3</th>\n",
       "      <th>truco4</th>\n",
       "    </tr>\n",
       "  </thead>\n",
       "  <tbody>\n",
       "    <tr>\n",
       "      <th>cachorro0</th>\n",
       "      <td>False</td>\n",
       "      <td>False</td>\n",
       "      <td>False</td>\n",
       "      <td>False</td>\n",
       "      <td>False</td>\n",
       "    </tr>\n",
       "    <tr>\n",
       "      <th>cachorro1</th>\n",
       "      <td>False</td>\n",
       "      <td>True</td>\n",
       "      <td>False</td>\n",
       "      <td>True</td>\n",
       "      <td>False</td>\n",
       "    </tr>\n",
       "    <tr>\n",
       "      <th>cachorro2</th>\n",
       "      <td>False</td>\n",
       "      <td>False</td>\n",
       "      <td>False</td>\n",
       "      <td>False</td>\n",
       "      <td>False</td>\n",
       "    </tr>\n",
       "    <tr>\n",
       "      <th>cachorro3</th>\n",
       "      <td>False</td>\n",
       "      <td>False</td>\n",
       "      <td>False</td>\n",
       "      <td>False</td>\n",
       "      <td>False</td>\n",
       "    </tr>\n",
       "    <tr>\n",
       "      <th>cachorro4</th>\n",
       "      <td>False</td>\n",
       "      <td>False</td>\n",
       "      <td>False</td>\n",
       "      <td>False</td>\n",
       "      <td>False</td>\n",
       "    </tr>\n",
       "  </tbody>\n",
       "</table>\n",
       "</div>"
      ],
      "text/plain": [
       "           truco0  truco1  truco2  truco3  truco4\n",
       "cachorro0   False   False   False   False   False\n",
       "cachorro1   False    True   False    True   False\n",
       "cachorro2   False   False   False   False   False\n",
       "cachorro3   False   False   False   False   False\n",
       "cachorro4   False   False   False   False   False"
      ]
     },
     "execution_count": 99,
     "metadata": {},
     "output_type": "execute_result"
    }
   ],
   "source": [
    "Cachorros > 15"
   ]
  },
  {
   "cell_type": "code",
   "execution_count": 100,
   "id": "17ef188a-60c3-4842-8620-9adb881b7cc2",
   "metadata": {},
   "outputs": [
    {
     "data": {
      "text/html": [
       "<div>\n",
       "<style scoped>\n",
       "    .dataframe tbody tr th:only-of-type {\n",
       "        vertical-align: middle;\n",
       "    }\n",
       "\n",
       "    .dataframe tbody tr th {\n",
       "        vertical-align: top;\n",
       "    }\n",
       "\n",
       "    .dataframe thead th {\n",
       "        text-align: right;\n",
       "    }\n",
       "</style>\n",
       "<table border=\"1\" class=\"dataframe\">\n",
       "  <thead>\n",
       "    <tr style=\"text-align: right;\">\n",
       "      <th></th>\n",
       "      <th>truco0</th>\n",
       "      <th>truco1</th>\n",
       "      <th>truco2</th>\n",
       "      <th>truco3</th>\n",
       "      <th>truco4</th>\n",
       "    </tr>\n",
       "  </thead>\n",
       "  <tbody>\n",
       "    <tr>\n",
       "      <th>cachorro0</th>\n",
       "      <td>3</td>\n",
       "      <td>7</td>\n",
       "      <td>1</td>\n",
       "      <td>2</td>\n",
       "      <td>11</td>\n",
       "    </tr>\n",
       "    <tr>\n",
       "      <th>cachorro1</th>\n",
       "      <td>3</td>\n",
       "      <td>15</td>\n",
       "      <td>10</td>\n",
       "      <td>15</td>\n",
       "      <td>12</td>\n",
       "    </tr>\n",
       "    <tr>\n",
       "      <th>cachorro2</th>\n",
       "      <td>2</td>\n",
       "      <td>9</td>\n",
       "      <td>1</td>\n",
       "      <td>7</td>\n",
       "      <td>2</td>\n",
       "    </tr>\n",
       "    <tr>\n",
       "      <th>cachorro3</th>\n",
       "      <td>1</td>\n",
       "      <td>13</td>\n",
       "      <td>8</td>\n",
       "      <td>4</td>\n",
       "      <td>10</td>\n",
       "    </tr>\n",
       "    <tr>\n",
       "      <th>cachorro4</th>\n",
       "      <td>4</td>\n",
       "      <td>3</td>\n",
       "      <td>6</td>\n",
       "      <td>3</td>\n",
       "      <td>5</td>\n",
       "    </tr>\n",
       "  </tbody>\n",
       "</table>\n",
       "</div>"
      ],
      "text/plain": [
       "           truco0  truco1  truco2  truco3  truco4\n",
       "cachorro0       3       7       1       2      11\n",
       "cachorro1       3      15      10      15      12\n",
       "cachorro2       2       9       1       7       2\n",
       "cachorro3       1      13       8       4      10\n",
       "cachorro4       4       3       6       3       5"
      ]
     },
     "execution_count": 100,
     "metadata": {},
     "output_type": "execute_result"
    }
   ],
   "source": [
    "Cachorros[Cachorros > 15] = 15\n",
    "Cachorros"
   ]
  },
  {
   "cell_type": "markdown",
   "id": "738f28c4-1a4c-4df7-8086-79cc1d2f219b",
   "metadata": {},
   "source": [
    "Otro caso especial es que los slices se aplican a las filas."
   ]
  },
  {
   "cell_type": "code",
   "execution_count": 102,
   "id": "4951ff14-1106-43d0-8b64-be830f17f44f",
   "metadata": {},
   "outputs": [
    {
     "data": {
      "text/html": [
       "<div>\n",
       "<style scoped>\n",
       "    .dataframe tbody tr th:only-of-type {\n",
       "        vertical-align: middle;\n",
       "    }\n",
       "\n",
       "    .dataframe tbody tr th {\n",
       "        vertical-align: top;\n",
       "    }\n",
       "\n",
       "    .dataframe thead th {\n",
       "        text-align: right;\n",
       "    }\n",
       "</style>\n",
       "<table border=\"1\" class=\"dataframe\">\n",
       "  <thead>\n",
       "    <tr style=\"text-align: right;\">\n",
       "      <th></th>\n",
       "      <th>truco0</th>\n",
       "      <th>truco1</th>\n",
       "      <th>truco2</th>\n",
       "      <th>truco3</th>\n",
       "      <th>truco4</th>\n",
       "    </tr>\n",
       "  </thead>\n",
       "  <tbody>\n",
       "    <tr>\n",
       "      <th>cachorro0</th>\n",
       "      <td>3</td>\n",
       "      <td>7</td>\n",
       "      <td>1</td>\n",
       "      <td>2</td>\n",
       "      <td>11</td>\n",
       "    </tr>\n",
       "    <tr>\n",
       "      <th>cachorro1</th>\n",
       "      <td>3</td>\n",
       "      <td>15</td>\n",
       "      <td>10</td>\n",
       "      <td>15</td>\n",
       "      <td>12</td>\n",
       "    </tr>\n",
       "  </tbody>\n",
       "</table>\n",
       "</div>"
      ],
      "text/plain": [
       "           truco0  truco1  truco2  truco3  truco4\n",
       "cachorro0       3       7       1       2      11\n",
       "cachorro1       3      15      10      15      12"
      ]
     },
     "execution_count": 102,
     "metadata": {},
     "output_type": "execute_result"
    }
   ],
   "source": [
    "Cachorros[0:2]"
   ]
  },
  {
   "cell_type": "code",
   "execution_count": 103,
   "id": "c61f341d-5d9b-40ac-8090-6f045546692c",
   "metadata": {},
   "outputs": [
    {
     "data": {
      "text/html": [
       "<div>\n",
       "<style scoped>\n",
       "    .dataframe tbody tr th:only-of-type {\n",
       "        vertical-align: middle;\n",
       "    }\n",
       "\n",
       "    .dataframe tbody tr th {\n",
       "        vertical-align: top;\n",
       "    }\n",
       "\n",
       "    .dataframe thead th {\n",
       "        text-align: right;\n",
       "    }\n",
       "</style>\n",
       "<table border=\"1\" class=\"dataframe\">\n",
       "  <thead>\n",
       "    <tr style=\"text-align: right;\">\n",
       "      <th></th>\n",
       "      <th>truco0</th>\n",
       "      <th>truco1</th>\n",
       "      <th>truco2</th>\n",
       "      <th>truco3</th>\n",
       "      <th>truco4</th>\n",
       "    </tr>\n",
       "  </thead>\n",
       "  <tbody>\n",
       "    <tr>\n",
       "      <th>cachorro0</th>\n",
       "      <td>3</td>\n",
       "      <td>7</td>\n",
       "      <td>1</td>\n",
       "      <td>2</td>\n",
       "      <td>11</td>\n",
       "    </tr>\n",
       "    <tr>\n",
       "      <th>cachorro1</th>\n",
       "      <td>3</td>\n",
       "      <td>15</td>\n",
       "      <td>10</td>\n",
       "      <td>15</td>\n",
       "      <td>12</td>\n",
       "    </tr>\n",
       "    <tr>\n",
       "      <th>cachorro2</th>\n",
       "      <td>2</td>\n",
       "      <td>9</td>\n",
       "      <td>1</td>\n",
       "      <td>7</td>\n",
       "      <td>2</td>\n",
       "    </tr>\n",
       "  </tbody>\n",
       "</table>\n",
       "</div>"
      ],
      "text/plain": [
       "           truco0  truco1  truco2  truco3  truco4\n",
       "cachorro0       3       7       1       2      11\n",
       "cachorro1       3      15      10      15      12\n",
       "cachorro2       2       9       1       7       2"
      ]
     },
     "execution_count": 103,
     "metadata": {},
     "output_type": "execute_result"
    }
   ],
   "source": [
    "Cachorros['cachorro0':'cachorro2']"
   ]
  },
  {
   "cell_type": "markdown",
   "id": "2cc4ee4f-47fe-413d-8a81-21e3b2ed681e",
   "metadata": {},
   "source": [
    "Esta es una operación contraintuitiva con base en lo que estuvimos revisando, pero es bueno saber que existe la excepción.\n",
    "\n",
    "Y cabe mencionar que nuevamente tenemos un comportamiento distinto cuando utilizamos índices que cuando utilizamos etiquetas."
   ]
  },
  {
   "cell_type": "markdown",
   "id": "b188e056-514f-4e03-8700-1c758bf3f376",
   "metadata": {},
   "source": [
    "## <a style=\"padding:3px;color: #FF4D4D; \"><strong>loc & iloc</strong></a>"
   ]
  },
  {
   "cell_type": "markdown",
   "id": "d4952c88-6478-4637-adca-206ecd94d75f",
   "metadata": {},
   "source": [
    "Hemos visto algunos ejemplos de indexación, pero realmente no hemos abordado el problema central: La forma adecuada de seleccionar filas y columnas de un DataFrame.\n",
    "\n",
    "El método `ix`, ahora obsoleto, fue uno de los primeros indexadores de Pandas. Desafortunadamente, `ix` solía confundir a las personas, porque era difícil predecir si indexaría por posición o por etiqueta. Esto es especialmente cierto si tenemos un índice de etiquetas que son números enteros.\n",
    "\n",
    "En su lugar, es importante que recordemos dos métodos de indexación:\n",
    "\n",
    "- `loc` siempre usa etiquetas para indexar.\n",
    "\n",
    "- `iloc` siempre usa la posición (int).\n",
    "\n",
    "Utilizando nuestro DataFrame de antes:"
   ]
  },
  {
   "cell_type": "code",
   "execution_count": 107,
   "id": "63bd73d5-24d2-4a9f-900e-30a54de795b3",
   "metadata": {},
   "outputs": [
    {
     "data": {
      "text/html": [
       "<div>\n",
       "<style scoped>\n",
       "    .dataframe tbody tr th:only-of-type {\n",
       "        vertical-align: middle;\n",
       "    }\n",
       "\n",
       "    .dataframe tbody tr th {\n",
       "        vertical-align: top;\n",
       "    }\n",
       "\n",
       "    .dataframe thead th {\n",
       "        text-align: right;\n",
       "    }\n",
       "</style>\n",
       "<table border=\"1\" class=\"dataframe\">\n",
       "  <thead>\n",
       "    <tr style=\"text-align: right;\">\n",
       "      <th></th>\n",
       "      <th>truco0</th>\n",
       "      <th>truco1</th>\n",
       "      <th>truco2</th>\n",
       "      <th>truco3</th>\n",
       "      <th>truco4</th>\n",
       "    </tr>\n",
       "  </thead>\n",
       "  <tbody>\n",
       "    <tr>\n",
       "      <th>cachorro0</th>\n",
       "      <td>3</td>\n",
       "      <td>7</td>\n",
       "      <td>1</td>\n",
       "      <td>2</td>\n",
       "      <td>11</td>\n",
       "    </tr>\n",
       "    <tr>\n",
       "      <th>cachorro1</th>\n",
       "      <td>3</td>\n",
       "      <td>15</td>\n",
       "      <td>10</td>\n",
       "      <td>15</td>\n",
       "      <td>12</td>\n",
       "    </tr>\n",
       "    <tr>\n",
       "      <th>cachorro2</th>\n",
       "      <td>2</td>\n",
       "      <td>9</td>\n",
       "      <td>1</td>\n",
       "      <td>7</td>\n",
       "      <td>2</td>\n",
       "    </tr>\n",
       "    <tr>\n",
       "      <th>cachorro3</th>\n",
       "      <td>1</td>\n",
       "      <td>13</td>\n",
       "      <td>8</td>\n",
       "      <td>4</td>\n",
       "      <td>10</td>\n",
       "    </tr>\n",
       "    <tr>\n",
       "      <th>cachorro4</th>\n",
       "      <td>4</td>\n",
       "      <td>3</td>\n",
       "      <td>6</td>\n",
       "      <td>3</td>\n",
       "      <td>5</td>\n",
       "    </tr>\n",
       "  </tbody>\n",
       "</table>\n",
       "</div>"
      ],
      "text/plain": [
       "           truco0  truco1  truco2  truco3  truco4\n",
       "cachorro0       3       7       1       2      11\n",
       "cachorro1       3      15      10      15      12\n",
       "cachorro2       2       9       1       7       2\n",
       "cachorro3       1      13       8       4      10\n",
       "cachorro4       4       3       6       3       5"
      ]
     },
     "execution_count": 107,
     "metadata": {},
     "output_type": "execute_result"
    }
   ],
   "source": [
    "Cachorros"
   ]
  },
  {
   "cell_type": "markdown",
   "id": "1e28598c-b9bc-4195-9c41-001e210df395",
   "metadata": {},
   "source": [
    "Supongamos que queremos extraer el valor del medio (que es 1). Podemos hacerlo de dos maneras."
   ]
  },
  {
   "cell_type": "code",
   "execution_count": 109,
   "id": "5d91d71f-fb27-4928-9827-4b13e3547e51",
   "metadata": {},
   "outputs": [
    {
     "data": {
      "text/plain": [
       "1"
      ]
     },
     "execution_count": 109,
     "metadata": {},
     "output_type": "execute_result"
    }
   ],
   "source": [
    "Cachorros.loc['cachorro2', 'truco2']"
   ]
  },
  {
   "cell_type": "code",
   "execution_count": 110,
   "id": "ea80a852-bc24-4999-8335-011e215b95cc",
   "metadata": {},
   "outputs": [
    {
     "data": {
      "text/plain": [
       "1"
      ]
     },
     "execution_count": 110,
     "metadata": {},
     "output_type": "execute_result"
    }
   ],
   "source": [
    "Cachorros.iloc[2,2]"
   ]
  },
  {
   "cell_type": "markdown",
   "id": "e126e4eb-8ea9-4f2b-ac19-13925fc491ec",
   "metadata": {},
   "source": [
    "Notemos que, de cualquier manera, el formato es filas, luego una coma, y luego columnas.\n",
    "\n",
    "Podemos extraer múltiples valores proporcionando listas, slices o Series booleanas, ya sea a las filas o a las columnas."
   ]
  },
  {
   "cell_type": "code",
   "execution_count": 112,
   "id": "6bec2f37-b4b0-4838-a9d8-dee07ab0995c",
   "metadata": {},
   "outputs": [
    {
     "data": {
      "text/plain": [
       "cachorro2    1\n",
       "cachorro4    6\n",
       "Name: truco2, dtype: int32"
      ]
     },
     "execution_count": 112,
     "metadata": {},
     "output_type": "execute_result"
    }
   ],
   "source": [
    "Cachorros.loc[['cachorro2','cachorro4'], 'truco2']"
   ]
  },
  {
   "cell_type": "code",
   "execution_count": 113,
   "id": "7efd1f7b-4b31-4fdf-a0d0-b448e5362d76",
   "metadata": {},
   "outputs": [
    {
     "data": {
      "text/plain": [
       "truco1    9\n",
       "truco2    1\n",
       "truco3    7\n",
       "Name: cachorro2, dtype: int32"
      ]
     },
     "execution_count": 113,
     "metadata": {},
     "output_type": "execute_result"
    }
   ],
   "source": [
    "Cachorros.loc['cachorro2', 'truco1':'truco3']"
   ]
  },
  {
   "cell_type": "code",
   "execution_count": 114,
   "id": "3e0322d8-72c9-4041-aa43-495badbe2561",
   "metadata": {},
   "outputs": [
    {
     "data": {
      "text/html": [
       "<div>\n",
       "<style scoped>\n",
       "    .dataframe tbody tr th:only-of-type {\n",
       "        vertical-align: middle;\n",
       "    }\n",
       "\n",
       "    .dataframe tbody tr th {\n",
       "        vertical-align: top;\n",
       "    }\n",
       "\n",
       "    .dataframe thead th {\n",
       "        text-align: right;\n",
       "    }\n",
       "</style>\n",
       "<table border=\"1\" class=\"dataframe\">\n",
       "  <thead>\n",
       "    <tr style=\"text-align: right;\">\n",
       "      <th></th>\n",
       "      <th>truco1</th>\n",
       "      <th>truco2</th>\n",
       "    </tr>\n",
       "  </thead>\n",
       "  <tbody>\n",
       "    <tr>\n",
       "      <th>cachorro1</th>\n",
       "      <td>15</td>\n",
       "      <td>10</td>\n",
       "    </tr>\n",
       "    <tr>\n",
       "      <th>cachorro2</th>\n",
       "      <td>9</td>\n",
       "      <td>1</td>\n",
       "    </tr>\n",
       "  </tbody>\n",
       "</table>\n",
       "</div>"
      ],
      "text/plain": [
       "           truco1  truco2\n",
       "cachorro1      15      10\n",
       "cachorro2       9       1"
      ]
     },
     "execution_count": 114,
     "metadata": {},
     "output_type": "execute_result"
    }
   ],
   "source": [
    "Cachorros.iloc[1:3,1:3]"
   ]
  },
  {
   "cell_type": "code",
   "execution_count": 115,
   "id": "2972e02e-1431-4ccc-a2be-28f882906ee8",
   "metadata": {},
   "outputs": [
    {
     "data": {
      "text/html": [
       "<div>\n",
       "<style scoped>\n",
       "    .dataframe tbody tr th:only-of-type {\n",
       "        vertical-align: middle;\n",
       "    }\n",
       "\n",
       "    .dataframe tbody tr th {\n",
       "        vertical-align: top;\n",
       "    }\n",
       "\n",
       "    .dataframe thead th {\n",
       "        text-align: right;\n",
       "    }\n",
       "</style>\n",
       "<table border=\"1\" class=\"dataframe\">\n",
       "  <thead>\n",
       "    <tr style=\"text-align: right;\">\n",
       "      <th></th>\n",
       "      <th>truco3</th>\n",
       "      <th>truco4</th>\n",
       "    </tr>\n",
       "  </thead>\n",
       "  <tbody>\n",
       "    <tr>\n",
       "      <th>cachorro1</th>\n",
       "      <td>15</td>\n",
       "      <td>12</td>\n",
       "    </tr>\n",
       "    <tr>\n",
       "      <th>cachorro2</th>\n",
       "      <td>7</td>\n",
       "      <td>2</td>\n",
       "    </tr>\n",
       "    <tr>\n",
       "      <th>cachorro3</th>\n",
       "      <td>4</td>\n",
       "      <td>10</td>\n",
       "    </tr>\n",
       "  </tbody>\n",
       "</table>\n",
       "</div>"
      ],
      "text/plain": [
       "           truco3  truco4\n",
       "cachorro1      15      12\n",
       "cachorro2       7       2\n",
       "cachorro3       4      10"
      ]
     },
     "execution_count": 115,
     "metadata": {},
     "output_type": "execute_result"
    }
   ],
   "source": [
    "Cachorros.loc[Cachorros.truco1 > 7,'truco3':'truco4']"
   ]
  },
  {
   "cell_type": "code",
   "execution_count": 116,
   "id": "85373c21-f444-4d33-96f8-7a5fb55d8899",
   "metadata": {},
   "outputs": [
    {
     "data": {
      "text/html": [
       "<div>\n",
       "<style scoped>\n",
       "    .dataframe tbody tr th:only-of-type {\n",
       "        vertical-align: middle;\n",
       "    }\n",
       "\n",
       "    .dataframe tbody tr th {\n",
       "        vertical-align: top;\n",
       "    }\n",
       "\n",
       "    .dataframe thead th {\n",
       "        text-align: right;\n",
       "    }\n",
       "</style>\n",
       "<table border=\"1\" class=\"dataframe\">\n",
       "  <thead>\n",
       "    <tr style=\"text-align: right;\">\n",
       "      <th></th>\n",
       "      <th>truco0</th>\n",
       "      <th>truco1</th>\n",
       "      <th>truco2</th>\n",
       "      <th>truco3</th>\n",
       "      <th>truco4</th>\n",
       "    </tr>\n",
       "  </thead>\n",
       "  <tbody>\n",
       "    <tr>\n",
       "      <th>cachorro0</th>\n",
       "      <td>3</td>\n",
       "      <td>7</td>\n",
       "      <td>1</td>\n",
       "      <td>2</td>\n",
       "      <td>11</td>\n",
       "    </tr>\n",
       "    <tr>\n",
       "      <th>cachorro1</th>\n",
       "      <td>3</td>\n",
       "      <td>15</td>\n",
       "      <td>10</td>\n",
       "      <td>15</td>\n",
       "      <td>12</td>\n",
       "    </tr>\n",
       "    <tr>\n",
       "      <th>cachorro2</th>\n",
       "      <td>2</td>\n",
       "      <td>9</td>\n",
       "      <td>1</td>\n",
       "      <td>7</td>\n",
       "      <td>2</td>\n",
       "    </tr>\n",
       "    <tr>\n",
       "      <th>cachorro3</th>\n",
       "      <td>1</td>\n",
       "      <td>13</td>\n",
       "      <td>8</td>\n",
       "      <td>4</td>\n",
       "      <td>10</td>\n",
       "    </tr>\n",
       "  </tbody>\n",
       "</table>\n",
       "</div>"
      ],
      "text/plain": [
       "           truco0  truco1  truco2  truco3  truco4\n",
       "cachorro0       3       7       1       2      11\n",
       "cachorro1       3      15      10      15      12\n",
       "cachorro2       2       9       1       7       2\n",
       "cachorro3       1      13       8       4      10"
      ]
     },
     "execution_count": 116,
     "metadata": {},
     "output_type": "execute_result"
    }
   ],
   "source": [
    "Cachorros.iloc[:4,:]"
   ]
  },
  {
   "cell_type": "code",
   "execution_count": 117,
   "id": "4c57d50c-2a11-426f-9e44-b53c24c26fe5",
   "metadata": {},
   "outputs": [
    {
     "name": "stderr",
     "output_type": "stream",
     "text": [
      "C:\\Users\\emanu\\AppData\\Local\\Temp\\ipykernel_11948\\585209911.py:1: UserWarning: Boolean Series key will be reindexed to match DataFrame index.\n",
      "  Cachorros.iloc[:4,:][Cachorros.truco0 > 2]\n"
     ]
    },
    {
     "data": {
      "text/html": [
       "<div>\n",
       "<style scoped>\n",
       "    .dataframe tbody tr th:only-of-type {\n",
       "        vertical-align: middle;\n",
       "    }\n",
       "\n",
       "    .dataframe tbody tr th {\n",
       "        vertical-align: top;\n",
       "    }\n",
       "\n",
       "    .dataframe thead th {\n",
       "        text-align: right;\n",
       "    }\n",
       "</style>\n",
       "<table border=\"1\" class=\"dataframe\">\n",
       "  <thead>\n",
       "    <tr style=\"text-align: right;\">\n",
       "      <th></th>\n",
       "      <th>truco0</th>\n",
       "      <th>truco1</th>\n",
       "      <th>truco2</th>\n",
       "      <th>truco3</th>\n",
       "      <th>truco4</th>\n",
       "    </tr>\n",
       "  </thead>\n",
       "  <tbody>\n",
       "    <tr>\n",
       "      <th>cachorro0</th>\n",
       "      <td>3</td>\n",
       "      <td>7</td>\n",
       "      <td>1</td>\n",
       "      <td>2</td>\n",
       "      <td>11</td>\n",
       "    </tr>\n",
       "    <tr>\n",
       "      <th>cachorro1</th>\n",
       "      <td>3</td>\n",
       "      <td>15</td>\n",
       "      <td>10</td>\n",
       "      <td>15</td>\n",
       "      <td>12</td>\n",
       "    </tr>\n",
       "  </tbody>\n",
       "</table>\n",
       "</div>"
      ],
      "text/plain": [
       "           truco0  truco1  truco2  truco3  truco4\n",
       "cachorro0       3       7       1       2      11\n",
       "cachorro1       3      15      10      15      12"
      ]
     },
     "execution_count": 117,
     "metadata": {},
     "output_type": "execute_result"
    }
   ],
   "source": [
    "Cachorros.iloc[:4,:][Cachorros.truco0 > 2]"
   ]
  },
  {
   "cell_type": "markdown",
   "id": "25e86a65-8ba7-4581-a225-ea9f4f40fc06",
   "metadata": {},
   "source": [
    "Aquí hay una situación complicada sobre la que quizás nos hemos preguntado."
   ]
  },
  {
   "cell_type": "code",
   "execution_count": 119,
   "id": "8c998431-1c7a-46c3-bd22-9d9a922be0bc",
   "metadata": {},
   "outputs": [
    {
     "data": {
      "text/plain": [
       "5    0\n",
       "4    1\n",
       "3    2\n",
       "2    3\n",
       "1    4\n",
       "dtype: int64"
      ]
     },
     "execution_count": 119,
     "metadata": {},
     "output_type": "execute_result"
    }
   ],
   "source": [
    "s = pd.Series(range(5), index = range(5,0,-1) )\n",
    "s"
   ]
  },
  {
   "cell_type": "markdown",
   "id": "18e84e60-c6ea-4c5e-9737-06cae3bf1099",
   "metadata": {},
   "source": [
    "Tenemos una Series con un índice entero, pero es diferente de las posiciones enteras. ¿Qué pasaría si escribimos `s[1]`? ¿Debería Pandas interpretarlo como una etiqueta o como una posición?"
   ]
  },
  {
   "cell_type": "code",
   "execution_count": 121,
   "id": "a9f9d0b0-3137-41aa-abac-f63590681942",
   "metadata": {},
   "outputs": [
    {
     "data": {
      "text/plain": [
       "4"
      ]
     },
     "execution_count": 121,
     "metadata": {},
     "output_type": "execute_result"
    }
   ],
   "source": [
    "s[1]"
   ]
  },
  {
   "cell_type": "markdown",
   "id": "6b82e60a-b6be-4cb0-a2a3-f1dea8f08393",
   "metadata": {},
   "source": [
    "Podemos ver que trata al número como una etiqueta. Desafortunadamente, para hacerlo aún más confuso, un slice se interpreta como posiciones."
   ]
  },
  {
   "cell_type": "code",
   "execution_count": 123,
   "id": "840e723c-77a4-4ee4-9623-44300fee1a1f",
   "metadata": {},
   "outputs": [
    {
     "data": {
      "text/plain": [
       "4    1\n",
       "3    2\n",
       "dtype: int64"
      ]
     },
     "execution_count": 123,
     "metadata": {},
     "output_type": "execute_result"
    }
   ],
   "source": [
    "s[1:3]"
   ]
  },
  {
   "cell_type": "markdown",
   "id": "e2fae09f-7ac2-45e7-bc26-b0ac3ca30862",
   "metadata": {},
   "source": [
    "Podemos intentar memorizar todas las reglas, pero una buena práctica es siempre especificar exactamente lo que queremos escribiendo `loc` o `iloc`."
   ]
  },
  {
   "cell_type": "code",
   "execution_count": 125,
   "id": "080ce7cb-c09f-44b8-a3db-077c464ca0e5",
   "metadata": {},
   "outputs": [
    {
     "data": {
      "text/plain": [
       "3    2\n",
       "2    3\n",
       "1    4\n",
       "dtype: int64"
      ]
     },
     "execution_count": 125,
     "metadata": {},
     "output_type": "execute_result"
    }
   ],
   "source": [
    "s.loc[3:1]"
   ]
  },
  {
   "cell_type": "markdown",
   "id": "e766436c-bd4f-4d92-b110-65e5bc9d0bfb",
   "metadata": {},
   "source": [
    "El mismo consejo aplica cuando tenemos un índice entero en un DataFrame. Es bueno adoptar mejores prácticas y evitar confusiones desde el inicio de ser posible"
   ]
  },
  {
   "cell_type": "markdown",
   "id": "4fbf1d31-11b2-49de-b5a6-0b6dc12d0b7b",
   "metadata": {},
   "source": [
    "## <a style=\"padding:3px;color: #FF4D4D; \"><strong>Aplicando Funciones a DataFrames</strong></a>"
   ]
  },
  {
   "cell_type": "markdown",
   "id": "eac7554b-4e48-42c1-9838-a501ef38c071",
   "metadata": {},
   "source": [
    "Anteriormente, almacenamos nuestros datos de calificaciones como un archivo CSV. Recuperémoslo con el método `read_csv()` de Pandas."
   ]
  },
  {
   "cell_type": "code",
   "execution_count": 129,
   "id": "07de29a4-3e3f-4d0c-8897-f4f2a608fbbd",
   "metadata": {},
   "outputs": [
    {
     "data": {
      "text/html": [
       "<div>\n",
       "<style scoped>\n",
       "    .dataframe tbody tr th:only-of-type {\n",
       "        vertical-align: middle;\n",
       "    }\n",
       "\n",
       "    .dataframe tbody tr th {\n",
       "        vertical-align: top;\n",
       "    }\n",
       "\n",
       "    .dataframe thead th {\n",
       "        text-align: right;\n",
       "    }\n",
       "</style>\n",
       "<table border=\"1\" class=\"dataframe\">\n",
       "  <thead>\n",
       "    <tr style=\"text-align: right;\">\n",
       "      <th></th>\n",
       "      <th>estudiante</th>\n",
       "      <th>semestral</th>\n",
       "      <th>final</th>\n",
       "    </tr>\n",
       "  </thead>\n",
       "  <tbody>\n",
       "    <tr>\n",
       "      <th>0</th>\n",
       "      <td>Mario</td>\n",
       "      <td>76</td>\n",
       "      <td>85</td>\n",
       "    </tr>\n",
       "    <tr>\n",
       "      <th>1</th>\n",
       "      <td>Alejandro</td>\n",
       "      <td>92</td>\n",
       "      <td>90</td>\n",
       "    </tr>\n",
       "    <tr>\n",
       "      <th>2</th>\n",
       "      <td>Javier</td>\n",
       "      <td>85</td>\n",
       "      <td>87</td>\n",
       "    </tr>\n",
       "    <tr>\n",
       "      <th>3</th>\n",
       "      <td>Luciana</td>\n",
       "      <td>78</td>\n",
       "      <td>83</td>\n",
       "    </tr>\n",
       "    <tr>\n",
       "      <th>4</th>\n",
       "      <td>Sabrina</td>\n",
       "      <td>94</td>\n",
       "      <td>96</td>\n",
       "    </tr>\n",
       "    <tr>\n",
       "      <th>5</th>\n",
       "      <td>Beatriz</td>\n",
       "      <td>83</td>\n",
       "      <td>84</td>\n",
       "    </tr>\n",
       "  </tbody>\n",
       "</table>\n",
       "</div>"
      ],
      "text/plain": [
       "  estudiante  semestral  final\n",
       "0      Mario         76     85\n",
       "1  Alejandro         92     90\n",
       "2     Javier         85     87\n",
       "3    Luciana         78     83\n",
       "4    Sabrina         94     96\n",
       "5    Beatriz         83     84"
      ]
     },
     "execution_count": 129,
     "metadata": {},
     "output_type": "execute_result"
    }
   ],
   "source": [
    "boletas = pd.read_csv('boletas.csv')\n",
    "boletas"
   ]
  },
  {
   "cell_type": "markdown",
   "id": "0685cf2a-5db5-4c76-9328-de44f25070a8",
   "metadata": {},
   "source": [
    "Notemos que ya no tenemos los nombres de los estudiantes como nuestro índice. Esto es porque no hay forma de especificar qué variable es un índice en un archivo CSV, por lo que esa información se pierde. Podemos volver a la forma en que teníamos las cosas antes con `set_index()`."
   ]
  },
  {
   "cell_type": "code",
   "execution_count": 131,
   "id": "3c33fed3-9397-4cb4-b7fc-2e785d2e6ea5",
   "metadata": {},
   "outputs": [
    {
     "data": {
      "text/html": [
       "<div>\n",
       "<style scoped>\n",
       "    .dataframe tbody tr th:only-of-type {\n",
       "        vertical-align: middle;\n",
       "    }\n",
       "\n",
       "    .dataframe tbody tr th {\n",
       "        vertical-align: top;\n",
       "    }\n",
       "\n",
       "    .dataframe thead th {\n",
       "        text-align: right;\n",
       "    }\n",
       "</style>\n",
       "<table border=\"1\" class=\"dataframe\">\n",
       "  <thead>\n",
       "    <tr style=\"text-align: right;\">\n",
       "      <th></th>\n",
       "      <th>semestral</th>\n",
       "      <th>final</th>\n",
       "    </tr>\n",
       "    <tr>\n",
       "      <th>estudiante</th>\n",
       "      <th></th>\n",
       "      <th></th>\n",
       "    </tr>\n",
       "  </thead>\n",
       "  <tbody>\n",
       "    <tr>\n",
       "      <th>Mario</th>\n",
       "      <td>76</td>\n",
       "      <td>85</td>\n",
       "    </tr>\n",
       "    <tr>\n",
       "      <th>Alejandro</th>\n",
       "      <td>92</td>\n",
       "      <td>90</td>\n",
       "    </tr>\n",
       "    <tr>\n",
       "      <th>Javier</th>\n",
       "      <td>85</td>\n",
       "      <td>87</td>\n",
       "    </tr>\n",
       "    <tr>\n",
       "      <th>Luciana</th>\n",
       "      <td>78</td>\n",
       "      <td>83</td>\n",
       "    </tr>\n",
       "    <tr>\n",
       "      <th>Sabrina</th>\n",
       "      <td>94</td>\n",
       "      <td>96</td>\n",
       "    </tr>\n",
       "    <tr>\n",
       "      <th>Beatriz</th>\n",
       "      <td>83</td>\n",
       "      <td>84</td>\n",
       "    </tr>\n",
       "  </tbody>\n",
       "</table>\n",
       "</div>"
      ],
      "text/plain": [
       "            semestral  final\n",
       "estudiante                  \n",
       "Mario              76     85\n",
       "Alejandro          92     90\n",
       "Javier             85     87\n",
       "Luciana            78     83\n",
       "Sabrina            94     96\n",
       "Beatriz            83     84"
      ]
     },
     "execution_count": 131,
     "metadata": {},
     "output_type": "execute_result"
    }
   ],
   "source": [
    "boletas = boletas.set_index('estudiante')\n",
    "boletas"
   ]
  },
  {
   "cell_type": "markdown",
   "id": "bbc9d001-e11a-4b49-8eda-7a42ba66e70a",
   "metadata": {},
   "source": [
    "También agreguemos algunos valores faltantes, solo para hacer las cosas más interesantes."
   ]
  },
  {
   "cell_type": "code",
   "execution_count": 133,
   "id": "19be4a5a-ca6e-48da-806f-a58b2631a3bb",
   "metadata": {},
   "outputs": [
    {
     "data": {
      "text/html": [
       "<div>\n",
       "<style scoped>\n",
       "    .dataframe tbody tr th:only-of-type {\n",
       "        vertical-align: middle;\n",
       "    }\n",
       "\n",
       "    .dataframe tbody tr th {\n",
       "        vertical-align: top;\n",
       "    }\n",
       "\n",
       "    .dataframe thead th {\n",
       "        text-align: right;\n",
       "    }\n",
       "</style>\n",
       "<table border=\"1\" class=\"dataframe\">\n",
       "  <thead>\n",
       "    <tr style=\"text-align: right;\">\n",
       "      <th></th>\n",
       "      <th>semestral</th>\n",
       "      <th>final</th>\n",
       "    </tr>\n",
       "    <tr>\n",
       "      <th>estudiante</th>\n",
       "      <th></th>\n",
       "      <th></th>\n",
       "    </tr>\n",
       "  </thead>\n",
       "  <tbody>\n",
       "    <tr>\n",
       "      <th>Mario</th>\n",
       "      <td>76.0</td>\n",
       "      <td>NaN</td>\n",
       "    </tr>\n",
       "    <tr>\n",
       "      <th>Alejandro</th>\n",
       "      <td>92.0</td>\n",
       "      <td>90.0</td>\n",
       "    </tr>\n",
       "    <tr>\n",
       "      <th>Javier</th>\n",
       "      <td>85.0</td>\n",
       "      <td>87.0</td>\n",
       "    </tr>\n",
       "    <tr>\n",
       "      <th>Luciana</th>\n",
       "      <td>78.0</td>\n",
       "      <td>83.0</td>\n",
       "    </tr>\n",
       "    <tr>\n",
       "      <th>Sabrina</th>\n",
       "      <td>94.0</td>\n",
       "      <td>96.0</td>\n",
       "    </tr>\n",
       "    <tr>\n",
       "      <th>Beatriz</th>\n",
       "      <td>NaN</td>\n",
       "      <td>84.0</td>\n",
       "    </tr>\n",
       "  </tbody>\n",
       "</table>\n",
       "</div>"
      ],
      "text/plain": [
       "            semestral  final\n",
       "estudiante                  \n",
       "Mario            76.0    NaN\n",
       "Alejandro        92.0   90.0\n",
       "Javier           85.0   87.0\n",
       "Luciana          78.0   83.0\n",
       "Sabrina          94.0   96.0\n",
       "Beatriz           NaN   84.0"
      ]
     },
     "execution_count": 133,
     "metadata": {},
     "output_type": "execute_result"
    }
   ],
   "source": [
    "boletas.loc['Mario','final'] = np.nan\n",
    "boletas.loc['Beatriz','semestral'] = np.nan\n",
    "boletas"
   ]
  },
  {
   "cell_type": "markdown",
   "id": "f8a31a89-8181-4517-b078-76e78beb7696",
   "metadata": {},
   "source": [
    "Es hora de aplicar algunas funciones. Por ejemplo, encontrar el puntaje promedio para cada tipo examen"
   ]
  },
  {
   "cell_type": "code",
   "execution_count": 135,
   "id": "035e6218-4d56-48da-a9aa-bb8620f6c39d",
   "metadata": {},
   "outputs": [
    {
     "data": {
      "text/plain": [
       "semestral    85.0\n",
       "final        88.0\n",
       "dtype: float64"
      ]
     },
     "execution_count": 135,
     "metadata": {},
     "output_type": "execute_result"
    }
   ],
   "source": [
    "boletas.mean()"
   ]
  },
  {
   "cell_type": "markdown",
   "id": "64220294-21d0-4362-aba6-ff33d9f1b868",
   "metadata": {},
   "source": [
    "Notemos que Pandas, a diferencia de NumPy, asume que queremos ignorar los valores faltantes, es decir, dejarlos fuera para que el cálculo pueda continuar.\n",
    "\n",
    "Esto es usualmente lo que queremos, pero existe el riesgo de que no pensemos en nuestros valores faltantes porque Pandas no nos obliga a hacerlo. \n",
    "\n",
    "¿Y si los valores faltantes representan a estudiantes que se rezagaron en el curso? ¿Siguen siendo las medias una medida justa de desempeño de los estudiantes?\n",
    "\n",
    "Podemos anular este comportamiento si lo deseamos con `skipna`."
   ]
  },
  {
   "cell_type": "code",
   "execution_count": 137,
   "id": "fe18fb50-ffce-4b9a-aa6e-15710661dc21",
   "metadata": {},
   "outputs": [
    {
     "data": {
      "text/plain": [
       "semestral   NaN\n",
       "final       NaN\n",
       "dtype: float64"
      ]
     },
     "execution_count": 137,
     "metadata": {},
     "output_type": "execute_result"
    }
   ],
   "source": [
    "boletas.mean(skipna = False)"
   ]
  },
  {
   "cell_type": "markdown",
   "id": "722c9706-4a3f-4029-ba39-723d992fb207",
   "metadata": {},
   "source": [
    "Por default, `mean` opera \"a lo largo de las filas\", lo que llamamos `axis 0`. \n",
    "\n",
    "Esto debería tener sentido para la mayoría de los DataFrames, pues las columnas podrían representar cosas completamente distintas.\n",
    "\n",
    "Aunque también es posible calcular la media horizontalmente (\"a lo largo de las columnas\"). Solo tenemos que establecer `axis = 1`."
   ]
  },
  {
   "cell_type": "code",
   "execution_count": 139,
   "id": "7b6e7870-a5bb-4f08-94c4-8bdab1023473",
   "metadata": {},
   "outputs": [
    {
     "data": {
      "text/plain": [
       "estudiante\n",
       "Mario        76.0\n",
       "Alejandro    91.0\n",
       "Javier       86.0\n",
       "Luciana      80.5\n",
       "Sabrina      95.0\n",
       "Beatriz      84.0\n",
       "dtype: float64"
      ]
     },
     "execution_count": 139,
     "metadata": {},
     "output_type": "execute_result"
    }
   ],
   "source": [
    "boletas.mean(axis = 1)"
   ]
  },
  {
   "cell_type": "code",
   "execution_count": 140,
   "id": "08111573-4a5c-4b27-8f7d-360894579a5f",
   "metadata": {},
   "outputs": [
    {
     "data": {
      "text/plain": [
       "estudiante\n",
       "Mario         NaN\n",
       "Alejandro    91.0\n",
       "Javier       86.0\n",
       "Luciana      80.5\n",
       "Sabrina      95.0\n",
       "Beatriz       NaN\n",
       "dtype: float64"
      ]
     },
     "execution_count": 140,
     "metadata": {},
     "output_type": "execute_result"
    }
   ],
   "source": [
    "boletas.mean(skipna = False, axis = 1)"
   ]
  },
  {
   "cell_type": "markdown",
   "id": "05b28121-e7be-48eb-a8d9-94b4e34b31e0",
   "metadata": {},
   "source": [
    "Notemos que el método `mean()` devuelve una Series."
   ]
  },
  {
   "cell_type": "code",
   "execution_count": 142,
   "id": "81f04efa-221b-4ee8-a73e-368e0cd3b22a",
   "metadata": {},
   "outputs": [
    {
     "data": {
      "text/plain": [
       "pandas.core.series.Series"
      ]
     },
     "execution_count": 142,
     "metadata": {},
     "output_type": "execute_result"
    }
   ],
   "source": [
    "prom = boletas.mean()\n",
    "type(prom)"
   ]
  },
  {
   "cell_type": "code",
   "execution_count": 143,
   "id": "d37818eb-5124-440e-b754-5865ef5ecb0e",
   "metadata": {},
   "outputs": [
    {
     "data": {
      "text/plain": [
       "semestral    85.0\n",
       "final        88.0\n",
       "dtype: float64"
      ]
     },
     "execution_count": 143,
     "metadata": {},
     "output_type": "execute_result"
    }
   ],
   "source": [
    "prom"
   ]
  },
  {
   "cell_type": "markdown",
   "id": "02fe697c-4c80-44de-b609-e7c7a11c3fc7",
   "metadata": {},
   "source": [
    "Podemos restar esta Series del DataFrame, para encontrar las diferencias por encima o debajo del promedio de calificaciones, tanto semestral como final."
   ]
  },
  {
   "cell_type": "code",
   "execution_count": 145,
   "id": "71fae43e-c988-4dd8-90f0-c0ecf4679bb1",
   "metadata": {},
   "outputs": [
    {
     "data": {
      "text/html": [
       "<div>\n",
       "<style scoped>\n",
       "    .dataframe tbody tr th:only-of-type {\n",
       "        vertical-align: middle;\n",
       "    }\n",
       "\n",
       "    .dataframe tbody tr th {\n",
       "        vertical-align: top;\n",
       "    }\n",
       "\n",
       "    .dataframe thead th {\n",
       "        text-align: right;\n",
       "    }\n",
       "</style>\n",
       "<table border=\"1\" class=\"dataframe\">\n",
       "  <thead>\n",
       "    <tr style=\"text-align: right;\">\n",
       "      <th></th>\n",
       "      <th>semestral</th>\n",
       "      <th>final</th>\n",
       "    </tr>\n",
       "    <tr>\n",
       "      <th>estudiante</th>\n",
       "      <th></th>\n",
       "      <th></th>\n",
       "    </tr>\n",
       "  </thead>\n",
       "  <tbody>\n",
       "    <tr>\n",
       "      <th>Mario</th>\n",
       "      <td>-9.0</td>\n",
       "      <td>NaN</td>\n",
       "    </tr>\n",
       "    <tr>\n",
       "      <th>Alejandro</th>\n",
       "      <td>7.0</td>\n",
       "      <td>2.0</td>\n",
       "    </tr>\n",
       "    <tr>\n",
       "      <th>Javier</th>\n",
       "      <td>0.0</td>\n",
       "      <td>-1.0</td>\n",
       "    </tr>\n",
       "    <tr>\n",
       "      <th>Luciana</th>\n",
       "      <td>-7.0</td>\n",
       "      <td>-5.0</td>\n",
       "    </tr>\n",
       "    <tr>\n",
       "      <th>Sabrina</th>\n",
       "      <td>9.0</td>\n",
       "      <td>8.0</td>\n",
       "    </tr>\n",
       "    <tr>\n",
       "      <th>Beatriz</th>\n",
       "      <td>NaN</td>\n",
       "      <td>-4.0</td>\n",
       "    </tr>\n",
       "  </tbody>\n",
       "</table>\n",
       "</div>"
      ],
      "text/plain": [
       "            semestral  final\n",
       "estudiante                  \n",
       "Mario            -9.0    NaN\n",
       "Alejandro         7.0    2.0\n",
       "Javier            0.0   -1.0\n",
       "Luciana          -7.0   -5.0\n",
       "Sabrina           9.0    8.0\n",
       "Beatriz           NaN   -4.0"
      ]
     },
     "execution_count": 145,
     "metadata": {},
     "output_type": "execute_result"
    }
   ],
   "source": [
    "boletas - prom"
   ]
  },
  {
   "cell_type": "markdown",
   "id": "087e06a9-df77-4094-b26a-4107025d5db9",
   "metadata": {},
   "source": [
    "Notemos que la Series se empareja con las columnas.\n",
    "\n",
    "Además, la Series se transmite, al igual que en NumPy. \n",
    "\n",
    "Aquí estamos tratando de restar una Series de `1 x 2` de un DataFrame de `6 x 2`. \n",
    "\n",
    "La Series se copia 6 veces automáticamente para que las dimensiones se alineen.\n",
    "\n",
    "Los DataFrames tienen muchos otros métodos para calcular estadísticas para las columnas (o filas)."
   ]
  },
  {
   "cell_type": "code",
   "execution_count": 147,
   "id": "2db1e565-e266-4a81-ad19-225a01825118",
   "metadata": {},
   "outputs": [
    {
     "data": {
      "text/plain": [
       "semestral    425.0\n",
       "final        440.0\n",
       "dtype: float64"
      ]
     },
     "execution_count": 147,
     "metadata": {},
     "output_type": "execute_result"
    }
   ],
   "source": [
    "boletas.sum()"
   ]
  },
  {
   "cell_type": "code",
   "execution_count": 148,
   "id": "a2325b91-4782-4a8a-ade6-ad755eef577b",
   "metadata": {},
   "outputs": [
    {
     "data": {
      "text/plain": [
       "semestral    76.0\n",
       "final        83.0\n",
       "dtype: float64"
      ]
     },
     "execution_count": 148,
     "metadata": {},
     "output_type": "execute_result"
    }
   ],
   "source": [
    "boletas.min()"
   ]
  },
  {
   "cell_type": "code",
   "execution_count": 149,
   "id": "e57f91cb-15a1-4d65-a1c4-45d24aee084a",
   "metadata": {},
   "outputs": [
    {
     "data": {
      "text/plain": [
       "semestral    8.062258\n",
       "final        5.244044\n",
       "dtype: float64"
      ]
     },
     "execution_count": 149,
     "metadata": {},
     "output_type": "execute_result"
    }
   ],
   "source": [
    "boletas.std()"
   ]
  },
  {
   "cell_type": "markdown",
   "id": "9a977c62-db8a-48e2-a962-7b486e530e3f",
   "metadata": {},
   "source": [
    "Podemos usar los métodos `corr()` y `cov()` para obtener una matriz completa de correlación o covarianza, respectivamente."
   ]
  },
  {
   "cell_type": "code",
   "execution_count": 151,
   "id": "37db6682-f0bb-4e16-ac47-921690935708",
   "metadata": {},
   "outputs": [
    {
     "data": {
      "text/html": [
       "<div>\n",
       "<style scoped>\n",
       "    .dataframe tbody tr th:only-of-type {\n",
       "        vertical-align: middle;\n",
       "    }\n",
       "\n",
       "    .dataframe tbody tr th {\n",
       "        vertical-align: top;\n",
       "    }\n",
       "\n",
       "    .dataframe thead th {\n",
       "        text-align: right;\n",
       "    }\n",
       "</style>\n",
       "<table border=\"1\" class=\"dataframe\">\n",
       "  <thead>\n",
       "    <tr style=\"text-align: right;\">\n",
       "      <th></th>\n",
       "      <th>semestral</th>\n",
       "      <th>final</th>\n",
       "    </tr>\n",
       "  </thead>\n",
       "  <tbody>\n",
       "    <tr>\n",
       "      <th>semestral</th>\n",
       "      <td>65.000000</td>\n",
       "      <td>37.333333</td>\n",
       "    </tr>\n",
       "    <tr>\n",
       "      <th>final</th>\n",
       "      <td>37.333333</td>\n",
       "      <td>27.500000</td>\n",
       "    </tr>\n",
       "  </tbody>\n",
       "</table>\n",
       "</div>"
      ],
      "text/plain": [
       "           semestral      final\n",
       "semestral  65.000000  37.333333\n",
       "final      37.333333  27.500000"
      ]
     },
     "execution_count": 151,
     "metadata": {},
     "output_type": "execute_result"
    }
   ],
   "source": [
    "boletas.cov()"
   ]
  },
  {
   "cell_type": "code",
   "execution_count": 152,
   "id": "32884b51-2ab2-483e-b07a-f7efd8c4e9a9",
   "metadata": {},
   "outputs": [
    {
     "data": {
      "text/html": [
       "<div>\n",
       "<style scoped>\n",
       "    .dataframe tbody tr th:only-of-type {\n",
       "        vertical-align: middle;\n",
       "    }\n",
       "\n",
       "    .dataframe tbody tr th {\n",
       "        vertical-align: top;\n",
       "    }\n",
       "\n",
       "    .dataframe thead th {\n",
       "        text-align: right;\n",
       "    }\n",
       "</style>\n",
       "<table border=\"1\" class=\"dataframe\">\n",
       "  <thead>\n",
       "    <tr style=\"text-align: right;\">\n",
       "      <th></th>\n",
       "      <th>semestral</th>\n",
       "      <th>final</th>\n",
       "    </tr>\n",
       "  </thead>\n",
       "  <tbody>\n",
       "    <tr>\n",
       "      <th>semestral</th>\n",
       "      <td>1.000000</td>\n",
       "      <td>0.937001</td>\n",
       "    </tr>\n",
       "    <tr>\n",
       "      <th>final</th>\n",
       "      <td>0.937001</td>\n",
       "      <td>1.000000</td>\n",
       "    </tr>\n",
       "  </tbody>\n",
       "</table>\n",
       "</div>"
      ],
      "text/plain": [
       "           semestral     final\n",
       "semestral   1.000000  0.937001\n",
       "final       0.937001  1.000000"
      ]
     },
     "execution_count": 152,
     "metadata": {},
     "output_type": "execute_result"
    }
   ],
   "source": [
    "boletas.corr()"
   ]
  },
  {
   "cell_type": "markdown",
   "id": "0a8040f4-4746-4565-91d4-1bb183faac36",
   "metadata": {},
   "source": [
    "Si tenemos demasiadas variables, calcular la matriz completa puede ser demasiada información. También podemos obtener la correlación de cada columna con una Series específica usando el método `corrwith()`."
   ]
  },
  {
   "cell_type": "code",
   "execution_count": 154,
   "id": "342d2508-5e42-415a-87c0-da7a6e9c620b",
   "metadata": {},
   "outputs": [
    {
     "data": {
      "text/plain": [
       "semestral    0.987462\n",
       "final        0.975852\n",
       "dtype: float64"
      ]
     },
     "execution_count": 154,
     "metadata": {},
     "output_type": "execute_result"
    }
   ],
   "source": [
    "boletas.corrwith(boletas.mean(axis=1))"
   ]
  },
  {
   "cell_type": "markdown",
   "id": "667f9c19-21db-4407-add3-dc76071c188c",
   "metadata": {},
   "source": [
    "## <a style=\"padding:3px;color: #FF4D4D; \"><strong>Funciones Personalizadas</strong></a>"
   ]
  },
  {
   "cell_type": "markdown",
   "id": "047a6e0c-8c20-430b-bea3-8d8ba31526e6",
   "metadata": {},
   "source": [
    "Con bastante frecuencia, querremos aplicar nuestra propia función personalizada a las columnas y filas de un DataFrame. Podemos hacer esto con el método general (y muy importante) `apply()`."
   ]
  },
  {
   "cell_type": "code",
   "execution_count": 157,
   "id": "2cb1bd0e-8b37-4838-a4b1-4b96612acb2b",
   "metadata": {},
   "outputs": [],
   "source": [
    "rangoCalifs = lambda x: x.max() - x.min()"
   ]
  },
  {
   "cell_type": "code",
   "execution_count": 158,
   "id": "2ed437a6-3534-418b-9516-0ca94bc7fc11",
   "metadata": {},
   "outputs": [
    {
     "data": {
      "text/plain": [
       "semestral    18.0\n",
       "final        13.0\n",
       "dtype: float64"
      ]
     },
     "execution_count": 158,
     "metadata": {},
     "output_type": "execute_result"
    }
   ],
   "source": [
    "boletas.apply(rangoCalifs)"
   ]
  },
  {
   "cell_type": "markdown",
   "id": "dccbfb83-7e07-4051-be14-5dcdb3b0503d",
   "metadata": {},
   "source": [
    "Podemos aplicar nuestra función ya sea a lo largo de las filas o a lo largo de las columnas."
   ]
  },
  {
   "cell_type": "code",
   "execution_count": 160,
   "id": "03814b0f-7067-4b97-83d3-e3a145873175",
   "metadata": {},
   "outputs": [
    {
     "data": {
      "text/plain": [
       "estudiante\n",
       "Mario        0.0\n",
       "Alejandro    2.0\n",
       "Javier       2.0\n",
       "Luciana      5.0\n",
       "Sabrina      2.0\n",
       "Beatriz      0.0\n",
       "dtype: float64"
      ]
     },
     "execution_count": 160,
     "metadata": {},
     "output_type": "execute_result"
    }
   ],
   "source": [
    "boletas.apply(rangoCalifs, axis = 1)"
   ]
  },
  {
   "cell_type": "markdown",
   "id": "38a9f512-c786-460c-a3ce-feab51426ffe",
   "metadata": {},
   "source": [
    "A veces veremos que las personas usan el método `agg` en estas situaciones. Agg es la abreviatura de aggregate, y esto enfatiza principalmente que estamos perdiendo una dimensión."
   ]
  },
  {
   "cell_type": "code",
   "execution_count": 162,
   "id": "7a01e0d7-2f54-44e9-965c-12f5f1fafc2f",
   "metadata": {},
   "outputs": [
    {
     "data": {
      "text/plain": [
       "semestral    18.0\n",
       "final        13.0\n",
       "dtype: float64"
      ]
     },
     "execution_count": 162,
     "metadata": {},
     "output_type": "execute_result"
    }
   ],
   "source": [
    "boletas.agg(rangoCalifs)"
   ]
  },
  {
   "cell_type": "markdown",
   "id": "46539df3-eba8-4275-9ec2-ea57f903af37",
   "metadata": {},
   "source": [
    "También es posible aplicar una función que devuelva un DataFrame completo. En este caso, no perderíamos una dimensión en el resultado (y no podríamos usar agg)."
   ]
  },
  {
   "cell_type": "code",
   "execution_count": 164,
   "id": "e67efbff-f262-45e7-a822-4159081eaff3",
   "metadata": {},
   "outputs": [],
   "source": [
    "def califMinMax(x):\n",
    "    return pd.Series([x.min(),x.max()], index = ['min','max'])"
   ]
  },
  {
   "cell_type": "code",
   "execution_count": 3,
   "id": "0977a607-1941-406c-8b62-3860a11fd3ea",
   "metadata": {},
   "outputs": [
    {
     "ename": "NameError",
     "evalue": "name 'califMinMax' is not defined",
     "output_type": "error",
     "traceback": [
      "\u001b[1;31m---------------------------------------------------------------------------\u001b[0m",
      "\u001b[1;31mNameError\u001b[0m                                 Traceback (most recent call last)",
      "Cell \u001b[1;32mIn[3], line 1\u001b[0m\n\u001b[1;32m----> 1\u001b[0m califMinMax\n",
      "\u001b[1;31mNameError\u001b[0m: name 'califMinMax' is not defined"
     ]
    }
   ],
   "source": [
    "califMinMax"
   ]
  },
  {
   "cell_type": "markdown",
   "id": "82c21d0d-4844-405f-a938-0baad3041609",
   "metadata": {},
   "source": [
    "Esto es menos común, pero debemos saber que podemos aplicar una función a cada elemento de un DataFrame. Esto se hace con la función `map()`."
   ]
  },
  {
   "cell_type": "code",
   "execution_count": 167,
   "id": "ebf6a73b-954d-440b-97d2-c4b2636ca6eb",
   "metadata": {},
   "outputs": [
    {
     "data": {
      "text/html": [
       "<div>\n",
       "<style scoped>\n",
       "    .dataframe tbody tr th:only-of-type {\n",
       "        vertical-align: middle;\n",
       "    }\n",
       "\n",
       "    .dataframe tbody tr th {\n",
       "        vertical-align: top;\n",
       "    }\n",
       "\n",
       "    .dataframe thead th {\n",
       "        text-align: right;\n",
       "    }\n",
       "</style>\n",
       "<table border=\"1\" class=\"dataframe\">\n",
       "  <thead>\n",
       "    <tr style=\"text-align: right;\">\n",
       "      <th></th>\n",
       "      <th>semestral</th>\n",
       "      <th>final</th>\n",
       "    </tr>\n",
       "    <tr>\n",
       "      <th>estudiante</th>\n",
       "      <th></th>\n",
       "      <th></th>\n",
       "    </tr>\n",
       "  </thead>\n",
       "  <tbody>\n",
       "    <tr>\n",
       "      <th>Mario</th>\n",
       "      <td>77.0</td>\n",
       "      <td>NaN</td>\n",
       "    </tr>\n",
       "    <tr>\n",
       "      <th>Alejandro</th>\n",
       "      <td>93.0</td>\n",
       "      <td>91.0</td>\n",
       "    </tr>\n",
       "    <tr>\n",
       "      <th>Javier</th>\n",
       "      <td>86.0</td>\n",
       "      <td>88.0</td>\n",
       "    </tr>\n",
       "    <tr>\n",
       "      <th>Luciana</th>\n",
       "      <td>79.0</td>\n",
       "      <td>84.0</td>\n",
       "    </tr>\n",
       "    <tr>\n",
       "      <th>Sabrina</th>\n",
       "      <td>95.0</td>\n",
       "      <td>97.0</td>\n",
       "    </tr>\n",
       "    <tr>\n",
       "      <th>Beatriz</th>\n",
       "      <td>NaN</td>\n",
       "      <td>85.0</td>\n",
       "    </tr>\n",
       "  </tbody>\n",
       "</table>\n",
       "</div>"
      ],
      "text/plain": [
       "            semestral  final\n",
       "estudiante                  \n",
       "Mario            77.0    NaN\n",
       "Alejandro        93.0   91.0\n",
       "Javier           86.0   88.0\n",
       "Luciana          79.0   84.0\n",
       "Sabrina          95.0   97.0\n",
       "Beatriz           NaN   85.0"
      ]
     },
     "execution_count": 167,
     "metadata": {},
     "output_type": "execute_result"
    }
   ],
   "source": [
    "boletas.map(lambda x: x+1)"
   ]
  },
  {
   "cell_type": "markdown",
   "id": "c981b86b-15c4-402b-96d8-5ae3ee8972af",
   "metadata": {},
   "source": [
    "## <a style=\"padding:3px;color: #FF4D4D; \"><strong>Métodos para conocer nuestras Variables</strong></a>"
   ]
  },
  {
   "cell_type": "markdown",
   "id": "7e0218ce-001f-4145-acc1-549913192d54",
   "metadata": {},
   "source": [
    "Veamos un método realmente útil para cuando estamos intentando hacer una exploración básica de los datos. `describe()` nos proporciona algunas estadísticas comunes, y es un excelente punto de partida cuando estamos comenzando a explorar un conjunto de datos."
   ]
  },
  {
   "cell_type": "code",
   "execution_count": 170,
   "id": "3174a299-3c4c-4920-932c-4c95a09b0ee9",
   "metadata": {},
   "outputs": [
    {
     "data": {
      "text/html": [
       "<div>\n",
       "<style scoped>\n",
       "    .dataframe tbody tr th:only-of-type {\n",
       "        vertical-align: middle;\n",
       "    }\n",
       "\n",
       "    .dataframe tbody tr th {\n",
       "        vertical-align: top;\n",
       "    }\n",
       "\n",
       "    .dataframe thead th {\n",
       "        text-align: right;\n",
       "    }\n",
       "</style>\n",
       "<table border=\"1\" class=\"dataframe\">\n",
       "  <thead>\n",
       "    <tr style=\"text-align: right;\">\n",
       "      <th></th>\n",
       "      <th>semestral</th>\n",
       "      <th>final</th>\n",
       "    </tr>\n",
       "  </thead>\n",
       "  <tbody>\n",
       "    <tr>\n",
       "      <th>count</th>\n",
       "      <td>5.000000</td>\n",
       "      <td>5.000000</td>\n",
       "    </tr>\n",
       "    <tr>\n",
       "      <th>mean</th>\n",
       "      <td>85.000000</td>\n",
       "      <td>88.000000</td>\n",
       "    </tr>\n",
       "    <tr>\n",
       "      <th>std</th>\n",
       "      <td>8.062258</td>\n",
       "      <td>5.244044</td>\n",
       "    </tr>\n",
       "    <tr>\n",
       "      <th>min</th>\n",
       "      <td>76.000000</td>\n",
       "      <td>83.000000</td>\n",
       "    </tr>\n",
       "    <tr>\n",
       "      <th>25%</th>\n",
       "      <td>78.000000</td>\n",
       "      <td>84.000000</td>\n",
       "    </tr>\n",
       "    <tr>\n",
       "      <th>50%</th>\n",
       "      <td>85.000000</td>\n",
       "      <td>87.000000</td>\n",
       "    </tr>\n",
       "    <tr>\n",
       "      <th>75%</th>\n",
       "      <td>92.000000</td>\n",
       "      <td>90.000000</td>\n",
       "    </tr>\n",
       "    <tr>\n",
       "      <th>max</th>\n",
       "      <td>94.000000</td>\n",
       "      <td>96.000000</td>\n",
       "    </tr>\n",
       "  </tbody>\n",
       "</table>\n",
       "</div>"
      ],
      "text/plain": [
       "       semestral      final\n",
       "count   5.000000   5.000000\n",
       "mean   85.000000  88.000000\n",
       "std     8.062258   5.244044\n",
       "min    76.000000  83.000000\n",
       "25%    78.000000  84.000000\n",
       "50%    85.000000  87.000000\n",
       "75%    92.000000  90.000000\n",
       "max    94.000000  96.000000"
      ]
     },
     "execution_count": 170,
     "metadata": {},
     "output_type": "execute_result"
    }
   ],
   "source": [
    "boletas.describe()"
   ]
  },
  {
   "cell_type": "markdown",
   "id": "bc1f2ecb-d056-48c6-912c-1ed5dae7d47e",
   "metadata": {},
   "source": [
    "`describe()` se comporta de manera diferente, dependiendo del tipo de variable. Por ejemplo, vamos a agregar una variable para una calificación en letras."
   ]
  },
  {
   "cell_type": "code",
   "execution_count": 172,
   "id": "1e82e9d4-7aa8-4060-a4a8-35dd94aa3ce4",
   "metadata": {},
   "outputs": [
    {
     "data": {
      "text/plain": [
       "estudiante\n",
       "Mario        76.0\n",
       "Alejandro    91.0\n",
       "Javier       86.0\n",
       "Luciana      80.5\n",
       "Sabrina      95.0\n",
       "Beatriz      84.0\n",
       "dtype: float64"
      ]
     },
     "execution_count": 172,
     "metadata": {},
     "output_type": "execute_result"
    }
   ],
   "source": [
    "boletas.mean(axis=1)"
   ]
  },
  {
   "cell_type": "code",
   "execution_count": 173,
   "id": "ea3de43b-0704-480e-9cc2-d1981a241053",
   "metadata": {},
   "outputs": [
    {
     "data": {
      "text/plain": [
       "estudiante\n",
       "Mario        C\n",
       "Alejandro    A\n",
       "Javier       B\n",
       "Luciana      B\n",
       "Sabrina      A\n",
       "Beatriz      B\n",
       "dtype: category\n",
       "Categories (4, object): ['F' < 'C' < 'B' < 'A']"
      ]
     },
     "execution_count": 173,
     "metadata": {},
     "output_type": "execute_result"
    }
   ],
   "source": [
    "pd.cut(boletas.mean(axis=1), (0,70,80,90,100), labels = ('F','C','B','A'))"
   ]
  },
  {
   "cell_type": "code",
   "execution_count": 174,
   "id": "acd2ece8-930e-49c4-afa9-a9b9b121e781",
   "metadata": {},
   "outputs": [],
   "source": [
    "boletas['letraCalif'] = pd.cut(boletas.mean(axis=1), (0,70,80,90,100), labels = ('F','C','B','A'))"
   ]
  },
  {
   "cell_type": "code",
   "execution_count": 175,
   "id": "52db15a8-ae2b-4507-a13d-b5f27f1f629b",
   "metadata": {},
   "outputs": [
    {
     "data": {
      "text/html": [
       "<div>\n",
       "<style scoped>\n",
       "    .dataframe tbody tr th:only-of-type {\n",
       "        vertical-align: middle;\n",
       "    }\n",
       "\n",
       "    .dataframe tbody tr th {\n",
       "        vertical-align: top;\n",
       "    }\n",
       "\n",
       "    .dataframe thead th {\n",
       "        text-align: right;\n",
       "    }\n",
       "</style>\n",
       "<table border=\"1\" class=\"dataframe\">\n",
       "  <thead>\n",
       "    <tr style=\"text-align: right;\">\n",
       "      <th></th>\n",
       "      <th>semestral</th>\n",
       "      <th>final</th>\n",
       "      <th>letraCalif</th>\n",
       "    </tr>\n",
       "    <tr>\n",
       "      <th>estudiante</th>\n",
       "      <th></th>\n",
       "      <th></th>\n",
       "      <th></th>\n",
       "    </tr>\n",
       "  </thead>\n",
       "  <tbody>\n",
       "    <tr>\n",
       "      <th>Mario</th>\n",
       "      <td>76.0</td>\n",
       "      <td>NaN</td>\n",
       "      <td>C</td>\n",
       "    </tr>\n",
       "    <tr>\n",
       "      <th>Alejandro</th>\n",
       "      <td>92.0</td>\n",
       "      <td>90.0</td>\n",
       "      <td>A</td>\n",
       "    </tr>\n",
       "    <tr>\n",
       "      <th>Javier</th>\n",
       "      <td>85.0</td>\n",
       "      <td>87.0</td>\n",
       "      <td>B</td>\n",
       "    </tr>\n",
       "    <tr>\n",
       "      <th>Luciana</th>\n",
       "      <td>78.0</td>\n",
       "      <td>83.0</td>\n",
       "      <td>B</td>\n",
       "    </tr>\n",
       "    <tr>\n",
       "      <th>Sabrina</th>\n",
       "      <td>94.0</td>\n",
       "      <td>96.0</td>\n",
       "      <td>A</td>\n",
       "    </tr>\n",
       "    <tr>\n",
       "      <th>Beatriz</th>\n",
       "      <td>NaN</td>\n",
       "      <td>84.0</td>\n",
       "      <td>B</td>\n",
       "    </tr>\n",
       "  </tbody>\n",
       "</table>\n",
       "</div>"
      ],
      "text/plain": [
       "            semestral  final letraCalif\n",
       "estudiante                             \n",
       "Mario            76.0    NaN          C\n",
       "Alejandro        92.0   90.0          A\n",
       "Javier           85.0   87.0          B\n",
       "Luciana          78.0   83.0          B\n",
       "Sabrina          94.0   96.0          A\n",
       "Beatriz           NaN   84.0          B"
      ]
     },
     "execution_count": 175,
     "metadata": {},
     "output_type": "execute_result"
    }
   ],
   "source": [
    "boletas"
   ]
  },
  {
   "cell_type": "code",
   "execution_count": 176,
   "id": "2d75e8d6-03b1-4dfd-ad8f-0ddbc0b35495",
   "metadata": {},
   "outputs": [
    {
     "data": {
      "text/plain": [
       "count     6\n",
       "unique    3\n",
       "top       B\n",
       "freq      3\n",
       "Name: letraCalif, dtype: object"
      ]
     },
     "execution_count": 176,
     "metadata": {},
     "output_type": "execute_result"
    }
   ],
   "source": [
    "boletas.letraCalif.describe()"
   ]
  },
  {
   "cell_type": "markdown",
   "id": "c4ee0752-120e-4c9e-a803-12cb93f570f5",
   "metadata": {},
   "source": [
    "Un método aún más importante es value_counts(). Este nos devuelve una Series que nos indica con qué frecuencia ocurre cada valor en una variable."
   ]
  },
  {
   "cell_type": "code",
   "execution_count": 178,
   "id": "0102b937-02c8-43f5-ab57-501d8131ce1c",
   "metadata": {},
   "outputs": [
    {
     "data": {
      "text/plain": [
       "letraCalif\n",
       "B    3\n",
       "A    2\n",
       "C    1\n",
       "F    0\n",
       "Name: count, dtype: int64"
      ]
     },
     "execution_count": 178,
     "metadata": {},
     "output_type": "execute_result"
    }
   ],
   "source": [
    "boletas.letraCalif.value_counts()"
   ]
  },
  {
   "cell_type": "markdown",
   "id": "ca6c865a-56f6-4db3-9e02-2202cac34c41",
   "metadata": {},
   "source": [
    "Guardemos nuestro trabajo para poder usarlo más tarde."
   ]
  },
  {
   "cell_type": "code",
   "execution_count": 180,
   "id": "9a5a6870-10a7-44a1-a117-af0e26601255",
   "metadata": {},
   "outputs": [],
   "source": [
    "boletas.to_csv('boletas_letras.csv')"
   ]
  },
  {
   "cell_type": "markdown",
   "id": "36b65060-535d-4325-b6a3-1d8433462282",
   "metadata": {},
   "source": [
    "## <a style=\"padding:3px;color: #FF4D4D; \"><strong>Métodos para conocer nuestras Variables</strong></a>"
   ]
  },
  {
   "cell_type": "markdown",
   "id": "f8db99a5-3796-4d26-91b4-9b50ab071d46",
   "metadata": {},
   "source": [
    "Vale la pena dedicar un momento a hablar sobre cómo ordenar DataFrames. Vamos a cargar nuestro DataFrame de calificaciones.\n",
    "\n",
    "Con el método `index_col = 0` podemos indicarle a nuestro DataFrame que la columna 0 del archivo CSV realmente corresponde a nuestro índice."
   ]
  },
  {
   "cell_type": "code",
   "execution_count": 183,
   "id": "c9349142-4410-4426-96f9-59d76b1b5290",
   "metadata": {},
   "outputs": [
    {
     "data": {
      "text/html": [
       "<div>\n",
       "<style scoped>\n",
       "    .dataframe tbody tr th:only-of-type {\n",
       "        vertical-align: middle;\n",
       "    }\n",
       "\n",
       "    .dataframe tbody tr th {\n",
       "        vertical-align: top;\n",
       "    }\n",
       "\n",
       "    .dataframe thead th {\n",
       "        text-align: right;\n",
       "    }\n",
       "</style>\n",
       "<table border=\"1\" class=\"dataframe\">\n",
       "  <thead>\n",
       "    <tr style=\"text-align: right;\">\n",
       "      <th></th>\n",
       "      <th>semestral</th>\n",
       "      <th>final</th>\n",
       "      <th>letraCalif</th>\n",
       "    </tr>\n",
       "    <tr>\n",
       "      <th>estudiante</th>\n",
       "      <th></th>\n",
       "      <th></th>\n",
       "      <th></th>\n",
       "    </tr>\n",
       "  </thead>\n",
       "  <tbody>\n",
       "    <tr>\n",
       "      <th>Mario</th>\n",
       "      <td>76.0</td>\n",
       "      <td>NaN</td>\n",
       "      <td>C</td>\n",
       "    </tr>\n",
       "    <tr>\n",
       "      <th>Alejandro</th>\n",
       "      <td>92.0</td>\n",
       "      <td>90.0</td>\n",
       "      <td>A</td>\n",
       "    </tr>\n",
       "    <tr>\n",
       "      <th>Javier</th>\n",
       "      <td>85.0</td>\n",
       "      <td>87.0</td>\n",
       "      <td>B</td>\n",
       "    </tr>\n",
       "    <tr>\n",
       "      <th>Luciana</th>\n",
       "      <td>78.0</td>\n",
       "      <td>83.0</td>\n",
       "      <td>B</td>\n",
       "    </tr>\n",
       "    <tr>\n",
       "      <th>Sabrina</th>\n",
       "      <td>94.0</td>\n",
       "      <td>96.0</td>\n",
       "      <td>A</td>\n",
       "    </tr>\n",
       "    <tr>\n",
       "      <th>Beatriz</th>\n",
       "      <td>NaN</td>\n",
       "      <td>84.0</td>\n",
       "      <td>B</td>\n",
       "    </tr>\n",
       "  </tbody>\n",
       "</table>\n",
       "</div>"
      ],
      "text/plain": [
       "            semestral  final letraCalif\n",
       "estudiante                             \n",
       "Mario            76.0    NaN          C\n",
       "Alejandro        92.0   90.0          A\n",
       "Javier           85.0   87.0          B\n",
       "Luciana          78.0   83.0          B\n",
       "Sabrina          94.0   96.0          A\n",
       "Beatriz           NaN   84.0          B"
      ]
     },
     "execution_count": 183,
     "metadata": {},
     "output_type": "execute_result"
    }
   ],
   "source": [
    "boletas = pd.read_csv('boletas_letras.csv', index_col=0)\n",
    "boletas"
   ]
  },
  {
   "cell_type": "markdown",
   "id": "a88a1d03-01b5-4597-8320-e59aef6b0ae7",
   "metadata": {},
   "source": [
    "Hay dos métodos que debemos tener en cuenta. Primero, `sort_index()`."
   ]
  },
  {
   "cell_type": "code",
   "execution_count": 185,
   "id": "28c6681a-6ec6-4678-ab69-075c93654c21",
   "metadata": {},
   "outputs": [
    {
     "data": {
      "text/html": [
       "<div>\n",
       "<style scoped>\n",
       "    .dataframe tbody tr th:only-of-type {\n",
       "        vertical-align: middle;\n",
       "    }\n",
       "\n",
       "    .dataframe tbody tr th {\n",
       "        vertical-align: top;\n",
       "    }\n",
       "\n",
       "    .dataframe thead th {\n",
       "        text-align: right;\n",
       "    }\n",
       "</style>\n",
       "<table border=\"1\" class=\"dataframe\">\n",
       "  <thead>\n",
       "    <tr style=\"text-align: right;\">\n",
       "      <th></th>\n",
       "      <th>semestral</th>\n",
       "      <th>final</th>\n",
       "      <th>letraCalif</th>\n",
       "    </tr>\n",
       "    <tr>\n",
       "      <th>estudiante</th>\n",
       "      <th></th>\n",
       "      <th></th>\n",
       "      <th></th>\n",
       "    </tr>\n",
       "  </thead>\n",
       "  <tbody>\n",
       "    <tr>\n",
       "      <th>Alejandro</th>\n",
       "      <td>92.0</td>\n",
       "      <td>90.0</td>\n",
       "      <td>A</td>\n",
       "    </tr>\n",
       "    <tr>\n",
       "      <th>Beatriz</th>\n",
       "      <td>NaN</td>\n",
       "      <td>84.0</td>\n",
       "      <td>B</td>\n",
       "    </tr>\n",
       "    <tr>\n",
       "      <th>Javier</th>\n",
       "      <td>85.0</td>\n",
       "      <td>87.0</td>\n",
       "      <td>B</td>\n",
       "    </tr>\n",
       "    <tr>\n",
       "      <th>Luciana</th>\n",
       "      <td>78.0</td>\n",
       "      <td>83.0</td>\n",
       "      <td>B</td>\n",
       "    </tr>\n",
       "    <tr>\n",
       "      <th>Mario</th>\n",
       "      <td>76.0</td>\n",
       "      <td>NaN</td>\n",
       "      <td>C</td>\n",
       "    </tr>\n",
       "    <tr>\n",
       "      <th>Sabrina</th>\n",
       "      <td>94.0</td>\n",
       "      <td>96.0</td>\n",
       "      <td>A</td>\n",
       "    </tr>\n",
       "  </tbody>\n",
       "</table>\n",
       "</div>"
      ],
      "text/plain": [
       "            semestral  final letraCalif\n",
       "estudiante                             \n",
       "Alejandro        92.0   90.0          A\n",
       "Beatriz           NaN   84.0          B\n",
       "Javier           85.0   87.0          B\n",
       "Luciana          78.0   83.0          B\n",
       "Mario            76.0    NaN          C\n",
       "Sabrina          94.0   96.0          A"
      ]
     },
     "execution_count": 185,
     "metadata": {},
     "output_type": "execute_result"
    }
   ],
   "source": [
    "boletas.sort_index()"
   ]
  },
  {
   "cell_type": "markdown",
   "id": "09ea5486-1700-40f7-88ad-064d6ed7ce2e",
   "metadata": {},
   "source": [
    "Nótese que este método devuelve un DataFrame ordenado nuevo. Para conservar los cambios, podríamos sobrescribir nuestra variable gradebook.\n",
    "\n",
    "El otro método principal de ordenación es `sort_values()`. Para usar este método, necesitamos especificar una columna sobre la que ordenar."
   ]
  },
  {
   "cell_type": "code",
   "execution_count": 187,
   "id": "e4ffac30-a16d-4156-91cd-818301c2c9b1",
   "metadata": {},
   "outputs": [
    {
     "data": {
      "text/html": [
       "<div>\n",
       "<style scoped>\n",
       "    .dataframe tbody tr th:only-of-type {\n",
       "        vertical-align: middle;\n",
       "    }\n",
       "\n",
       "    .dataframe tbody tr th {\n",
       "        vertical-align: top;\n",
       "    }\n",
       "\n",
       "    .dataframe thead th {\n",
       "        text-align: right;\n",
       "    }\n",
       "</style>\n",
       "<table border=\"1\" class=\"dataframe\">\n",
       "  <thead>\n",
       "    <tr style=\"text-align: right;\">\n",
       "      <th></th>\n",
       "      <th>semestral</th>\n",
       "      <th>final</th>\n",
       "      <th>letraCalif</th>\n",
       "    </tr>\n",
       "    <tr>\n",
       "      <th>estudiante</th>\n",
       "      <th></th>\n",
       "      <th></th>\n",
       "      <th></th>\n",
       "    </tr>\n",
       "  </thead>\n",
       "  <tbody>\n",
       "    <tr>\n",
       "      <th>Mario</th>\n",
       "      <td>76.0</td>\n",
       "      <td>NaN</td>\n",
       "      <td>C</td>\n",
       "    </tr>\n",
       "    <tr>\n",
       "      <th>Luciana</th>\n",
       "      <td>78.0</td>\n",
       "      <td>83.0</td>\n",
       "      <td>B</td>\n",
       "    </tr>\n",
       "    <tr>\n",
       "      <th>Javier</th>\n",
       "      <td>85.0</td>\n",
       "      <td>87.0</td>\n",
       "      <td>B</td>\n",
       "    </tr>\n",
       "    <tr>\n",
       "      <th>Alejandro</th>\n",
       "      <td>92.0</td>\n",
       "      <td>90.0</td>\n",
       "      <td>A</td>\n",
       "    </tr>\n",
       "    <tr>\n",
       "      <th>Sabrina</th>\n",
       "      <td>94.0</td>\n",
       "      <td>96.0</td>\n",
       "      <td>A</td>\n",
       "    </tr>\n",
       "    <tr>\n",
       "      <th>Beatriz</th>\n",
       "      <td>NaN</td>\n",
       "      <td>84.0</td>\n",
       "      <td>B</td>\n",
       "    </tr>\n",
       "  </tbody>\n",
       "</table>\n",
       "</div>"
      ],
      "text/plain": [
       "            semestral  final letraCalif\n",
       "estudiante                             \n",
       "Mario            76.0    NaN          C\n",
       "Luciana          78.0   83.0          B\n",
       "Javier           85.0   87.0          B\n",
       "Alejandro        92.0   90.0          A\n",
       "Sabrina          94.0   96.0          A\n",
       "Beatriz           NaN   84.0          B"
      ]
     },
     "execution_count": 187,
     "metadata": {},
     "output_type": "execute_result"
    }
   ],
   "source": [
    "boletas.sort_values('semestral')"
   ]
  },
  {
   "cell_type": "markdown",
   "id": "ce97b9c5-4354-4e0e-967f-2ae8fbc245dd",
   "metadata": {},
   "source": [
    "Nótese que los valores faltantes `NaN` se mueven al final. Tal vez queramos invertir el orden para colocar las calificaciones más altas en la parte superior."
   ]
  },
  {
   "cell_type": "code",
   "execution_count": 189,
   "id": "cf5ef850-5d9d-4f17-b98a-d20bf895189e",
   "metadata": {},
   "outputs": [
    {
     "data": {
      "text/html": [
       "<div>\n",
       "<style scoped>\n",
       "    .dataframe tbody tr th:only-of-type {\n",
       "        vertical-align: middle;\n",
       "    }\n",
       "\n",
       "    .dataframe tbody tr th {\n",
       "        vertical-align: top;\n",
       "    }\n",
       "\n",
       "    .dataframe thead th {\n",
       "        text-align: right;\n",
       "    }\n",
       "</style>\n",
       "<table border=\"1\" class=\"dataframe\">\n",
       "  <thead>\n",
       "    <tr style=\"text-align: right;\">\n",
       "      <th></th>\n",
       "      <th>semestral</th>\n",
       "      <th>final</th>\n",
       "      <th>letraCalif</th>\n",
       "    </tr>\n",
       "    <tr>\n",
       "      <th>estudiante</th>\n",
       "      <th></th>\n",
       "      <th></th>\n",
       "      <th></th>\n",
       "    </tr>\n",
       "  </thead>\n",
       "  <tbody>\n",
       "    <tr>\n",
       "      <th>Sabrina</th>\n",
       "      <td>94.0</td>\n",
       "      <td>96.0</td>\n",
       "      <td>A</td>\n",
       "    </tr>\n",
       "    <tr>\n",
       "      <th>Alejandro</th>\n",
       "      <td>92.0</td>\n",
       "      <td>90.0</td>\n",
       "      <td>A</td>\n",
       "    </tr>\n",
       "    <tr>\n",
       "      <th>Javier</th>\n",
       "      <td>85.0</td>\n",
       "      <td>87.0</td>\n",
       "      <td>B</td>\n",
       "    </tr>\n",
       "    <tr>\n",
       "      <th>Luciana</th>\n",
       "      <td>78.0</td>\n",
       "      <td>83.0</td>\n",
       "      <td>B</td>\n",
       "    </tr>\n",
       "    <tr>\n",
       "      <th>Mario</th>\n",
       "      <td>76.0</td>\n",
       "      <td>NaN</td>\n",
       "      <td>C</td>\n",
       "    </tr>\n",
       "    <tr>\n",
       "      <th>Beatriz</th>\n",
       "      <td>NaN</td>\n",
       "      <td>84.0</td>\n",
       "      <td>B</td>\n",
       "    </tr>\n",
       "  </tbody>\n",
       "</table>\n",
       "</div>"
      ],
      "text/plain": [
       "            semestral  final letraCalif\n",
       "estudiante                             \n",
       "Sabrina          94.0   96.0          A\n",
       "Alejandro        92.0   90.0          A\n",
       "Javier           85.0   87.0          B\n",
       "Luciana          78.0   83.0          B\n",
       "Mario            76.0    NaN          C\n",
       "Beatriz           NaN   84.0          B"
      ]
     },
     "execution_count": 189,
     "metadata": {},
     "output_type": "execute_result"
    }
   ],
   "source": [
    "boletas.sort_values('semestral', ascending= False)"
   ]
  },
  {
   "cell_type": "code",
   "execution_count": 190,
   "id": "efed309b-b664-4e30-a3dd-0ee9cc6ed660",
   "metadata": {},
   "outputs": [
    {
     "data": {
      "text/html": [
       "<div>\n",
       "<style scoped>\n",
       "    .dataframe tbody tr th:only-of-type {\n",
       "        vertical-align: middle;\n",
       "    }\n",
       "\n",
       "    .dataframe tbody tr th {\n",
       "        vertical-align: top;\n",
       "    }\n",
       "\n",
       "    .dataframe thead th {\n",
       "        text-align: right;\n",
       "    }\n",
       "</style>\n",
       "<table border=\"1\" class=\"dataframe\">\n",
       "  <thead>\n",
       "    <tr style=\"text-align: right;\">\n",
       "      <th></th>\n",
       "      <th>semestral</th>\n",
       "      <th>final</th>\n",
       "      <th>letraCalif</th>\n",
       "    </tr>\n",
       "    <tr>\n",
       "      <th>estudiante</th>\n",
       "      <th></th>\n",
       "      <th></th>\n",
       "      <th></th>\n",
       "    </tr>\n",
       "  </thead>\n",
       "  <tbody>\n",
       "    <tr>\n",
       "      <th>Alejandro</th>\n",
       "      <td>92.0</td>\n",
       "      <td>90.0</td>\n",
       "      <td>A</td>\n",
       "    </tr>\n",
       "    <tr>\n",
       "      <th>Sabrina</th>\n",
       "      <td>94.0</td>\n",
       "      <td>96.0</td>\n",
       "      <td>A</td>\n",
       "    </tr>\n",
       "    <tr>\n",
       "      <th>Javier</th>\n",
       "      <td>85.0</td>\n",
       "      <td>87.0</td>\n",
       "      <td>B</td>\n",
       "    </tr>\n",
       "    <tr>\n",
       "      <th>Luciana</th>\n",
       "      <td>78.0</td>\n",
       "      <td>83.0</td>\n",
       "      <td>B</td>\n",
       "    </tr>\n",
       "    <tr>\n",
       "      <th>Beatriz</th>\n",
       "      <td>NaN</td>\n",
       "      <td>84.0</td>\n",
       "      <td>B</td>\n",
       "    </tr>\n",
       "    <tr>\n",
       "      <th>Mario</th>\n",
       "      <td>76.0</td>\n",
       "      <td>NaN</td>\n",
       "      <td>C</td>\n",
       "    </tr>\n",
       "  </tbody>\n",
       "</table>\n",
       "</div>"
      ],
      "text/plain": [
       "            semestral  final letraCalif\n",
       "estudiante                             \n",
       "Alejandro        92.0   90.0          A\n",
       "Sabrina          94.0   96.0          A\n",
       "Javier           85.0   87.0          B\n",
       "Luciana          78.0   83.0          B\n",
       "Beatriz           NaN   84.0          B\n",
       "Mario            76.0    NaN          C"
      ]
     },
     "execution_count": 190,
     "metadata": {},
     "output_type": "execute_result"
    }
   ],
   "source": [
    "boletas.sort_values('letraCalif')"
   ]
  },
  {
   "cell_type": "markdown",
   "id": "2916bb62-ac24-4377-bee6-3b7a2cb20685",
   "metadata": {},
   "source": [
    "También podemos pasar una lista para ordenar por múltiples variables."
   ]
  },
  {
   "cell_type": "code",
   "execution_count": 192,
   "id": "2818e32d-538a-4177-a6a8-224a5b0336bb",
   "metadata": {},
   "outputs": [
    {
     "data": {
      "text/html": [
       "<div>\n",
       "<style scoped>\n",
       "    .dataframe tbody tr th:only-of-type {\n",
       "        vertical-align: middle;\n",
       "    }\n",
       "\n",
       "    .dataframe tbody tr th {\n",
       "        vertical-align: top;\n",
       "    }\n",
       "\n",
       "    .dataframe thead th {\n",
       "        text-align: right;\n",
       "    }\n",
       "</style>\n",
       "<table border=\"1\" class=\"dataframe\">\n",
       "  <thead>\n",
       "    <tr style=\"text-align: right;\">\n",
       "      <th></th>\n",
       "      <th>semestral</th>\n",
       "      <th>final</th>\n",
       "      <th>letraCalif</th>\n",
       "    </tr>\n",
       "    <tr>\n",
       "      <th>estudiante</th>\n",
       "      <th></th>\n",
       "      <th></th>\n",
       "      <th></th>\n",
       "    </tr>\n",
       "  </thead>\n",
       "  <tbody>\n",
       "    <tr>\n",
       "      <th>Sabrina</th>\n",
       "      <td>94.0</td>\n",
       "      <td>96.0</td>\n",
       "      <td>A</td>\n",
       "    </tr>\n",
       "    <tr>\n",
       "      <th>Alejandro</th>\n",
       "      <td>92.0</td>\n",
       "      <td>90.0</td>\n",
       "      <td>A</td>\n",
       "    </tr>\n",
       "    <tr>\n",
       "      <th>Javier</th>\n",
       "      <td>85.0</td>\n",
       "      <td>87.0</td>\n",
       "      <td>B</td>\n",
       "    </tr>\n",
       "    <tr>\n",
       "      <th>Beatriz</th>\n",
       "      <td>NaN</td>\n",
       "      <td>84.0</td>\n",
       "      <td>B</td>\n",
       "    </tr>\n",
       "    <tr>\n",
       "      <th>Luciana</th>\n",
       "      <td>78.0</td>\n",
       "      <td>83.0</td>\n",
       "      <td>B</td>\n",
       "    </tr>\n",
       "    <tr>\n",
       "      <th>Mario</th>\n",
       "      <td>76.0</td>\n",
       "      <td>NaN</td>\n",
       "      <td>C</td>\n",
       "    </tr>\n",
       "  </tbody>\n",
       "</table>\n",
       "</div>"
      ],
      "text/plain": [
       "            semestral  final letraCalif\n",
       "estudiante                             \n",
       "Sabrina          94.0   96.0          A\n",
       "Alejandro        92.0   90.0          A\n",
       "Javier           85.0   87.0          B\n",
       "Beatriz           NaN   84.0          B\n",
       "Luciana          78.0   83.0          B\n",
       "Mario            76.0    NaN          C"
      ]
     },
     "execution_count": 192,
     "metadata": {},
     "output_type": "execute_result"
    }
   ],
   "source": [
    "boletas.sort_values(['letraCalif','final'], ascending = [True, False])"
   ]
  }
 ],
 "metadata": {
  "kernelspec": {
   "display_name": "Python [conda env:base] *",
   "language": "python",
   "name": "conda-base-py"
  },
  "language_info": {
   "codemirror_mode": {
    "name": "ipython",
    "version": 3
   },
   "file_extension": ".py",
   "mimetype": "text/x-python",
   "name": "python",
   "nbconvert_exporter": "python",
   "pygments_lexer": "ipython3",
   "version": "3.11.5"
  }
 },
 "nbformat": 4,
 "nbformat_minor": 5
}
