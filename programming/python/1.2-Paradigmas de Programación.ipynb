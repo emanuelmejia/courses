{
 "cells": [
  {
   "cell_type": "markdown",
   "id": "9d816da8-10e9-4ee7-982a-2b1e87dde66b",
   "metadata": {},
   "source": [
    "<div style=\"padding:10px;background-color: #FF4D4D; color:white;font-size:28px;\"><strong>Paradigmas de Programación</strong></div>"
   ]
  },
  {
   "cell_type": "markdown",
   "id": "1cfe330b-3299-42bd-8bcb-3b811d66511f",
   "metadata": {},
   "source": [
    "<div style=\"padding:3px;color: #FF4D4D; font-size:20px;\"><strong>Procedimental</strong></div>"
   ]
  },
  {
   "attachments": {},
   "cell_type": "markdown",
   "id": "4739b0fd-bb1c-4d7f-aaed-423c46dc010b",
   "metadata": {},
   "source": [
    "1. Iniciamos con una “palabra” **ELEGIDA** de **longitud 0**.\n",
    "2. Pasamos a la **siguiente palabra** de la lista.\n",
    "3. Si esta nueva palabra tiene una **longitud mayor** a la ELEGIDA, la convertiremos en nuestra **nueva ELEGIDA**.\n",
    "   De lo contrario, permanecemos con la misma.\n",
    "4. **Repetimos** los pasos 2 y 3 con TODAS LAS PALABRAS de la lista.\n",
    "5. Al finalizar, nuestra palabra **ELEGIDA**, será la de **mayor longitud**."
   ]
  },
  {
   "cell_type": "markdown",
   "id": "a96f6bf5-9b17-40de-8eb2-b5b1bde2c351",
   "metadata": {},
   "source": [
    "<div style=\"padding:3px;color: #FF4D4D; font-size:20px;\"><strong>Programa</strong></div>"
   ]
  },
  {
   "cell_type": "code",
   "execution_count": null,
   "id": "c4fe2c34-24f3-4a47-b383-3d9ad350a82f",
   "metadata": {},
   "outputs": [],
   "source": [
    "# Procedimental\n",
    "nombre = \"Emanuel\"\n",
    "edad = 34\n",
    "pais = \"México\"\n",
    "\n",
    "print(\"Hola mundo, soy\", nombre, \"tengo\", edad, \"años y nací en\", pais)"
   ]
  },
  {
   "cell_type": "code",
   "execution_count": null,
   "id": "28844401",
   "metadata": {},
   "outputs": [],
   "source": [
    "# Orientado a Objetos\n",
    "class Persona:\n",
    "    def __init__(self, nombre, edad, pais):\n",
    "        self.nombre = nombre\n",
    "        self.edad = edad\n",
    "        self.pais = pais\n",
    "    def saludar(self):\n",
    "        print(f\"Hola mundo, soy {self.nombre} tengo {edad}, años y nací en {pais}\")\n",
    "\n",
    "Yo = Persona(\"Emanuel\", 34, \"México\")\n",
    "\n",
    "Yo.saludar()"
   ]
  },
  {
   "cell_type": "code",
   "execution_count": null,
   "id": "c0e957c1",
   "metadata": {},
   "outputs": [],
   "source": [
    "# Funcional\n",
    "saludar = lambda nombre, edad, pais: print(f\"Hola mundo, soy {nombre} tengo {edad}, años y nací en {pais}\")\n",
    "\n",
    "saludar(\"Emanuel\", 34, \"México\")"
   ]
  }
 ],
 "metadata": {
  "kernelspec": {
   "display_name": "Python [conda env:base] *",
   "language": "python",
   "name": "conda-base-py"
  },
  "language_info": {
   "codemirror_mode": {
    "name": "ipython",
    "version": 3
   },
   "file_extension": ".py",
   "mimetype": "text/x-python",
   "name": "python",
   "nbconvert_exporter": "python",
   "pygments_lexer": "ipython3",
   "version": "3.11.5"
  }
 },
 "nbformat": 4,
 "nbformat_minor": 5
}
