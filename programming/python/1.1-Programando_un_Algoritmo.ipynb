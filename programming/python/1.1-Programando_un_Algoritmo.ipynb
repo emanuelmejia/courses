{
 "cells": [
  {
   "cell_type": "markdown",
   "id": "9d816da8-10e9-4ee7-982a-2b1e87dde66b",
   "metadata": {},
   "source": [
    "<div style=\"padding:10px;background-color: #FF4D4D; color:white;font-size:28px;\"><strong>Programando un Algoritmo</strong></div>"
   ]
  },
  {
   "cell_type": "markdown",
   "id": "57f7e0e9-2263-4888-9cd4-477781742c24",
   "metadata": {},
   "source": [
    "### Encontrar la palabra más larga de una lista de palabras"
   ]
  },
  {
   "cell_type": "markdown",
   "id": "1cfe330b-3299-42bd-8bcb-3b811d66511f",
   "metadata": {},
   "source": [
    "<div style=\"padding:3px;color: #FF4D4D; font-size:20px;\"><strong>Algoritmo</strong></div>"
   ]
  },
  {
   "attachments": {},
   "cell_type": "markdown",
   "id": "4739b0fd-bb1c-4d7f-aaed-423c46dc010b",
   "metadata": {},
   "source": [
    "1. Iniciamos con una “palabra” **ELEGIDA** de **longitud 0**.\n",
    "2. Pasamos a la **siguiente palabra** de la lista.\n",
    "3. Si esta nueva palabra tiene una **longitud mayor** a la ELEGIDA, la convertiremos en nuestra **nueva ELEGIDA**.\n",
    "   De lo contrario, permanecemos con la misma.\n",
    "4. **Repetimos** los pasos 2 y 3 con TODAS LAS PALABRAS de la lista.\n",
    "5. Al finalizar, nuestra palabra **ELEGIDA**, será la de **mayor longitud**."
   ]
  },
  {
   "cell_type": "markdown",
   "id": "a96f6bf5-9b17-40de-8eb2-b5b1bde2c351",
   "metadata": {},
   "source": [
    "<div style=\"padding:3px;color: #FF4D4D; font-size:20px;\"><strong>Programa</strong></div>"
   ]
  },
  {
   "cell_type": "code",
   "execution_count": null,
   "id": "28844401",
   "metadata": {},
   "outputs": [],
   "source": [
    "# Ingresar los datos\n",
    "oracion = input(\"Ingresa palabras separadas por espacios: \")"
   ]
  },
  {
   "cell_type": "code",
   "execution_count": null,
   "id": "c0e957c1",
   "metadata": {},
   "outputs": [],
   "source": [
    "# Dividimos la oración en una lista de palabras\n",
    "palabras = oracion.split()\n",
    "\n",
    "# Verificando la diferencia entre ambas variables\n",
    "print(oracion)    # String\n",
    "print(palabras)   # List"
   ]
  },
  {
   "cell_type": "code",
   "execution_count": null,
   "id": "59ee3da6",
   "metadata": {},
   "outputs": [],
   "source": [
    "elegida = \"\"                                 # Paso 1\n",
    "for palabra in palabras:                     # Paso 2 y 4\n",
    "    if len(palabra) > len(elegida):          # Paso 3\n",
    "        elegida = palabra                    # Paso 3\n",
    "print(\"La palabra más larga es\", elegida)    # Paso 5"
   ]
  }
 ],
 "metadata": {
  "kernelspec": {
   "display_name": "Python [conda env:base] *",
   "language": "python",
   "name": "conda-base-py"
  },
  "language_info": {
   "codemirror_mode": {
    "name": "ipython",
    "version": 3
   },
   "file_extension": ".py",
   "mimetype": "text/x-python",
   "name": "python",
   "nbconvert_exporter": "python",
   "pygments_lexer": "ipython3",
   "version": "3.11.5"
  }
 },
 "nbformat": 4,
 "nbformat_minor": 5
}
